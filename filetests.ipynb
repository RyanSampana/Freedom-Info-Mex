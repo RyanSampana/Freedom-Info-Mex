{
 "cells": [
  {
   "cell_type": "code",
   "execution_count": 1,
   "metadata": {
    "collapsed": false
   },
   "outputs": [],
   "source": [
    "from pdfminer.pdfparser import PDFParser\n",
    "from pdfminer.pdfdocument import PDFDocument\n",
    "from time import mktime, strptime\n",
    "from datetime import datetime\n",
    "\n",
    "def getModDatePdf(file_path):\n",
    "    if file_path[-4:] != '.pdf':\n",
    "        print \"Not a pdf\"\n",
    "    else:\n",
    "        fp = open(file_path,'rb')\n",
    "        parser = PDFParser(fp)\n",
    "        doc = PDFDocument(parser)\n",
    "        datestring = doc.info[0]['ModDate'][2:-7]\n",
    "        ts = strptime(datestring, \"%Y%m%d%H%M%S\")\n",
    "        dt = datetime.fromtimestamp(mktime(ts))\n",
    "        return dt"
   ]
  },
  {
   "cell_type": "code",
   "execution_count": 2,
   "metadata": {
    "collapsed": false
   },
   "outputs": [
    {
     "data": {
      "text/plain": [
       "datetime.datetime(2003, 7, 9, 13, 45, 3)"
      ]
     },
     "execution_count": 2,
     "metadata": {},
     "output_type": "execute_result"
    }
   ],
   "source": [
    "pdf = './0000600000803.pdf'\n",
    "getModDatePdf(pdf)"
   ]
  },
  {
   "cell_type": "code",
   "execution_count": 3,
   "metadata": {
    "collapsed": false
   },
   "outputs": [],
   "source": [
    "from collections import defaultdict\n",
    "from pprint import pprint\n",
    "\n",
    "from hachoir_metadata import metadata\n",
    "from hachoir_core.cmd_line import unicodeFilename\n",
    "from hachoir_parser import createParser\n",
    "\n",
    "# using this example http://archive.org/details/WorkToFishtestwmv\n",
    "filename = './copy.doc' \n",
    "def not_pdf_about(filename):\n",
    "    filename, realname = unicodeFilename(filename), filename\n",
    "    parser = createParser(filename)\n",
    "\n",
    "    # Turn the tags into a defaultdict\n",
    "    metalist = metadata.extractMetadata(parser).exportPlaintext()\n",
    "    meta = defaultdict(defaultdict)\n",
    "    for item in metalist:\n",
    "        if item[0] != '-':\n",
    "            top_key = item[:-1]\n",
    "            meta[top_key] = {}\n",
    "        else:\n",
    "            danksplit = item.split(': ')\n",
    "            key = str(danksplit[0][2:])\n",
    "            try:\n",
    "                if meta[top_key][key] == {} and len(danksplit[1:]) == 1:\n",
    "                    meta[top_key][key] = danksplit[1:][0] \n",
    "\n",
    "                elif meta[top_key][key] == {} and len(danksplit[1:]) == 2:\n",
    "                    meta[top_key][key] = {str(danksplit[1]): danksplit[2]}\n",
    "\n",
    "                elif meta[top_key][key] != {} and len(danksplit[1:]) == 2:\n",
    "                    meta[top_key][key][str(danksplit[1])] = danksplit[2]\n",
    "\n",
    "                else:\n",
    "                    print danksplit\n",
    "                    \n",
    "            except KeyError:\n",
    "                meta[top_key][key] = {}\n",
    "                if meta[top_key][key] == {} and len(danksplit[1:]) == 1:\n",
    "                    meta[top_key][key] = danksplit[1:][0] \n",
    "\n",
    "                elif meta[top_key][key] == {} and len(danksplit[1:]) == 2:\n",
    "                    meta[top_key][key] = {str(danksplit[1]): danksplit[2]}\n",
    "\n",
    "                elif meta[top_key][key] != {} and len(danksplit[1:]) == 2:\n",
    "                    meta[top_key][key][str(danksplit[1])] = danksplit[2]\n",
    "\n",
    "                else:\n",
    "                    print danksplit\n",
    "                \n",
    "    return meta,metalist"
   ]
  },
  {
   "cell_type": "code",
   "execution_count": 4,
   "metadata": {
    "collapsed": false
   },
   "outputs": [],
   "source": [
    "m,mm = not_pdf_about('./copy.doc')"
   ]
  },
  {
   "cell_type": "code",
   "execution_count": 5,
   "metadata": {
    "collapsed": false
   },
   "outputs": [
    {
     "data": {
      "text/plain": [
       "defaultdict(collections.defaultdict,\n",
       "            {u'Metadata': {'Author': u'-UNIDAD DE ENLACE-',\n",
       "              'Comment': {'22': u'False',\n",
       "               '23': u'657985',\n",
       "               'Comments': u'1',\n",
       "               'Encrypted': u'False',\n",
       "               'Keywords': u'6',\n",
       "               'LastPrinted': u'2003-11-11 02:47:00',\n",
       "               'NumCharacters': u'759',\n",
       "               'NumWords': u'138',\n",
       "               'RevisionNumber': u'2',\n",
       "               'Security': u'0',\n",
       "               'Template': u'Normal',\n",
       "               'Thumbnail': u'896',\n",
       "               'TotalEditingTime': u'0:01:00'},\n",
       "              'Creation date': u'2003-11-11 14:49:00',\n",
       "              'Endianness': u'Little endian',\n",
       "              'Last modification': u'2003-11-11 14:49:00',\n",
       "              'MIME type': u'application/msword',\n",
       "              'Nb page': u'1',\n",
       "              'Producer': u'Microsoft Word 10.0',\n",
       "              'Title': u'PROPUESTA DE RESPUESTA'}})"
      ]
     },
     "execution_count": 5,
     "metadata": {},
     "output_type": "execute_result"
    }
   ],
   "source": [
    "m"
   ]
  },
  {
   "cell_type": "code",
   "execution_count": 6,
   "metadata": {
    "collapsed": false
   },
   "outputs": [
    {
     "data": {
      "text/plain": [
       "[u'Metadata:',\n",
       " u'- Title: PROPUESTA DE RESPUESTA',\n",
       " u'- Author: -UNIDAD DE ENLACE-',\n",
       " u'- Nb page: 1',\n",
       " u'- Creation date: 2003-11-11 14:49:00',\n",
       " u'- Last modification: 2003-11-11 14:49:00',\n",
       " u'- Producer: Microsoft Word 10.0',\n",
       " u'- Comment: NumWords: d.g.i.m.',\n",
       " u'- Comment: Keywords: 6',\n",
       " u'- Comment: Comments: 1',\n",
       " u'- Comment: Thumbnail: 896',\n",
       " u'- Comment: 23: 657985',\n",
       " u'- Comment: LastPrinted: False',\n",
       " u'- Comment: NumCharacters: False',\n",
       " u'- Comment: Security: False',\n",
       " u'- Comment: 22: False',\n",
       " u'- Comment: Encrypted: False',\n",
       " u'- Comment: Template: Normal',\n",
       " u'- Comment: RevisionNumber: 2',\n",
       " u'- Comment: TotalEditingTime: 0:01:00',\n",
       " u'- Comment: LastPrinted: 2003-11-11 02:47:00',\n",
       " u'- Comment: NumWords: 138',\n",
       " u'- Comment: NumCharacters: 759',\n",
       " u'- Comment: Security: 0',\n",
       " u'- MIME type: application/msword',\n",
       " u'- Endianness: Little endian']"
      ]
     },
     "execution_count": 6,
     "metadata": {},
     "output_type": "execute_result"
    }
   ],
   "source": [
    "mm"
   ]
  },
  {
   "cell_type": "code",
   "execution_count": 7,
   "metadata": {
    "collapsed": false
   },
   "outputs": [
    {
     "data": {
      "text/plain": [
       "u'- Title: PROPUESTA DE RESPUESTA'"
      ]
     },
     "execution_count": 7,
     "metadata": {},
     "output_type": "execute_result"
    }
   ],
   "source": [
    "mm[1]"
   ]
  },
  {
   "cell_type": "code",
   "execution_count": 8,
   "metadata": {
    "collapsed": true
   },
   "outputs": [],
   "source": [
    "f = '../../ActiveSurface Product Info.pptx'\n",
    "p,pp = not_pdf_about(f)"
   ]
  },
  {
   "cell_type": "code",
   "execution_count": 9,
   "metadata": {
    "collapsed": false
   },
   "outputs": [
    {
     "data": {
      "text/plain": [
       "defaultdict(collections.defaultdict,\n",
       "            {u'Common': {'Endianness': u'Little endian',\n",
       "              'MIME type': u'application/zip'},\n",
       "             u'File \"_rels/.rels\"': {'Compressed file size': u'227 bytes',\n",
       "              'Compression': u'Deflate',\n",
       "              'Compression rate': u'2.6x',\n",
       "              'Creation date': u'2015-09-17 17:37:46',\n",
       "              'File name': u'_rels/.rels',\n",
       "              'File size': u'592 bytes'},\n",
       "             u'File \"docProps/app.xml\"': {'Compressed file size': u'149 bytes',\n",
       "              'Compression': u'Deflate',\n",
       "              'Compression rate': u'1.6x',\n",
       "              'Creation date': u'2015-09-17 17:37:46',\n",
       "              'File name': u'docProps/app.xml',\n",
       "              'File size': u'231 bytes'},\n",
       "             u'File \"docProps/core.xml\"': {'Compressed file size': u'197 bytes',\n",
       "              'Compression': u'Deflate',\n",
       "              'Compression rate': u'1.5x',\n",
       "              'Creation date': u'2015-09-17 17:37:46',\n",
       "              'File name': u'docProps/core.xml',\n",
       "              'File size': u'299 bytes'},\n",
       "             u'File \"ppt/_rels/presentation.xml.rels\"': {'Compressed file size': u'324 bytes',\n",
       "              'Compression': u'Deflate',\n",
       "              'Compression rate': u'6.4x',\n",
       "              'Creation date': u'2015-09-17 17:37:46',\n",
       "              'File name': u'ppt/_rels/presentation.xml.rels',\n",
       "              'File size': u'2072 bytes'},\n",
       "             u'File \"ppt/presProps.xml\"': {'Compressed file size': u'177 bytes',\n",
       "              'Compression': u'Deflate',\n",
       "              'Compression rate': u'1.8x',\n",
       "              'Creation date': u'2015-09-17 17:37:46',\n",
       "              'File name': u'ppt/presProps.xml',\n",
       "              'File size': u'324 bytes'},\n",
       "             u'File \"ppt/presentation.xml\"': {'Compressed file size': u'519 bytes',\n",
       "              'Compression': u'Deflate',\n",
       "              'Compression rate': u'6.1x',\n",
       "              'Creation date': u'2015-09-17 17:37:46',\n",
       "              'File name': u'ppt/presentation.xml',\n",
       "              'File size': u'3143 bytes'}})"
      ]
     },
     "execution_count": 9,
     "metadata": {},
     "output_type": "execute_result"
    }
   ],
   "source": [
    "p.keys()\n",
    "p"
   ]
  },
  {
   "cell_type": "code",
   "execution_count": 10,
   "metadata": {
    "collapsed": false
   },
   "outputs": [
    {
     "data": {
      "text/plain": [
       "[u'Common:',\n",
       " u'- MIME type: application/zip',\n",
       " u'- Endianness: Little endian',\n",
       " u'File \"_rels/.rels\":',\n",
       " u'- File name: _rels/.rels',\n",
       " u'- File size: 592 bytes',\n",
       " u'- Compressed file size: 227 bytes',\n",
       " u'- Compression rate: 2.6x',\n",
       " u'- Creation date: 2015-09-17 17:37:46',\n",
       " u'- Compression: Deflate',\n",
       " u'File \"docProps/core.xml\":',\n",
       " u'- File name: docProps/core.xml',\n",
       " u'- File size: 299 bytes',\n",
       " u'- Compressed file size: 197 bytes',\n",
       " u'- Compression rate: 1.5x',\n",
       " u'- Creation date: 2015-09-17 17:37:46',\n",
       " u'- Compression: Deflate',\n",
       " u'File \"docProps/app.xml\":',\n",
       " u'- File name: docProps/app.xml',\n",
       " u'- File size: 231 bytes',\n",
       " u'- Compressed file size: 149 bytes',\n",
       " u'- Compression rate: 1.6x',\n",
       " u'- Creation date: 2015-09-17 17:37:46',\n",
       " u'- Compression: Deflate',\n",
       " u'File \"ppt/presentation.xml\":',\n",
       " u'- File name: ppt/presentation.xml',\n",
       " u'- File size: 3143 bytes',\n",
       " u'- Compressed file size: 519 bytes',\n",
       " u'- Compression rate: 6.1x',\n",
       " u'- Creation date: 2015-09-17 17:37:46',\n",
       " u'- Compression: Deflate',\n",
       " u'File \"ppt/_rels/presentation.xml.rels\":',\n",
       " u'- File name: ppt/_rels/presentation.xml.rels',\n",
       " u'- File size: 2072 bytes',\n",
       " u'- Compressed file size: 324 bytes',\n",
       " u'- Compression rate: 6.4x',\n",
       " u'- Creation date: 2015-09-17 17:37:46',\n",
       " u'- Compression: Deflate',\n",
       " u'File \"ppt/presProps.xml\":',\n",
       " u'- File name: ppt/presProps.xml',\n",
       " u'- File size: 324 bytes',\n",
       " u'- Compressed file size: 177 bytes',\n",
       " u'- Compression rate: 1.8x',\n",
       " u'- Creation date: 2015-09-17 17:37:46',\n",
       " u'- Compression: Deflate']"
      ]
     },
     "execution_count": 10,
     "metadata": {},
     "output_type": "execute_result"
    }
   ],
   "source": [
    "pp"
   ]
  },
  {
   "cell_type": "code",
   "execution_count": 11,
   "metadata": {
    "collapsed": true
   },
   "outputs": [],
   "source": [
    "f = './0000400030303.zip'\n",
    "z,zz = not_pdf_about(f)"
   ]
  },
  {
   "cell_type": "code",
   "execution_count": 12,
   "metadata": {
    "collapsed": false
   },
   "outputs": [
    {
     "data": {
      "text/plain": [
       "defaultdict(collections.defaultdict,\n",
       "            {u'Common': {'Endianness': u'Little endian',\n",
       "              'MIME type': u'application/zip'},\n",
       "             u'File \"30303/\"': {'Compression': u'no compression',\n",
       "              'Creation date': u'2003-08-18 13:29:06',\n",
       "              'File name': u'30303/',\n",
       "              'File size': u'0 bytes'},\n",
       "             u'File \"30303/doc3.tif\"': {'Compressed file size': u'112.3 KB',\n",
       "              'Compression': u'Deflate',\n",
       "              'Compression rate': u'9.7x',\n",
       "              'Creation date': u'2003-08-18 12:24:36',\n",
       "              'File name': u'30303/doc3.tif',\n",
       "              'File size': u'1.1 MB'}})"
      ]
     },
     "execution_count": 12,
     "metadata": {},
     "output_type": "execute_result"
    }
   ],
   "source": [
    "z"
   ]
  },
  {
   "cell_type": "code",
   "execution_count": 15,
   "metadata": {
    "collapsed": false
   },
   "outputs": [
    {
     "ename": "AttributeError",
     "evalue": "'NoneType' object has no attribute 'exportPlaintext'",
     "output_type": "error",
     "traceback": [
      "\u001b[0;31m---------------------------------------------------------------------------\u001b[0m",
      "\u001b[0;31mAttributeError\u001b[0m                            Traceback (most recent call last)",
      "\u001b[0;32m<ipython-input-15-bcd71ee36a69>\u001b[0m in \u001b[0;36m<module>\u001b[0;34m()\u001b[0m\n\u001b[1;32m      1\u001b[0m \u001b[0mtext\u001b[0m \u001b[0;34m=\u001b[0m \u001b[0;34m'../computeCanda.txt'\u001b[0m\u001b[0;34m\u001b[0m\u001b[0m\n\u001b[0;32m----> 2\u001b[0;31m \u001b[0mz\u001b[0m\u001b[0;34m,\u001b[0m\u001b[0mzz\u001b[0m \u001b[0;34m=\u001b[0m \u001b[0mnot_pdf_about\u001b[0m\u001b[0;34m(\u001b[0m\u001b[0mtext\u001b[0m\u001b[0;34m)\u001b[0m\u001b[0;34m\u001b[0m\u001b[0m\n\u001b[0m",
      "\u001b[0;32m<ipython-input-3-26098f280887>\u001b[0m in \u001b[0;36mnot_pdf_about\u001b[0;34m(filename)\u001b[0m\n\u001b[1;32m     13\u001b[0m \u001b[0;34m\u001b[0m\u001b[0m\n\u001b[1;32m     14\u001b[0m     \u001b[0;31m# Turn the tags into a defaultdict\u001b[0m\u001b[0;34m\u001b[0m\u001b[0;34m\u001b[0m\u001b[0m\n\u001b[0;32m---> 15\u001b[0;31m     \u001b[0mmetalist\u001b[0m \u001b[0;34m=\u001b[0m \u001b[0mmetadata\u001b[0m\u001b[0;34m.\u001b[0m\u001b[0mextractMetadata\u001b[0m\u001b[0;34m(\u001b[0m\u001b[0mparser\u001b[0m\u001b[0;34m)\u001b[0m\u001b[0;34m.\u001b[0m\u001b[0mexportPlaintext\u001b[0m\u001b[0;34m(\u001b[0m\u001b[0;34m)\u001b[0m\u001b[0;34m\u001b[0m\u001b[0m\n\u001b[0m\u001b[1;32m     16\u001b[0m     \u001b[0mmeta\u001b[0m \u001b[0;34m=\u001b[0m \u001b[0mdefaultdict\u001b[0m\u001b[0;34m(\u001b[0m\u001b[0mdefaultdict\u001b[0m\u001b[0;34m)\u001b[0m\u001b[0;34m\u001b[0m\u001b[0m\n\u001b[1;32m     17\u001b[0m     \u001b[0;32mfor\u001b[0m \u001b[0mitem\u001b[0m \u001b[0;32min\u001b[0m \u001b[0mmetalist\u001b[0m\u001b[0;34m:\u001b[0m\u001b[0;34m\u001b[0m\u001b[0m\n",
      "\u001b[0;31mAttributeError\u001b[0m: 'NoneType' object has no attribute 'exportPlaintext'"
     ]
    }
   ],
   "source": [
    "text = '../computeCanda.txt'\n",
    "z,zz = not_pdf_about(text)"
   ]
  },
  {
   "cell_type": "code",
   "execution_count": 16,
   "metadata": {
    "collapsed": false
   },
   "outputs": [],
   "source": [
    "import tarfile\n",
    "import os\n",
    "import shutil\n",
    "\n",
    "def copytree(src, dst, symlinks=False, ignore=None):\n",
    "    for item in os.listdir(src):\n",
    "        s = os.path.join(src, item)\n",
    "        d = os.path.join(dst, item)\n",
    "        if os.path.isdir(s):\n",
    "            shutil.copytree(s, d, symlinks, ignore)\n",
    "        else:\n",
    "            shutil.copy2(s, d)\n",
    "\n",
    "\n",
    "def make_tarfile(output_filename, source_dir):\n",
    "    with tarfile.open(output_filename, \"w:gz\") as tar:\n",
    "        tar.add(source_dir, arcname=os.path.basename(source_dir))\n",
    "\n",
    "import gzip\n",
    "import shutil\n",
    "\n",
    "def make_gzip(uncompressed,compressed):\n",
    "    with open(uncompressed, 'rb') as f_in, gzip.open(compressed+'.gz', 'wb') as f_out:\n",
    "        shutil.copyfileobj(f_in, f_out)\n",
    "        \n",
    "skratch_path = \"./Skratch/\"\n",
    "\n",
    "def compress_to_skratch(file_to_copy,skratch_path):\n",
    "    path,filename = os.path.split(file_to_copy)\n",
    "    compress = os.path.join(skratch_path,filename+'.gz')\n",
    "    with open(file_to_copy, 'rb') as f_in, gzip.open(compress, 'wb') as f_out:\n",
    "        shutil.copyfileobj(f_in, f_out)\n",
    "    f_in.close()\n",
    "    f_out.close()\n",
    "    if os.path.exists(compress):\n",
    "        return compress\n",
    "    else:\n",
    "        raise False\n",
    "        \n",
    "def compress_full(file_to_copy,skratch_path):\n",
    "    basepath,filename = os.path.split(file_to_copy)\n",
    "    compressed = compress_to_skratch(file_to_copy,skratch_path)\n",
    "    if compressed != False:\n",
    "        os.remove(file_to_copy)\n",
    "        shutil.copy2(compressed,basepath)\n",
    "        os.remove(compressed)\n",
    "    else:\n",
    "        raise ValueError(\"Did not compress\")\n",
    "            "
   ]
  },
  {
   "cell_type": "code",
   "execution_count": null,
   "metadata": {
    "collapsed": false
   },
   "outputs": [],
   "source": [
    "compress_full('./TestDocFile/Inception/0000700037203.doc','./Skratch/')"
   ]
  },
  {
   "cell_type": "code",
   "execution_count": null,
   "metadata": {
    "collapsed": true
   },
   "outputs": [],
   "source": []
  },
  {
   "cell_type": "code",
   "execution_count": null,
   "metadata": {
    "collapsed": false
   },
   "outputs": [],
   "source": [
    "%%bash\n",
    "ls"
   ]
  },
  {
   "cell_type": "markdown",
   "metadata": {},
   "source": [
    "## tar.gz vs zip on .doc"
   ]
  },
  {
   "cell_type": "code",
   "execution_count": null,
   "metadata": {
    "collapsed": false
   },
   "outputs": [],
   "source": [
    "%%timeit\n",
    "make_tarfile('./0000700037203.doc'+'.tar.gz','./0000700037203.doc')"
   ]
  },
  {
   "cell_type": "code",
   "execution_count": null,
   "metadata": {
    "collapsed": false
   },
   "outputs": [],
   "source": [
    "%%timeit\n",
    "make_gzip('./0000700037203.doc','./0000700037203.doc')"
   ]
  },
  {
   "cell_type": "markdown",
   "metadata": {},
   "source": [
    "# tar.gz vs zip on .docx"
   ]
  },
  {
   "cell_type": "code",
   "execution_count": null,
   "metadata": {
    "collapsed": false
   },
   "outputs": [],
   "source": [
    "%%timeit\n",
    "make_tarfile('./ras.docx'+'.tar.gz','./ras.docx')"
   ]
  },
  {
   "cell_type": "code",
   "execution_count": null,
   "metadata": {
    "collapsed": false
   },
   "outputs": [],
   "source": [
    "%%timeit\n",
    "make_gzip('./ras.docx','./ras.docx')"
   ]
  },
  {
   "cell_type": "code",
   "execution_count": null,
   "metadata": {
    "collapsed": true
   },
   "outputs": [],
   "source": [
    "make_gzip('./ras.docx','./ras.docx')\n",
    "make_tarfile('./ras.docx'+'.tar.gz','./ras.docx')"
   ]
  },
  {
   "cell_type": "markdown",
   "metadata": {},
   "source": [
    "make_gzip is generally faster by 30%. But we note that the compression is a lot better on .doc vs .docx"
   ]
  },
  {
   "cell_type": "code",
   "execution_count": null,
   "metadata": {
    "collapsed": true
   },
   "outputs": [],
   "source": []
  },
  {
   "cell_type": "code",
   "execution_count": null,
   "metadata": {
    "collapsed": true
   },
   "outputs": [],
   "source": []
  },
  {
   "cell_type": "code",
   "execution_count": null,
   "metadata": {
    "collapsed": false
   },
   "outputs": [],
   "source": [
    "make_tarfile('./compress_pdf.tar.gzz','./0000600000803.pdf')"
   ]
  },
  {
   "cell_type": "code",
   "execution_count": null,
   "metadata": {
    "collapsed": true
   },
   "outputs": [],
   "source": [
    "make_tarfile('./compress_copy.tar.gz','./copy.doc')"
   ]
  },
  {
   "cell_type": "code",
   "execution_count": null,
   "metadata": {
    "collapsed": false
   },
   "outputs": [],
   "source": [
    "make_tarfile('./pdftar.tar.gz','./0000600000803.pdf')"
   ]
  },
  {
   "cell_type": "code",
   "execution_count": null,
   "metadata": {
    "collapsed": true
   },
   "outputs": [],
   "source": [
    "ye('./0000600000803.pdf','./pdfgzip')"
   ]
  },
  {
   "cell_type": "code",
   "execution_count": null,
   "metadata": {
    "collapsed": true
   },
   "outputs": [],
   "source": [
    "ye('./ras.docx','./docxras')"
   ]
  },
  {
   "cell_type": "code",
   "execution_count": null,
   "metadata": {
    "collapsed": true
   },
   "outputs": [],
   "source": [
    "ye('./0000700037203.doc','./docras')"
   ]
  },
  {
   "cell_type": "code",
   "execution_count": null,
   "metadata": {
    "collapsed": true
   },
   "outputs": [],
   "source": [
    "m,mm_compressed = not_pdf_about('./0000700037203 2.doc')"
   ]
  },
  {
   "cell_type": "code",
   "execution_count": null,
   "metadata": {
    "collapsed": true
   },
   "outputs": [],
   "source": [
    "m,mm_og = not_pdf_about('./0000700037203.doc')"
   ]
  },
  {
   "cell_type": "code",
   "execution_count": null,
   "metadata": {
    "collapsed": false
   },
   "outputs": [],
   "source": [
    "mm_og"
   ]
  },
  {
   "cell_type": "code",
   "execution_count": null,
   "metadata": {
    "collapsed": false
   },
   "outputs": [],
   "source": [
    "mm_compressed"
   ]
  },
  {
   "cell_type": "code",
   "execution_count": null,
   "metadata": {
    "collapsed": true
   },
   "outputs": [],
   "source": [
    "make_gzip('./0000600000803.pdf','./0000600000803.pdf')"
   ]
  },
  {
   "cell_type": "code",
   "execution_count": null,
   "metadata": {
    "collapsed": true
   },
   "outputs": [],
   "source": [
    "%%timeit\n",
    "\n",
    "make_gzip('./test_docx.docx','./test_docx.docx')"
   ]
  },
  {
   "cell_type": "code",
   "execution_count": null,
   "metadata": {
    "collapsed": true
   },
   "outputs": [],
   "source": [
    "%%timeit\n",
    "\n",
    "make_tarfile('./test_docx.docx'+'.tar','./test_docx.docx')"
   ]
  },
  {
   "cell_type": "code",
   "execution_count": null,
   "metadata": {
    "collapsed": false
   },
   "outputs": [],
   "source": [
    "import textract\n",
    "text = textract.process('./copy.doc')\n",
    "print text"
   ]
  },
  {
   "cell_type": "code",
   "execution_count": null,
   "metadata": {
    "collapsed": false
   },
   "outputs": [],
   "source": [
    "import docx2txt\n",
    "text = docx2txt.process('./ras.docx')\n",
    "text"
   ]
  },
  {
   "cell_type": "code",
   "execution_count": null,
   "metadata": {
    "collapsed": true
   },
   "outputs": [],
   "source": [
    "from IPython.display import Image"
   ]
  },
  {
   "cell_type": "code",
   "execution_count": null,
   "metadata": {
    "collapsed": false
   },
   "outputs": [],
   "source": [
    "Image('./30303/doc3.png')"
   ]
  },
  {
   "cell_type": "code",
   "execution_count": null,
   "metadata": {
    "collapsed": false
   },
   "outputs": [],
   "source": [
    "text = textract.process('./30303/doc3.png',method='tesseract', language='spa')\n",
    "print text"
   ]
  },
  {
   "cell_type": "code",
   "execution_count": null,
   "metadata": {
    "collapsed": false
   },
   "outputs": [],
   "source": [
    "text.decode('latin1')"
   ]
  },
  {
   "cell_type": "code",
   "execution_count": null,
   "metadata": {
    "collapsed": false
   },
   "outputs": [],
   "source": [
    "text = textract.process('./0000600000803.pdf', method='tesseract', language='nor')\n",
    "print text"
   ]
  },
  {
   "cell_type": "code",
   "execution_count": null,
   "metadata": {
    "collapsed": false
   },
   "outputs": [],
   "source": [
    "text = textract.process('./20-homography.pdf',method= 'pdfminer')\n",
    "print text"
   ]
  },
  {
   "cell_type": "code",
   "execution_count": null,
   "metadata": {
    "collapsed": false
   },
   "outputs": [],
   "source": [
    "text = textract.process('./0000600000803.pdf',method= 'pdf2text')\n",
    "print text"
   ]
  }
 ],
 "metadata": {
  "anaconda-cloud": {},
  "kernelspec": {
   "display_name": "Python [Root]",
   "language": "python",
   "name": "Python [Root]"
  },
  "language_info": {
   "codemirror_mode": {
    "name": "ipython",
    "version": 2
   },
   "file_extension": ".py",
   "mimetype": "text/x-python",
   "name": "python",
   "nbconvert_exporter": "python",
   "pygments_lexer": "ipython2",
   "version": "2.7.12"
  }
 },
 "nbformat": 4,
 "nbformat_minor": 0
}
