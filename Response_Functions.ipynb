{
 "cells": [
  {
   "cell_type": "code",
   "execution_count": 31,
   "metadata": {
    "collapsed": true
   },
   "outputs": [],
   "source": [
    "import pandas as pd\n",
    "import pymongo\n",
    "import time\n",
    "import datetime\n",
    "import magic\n",
    "import os\n",
    "from concurrent.futures import ProcessPoolExecutor"
   ]
  },
  {
   "cell_type": "code",
   "execution_count": 141,
   "metadata": {
    "collapsed": true
   },
   "outputs": [],
   "source": [
    "# initialize path directories\n",
    "raw_data_directory = '../raw_data/'\n",
    "path_to_attachments = '../attachments/'\n",
    "\n",
    "# paths '../attachments/years/ObjectId/files\n",
    "\n",
    "# connect to mongodb\n",
    "try:\n",
    "    conn = pymongo.MongoClient()\n",
    "    name = 'polisci_test12Nov16'\n",
    "    db = conn[name]\n",
    "    folios = db.folios\n",
    "    responses = db.responses\n",
    "except:\n",
    "    print \"Failed Connection\""
   ]
  },
  {
   "cell_type": "code",
   "execution_count": 10,
   "metadata": {
    "collapsed": false
   },
   "outputs": [],
   "source": [
    "# query \n",
    "cursor = db['folios'].find({'ARCHIVORESPUESTA': {'$regex': 'respuesta='} }).limit(500)\n",
    "# load to pandas dataframe\n",
    "df = pd.DataFrame(list(cursor))"
   ]
  },
  {
   "cell_type": "code",
   "execution_count": 11,
   "metadata": {
    "collapsed": false
   },
   "outputs": [
    {
     "data": {
      "text/html": [
       "<div>\n",
       "<table border=\"1\" class=\"dataframe\">\n",
       "  <thead>\n",
       "    <tr style=\"text-align: right;\">\n",
       "      <th></th>\n",
       "      <th>ARCHIVOADJUNTOSOLICITUD</th>\n",
       "      <th>ARCHIVORESPUESTA</th>\n",
       "      <th>DEPENDENCIA</th>\n",
       "      <th>DESCRIPCIONSOLICITUD</th>\n",
       "      <th>ESTATUS</th>\n",
       "      <th>FECHARESPUESTA</th>\n",
       "      <th>FECHASOLICITUD</th>\n",
       "      <th>FOLIO</th>\n",
       "      <th>LOCALIDAD</th>\n",
       "      <th>MEDIOENTRADA</th>\n",
       "      <th>OTROSDATOS</th>\n",
       "      <th>PDFOCR</th>\n",
       "      <th>RESPUESTA</th>\n",
       "      <th>SECTOR</th>\n",
       "      <th>TIPOSOLICITUD</th>\n",
       "      <th>_id</th>\n",
       "      <th>path_to_file</th>\n",
       "      <th>year</th>\n",
       "    </tr>\n",
       "  </thead>\n",
       "  <tbody>\n",
       "    <tr>\n",
       "      <th>0</th>\n",
       "      <td>NaN</td>\n",
       "      <td>https://www.infomex.org.mx/gobiernofederal/mod...</td>\n",
       "      <td>SECRETARÍA DE MEDIO AMBIENTE Y RECURSOS NATURALES</td>\n",
       "      <td>Existen rellenos sanitarios para desechos hosp...</td>\n",
       "      <td>Electrónica</td>\n",
       "      <td>2004-04-02</td>\n",
       "      <td>2004-06-01 12:25:00</td>\n",
       "      <td>'1</td>\n",
       "      <td>{u'CODIGOPOSTAL': u'6760', u'PAIS': u'México',...</td>\n",
       "      <td>Electrónica</td>\n",
       "      <td>NaN</td>\n",
       "      <td>0</td>\n",
       "      <td>Entrega de información en medio electrónico</td>\n",
       "      <td>Medio Ambiente y Recursos Naturales</td>\n",
       "      <td>Información Pública</td>\n",
       "      <td>5827a87d833f861344e7abe9</td>\n",
       "      <td>None</td>\n",
       "      <td>2004</td>\n",
       "    </tr>\n",
       "    <tr>\n",
       "      <th>1</th>\n",
       "      <td>NaN</td>\n",
       "      <td>https://www.infomex.org.mx/gobiernofederal/mod...</td>\n",
       "      <td>SERVICIO DE ADMINISTRACIÓN TRIBUTARIA</td>\n",
       "      <td>CONTENIDO O DATOS PRINCIPALES DE ACUERDO 325-S...</td>\n",
       "      <td>Electrónica</td>\n",
       "      <td>2004-03-15</td>\n",
       "      <td>2004-06-01 13:23:00</td>\n",
       "      <td>'10</td>\n",
       "      <td>{u'CODIGOPOSTAL': u'55890', u'PAIS': u'México'...</td>\n",
       "      <td>Electrónica</td>\n",
       "      <td>ESTOS DATOS SON PUBLICADOS EN LA PAGINA INTERN...</td>\n",
       "      <td>0</td>\n",
       "      <td>Entrega de información en medio electrónico</td>\n",
       "      <td>Hacienda y Crédito Público</td>\n",
       "      <td>Información Pública</td>\n",
       "      <td>5827a87d833f861344e7abea</td>\n",
       "      <td>None</td>\n",
       "      <td>2004</td>\n",
       "    </tr>\n",
       "    <tr>\n",
       "      <th>2</th>\n",
       "      <td>https://www.infomex.org.mx/gobiernofederal/mod...</td>\n",
       "      <td>https://www.infomex.org.mx/gobiernofederal/mod...</td>\n",
       "      <td>INSTITUTO MEXICANO DE LA PROPIEDAD INDUSTRIAL</td>\n",
       "      <td>INSTITUTO MEXICANO DE LA PROPIEDAD INDUSTRIAL ...</td>\n",
       "      <td>Electrónica</td>\n",
       "      <td>2004-01-13</td>\n",
       "      <td>2004-07-01 15:11:00</td>\n",
       "      <td>'100</td>\n",
       "      <td>{u'CODIGOPOSTAL': u'1210', u'PAIS': u'México',...</td>\n",
       "      <td>Electrónica</td>\n",
       "      <td>NaN</td>\n",
       "      <td>0</td>\n",
       "      <td>Entrega de información en medio electrónico</td>\n",
       "      <td>Economía</td>\n",
       "      <td>Información Pública</td>\n",
       "      <td>5827a87d833f861344e7abeb</td>\n",
       "      <td>../attachments/2004/5827a87d833f861344e7abeb/a...</td>\n",
       "      <td>2004</td>\n",
       "    </tr>\n",
       "    <tr>\n",
       "      <th>3</th>\n",
       "      <td>NaN</td>\n",
       "      <td>https://www.infomex.org.mx/gobiernofederal/mod...</td>\n",
       "      <td>SECRETARÍA DEL TRABAJO Y PREVISIÓN SOCIAL</td>\n",
       "      <td>Número de personas laborando en la subsecretar...</td>\n",
       "      <td>Electrónica</td>\n",
       "      <td>2004-02-18</td>\n",
       "      <td>2004-01-21 12:48:00</td>\n",
       "      <td>'1000</td>\n",
       "      <td>{u'CODIGOPOSTAL': u'6800', u'PAIS': u'México',...</td>\n",
       "      <td>Electrónica</td>\n",
       "      <td>NaN</td>\n",
       "      <td>0</td>\n",
       "      <td>Entrega de información en medio electrónico</td>\n",
       "      <td>Trabajo y Previsión Social</td>\n",
       "      <td>Información Pública</td>\n",
       "      <td>5827a87d833f861344e7abec</td>\n",
       "      <td>None</td>\n",
       "      <td>2004</td>\n",
       "    </tr>\n",
       "    <tr>\n",
       "      <th>4</th>\n",
       "      <td>https://www.infomex.org.mx/gobiernofederal/mod...</td>\n",
       "      <td>https://www.infomex.org.mx/gobiernofederal/mod...</td>\n",
       "      <td>INSTITUTO MEXICANO DEL SEGURO SOCIAL</td>\n",
       "      <td>SOLICITO LA DOCUMENTACION COMPROBATORIA DE LOS...</td>\n",
       "      <td>Electrónica</td>\n",
       "      <td>2004-05-20</td>\n",
       "      <td>2004-04-21 12:58:00</td>\n",
       "      <td>'10000</td>\n",
       "      <td>{u'CODIGOPOSTAL': u'0', u'PAIS': u'México', u'...</td>\n",
       "      <td>Electrónica</td>\n",
       "      <td>EL IMSS DELEGACION COAHUILA A TRAVES DEL ARCHI...</td>\n",
       "      <td>0</td>\n",
       "      <td>Entrega de información en medio electrónico</td>\n",
       "      <td>Aportaciones a Seguridad Social</td>\n",
       "      <td>Información Pública</td>\n",
       "      <td>5827a87d833f861344e7abed</td>\n",
       "      <td>../attachments/2004/5827a87d833f861344e7abed/a...</td>\n",
       "      <td>2004</td>\n",
       "    </tr>\n",
       "  </tbody>\n",
       "</table>\n",
       "</div>"
      ],
      "text/plain": [
       "                             ARCHIVOADJUNTOSOLICITUD  \\\n",
       "0                                                NaN   \n",
       "1                                                NaN   \n",
       "2  https://www.infomex.org.mx/gobiernofederal/mod...   \n",
       "3                                                NaN   \n",
       "4  https://www.infomex.org.mx/gobiernofederal/mod...   \n",
       "\n",
       "                                    ARCHIVORESPUESTA  \\\n",
       "0  https://www.infomex.org.mx/gobiernofederal/mod...   \n",
       "1  https://www.infomex.org.mx/gobiernofederal/mod...   \n",
       "2  https://www.infomex.org.mx/gobiernofederal/mod...   \n",
       "3  https://www.infomex.org.mx/gobiernofederal/mod...   \n",
       "4  https://www.infomex.org.mx/gobiernofederal/mod...   \n",
       "\n",
       "                                         DEPENDENCIA  \\\n",
       "0  SECRETARÍA DE MEDIO AMBIENTE Y RECURSOS NATURALES   \n",
       "1              SERVICIO DE ADMINISTRACIÓN TRIBUTARIA   \n",
       "2      INSTITUTO MEXICANO DE LA PROPIEDAD INDUSTRIAL   \n",
       "3          SECRETARÍA DEL TRABAJO Y PREVISIÓN SOCIAL   \n",
       "4               INSTITUTO MEXICANO DEL SEGURO SOCIAL   \n",
       "\n",
       "                                DESCRIPCIONSOLICITUD      ESTATUS  \\\n",
       "0  Existen rellenos sanitarios para desechos hosp...  Electrónica   \n",
       "1  CONTENIDO O DATOS PRINCIPALES DE ACUERDO 325-S...  Electrónica   \n",
       "2  INSTITUTO MEXICANO DE LA PROPIEDAD INDUSTRIAL ...  Electrónica   \n",
       "3  Número de personas laborando en la subsecretar...  Electrónica   \n",
       "4  SOLICITO LA DOCUMENTACION COMPROBATORIA DE LOS...  Electrónica   \n",
       "\n",
       "  FECHARESPUESTA      FECHASOLICITUD   FOLIO  \\\n",
       "0     2004-04-02 2004-06-01 12:25:00      '1   \n",
       "1     2004-03-15 2004-06-01 13:23:00     '10   \n",
       "2     2004-01-13 2004-07-01 15:11:00    '100   \n",
       "3     2004-02-18 2004-01-21 12:48:00   '1000   \n",
       "4     2004-05-20 2004-04-21 12:58:00  '10000   \n",
       "\n",
       "                                           LOCALIDAD MEDIOENTRADA  \\\n",
       "0  {u'CODIGOPOSTAL': u'6760', u'PAIS': u'México',...  Electrónica   \n",
       "1  {u'CODIGOPOSTAL': u'55890', u'PAIS': u'México'...  Electrónica   \n",
       "2  {u'CODIGOPOSTAL': u'1210', u'PAIS': u'México',...  Electrónica   \n",
       "3  {u'CODIGOPOSTAL': u'6800', u'PAIS': u'México',...  Electrónica   \n",
       "4  {u'CODIGOPOSTAL': u'0', u'PAIS': u'México', u'...  Electrónica   \n",
       "\n",
       "                                          OTROSDATOS  PDFOCR  \\\n",
       "0                                                NaN       0   \n",
       "1  ESTOS DATOS SON PUBLICADOS EN LA PAGINA INTERN...       0   \n",
       "2                                                NaN       0   \n",
       "3                                                NaN       0   \n",
       "4  EL IMSS DELEGACION COAHUILA A TRAVES DEL ARCHI...       0   \n",
       "\n",
       "                                     RESPUESTA  \\\n",
       "0  Entrega de información en medio electrónico   \n",
       "1  Entrega de información en medio electrónico   \n",
       "2  Entrega de información en medio electrónico   \n",
       "3  Entrega de información en medio electrónico   \n",
       "4  Entrega de información en medio electrónico   \n",
       "\n",
       "                                SECTOR        TIPOSOLICITUD  \\\n",
       "0  Medio Ambiente y Recursos Naturales  Información Pública   \n",
       "1           Hacienda y Crédito Público  Información Pública   \n",
       "2                             Economía  Información Pública   \n",
       "3           Trabajo y Previsión Social  Información Pública   \n",
       "4      Aportaciones a Seguridad Social  Información Pública   \n",
       "\n",
       "                        _id  \\\n",
       "0  5827a87d833f861344e7abe9   \n",
       "1  5827a87d833f861344e7abea   \n",
       "2  5827a87d833f861344e7abeb   \n",
       "3  5827a87d833f861344e7abec   \n",
       "4  5827a87d833f861344e7abed   \n",
       "\n",
       "                                        path_to_file  year  \n",
       "0                                               None  2004  \n",
       "1                                               None  2004  \n",
       "2  ../attachments/2004/5827a87d833f861344e7abeb/a...  2004  \n",
       "3                                               None  2004  \n",
       "4  ../attachments/2004/5827a87d833f861344e7abed/a...  2004  "
      ]
     },
     "execution_count": 11,
     "metadata": {},
     "output_type": "execute_result"
    }
   ],
   "source": [
    "df.head()"
   ]
  },
  {
   "cell_type": "code",
   "execution_count": 51,
   "metadata": {
    "collapsed": false
   },
   "outputs": [
    {
     "name": "stdout",
     "output_type": "stream",
     "text": [
      "True\n",
      "True\n",
      "False\n",
      "True\n",
      "False\n"
     ]
    }
   ],
   "source": [
    "for row in df.iloc[0:5].iterrows():\n",
    "    print row[1]['path_to_file'] == None"
   ]
  },
  {
   "cell_type": "code",
   "execution_count": 56,
   "metadata": {
    "collapsed": false
   },
   "outputs": [
    {
     "name": "stdout",
     "output_type": "stream",
     "text": [
      "2004 5827a87d833f861344e7abe9 ../attachments/2004/ ../attachments/2004/5827a87d833f861344e7abe9/\n",
      "2004 5827a87d833f861344e7abea ../attachments/2004/ ../attachments/2004/5827a87d833f861344e7abea/\n",
      "../attachments/2004/5827a87d833f861344e7abeb\n",
      "2004 5827a87d833f861344e7abec ../attachments/2004/ ../attachments/2004/5827a87d833f861344e7abec/\n",
      "../attachments/2004/5827a87d833f861344e7abed\n"
     ]
    }
   ],
   "source": [
    "for row in df.iloc[0:5].iterrows():\n",
    "    path_to_file = row[1]['path_to_file']\n",
    "    if path_to_file == None:\n",
    "        year = str(row[1]['year'])\n",
    "        object_id = str(row[1]['_id'])\n",
    "        path_year = path_to_attachments+year+'/'\n",
    "        path_object_id = path_year+object_id+'/'\n",
    "        print year, object_id, path_year,path_object_id\n",
    "    else:\n",
    "        path_to_file,_ = os.path.split(str(row[1]['path_to_file']))\n",
    "        print path_to_file"
   ]
  },
  {
   "cell_type": "code",
   "execution_count": 70,
   "metadata": {
    "collapsed": false
   },
   "outputs": [],
   "source": [
    "# we determine if there exists a path to file.\n",
    "# if there is a path to file, great out put that path\n",
    "# if there isn't, make that path and return it\n",
    "def validate_path(folio):\n",
    "        path_to_file = folio['path_to_file']\n",
    "\n",
    "        if path_to_file == None:\n",
    "            # initialize variables\n",
    "            year = str(folio['year'])\n",
    "            object_id = str(folio['_id'])\n",
    "            path_year = path_to_attachments+year+'/'\n",
    "\n",
    "            # check path to the year\n",
    "            try:\n",
    "                os.stat(path_year)\n",
    "            except:\n",
    "                os.mkdir(path_year)\n",
    "\n",
    "            # check path to the object_id\n",
    "            path_to_file = path_year+object_id+'/'\n",
    "            try:\n",
    "                os.stat(path_to_file)\n",
    "            except:\n",
    "                os.mkdir(path_to_file)\n",
    "            \n",
    "            return path_to_file\n",
    "        \n",
    "        else:\n",
    "            path_to_file,_ = os.path.split(str(row[1]['path_to_file']))\n",
    "            path_to_file = path_to_file+'/'\n",
    "            return path_to_file\n",
    "        "
   ]
  },
  {
   "cell_type": "code",
   "execution_count": 73,
   "metadata": {
    "collapsed": false
   },
   "outputs": [
    {
     "name": "stdout",
     "output_type": "stream",
     "text": [
      "../attachments/2004/5827a87d833f861344e7abe9/\n",
      "../attachments/2004/5827a87d833f861344e7abea/\n",
      "../attachments/2004/5827a87d833f861344e7abeb/\n",
      "../attachments/2004/5827a87d833f861344e7abec/\n",
      "../attachments/2004/5827a87d833f861344e7abed/\n"
     ]
    }
   ],
   "source": [
    "for row in df.iloc[0:5].iterrows():\n",
    "    folio = row[1]\n",
    "    path_to_file = validate_path(folio)"
   ]
  },
  {
   "cell_type": "markdown",
   "metadata": {},
   "source": [
    "## Now that we have validated_the_path for the download, its time to download and save"
   ]
  },
  {
   "cell_type": "code",
   "execution_count": 112,
   "metadata": {
    "collapsed": false
   },
   "outputs": [],
   "source": [
    "import datetime\n",
    "import requests\n",
    "import magic\n",
    "\"\"\"Determine the file_extension of a magicFile\"\"\"\n",
    "def what_is_file_extension(magicFile):\n",
    "    import re\n",
    "    r = magic.from_file(magicFile)\n",
    "    if re.search(\"Microsoft Word\",r):\n",
    "        return \".docx\"\n",
    "    if re.search(\"Composite Document File V2 Document\",r):\n",
    "        return \".doc\"\n",
    "    if re.search(\"PDF document\",r):\n",
    "        return \".pdf\"\n",
    "    if re.search(\"Rich Text Format data\",r):\n",
    "        return \".rtf\"\n",
    "    if re.search(\"HTML\",r):\n",
    "        return \".html\"\n",
    "    if re.search(\"Zip\",r):\n",
    "        return \".zip\"\n",
    "    if re.search(\"ASCII text\",r):\n",
    "        return \".txt\"\n",
    "    else:\n",
    "        return None\n",
    "    \n",
    "def download_file(url,path_to_attachments):\n",
    "    a_request = requests.get(url, verify = False)\n",
    "    response_code = a_request.status_code\n",
    "    if response_code == 200:\n",
    "        \n",
    "        file_name = url.split('/')[-1]\n",
    "        with open(str(path_to_attachments)+'/'+file_name,'wb') as f:\n",
    "            for chunk in a_request.iter_content(chunk_size=1024): \n",
    "                if chunk: # filter out keep-alive new chunks\n",
    "                    f.write(chunk)\n",
    "        \n",
    "        # get file extension \n",
    "        file_extension = what_is_file_extension(str(path_to_attachments)+'/'+file_name)\n",
    "        # add timestamp to file name\n",
    "        time_stamp = datetime.datetime.now()\n",
    "        ts = time_stamp.strftime(\"%d-%m-%Y\")\n",
    "        path_to_download = str(path_to_attachments)+'response'+'_date_'+str(ts)+str(file_extension)\n",
    "        \n",
    "        # rename old filename to new filename, with date tag and file extension included\n",
    "        os.rename(str(path_to_attachments)+'/'+file_name,\n",
    "                  str(path_to_attachments)+'response'+'_date_'+str(ts)+str(file_extension))\n",
    "    else:\n",
    "        time_stamp = datetime.datetime.now()\n",
    "        path_to_download = None\n",
    "    \n",
    "    return response_code,path_to_download,time_stamp"
   ]
  },
  {
   "cell_type": "code",
   "execution_count": 102,
   "metadata": {
    "collapsed": false
   },
   "outputs": [
    {
     "name": "stderr",
     "output_type": "stream",
     "text": [
      "/home/rsampana/mex-project/venv/local/lib/python2.7/site-packages/requests/packages/urllib3/util/ssl_.py:122: InsecurePlatformWarning: A true SSLContext object is not available. This prevents urllib3 from configuring SSL appropriately and may cause certain SSL connections to fail. You can upgrade to a newer version of Python to solve this. For more information, see https://urllib3.readthedocs.io/en/latest/security.html#insecureplatformwarning.\n",
      "  InsecurePlatformWarning\n",
      "/home/rsampana/mex-project/venv/local/lib/python2.7/site-packages/requests/packages/urllib3/connectionpool.py:838: InsecureRequestWarning: Unverified HTTPS request is being made. Adding certificate verification is strongly advised. See: https://urllib3.readthedocs.io/en/latest/security.html\n",
      "  InsecureRequestWarning)\n"
     ]
    },
    {
     "name": "stdout",
     "output_type": "stream",
     "text": [
      "200\n",
      "../attachments/2004/5827a87d833f861344e7abe9/response_date_13-11-2016.docx\n"
     ]
    },
    {
     "name": "stderr",
     "output_type": "stream",
     "text": [
      "/home/rsampana/mex-project/venv/local/lib/python2.7/site-packages/requests/packages/urllib3/util/ssl_.py:122: InsecurePlatformWarning: A true SSLContext object is not available. This prevents urllib3 from configuring SSL appropriately and may cause certain SSL connections to fail. You can upgrade to a newer version of Python to solve this. For more information, see https://urllib3.readthedocs.io/en/latest/security.html#insecureplatformwarning.\n",
      "  InsecurePlatformWarning\n",
      "/home/rsampana/mex-project/venv/local/lib/python2.7/site-packages/requests/packages/urllib3/connectionpool.py:838: InsecureRequestWarning: Unverified HTTPS request is being made. Adding certificate verification is strongly advised. See: https://urllib3.readthedocs.io/en/latest/security.html\n",
      "  InsecureRequestWarning)\n"
     ]
    },
    {
     "name": "stdout",
     "output_type": "stream",
     "text": [
      "200\n",
      "../attachments/2004/5827a87d833f861344e7abea/response_date_13-11-2016.docx\n"
     ]
    },
    {
     "name": "stderr",
     "output_type": "stream",
     "text": [
      "/home/rsampana/mex-project/venv/local/lib/python2.7/site-packages/requests/packages/urllib3/util/ssl_.py:122: InsecurePlatformWarning: A true SSLContext object is not available. This prevents urllib3 from configuring SSL appropriately and may cause certain SSL connections to fail. You can upgrade to a newer version of Python to solve this. For more information, see https://urllib3.readthedocs.io/en/latest/security.html#insecureplatformwarning.\n",
      "  InsecurePlatformWarning\n",
      "/home/rsampana/mex-project/venv/local/lib/python2.7/site-packages/requests/packages/urllib3/connectionpool.py:838: InsecureRequestWarning: Unverified HTTPS request is being made. Adding certificate verification is strongly advised. See: https://urllib3.readthedocs.io/en/latest/security.html\n",
      "  InsecureRequestWarning)\n"
     ]
    },
    {
     "name": "stdout",
     "output_type": "stream",
     "text": [
      "200\n",
      "../attachments/2004/5827a87d833f861344e7abeb/response_date_13-11-2016.docx\n"
     ]
    },
    {
     "name": "stderr",
     "output_type": "stream",
     "text": [
      "/home/rsampana/mex-project/venv/local/lib/python2.7/site-packages/requests/packages/urllib3/util/ssl_.py:122: InsecurePlatformWarning: A true SSLContext object is not available. This prevents urllib3 from configuring SSL appropriately and may cause certain SSL connections to fail. You can upgrade to a newer version of Python to solve this. For more information, see https://urllib3.readthedocs.io/en/latest/security.html#insecureplatformwarning.\n",
      "  InsecurePlatformWarning\n",
      "/home/rsampana/mex-project/venv/local/lib/python2.7/site-packages/requests/packages/urllib3/connectionpool.py:838: InsecureRequestWarning: Unverified HTTPS request is being made. Adding certificate verification is strongly advised. See: https://urllib3.readthedocs.io/en/latest/security.html\n",
      "  InsecureRequestWarning)\n"
     ]
    },
    {
     "name": "stdout",
     "output_type": "stream",
     "text": [
      "200\n",
      "../attachments/2004/5827a87d833f861344e7abec/response_date_13-11-2016.pdf\n"
     ]
    },
    {
     "name": "stderr",
     "output_type": "stream",
     "text": [
      "/home/rsampana/mex-project/venv/local/lib/python2.7/site-packages/requests/packages/urllib3/util/ssl_.py:122: InsecurePlatformWarning: A true SSLContext object is not available. This prevents urllib3 from configuring SSL appropriately and may cause certain SSL connections to fail. You can upgrade to a newer version of Python to solve this. For more information, see https://urllib3.readthedocs.io/en/latest/security.html#insecureplatformwarning.\n",
      "  InsecurePlatformWarning\n",
      "/home/rsampana/mex-project/venv/local/lib/python2.7/site-packages/requests/packages/urllib3/connectionpool.py:838: InsecureRequestWarning: Unverified HTTPS request is being made. Adding certificate verification is strongly advised. See: https://urllib3.readthedocs.io/en/latest/security.html\n",
      "  InsecureRequestWarning)\n"
     ]
    },
    {
     "name": "stdout",
     "output_type": "stream",
     "text": [
      "200\n",
      "../attachments/2004/5827a87d833f861344e7abed/response_date_13-11-2016.doc\n"
     ]
    }
   ],
   "source": [
    "for row in df.iloc[0:5].iterrows():\n",
    "    folio = row[1]\n",
    "    path_to_file = validate_path(folio)\n",
    "    url = row[1]['ARCHIVORESPUESTA']\n",
    "    response_code,path_to_download,time_stamp = download_file(url,path_to_file)\n",
    "    print response_code\n",
    "    print path_to_download"
   ]
  },
  {
   "cell_type": "code",
   "execution_count": 117,
   "metadata": {
    "collapsed": true
   },
   "outputs": [],
   "source": [
    "from bson.objectid import ObjectId\n",
    "import datetime\n",
    "def build_initial_request(folio,path_to_download,time_stamp,response_code,mongo_response):\n",
    "    new_dict = {}\n",
    "    \n",
    "    new_dict[\"Folio_id\"] = ObjectId(str(folio['_id']))\n",
    "    new_dict[\"path_to_file\"] = str(path_to_download)\n",
    "    new_dict[\"response\"] = [{'time':time_stamp,'response_code':response_code}]\n",
    "    new_dict[\"Last_Modified\"] = time_stamp\n",
    "    \n",
    "    insert = mongo_response.insert_one(new_dict)\n",
    "    return insert"
   ]
  },
  {
   "cell_type": "code",
   "execution_count": 118,
   "metadata": {
    "collapsed": false
   },
   "outputs": [
    {
     "name": "stderr",
     "output_type": "stream",
     "text": [
      "/home/rsampana/mex-project/venv/local/lib/python2.7/site-packages/requests/packages/urllib3/util/ssl_.py:122: InsecurePlatformWarning: A true SSLContext object is not available. This prevents urllib3 from configuring SSL appropriately and may cause certain SSL connections to fail. You can upgrade to a newer version of Python to solve this. For more information, see https://urllib3.readthedocs.io/en/latest/security.html#insecureplatformwarning.\n",
      "  InsecurePlatformWarning\n",
      "/home/rsampana/mex-project/venv/local/lib/python2.7/site-packages/requests/packages/urllib3/connectionpool.py:838: InsecureRequestWarning: Unverified HTTPS request is being made. Adding certificate verification is strongly advised. See: https://urllib3.readthedocs.io/en/latest/security.html\n",
      "  InsecureRequestWarning)\n"
     ]
    },
    {
     "name": "stdout",
     "output_type": "stream",
     "text": [
      "{'path_to_file': '../attachments/2004/5827a87d833f861344e7abe9/response_date_13-11-2016.docx', 'Folio_id': ObjectId('5827a87d833f861344e7abe9'), 'Last_Modified': datetime.datetime(2016, 11, 13, 2, 9, 32, 773341), 'response': [{'response_code': 200, 'time': datetime.datetime(2016, 11, 13, 2, 9, 32, 773341)}], '_id': ObjectId('5827cb5c833f8614629d16f7')}\n"
     ]
    },
    {
     "name": "stderr",
     "output_type": "stream",
     "text": [
      "/home/rsampana/mex-project/venv/local/lib/python2.7/site-packages/requests/packages/urllib3/util/ssl_.py:122: InsecurePlatformWarning: A true SSLContext object is not available. This prevents urllib3 from configuring SSL appropriately and may cause certain SSL connections to fail. You can upgrade to a newer version of Python to solve this. For more information, see https://urllib3.readthedocs.io/en/latest/security.html#insecureplatformwarning.\n",
      "  InsecurePlatformWarning\n",
      "/home/rsampana/mex-project/venv/local/lib/python2.7/site-packages/requests/packages/urllib3/connectionpool.py:838: InsecureRequestWarning: Unverified HTTPS request is being made. Adding certificate verification is strongly advised. See: https://urllib3.readthedocs.io/en/latest/security.html\n",
      "  InsecureRequestWarning)\n"
     ]
    },
    {
     "name": "stdout",
     "output_type": "stream",
     "text": [
      "{'path_to_file': '../attachments/2004/5827a87d833f861344e7abea/response_date_13-11-2016.docx', 'Folio_id': ObjectId('5827a87d833f861344e7abea'), 'Last_Modified': datetime.datetime(2016, 11, 13, 2, 9, 36, 347882), 'response': [{'response_code': 200, 'time': datetime.datetime(2016, 11, 13, 2, 9, 36, 347882)}], '_id': ObjectId('5827cb60833f8614629d16f8')}\n"
     ]
    },
    {
     "name": "stderr",
     "output_type": "stream",
     "text": [
      "/home/rsampana/mex-project/venv/local/lib/python2.7/site-packages/requests/packages/urllib3/util/ssl_.py:122: InsecurePlatformWarning: A true SSLContext object is not available. This prevents urllib3 from configuring SSL appropriately and may cause certain SSL connections to fail. You can upgrade to a newer version of Python to solve this. For more information, see https://urllib3.readthedocs.io/en/latest/security.html#insecureplatformwarning.\n",
      "  InsecurePlatformWarning\n",
      "/home/rsampana/mex-project/venv/local/lib/python2.7/site-packages/requests/packages/urllib3/connectionpool.py:838: InsecureRequestWarning: Unverified HTTPS request is being made. Adding certificate verification is strongly advised. See: https://urllib3.readthedocs.io/en/latest/security.html\n",
      "  InsecureRequestWarning)\n"
     ]
    },
    {
     "name": "stdout",
     "output_type": "stream",
     "text": [
      "{'path_to_file': '../attachments/2004/5827a87d833f861344e7abeb/response_date_13-11-2016.docx', 'Folio_id': ObjectId('5827a87d833f861344e7abeb'), 'Last_Modified': datetime.datetime(2016, 11, 13, 2, 9, 36, 971029), 'response': [{'response_code': 200, 'time': datetime.datetime(2016, 11, 13, 2, 9, 36, 971029)}], '_id': ObjectId('5827cb60833f8614629d16f9')}\n"
     ]
    },
    {
     "name": "stderr",
     "output_type": "stream",
     "text": [
      "/home/rsampana/mex-project/venv/local/lib/python2.7/site-packages/requests/packages/urllib3/util/ssl_.py:122: InsecurePlatformWarning: A true SSLContext object is not available. This prevents urllib3 from configuring SSL appropriately and may cause certain SSL connections to fail. You can upgrade to a newer version of Python to solve this. For more information, see https://urllib3.readthedocs.io/en/latest/security.html#insecureplatformwarning.\n",
      "  InsecurePlatformWarning\n",
      "/home/rsampana/mex-project/venv/local/lib/python2.7/site-packages/requests/packages/urllib3/connectionpool.py:838: InsecureRequestWarning: Unverified HTTPS request is being made. Adding certificate verification is strongly advised. See: https://urllib3.readthedocs.io/en/latest/security.html\n",
      "  InsecureRequestWarning)\n"
     ]
    },
    {
     "name": "stdout",
     "output_type": "stream",
     "text": [
      "{'path_to_file': '../attachments/2004/5827a87d833f861344e7abec/response_date_13-11-2016.pdf', 'Folio_id': ObjectId('5827a87d833f861344e7abec'), 'Last_Modified': datetime.datetime(2016, 11, 13, 2, 9, 37, 458061), 'response': [{'response_code': 200, 'time': datetime.datetime(2016, 11, 13, 2, 9, 37, 458061)}], '_id': ObjectId('5827cb61833f8614629d16fa')}\n"
     ]
    },
    {
     "name": "stderr",
     "output_type": "stream",
     "text": [
      "/home/rsampana/mex-project/venv/local/lib/python2.7/site-packages/requests/packages/urllib3/util/ssl_.py:122: InsecurePlatformWarning: A true SSLContext object is not available. This prevents urllib3 from configuring SSL appropriately and may cause certain SSL connections to fail. You can upgrade to a newer version of Python to solve this. For more information, see https://urllib3.readthedocs.io/en/latest/security.html#insecureplatformwarning.\n",
      "  InsecurePlatformWarning\n",
      "/home/rsampana/mex-project/venv/local/lib/python2.7/site-packages/requests/packages/urllib3/connectionpool.py:838: InsecureRequestWarning: Unverified HTTPS request is being made. Adding certificate verification is strongly advised. See: https://urllib3.readthedocs.io/en/latest/security.html\n",
      "  InsecureRequestWarning)\n"
     ]
    },
    {
     "name": "stdout",
     "output_type": "stream",
     "text": [
      "{'path_to_file': '../attachments/2004/5827a87d833f861344e7abed/response_date_13-11-2016.doc', 'Folio_id': ObjectId('5827a87d833f861344e7abed'), 'Last_Modified': datetime.datetime(2016, 11, 13, 2, 9, 38, 96618), 'response': [{'response_code': 200, 'time': datetime.datetime(2016, 11, 13, 2, 9, 38, 96618)}], '_id': ObjectId('5827cb62833f8614629d16fb')}\n"
     ]
    }
   ],
   "source": [
    "for row in df.iloc[0:5].iterrows():\n",
    "    folio = row[1]\n",
    "    path_to_file = validate_path(folio)\n",
    "    url = row[1]['ARCHIVORESPUESTA']\n",
    "    response_code,path_to_download,time_stamp = download_file(url,path_to_file)\n",
    "    insert = build_initial_request(folio,path_to_download,time_stamp,response_code,responses)\n",
    "    print insert"
   ]
  },
  {
   "cell_type": "markdown",
   "metadata": {},
   "source": [
    "# Now what if we ping again and we want to add the new ping to the response collection"
   ]
  },
  {
   "cell_type": "code",
   "execution_count": 160,
   "metadata": {
    "collapsed": false
   },
   "outputs": [
    {
     "name": "stdout",
     "output_type": "stream",
     "text": [
      "{u'path_to_file': u'../attachments/2004/5827a87d833f861344e7abe9/response_date_13-11-2016.docx', u'Folio_id': ObjectId('5827a87d833f861344e7abe9'), u'_id': ObjectId('5827cb5c833f8614629d16f7'), u'response': [{u'response_code': 200, u'time': datetime.datetime(2016, 11, 13, 2, 9, 32, 773000)}], u'Last_Modified': datetime.datetime(2016, 11, 13, 2, 9, 32, 773000)}\n",
      "{u'path_to_file': u'../attachments/2004/5827a87d833f861344e7abea/response_date_13-11-2016.docx', u'Folio_id': ObjectId('5827a87d833f861344e7abea'), u'_id': ObjectId('5827cb60833f8614629d16f8'), u'response': [{u'response_code': 200, u'time': datetime.datetime(2016, 11, 13, 2, 9, 36, 347000)}], u'Last_Modified': datetime.datetime(2016, 11, 13, 2, 9, 36, 347000)}\n",
      "{u'path_to_file': u'../attachments/2004/5827a87d833f861344e7abeb/response_date_13-11-2016.docx', u'Folio_id': ObjectId('5827a87d833f861344e7abeb'), u'_id': ObjectId('5827cb60833f8614629d16f9'), u'response': [{u'response_code': 200, u'time': datetime.datetime(2016, 11, 13, 2, 9, 36, 971000)}], u'Last_Modified': datetime.datetime(2016, 11, 13, 2, 9, 36, 971000)}\n",
      "{u'path_to_file': u'../attachments/2004/5827a87d833f861344e7abec/response_date_13-11-2016.pdf', u'Folio_id': ObjectId('5827a87d833f861344e7abec'), u'_id': ObjectId('5827cb61833f8614629d16fa'), u'response': [{u'response_code': 200, u'time': datetime.datetime(2016, 11, 13, 2, 9, 37, 458000)}], u'Last_Modified': datetime.datetime(2016, 11, 13, 2, 9, 37, 458000)}\n",
      "{u'path_to_file': u'../attachments/2004/5827a87d833f861344e7abed/response_date_13-11-2016.doc', u'Folio_id': ObjectId('5827a87d833f861344e7abed'), u'_id': ObjectId('5827cb62833f8614629d16fb'), u'response': [{u'response_code': 200, u'time': datetime.datetime(2016, 11, 13, 2, 9, 38, 96000)}], u'Last_Modified': datetime.datetime(2016, 11, 13, 2, 9, 38, 96000)}\n"
     ]
    }
   ],
   "source": [
    "for row in df.iloc[0:5].iterrows():\n",
    "    object_id = row[1]['_id']\n",
    "    r = responses.find_one({'Folio_id': object_id})\n",
    "    if r == None:\n",
    "        print \"none\"# Make the new response entry\n",
    "    else:\n",
    "        print r"
   ]
  },
  {
   "cell_type": "code",
   "execution_count": null,
   "metadata": {
    "collapsed": true
   },
   "outputs": [],
   "source": [
    "%%writefile response_inserts.py\n",
    "\n",
    "# initialize path directories\n",
    "raw_data_directory = '../raw_data/'\n",
    "path_to_attachments = '../attachments/'\n",
    "\n",
    "# paths '../attachments/years/ObjectId/files\n",
    "\n",
    "# connect to mongodb\n",
    "try:\n",
    "    conn = pymongo.MongoClient()\n",
    "    name = 'polisci_test12Nov16'\n",
    "    db = conn[name]\n",
    "    folios = db.folios\n",
    "    responses = db.responses\n",
    "except:\n",
    "    print \"Failed Connection\"\n",
    "\n",
    "# query to find the urls in ARCHIVORESPUESTA\n",
    "cursor = db['folios'].find({'ARCHIVORESPUESTA': {'$regex': 'respuesta='} })\n",
    "\n",
    "# load to pandas dataframe\n",
    "df = pd.DataFrame(list(cursor))\n",
    "\n",
    "for row in df.iloc[0:5].iterrows():\n",
    "    folio = row[1]\n",
    "    # get object_id\n",
    "    object_id = folio['_id']\n",
    "    \n",
    "    # validate the path\n",
    "    path_to_file = validate_path(folio)\n",
    "\n",
    "    # get the url from 'ARCHIVORESPUESTA'\n",
    "    url = folio['ARCHIVORESPUESTA']\n",
    "\n",
    "    # download the file from the url\n",
    "    response_code,path_to_download,time_stamp = download_file(url,path_to_file)\n",
    "    \n",
    "    # find one entry of Folio_id containing object_id\n",
    "    r = responses.find_one({'Folio_id': object_id})\n",
    "\n",
    "    # we determine if response entry already exists\n",
    "    if r == None:\n",
    "        # insert the file to mongodb\n",
    "        insert = build_initial_request(folio,path_to_download,time_stamp,response_code,responses)\n",
    "    else:\n",
    "        # build the update\n",
    "        update = build_update(folio,path_to_download,time_stamp,response_code,responses)"
   ]
  },
  {
   "cell_type": "markdown",
   "metadata": {},
   "source": [
    "## Note To Ryan: Remember after a certain number of reponse_codes/time --> this will fill up the 16MB dedicated for entry. We need to handle for this eventuallity"
   ]
  },
  {
   "cell_type": "code",
   "execution_count": 127,
   "metadata": {
    "collapsed": false
   },
   "outputs": [
    {
     "data": {
      "text/plain": [
       "0    [{u'response_code': 200, u'time': 2016-11-13 0...\n",
       "Name: response, dtype: object"
      ]
     },
     "execution_count": 127,
     "metadata": {},
     "output_type": "execute_result"
    }
   ],
   "source": [
    "fr['response']"
   ]
  },
  {
   "cell_type": "code",
   "execution_count": 129,
   "metadata": {
    "collapsed": false
   },
   "outputs": [],
   "source": [
    "x = {'response_code':200, 'time': datetime.datetime.now()}\n",
    "\n",
    "y = {'response_code':200, 'time': datetime.datetime.now()}\n",
    "\n",
    "z = {'response_code':200, 'time': datetime.datetime.now()}"
   ]
  },
  {
   "cell_type": "code",
   "execution_count": 135,
   "metadata": {
    "collapsed": false
   },
   "outputs": [
    {
     "name": "stdout",
     "output_type": "stream",
     "text": [
      "200\n"
     ]
    }
   ],
   "source": [
    "responses = [x,y,z]\n",
    "print responses[1]['response_code']"
   ]
  },
  {
   "cell_type": "code",
   "execution_count": null,
   "metadata": {
    "collapsed": true
   },
   "outputs": [],
   "source": [
    "\"\"\" Read from Mongo and Store into Pandas DataFrame \"\"\"\n",
    "def read_mongo(db, collection, query={}, nb_limit=None, host='localhost', port=27017,\n",
    "               username=None, password=None, no_id=True):\n",
    "\n",
    "    # Connect to MongoDB\n",
    "    db = _connect_mongo(host=host, port=port, username=username, password=password, db=db)\n",
    "    \n",
    "    if nb_limit == None:\n",
    "        # just query\n",
    "        cursor = db[collection].find(query)\n",
    "    else:\n",
    "        cursor = db[collection].find(query).limit(nb_limit)\n",
    "    \n",
    "    df = pd.DataFrame(list(cursor))\n",
    "    \n",
    "    if no_id :\n",
    "        del df['_id']\n",
    "    return df"
   ]
  }
 ],
 "metadata": {
  "kernelspec": {
   "display_name": "Python 2",
   "language": "python",
   "name": "python2"
  },
  "language_info": {
   "codemirror_mode": {
    "name": "ipython",
    "version": 2
   },
   "file_extension": ".py",
   "mimetype": "text/x-python",
   "name": "python",
   "nbconvert_exporter": "python",
   "pygments_lexer": "ipython2",
   "version": "2.7.6"
  }
 },
 "nbformat": 4,
 "nbformat_minor": 1
}
