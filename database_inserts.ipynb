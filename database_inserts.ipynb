{
 "cells": [
  {
   "cell_type": "code",
   "execution_count": 1,
   "metadata": {
    "collapsed": true
   },
   "outputs": [],
   "source": [
    "import time\n",
    "import pymongo\n",
    "import pandas as pd\n",
    "def mongo_database_setup():\n",
    "    database_name={}\n",
    "\n",
    "    # Try to connect to MongoDB,  exit if not successful.\n",
    "    try:\n",
    "        conn=pymongo.MongoClient()\n",
    "        print \"Connected successfully!!!\"\n",
    "        \n",
    "    except pymongo.errors.ConnectionFailure, e:\n",
    "       print \"Could not connect to MongoDB: %s\" % e \n",
    "\n",
    "\n",
    "    #Use todays date for the database name:\n",
    "    name='polisci_test'+time.strftime(\"%d%b%y\")\n",
    "\n",
    "    if name in conn.database_names():\n",
    "        conn.drop_database(name) #Drop the database if it exists\n",
    "        db = conn[name] #Create the database\n",
    "        \n",
    "        #Create two collections in the database\n",
    "        folios = db.folios\n",
    "        responses=db.responses\n",
    "   \n",
    "    else:\n",
    "        db = conn[name] #Create the database\n",
    "        #Create two collections in the database\n",
    "        folios = db.folios\n",
    "        responses = db.responses\n",
    "   \n",
    "    #return the connection, database name, collections names.     \n",
    "    return conn,db,folios,responses"
   ]
  },
  {
   "cell_type": "code",
   "execution_count": 2,
   "metadata": {
    "collapsed": false
   },
   "outputs": [
    {
     "name": "stdout",
     "output_type": "stream",
     "text": [
      "Connected successfully!!!\n"
     ]
    }
   ],
   "source": [
    "conn, db, folios, responses = mongo_database_setup()"
   ]
  },
  {
   "cell_type": "code",
   "execution_count": 4,
   "metadata": {
    "collapsed": true
   },
   "outputs": [],
   "source": [
    "def listofFrames(directory):\n",
    "    import os\n",
    "    import itertools\n",
    "    import pandas as pd\n",
    "    dfs = []\n",
    "    for filename in os.listdir(directory):\n",
    "        if filename.endswith(\".csv\"): \n",
    "            path = os.path.join(directory, filename)\n",
    "            year = filename[-8:-4]\n",
    "            tmp = pd.read_csv(path,encoding='latin-1')\n",
    "            tmp = tmp[[\"FOLIO\",\"FECHASOLICITUD\",\"TIPOSOLICITUD\",\"DEPENDENCIA\",\n",
    "                      \"ESTATUS\",\"MEDIOENTRADA\",\"DESCRIPCIONSOLICITUD\",\"OTROSDATOS\",\n",
    "                      \"ARCHIVOADJUNTOSOLICITUD\",\"RESPUESTA\",\"FECHARESPUESTA\",\"PAIS\",\"ESTADO\",\n",
    "                      \"MUNICIPIO\",\"CODIGOPOSTAL\",\"SECTOR\",\"PDFOCR\",\"ARCHIVORESPUESTA\",\n",
    "                      \"attach_full\",\"attach.inc\",\"word.count\"]]\n",
    "            columns = [\"FOLIO\",\"FECHASOLICITUD\",\"TIPOSOLICITUD\",\"DEPENDENCIA\",\n",
    "                      \"ESTATUS\",\"MEDIOENTRADA\",\"DESCRIPCIONSOLICITUD\",\"OTROSDATOS\",\n",
    "                      \"ARCHIVOADJUNTOSOLICITUD\",\"RESPUESTA\",\"FECHARESPUESTA\",\"PAIS\",\"ESTADO\",\n",
    "                      \"MUNICIPIO\",\"CODIGOPOSTAL\",\"SECTOR\",\"PDFOCR\",\"ARCHIVORESPUESTA\",\n",
    "                      \"attach_full\",\"attach_inc\",\"word_count\"]\n",
    "            tmp.columns = columns\n",
    "            list_years = list(itertools.repeat(year,len(tmp)))\n",
    "            tmp['year'] = list_years\n",
    "            dfs.append(tmp)\n",
    "            print \"inserted\",path\n",
    "            continue\n",
    "        else:\n",
    "            continue\n",
    "    return dfs"
   ]
  },
  {
   "cell_type": "markdown",
   "metadata": {},
   "source": [
    "# Lets load the data into a dataframe and make an insert"
   ]
  },
  {
   "cell_type": "code",
   "execution_count": 5,
   "metadata": {
    "collapsed": true
   },
   "outputs": [],
   "source": [
    "import pandas as pd\n",
    "df = pd.read_csv('../full_request_data/attachdata2003.csv',encoding='latin-1')"
   ]
  },
  {
   "cell_type": "markdown",
   "metadata": {},
   "source": [
    "## we have to make sure the columns are don't have any illegal characters like '.' --> replace with '_'"
   ]
  },
  {
   "cell_type": "code",
   "execution_count": 7,
   "metadata": {
    "collapsed": false
   },
   "outputs": [
    {
     "data": {
      "text/plain": [
       "array([u'FOLIO', u'FECHASOLICITUD', u'DEPENDENCIA', u'ESTATUS',\n",
       "       u'MEDIOENTRADA', u'TIPOSOLICITUD', u'DESCRIPCIONSOLICITUD',\n",
       "       u'OTROSDATOS', u'ARCHIVOADJUNTOSOLICITUD', u'MEDIOENTREGA',\n",
       "       u'FECHALIMITE', u'RESPUESTA', u'TEXTORESPUESTA',\n",
       "       u'ARCHIVORESPUESTA', u'FECHARESPUESTA', u'PAIS', u'ESTADO',\n",
       "       u'MUNICIPIO', u'CODIGOPOSTAL', u'SECTOR', u'X', 'X1', 'X2', 'X3',\n",
       "       u'PDFOCR', u'attach_full', 'attach_inc', 'word_count'], dtype=object)"
      ]
     },
     "execution_count": 7,
     "metadata": {},
     "output_type": "execute_result"
    }
   ],
   "source": [
    "df.columns = columns\n",
    "df.columns.values"
   ]
  },
  {
   "cell_type": "code",
   "execution_count": 8,
   "metadata": {
    "collapsed": true
   },
   "outputs": [],
   "source": [
    "# we turn the df into a dictionary --> mongodb <3 python dictionaries\n",
    "folio_dict = df.to_dict('records')"
   ]
  },
  {
   "cell_type": "code",
   "execution_count": 9,
   "metadata": {
    "collapsed": false
   },
   "outputs": [
    {
     "data": {
      "text/plain": [
       "<pymongo.results.InsertManyResult at 0x116528af0>"
      ]
     },
     "execution_count": 9,
     "metadata": {},
     "output_type": "execute_result"
    }
   ],
   "source": [
    "R = folios.insert_many(folio_dict)"
   ]
  },
  {
   "cell_type": "markdown",
   "metadata": {},
   "source": [
    "# now we do the same for all data"
   ]
  },
  {
   "cell_type": "code",
   "execution_count": 5,
   "metadata": {
    "collapsed": false
   },
   "outputs": [
    {
     "name": "stdout",
     "output_type": "stream",
     "text": [
      "inserted ../full_request_data/attachdata2003.csv\n",
      "inserted ../full_request_data/attachdata2004.csv\n",
      "inserted ../full_request_data/attachdata2005.csv\n",
      "inserted ../full_request_data/attachdata2006.csv\n"
     ]
    },
    {
     "name": "stderr",
     "output_type": "stream",
     "text": [
      "/Users/RyanSampana/anaconda2/lib/python2.7/site-packages/IPython/core/interactiveshell.py:2825: DtypeWarning: Columns (22) have mixed types. Specify dtype option on import or set low_memory=False.\n",
      "  if self.run_code(code, result):\n"
     ]
    },
    {
     "name": "stdout",
     "output_type": "stream",
     "text": [
      "inserted ../full_request_data/attachdata2007.csv\n"
     ]
    },
    {
     "name": "stderr",
     "output_type": "stream",
     "text": [
      "/Users/RyanSampana/anaconda2/lib/python2.7/site-packages/IPython/core/interactiveshell.py:2825: DtypeWarning: Columns (22,23) have mixed types. Specify dtype option on import or set low_memory=False.\n",
      "  if self.run_code(code, result):\n"
     ]
    },
    {
     "name": "stdout",
     "output_type": "stream",
     "text": [
      "inserted ../full_request_data/attachdata2008.csv\n"
     ]
    },
    {
     "name": "stderr",
     "output_type": "stream",
     "text": [
      "/Users/RyanSampana/anaconda2/lib/python2.7/site-packages/IPython/core/interactiveshell.py:2825: DtypeWarning: Columns (21,22,23,24,25) have mixed types. Specify dtype option on import or set low_memory=False.\n",
      "  if self.run_code(code, result):\n"
     ]
    },
    {
     "name": "stdout",
     "output_type": "stream",
     "text": [
      "inserted ../full_request_data/attachdata2009.csv\n",
      "inserted ../full_request_data/attachdata2010.csv\n"
     ]
    },
    {
     "name": "stderr",
     "output_type": "stream",
     "text": [
      "/Users/RyanSampana/anaconda2/lib/python2.7/site-packages/IPython/core/interactiveshell.py:2825: DtypeWarning: Columns (21,22,23) have mixed types. Specify dtype option on import or set low_memory=False.\n",
      "  if self.run_code(code, result):\n"
     ]
    },
    {
     "name": "stdout",
     "output_type": "stream",
     "text": [
      "inserted ../full_request_data/attachdata2011.csv\n"
     ]
    },
    {
     "name": "stderr",
     "output_type": "stream",
     "text": [
      "/Users/RyanSampana/anaconda2/lib/python2.7/site-packages/IPython/core/interactiveshell.py:2825: DtypeWarning: Columns (18,20,21,22) have mixed types. Specify dtype option on import or set low_memory=False.\n",
      "  if self.run_code(code, result):\n"
     ]
    },
    {
     "name": "stdout",
     "output_type": "stream",
     "text": [
      "inserted ../full_request_data/attachdata2012.csv\n",
      "inserted ../full_request_data/attachdata2013.csv\n"
     ]
    },
    {
     "name": "stderr",
     "output_type": "stream",
     "text": [
      "/Users/RyanSampana/anaconda2/lib/python2.7/site-packages/IPython/core/interactiveshell.py:2825: DtypeWarning: Columns (18,20,21) have mixed types. Specify dtype option on import or set low_memory=False.\n",
      "  if self.run_code(code, result):\n"
     ]
    },
    {
     "name": "stdout",
     "output_type": "stream",
     "text": [
      "inserted ../full_request_data/attachdata2014.csv\n",
      "inserted ../full_request_data/attachdata2015.csv\n"
     ]
    },
    {
     "name": "stderr",
     "output_type": "stream",
     "text": [
      "/Users/RyanSampana/anaconda2/lib/python2.7/site-packages/IPython/core/interactiveshell.py:2825: DtypeWarning: Columns (18,21) have mixed types. Specify dtype option on import or set low_memory=False.\n",
      "  if self.run_code(code, result):\n"
     ]
    }
   ],
   "source": [
    "directory = '../full_request_data/'\n",
    "dfs = listofFrames(directory)"
   ]
  },
  {
   "cell_type": "code",
   "execution_count": 6,
   "metadata": {
    "collapsed": false
   },
   "outputs": [],
   "source": [
    "result = pd.concat(dfs)\n",
    "del dfs"
   ]
  },
  {
   "cell_type": "code",
   "execution_count": 7,
   "metadata": {
    "collapsed": false
   },
   "outputs": [
    {
     "data": {
      "text/html": [
       "<div>\n",
       "<table border=\"1\" class=\"dataframe\">\n",
       "  <thead>\n",
       "    <tr style=\"text-align: right;\">\n",
       "      <th></th>\n",
       "      <th>FOLIO</th>\n",
       "      <th>FECHASOLICITUD</th>\n",
       "      <th>TIPOSOLICITUD</th>\n",
       "      <th>DEPENDENCIA</th>\n",
       "      <th>ESTATUS</th>\n",
       "      <th>MEDIOENTRADA</th>\n",
       "      <th>DESCRIPCIONSOLICITUD</th>\n",
       "      <th>OTROSDATOS</th>\n",
       "      <th>ARCHIVOADJUNTOSOLICITUD</th>\n",
       "      <th>RESPUESTA</th>\n",
       "      <th>...</th>\n",
       "      <th>ESTADO</th>\n",
       "      <th>MUNICIPIO</th>\n",
       "      <th>CODIGOPOSTAL</th>\n",
       "      <th>SECTOR</th>\n",
       "      <th>PDFOCR</th>\n",
       "      <th>ARCHIVORESPUESTA</th>\n",
       "      <th>attach_full</th>\n",
       "      <th>attach_inc</th>\n",
       "      <th>word_count</th>\n",
       "      <th>year</th>\n",
       "    </tr>\n",
       "  </thead>\n",
       "  <tbody>\n",
       "    <tr>\n",
       "      <th>0</th>\n",
       "      <td>'0000400000103</td>\n",
       "      <td>12/06/2003 08:37</td>\n",
       "      <td>Información Pública</td>\n",
       "      <td>SECRETARÍA DE GOBERNACIÓN</td>\n",
       "      <td>Desechada por falta de respuesta del ciudadano</td>\n",
       "      <td>Electrónica</td>\n",
       "      <td>Copia del permiso de la Direccion de Juegos y ...</td>\n",
       "      <td>Probablemente la informacion este en poder de ...</td>\n",
       "      <td>NaN</td>\n",
       "      <td>Notificación de disponibilidad de información</td>\n",
       "      <td>...</td>\n",
       "      <td>México</td>\n",
       "      <td>TLALNEPANTLA DE BAZ</td>\n",
       "      <td>54060</td>\n",
       "      <td>Gobernación</td>\n",
       "      <td>0</td>\n",
       "      <td>NaN</td>\n",
       "      <td></td>\n",
       "      <td>0</td>\n",
       "      <td>52.0</td>\n",
       "      <td>2003</td>\n",
       "    </tr>\n",
       "    <tr>\n",
       "      <th>1</th>\n",
       "      <td>'0000400000203</td>\n",
       "      <td>12/06/2003 09:21</td>\n",
       "      <td>Información Pública</td>\n",
       "      <td>SECRETARÍA DE GOBERNACIÓN</td>\n",
       "      <td>Desechada por falta de respuesta del ciudadano</td>\n",
       "      <td>Electrónica</td>\n",
       "      <td>C. VICENTE FOX QUESADA:                       ...</td>\n",
       "      <td>NaN</td>\n",
       "      <td>NaN</td>\n",
       "      <td>Requerimiento de información adicional</td>\n",
       "      <td>...</td>\n",
       "      <td>San Luis Potosí</td>\n",
       "      <td>SAN LUIS POTOSI</td>\n",
       "      <td>78480</td>\n",
       "      <td>Gobernación</td>\n",
       "      <td>0</td>\n",
       "      <td>NaN</td>\n",
       "      <td></td>\n",
       "      <td>0</td>\n",
       "      <td>4.0</td>\n",
       "      <td>2003</td>\n",
       "    </tr>\n",
       "    <tr>\n",
       "      <th>2</th>\n",
       "      <td>'0000400000303</td>\n",
       "      <td>12/06/2003 10:11</td>\n",
       "      <td>Información Pública</td>\n",
       "      <td>SECRETARÍA DE GOBERNACIÓN</td>\n",
       "      <td>Terminada</td>\n",
       "      <td>Electrónica</td>\n",
       "      <td>solicitud de pasaporte mexicano  asi como todo...</td>\n",
       "      <td>NaN</td>\n",
       "      <td>NaN</td>\n",
       "      <td>No es de competencia de la unidad de enlace</td>\n",
       "      <td>...</td>\n",
       "      <td>Sinaloa</td>\n",
       "      <td>SALVADOR ALVARADO</td>\n",
       "      <td>81479</td>\n",
       "      <td>Gobernación</td>\n",
       "      <td>0</td>\n",
       "      <td>NaN</td>\n",
       "      <td></td>\n",
       "      <td>0</td>\n",
       "      <td>21.0</td>\n",
       "      <td>2003</td>\n",
       "    </tr>\n",
       "    <tr>\n",
       "      <th>3</th>\n",
       "      <td>'0000400000403</td>\n",
       "      <td>12/06/2003 10:34</td>\n",
       "      <td>Información Pública</td>\n",
       "      <td>SECRETARÍA DE GOBERNACIÓN</td>\n",
       "      <td>Terminada</td>\n",
       "      <td>Electrónica</td>\n",
       "      <td>Monto y distribucion del gasto de las dependen...</td>\n",
       "      <td>NaN</td>\n",
       "      <td>NaN</td>\n",
       "      <td>No es de competencia de la unidad de enlace</td>\n",
       "      <td>...</td>\n",
       "      <td>Distrito Federal</td>\n",
       "      <td>ALVARO OBREGON</td>\n",
       "      <td>700</td>\n",
       "      <td>Gobernación</td>\n",
       "      <td>0</td>\n",
       "      <td>NaN</td>\n",
       "      <td></td>\n",
       "      <td>0</td>\n",
       "      <td>29.0</td>\n",
       "      <td>2003</td>\n",
       "    </tr>\n",
       "    <tr>\n",
       "      <th>4</th>\n",
       "      <td>'0000400000503</td>\n",
       "      <td>12/06/2003 10:35</td>\n",
       "      <td>Información Pública</td>\n",
       "      <td>SECRETARÍA DE GOBERNACIÓN</td>\n",
       "      <td>Terminada</td>\n",
       "      <td>Electrónica</td>\n",
       "      <td>Monto y distribucion del gasto de las dependen...</td>\n",
       "      <td>NaN</td>\n",
       "      <td>NaN</td>\n",
       "      <td>No se dará trámite a la solicitud</td>\n",
       "      <td>...</td>\n",
       "      <td>Distrito Federal</td>\n",
       "      <td>ALVARO OBREGON</td>\n",
       "      <td>700</td>\n",
       "      <td>Gobernación</td>\n",
       "      <td>0</td>\n",
       "      <td>NaN</td>\n",
       "      <td></td>\n",
       "      <td>0</td>\n",
       "      <td>29.0</td>\n",
       "      <td>2003</td>\n",
       "    </tr>\n",
       "  </tbody>\n",
       "</table>\n",
       "<p>5 rows × 22 columns</p>\n",
       "</div>"
      ],
      "text/plain": [
       "            FOLIO    FECHASOLICITUD        TIPOSOLICITUD  \\\n",
       "0  '0000400000103  12/06/2003 08:37  Información Pública   \n",
       "1  '0000400000203  12/06/2003 09:21  Información Pública   \n",
       "2  '0000400000303  12/06/2003 10:11  Información Pública   \n",
       "3  '0000400000403  12/06/2003 10:34  Información Pública   \n",
       "4  '0000400000503  12/06/2003 10:35  Información Pública   \n",
       "\n",
       "                 DEPENDENCIA                                         ESTATUS  \\\n",
       "0  SECRETARÍA DE GOBERNACIÓN  Desechada por falta de respuesta del ciudadano   \n",
       "1  SECRETARÍA DE GOBERNACIÓN  Desechada por falta de respuesta del ciudadano   \n",
       "2  SECRETARÍA DE GOBERNACIÓN                                       Terminada   \n",
       "3  SECRETARÍA DE GOBERNACIÓN                                       Terminada   \n",
       "4  SECRETARÍA DE GOBERNACIÓN                                       Terminada   \n",
       "\n",
       "  MEDIOENTRADA                               DESCRIPCIONSOLICITUD  \\\n",
       "0  Electrónica  Copia del permiso de la Direccion de Juegos y ...   \n",
       "1  Electrónica  C. VICENTE FOX QUESADA:                       ...   \n",
       "2  Electrónica  solicitud de pasaporte mexicano  asi como todo...   \n",
       "3  Electrónica  Monto y distribucion del gasto de las dependen...   \n",
       "4  Electrónica  Monto y distribucion del gasto de las dependen...   \n",
       "\n",
       "                                          OTROSDATOS ARCHIVOADJUNTOSOLICITUD  \\\n",
       "0  Probablemente la informacion este en poder de ...                     NaN   \n",
       "1                                                NaN                     NaN   \n",
       "2                                                NaN                     NaN   \n",
       "3                                                NaN                     NaN   \n",
       "4                                                NaN                     NaN   \n",
       "\n",
       "                                       RESPUESTA  ...             ESTADO  \\\n",
       "0  Notificación de disponibilidad de información  ...             México   \n",
       "1         Requerimiento de información adicional  ...    San Luis Potosí   \n",
       "2    No es de competencia de la unidad de enlace  ...            Sinaloa   \n",
       "3    No es de competencia de la unidad de enlace  ...   Distrito Federal   \n",
       "4              No se dará trámite a la solicitud  ...   Distrito Federal   \n",
       "\n",
       "             MUNICIPIO CODIGOPOSTAL       SECTOR PDFOCR ARCHIVORESPUESTA  \\\n",
       "0  TLALNEPANTLA DE BAZ        54060  Gobernación      0              NaN   \n",
       "1      SAN LUIS POTOSI        78480  Gobernación      0              NaN   \n",
       "2    SALVADOR ALVARADO        81479  Gobernación      0              NaN   \n",
       "3       ALVARO OBREGON          700  Gobernación      0              NaN   \n",
       "4       ALVARO OBREGON          700  Gobernación      0              NaN   \n",
       "\n",
       "   attach_full attach_inc word_count  year  \n",
       "0                       0       52.0  2003  \n",
       "1                       0        4.0  2003  \n",
       "2                       0       21.0  2003  \n",
       "3                       0       29.0  2003  \n",
       "4                       0       29.0  2003  \n",
       "\n",
       "[5 rows x 22 columns]"
      ]
     },
     "execution_count": 7,
     "metadata": {},
     "output_type": "execute_result"
    }
   ],
   "source": [
    "result.head()"
   ]
  },
  {
   "cell_type": "code",
   "execution_count": 8,
   "metadata": {
    "collapsed": false
   },
   "outputs": [
    {
     "data": {
      "text/plain": [
       "FOLIO                       object\n",
       "FECHASOLICITUD              object\n",
       "TIPOSOLICITUD               object\n",
       "DEPENDENCIA                 object\n",
       "ESTATUS                     object\n",
       "MEDIOENTRADA                object\n",
       "DESCRIPCIONSOLICITUD        object\n",
       "OTROSDATOS                  object\n",
       "ARCHIVOADJUNTOSOLICITUD     object\n",
       "RESPUESTA                   object\n",
       "FECHARESPUESTA              object\n",
       "PAIS                        object\n",
       "ESTADO                      object\n",
       "MUNICIPIO                   object\n",
       "CODIGOPOSTAL                object\n",
       "SECTOR                      object\n",
       "PDFOCR                       int64\n",
       "ARCHIVORESPUESTA            object\n",
       "attach_full                 object\n",
       "attach_inc                   int64\n",
       "word_count                 float64\n",
       "year                        object\n",
       "dtype: object"
      ]
     },
     "execution_count": 8,
     "metadata": {},
     "output_type": "execute_result"
    }
   ],
   "source": [
    "result.dtypes"
   ]
  },
  {
   "cell_type": "code",
   "execution_count": 9,
   "metadata": {
    "collapsed": true
   },
   "outputs": [],
   "source": [
    "result['year'] = result['year'].apply(pd.to_numeric)"
   ]
  },
  {
   "cell_type": "code",
   "execution_count": 10,
   "metadata": {
    "collapsed": true
   },
   "outputs": [],
   "source": [
    "r = result.to_dict('records')"
   ]
  },
  {
   "cell_type": "code",
   "execution_count": 11,
   "metadata": {
    "collapsed": false
   },
   "outputs": [
    {
     "name": "stdout",
     "output_type": "stream",
     "text": [
      "failed at index 690013\n",
      "failed at index 910971\n",
      "failed at index 1090541\n"
     ]
    }
   ],
   "source": [
    "for i in range(len(result)):\n",
    "    try:\n",
    "        folios.insert_one(r[i])\n",
    "    except:\n",
    "        print \"failed at index\",i"
   ]
  },
  {
   "cell_type": "code",
   "execution_count": 12,
   "metadata": {
    "collapsed": false
   },
   "outputs": [],
   "source": [
    "f = open('a690013.txt', 'w')\n",
    "textshit = r[690013]['attach_full']\n",
    "f.write(textshit.encode('latin-1'))\n",
    "f.close()"
   ]
  },
  {
   "cell_type": "code",
   "execution_count": 13,
   "metadata": {
    "collapsed": true
   },
   "outputs": [],
   "source": [
    "f = open('a910971.txt', 'w')\n",
    "textshit = r[910971]['attach_full']\n",
    "f.write(textshit.encode('latin-1'))\n",
    "f.close()"
   ]
  },
  {
   "cell_type": "code",
   "execution_count": 14,
   "metadata": {
    "collapsed": true
   },
   "outputs": [],
   "source": [
    "f = open('a1090541.txt', 'w')\n",
    "textshit = r[1090541]['attach_full']\n",
    "f.write(textshit.encode('latin-1'))\n",
    "f.close()"
   ]
  },
  {
   "cell_type": "code",
   "execution_count": 50,
   "metadata": {
    "collapsed": false
   },
   "outputs": [
    {
     "data": {
      "text/plain": [
       "2433244.0"
      ]
     },
     "execution_count": 50,
     "metadata": {},
     "output_type": "execute_result"
    }
   ],
   "source": [
    "max(result['word_count'])"
   ]
  }
 ],
 "metadata": {
  "anaconda-cloud": {},
  "kernelspec": {
   "display_name": "Python [Root]",
   "language": "python",
   "name": "Python [Root]"
  },
  "language_info": {
   "codemirror_mode": {
    "name": "ipython",
    "version": 2
   },
   "file_extension": ".py",
   "mimetype": "text/x-python",
   "name": "python",
   "nbconvert_exporter": "python",
   "pygments_lexer": "ipython2",
   "version": "2.7.12"
  }
 },
 "nbformat": 4,
 "nbformat_minor": 0
}
