{
 "cells": [
  {
   "cell_type": "code",
   "execution_count": 2,
   "metadata": {
    "collapsed": true
   },
   "outputs": [],
   "source": [
    "import magic\n",
    "import os"
   ]
  },
  {
   "cell_type": "code",
   "execution_count": 4,
   "metadata": {
    "collapsed": false
   },
   "outputs": [
    {
     "name": "stdout",
     "output_type": "stream",
     "text": [
      "Zip archive data, at least v2.0 to extract\n",
      "Zip archive data, at least v2.0 to extract\n",
      "Zip archive data, at least v2.0 to extract\n",
      "Zip archive data, at least v2.0 to extract\n",
      "Zip archive data, at least v2.0 to extract\n",
      "Zip archive data, at least v2.0 to extract\n",
      "Zip archive data, at least v2.0 to extract\n",
      "Zip archive data, at least v2.0 to extract\n",
      "Zip archive data, at least v2.0 to extract\n",
      "Zip archive data, at least v2.0 to extract\n"
     ]
    }
   ],
   "source": [
    "res_dir = './attachments/respuesta/'\n",
    "for filename in os.listdir(res_dir):\n",
    "    print magic.from_file(res_dir+str(filename))"
   ]
  },
  {
   "cell_type": "code",
   "execution_count": 6,
   "metadata": {
    "collapsed": false
   },
   "outputs": [
    {
     "name": "stdout",
     "output_type": "stream",
     "text": [
      "\n",
      "HTML document, ASCII text, with very long lines, with CRLF line terminators\n",
      "\n",
      "Composite Document File V2 Document, Little Endian, Os: Windows, Version 4.10, Code page: 1252, Title: Mxico DF a 12 de junio de 2003 , Author: idalia, Template: Normal, Last Saved By: idalia, Revision Number: 1, Name of Creating Application: Microsoft Word 8.0, Total Editing Time: 04:00, Create Time/Date: Thu Jun 12 20:40:00 2003, Last Saved Time/Date: Thu Jun 12 20:47:00 2003, Number of Pages: 1, Number of Words: 158, Number of Characters: 906, Security: 0\n",
      "\n",
      "Composite Document File V2 Document, Little Endian, Os: Windows, Version 5.1, Code page: 1252, Author: Unidad_4, Template: Normal, Last Saved By: Unidad_4, Revision Number: 7, Name of Creating Application: Microsoft Word 10.0, Total Editing Time: 18:00, Create Time/Date: Thu Jun 12 21:03:00 2003, Last Saved Time/Date: Thu Jun 12 21:21:00 2003, Number of Pages: 1, Number of Words: 178, Number of Characters: 982, Security: 0\n"
     ]
    }
   ],
   "source": [
    "aj_dir = './attachments/ajunto/'\n",
    "for filename in os.listdir(aj_dir):\n",
    "    print \n",
    "    print magic.from_file(aj_dir+str(filename))"
   ]
  }
 ],
 "metadata": {
  "kernelspec": {
   "display_name": "Python [Root]",
   "language": "python",
   "name": "Python [Root]"
  },
  "language_info": {
   "codemirror_mode": {
    "name": "ipython",
    "version": 2
   },
   "file_extension": ".py",
   "mimetype": "text/x-python",
   "name": "python",
   "nbconvert_exporter": "python",
   "pygments_lexer": "ipython2",
   "version": "2.7.12"
  }
 },
 "nbformat": 4,
 "nbformat_minor": 0
}
