{
 "cells": [
  {
   "cell_type": "code",
   "execution_count": 1,
   "metadata": {
    "collapsed": true
   },
   "outputs": [],
   "source": [
    "import folio_inserts"
   ]
  },
  {
   "cell_type": "code",
   "execution_count": 2,
   "metadata": {
    "collapsed": false
   },
   "outputs": [
    {
     "name": "stdout",
     "output_type": "stream",
     "text": [
      "Connected successfully!!!\n"
     ]
    }
   ],
   "source": [
    "conn,db,folios,responses = folio_inserts.mongo_database_setup()"
   ]
  },
  {
   "cell_type": "code",
   "execution_count": 3,
   "metadata": {
    "collapsed": true
   },
   "outputs": [],
   "source": [
    "path_to_csv = \"../raw_data/attachdata2003.csv\""
   ]
  },
  {
   "cell_type": "code",
   "execution_count": 4,
   "metadata": {
    "collapsed": false
   },
   "outputs": [],
   "source": [
    "df = folio_inserts.import_folio_csv(path_to_csv)"
   ]
  },
  {
   "cell_type": "code",
   "execution_count": 5,
   "metadata": {
    "collapsed": false
   },
   "outputs": [
    {
     "data": {
      "text/html": [
       "<div>\n",
       "<table border=\"1\" class=\"dataframe\">\n",
       "  <thead>\n",
       "    <tr style=\"text-align: right;\">\n",
       "      <th></th>\n",
       "      <th>FOLIO</th>\n",
       "      <th>FECHASOLICITUD</th>\n",
       "      <th>TIPOSOLICITUD</th>\n",
       "      <th>DEPENDENCIA</th>\n",
       "      <th>ESTATUS</th>\n",
       "      <th>MEDIOENTRADA</th>\n",
       "      <th>DESCRIPCIONSOLICITUD</th>\n",
       "      <th>OTROSDATOS</th>\n",
       "      <th>ARCHIVOADJUNTOSOLICITUD</th>\n",
       "      <th>RESPUESTA</th>\n",
       "      <th>...</th>\n",
       "      <th>MUNICIPIO</th>\n",
       "      <th>CODIGOPOSTAL</th>\n",
       "      <th>SECTOR</th>\n",
       "      <th>PDFOCR</th>\n",
       "      <th>ARCHIVORESPUESTA</th>\n",
       "      <th>attach_full</th>\n",
       "      <th>attach_inc</th>\n",
       "      <th>word_count</th>\n",
       "      <th>year</th>\n",
       "      <th>FECHARESUPESTA</th>\n",
       "    </tr>\n",
       "  </thead>\n",
       "  <tbody>\n",
       "    <tr>\n",
       "      <th>0</th>\n",
       "      <td>'0000400000103</td>\n",
       "      <td>2003-06-12 08:37:00</td>\n",
       "      <td>Información Pública</td>\n",
       "      <td>SECRETARÍA DE GOBERNACIÓN</td>\n",
       "      <td>Desechada por falta de respuesta del ciudadano</td>\n",
       "      <td>Electrónica</td>\n",
       "      <td>Copia del permiso de la Direccion de Juegos y ...</td>\n",
       "      <td>Probablemente la informacion este en poder de ...</td>\n",
       "      <td>NaN</td>\n",
       "      <td>Notificación de disponibilidad de información</td>\n",
       "      <td>...</td>\n",
       "      <td>TLALNEPANTLA DE BAZ</td>\n",
       "      <td>54060</td>\n",
       "      <td>Gobernación</td>\n",
       "      <td>0</td>\n",
       "      <td>NaN</td>\n",
       "      <td></td>\n",
       "      <td>0</td>\n",
       "      <td>52</td>\n",
       "      <td>2003</td>\n",
       "      <td>2003-06-12 08:37:00</td>\n",
       "    </tr>\n",
       "    <tr>\n",
       "      <th>1</th>\n",
       "      <td>'0000400000203</td>\n",
       "      <td>2003-06-12 09:21:00</td>\n",
       "      <td>Información Pública</td>\n",
       "      <td>SECRETARÍA DE GOBERNACIÓN</td>\n",
       "      <td>Desechada por falta de respuesta del ciudadano</td>\n",
       "      <td>Electrónica</td>\n",
       "      <td>C. VICENTE FOX QUESADA:                       ...</td>\n",
       "      <td>NaN</td>\n",
       "      <td>NaN</td>\n",
       "      <td>Requerimiento de información adicional</td>\n",
       "      <td>...</td>\n",
       "      <td>SAN LUIS POTOSI</td>\n",
       "      <td>78480</td>\n",
       "      <td>Gobernación</td>\n",
       "      <td>0</td>\n",
       "      <td>NaN</td>\n",
       "      <td></td>\n",
       "      <td>0</td>\n",
       "      <td>4</td>\n",
       "      <td>2003</td>\n",
       "      <td>2003-06-12 09:21:00</td>\n",
       "    </tr>\n",
       "    <tr>\n",
       "      <th>2</th>\n",
       "      <td>'0000400000303</td>\n",
       "      <td>2003-06-12 10:11:00</td>\n",
       "      <td>Información Pública</td>\n",
       "      <td>SECRETARÍA DE GOBERNACIÓN</td>\n",
       "      <td>Terminada</td>\n",
       "      <td>Electrónica</td>\n",
       "      <td>solicitud de pasaporte mexicano  asi como todo...</td>\n",
       "      <td>NaN</td>\n",
       "      <td>NaN</td>\n",
       "      <td>No es de competencia de la unidad de enlace</td>\n",
       "      <td>...</td>\n",
       "      <td>SALVADOR ALVARADO</td>\n",
       "      <td>81479</td>\n",
       "      <td>Gobernación</td>\n",
       "      <td>0</td>\n",
       "      <td>NaN</td>\n",
       "      <td></td>\n",
       "      <td>0</td>\n",
       "      <td>21</td>\n",
       "      <td>2003</td>\n",
       "      <td>2003-06-12 10:11:00</td>\n",
       "    </tr>\n",
       "    <tr>\n",
       "      <th>3</th>\n",
       "      <td>'0000400000403</td>\n",
       "      <td>2003-06-12 10:34:00</td>\n",
       "      <td>Información Pública</td>\n",
       "      <td>SECRETARÍA DE GOBERNACIÓN</td>\n",
       "      <td>Terminada</td>\n",
       "      <td>Electrónica</td>\n",
       "      <td>Monto y distribucion del gasto de las dependen...</td>\n",
       "      <td>NaN</td>\n",
       "      <td>NaN</td>\n",
       "      <td>No es de competencia de la unidad de enlace</td>\n",
       "      <td>...</td>\n",
       "      <td>ALVARO OBREGON</td>\n",
       "      <td>700</td>\n",
       "      <td>Gobernación</td>\n",
       "      <td>0</td>\n",
       "      <td>NaN</td>\n",
       "      <td></td>\n",
       "      <td>0</td>\n",
       "      <td>29</td>\n",
       "      <td>2003</td>\n",
       "      <td>2003-06-12 10:34:00</td>\n",
       "    </tr>\n",
       "    <tr>\n",
       "      <th>4</th>\n",
       "      <td>'0000400000503</td>\n",
       "      <td>2003-06-12 10:35:00</td>\n",
       "      <td>Información Pública</td>\n",
       "      <td>SECRETARÍA DE GOBERNACIÓN</td>\n",
       "      <td>Terminada</td>\n",
       "      <td>Electrónica</td>\n",
       "      <td>Monto y distribucion del gasto de las dependen...</td>\n",
       "      <td>NaN</td>\n",
       "      <td>NaN</td>\n",
       "      <td>No se dará trámite a la solicitud</td>\n",
       "      <td>...</td>\n",
       "      <td>ALVARO OBREGON</td>\n",
       "      <td>700</td>\n",
       "      <td>Gobernación</td>\n",
       "      <td>0</td>\n",
       "      <td>NaN</td>\n",
       "      <td></td>\n",
       "      <td>0</td>\n",
       "      <td>29</td>\n",
       "      <td>2003</td>\n",
       "      <td>2003-06-12 10:35:00</td>\n",
       "    </tr>\n",
       "  </tbody>\n",
       "</table>\n",
       "<p>5 rows × 23 columns</p>\n",
       "</div>"
      ],
      "text/plain": [
       "            FOLIO      FECHASOLICITUD        TIPOSOLICITUD  \\\n",
       "0  '0000400000103 2003-06-12 08:37:00  Información Pública   \n",
       "1  '0000400000203 2003-06-12 09:21:00  Información Pública   \n",
       "2  '0000400000303 2003-06-12 10:11:00  Información Pública   \n",
       "3  '0000400000403 2003-06-12 10:34:00  Información Pública   \n",
       "4  '0000400000503 2003-06-12 10:35:00  Información Pública   \n",
       "\n",
       "                 DEPENDENCIA                                         ESTATUS  \\\n",
       "0  SECRETARÍA DE GOBERNACIÓN  Desechada por falta de respuesta del ciudadano   \n",
       "1  SECRETARÍA DE GOBERNACIÓN  Desechada por falta de respuesta del ciudadano   \n",
       "2  SECRETARÍA DE GOBERNACIÓN                                       Terminada   \n",
       "3  SECRETARÍA DE GOBERNACIÓN                                       Terminada   \n",
       "4  SECRETARÍA DE GOBERNACIÓN                                       Terminada   \n",
       "\n",
       "  MEDIOENTRADA                               DESCRIPCIONSOLICITUD  \\\n",
       "0  Electrónica  Copia del permiso de la Direccion de Juegos y ...   \n",
       "1  Electrónica  C. VICENTE FOX QUESADA:                       ...   \n",
       "2  Electrónica  solicitud de pasaporte mexicano  asi como todo...   \n",
       "3  Electrónica  Monto y distribucion del gasto de las dependen...   \n",
       "4  Electrónica  Monto y distribucion del gasto de las dependen...   \n",
       "\n",
       "                                          OTROSDATOS ARCHIVOADJUNTOSOLICITUD  \\\n",
       "0  Probablemente la informacion este en poder de ...                     NaN   \n",
       "1                                                NaN                     NaN   \n",
       "2                                                NaN                     NaN   \n",
       "3                                                NaN                     NaN   \n",
       "4                                                NaN                     NaN   \n",
       "\n",
       "                                       RESPUESTA         ...          \\\n",
       "0  Notificación de disponibilidad de información         ...           \n",
       "1         Requerimiento de información adicional         ...           \n",
       "2    No es de competencia de la unidad de enlace         ...           \n",
       "3    No es de competencia de la unidad de enlace         ...           \n",
       "4              No se dará trámite a la solicitud         ...           \n",
       "\n",
       "             MUNICIPIO CODIGOPOSTAL       SECTOR PDFOCR ARCHIVORESPUESTA  \\\n",
       "0  TLALNEPANTLA DE BAZ        54060  Gobernación      0              NaN   \n",
       "1      SAN LUIS POTOSI        78480  Gobernación      0              NaN   \n",
       "2    SALVADOR ALVARADO        81479  Gobernación      0              NaN   \n",
       "3       ALVARO OBREGON          700  Gobernación      0              NaN   \n",
       "4       ALVARO OBREGON          700  Gobernación      0              NaN   \n",
       "\n",
       "  attach_full  attach_inc word_count  year      FECHARESUPESTA  \n",
       "0                       0         52  2003 2003-06-12 08:37:00  \n",
       "1                       0          4  2003 2003-06-12 09:21:00  \n",
       "2                       0         21  2003 2003-06-12 10:11:00  \n",
       "3                       0         29  2003 2003-06-12 10:34:00  \n",
       "4                       0         29  2003 2003-06-12 10:35:00  \n",
       "\n",
       "[5 rows x 23 columns]"
      ]
     },
     "execution_count": 5,
     "metadata": {},
     "output_type": "execute_result"
    }
   ],
   "source": [
    "df.head()"
   ]
  },
  {
   "cell_type": "code",
   "execution_count": 6,
   "metadata": {
    "collapsed": true
   },
   "outputs": [],
   "source": [
    "path_to_attachments = \"../attachments/\""
   ]
  },
  {
   "cell_type": "code",
   "execution_count": 7,
   "metadata": {
    "collapsed": false
   },
   "outputs": [],
   "source": [
    "df_w_paths = folio_inserts.attach_to_text(df,path_to_attachments)"
   ]
  },
  {
   "cell_type": "code",
   "execution_count": 8,
   "metadata": {
    "collapsed": false
   },
   "outputs": [
    {
     "data": {
      "text/plain": [
       "\"../attachments/2003/'5312300001003/attach_pdf.txt\""
      ]
     },
     "execution_count": 8,
     "metadata": {},
     "output_type": "execute_result"
    }
   ],
   "source": [
    "df_w_paths['path_to_file'].iloc[24079]"
   ]
  },
  {
   "cell_type": "code",
   "execution_count": 9,
   "metadata": {
    "collapsed": false
   },
   "outputs": [
    {
     "name": "stdout",
     "output_type": "stream",
     "text": [
      "There was a total of 24108 out of 24108\n"
     ]
    }
   ],
   "source": [
    "inserts,paths = folio_inserts.mongod_insert_df(df_w_paths,folios)"
   ]
  }
 ],
 "metadata": {
  "kernelspec": {
   "display_name": "Python 2",
   "language": "python",
   "name": "python2"
  },
  "language_info": {
   "codemirror_mode": {
    "name": "ipython",
    "version": 2.0
   },
   "file_extension": ".py",
   "mimetype": "text/x-python",
   "name": "python",
   "nbconvert_exporter": "python",
   "pygments_lexer": "ipython2",
   "version": "2.7.6"
  }
 },
 "nbformat": 4,
 "nbformat_minor": 0
}