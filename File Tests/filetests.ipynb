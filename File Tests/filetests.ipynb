{
 "cells": [
  {
   "cell_type": "code",
   "execution_count": null,
   "metadata": {
    "collapsed": true
   },
   "outputs": [],
   "source": [
    "import os\n",
    "import time\n",
    "from stat import * # ST_SIZE etc\n",
    "def aboutFile(file):\n",
    "    try:\n",
    "        st = os.stat(file)\n",
    "    except IOError:\n",
    "        print \"failed to get information about\", file\n",
    "    else:\n",
    "        print \"file size:\", st[ST_SIZE]\n",
    "        print \"file modified:\", time.asctime(time.localtime(st[ST_MTIME]))\n",
    "        print \"file accessed:\",time.asctime(time.localtime(st[ST_ATIME]))\n",
    "        print \"file changed:\",time.asctime(time.localtime(st[ST_CTIME]))"
   ]
  },
  {
   "cell_type": "code",
   "execution_count": null,
   "metadata": {
    "collapsed": false
   },
   "outputs": [],
   "source": [
    "aboutFile('./0000700037203.doc')"
   ]
  },
  {
   "cell_type": "code",
   "execution_count": null,
   "metadata": {
    "collapsed": false
   },
   "outputs": [],
   "source": [
    "from pdfminer.pdfparser import PDFParser\n",
    "from pdfminer.pdfdocument import PDFDocument\n",
    "\n",
    "fp = open('./0000600000803.pdf', 'rb')\n",
    "parser = PDFParser(fp)\n",
    "doc = PDFDocument(parser)\n",
    "\n",
    "print doc.info  # The \"Info\" metadata\n",
    "fp.close()"
   ]
  },
  {
   "cell_type": "code",
   "execution_count": null,
   "metadata": {
    "collapsed": false
   },
   "outputs": [],
   "source": [
    "aboutFile('./0000600000803.pdf')"
   ]
  },
  {
   "cell_type": "code",
   "execution_count": null,
   "metadata": {
    "collapsed": true
   },
   "outputs": [],
   "source": [
    "import subprocess"
   ]
  },
  {
   "cell_type": "code",
   "execution_count": null,
   "metadata": {
    "collapsed": false
   },
   "outputs": [],
   "source": [
    "r = subprocess.check_output([\"hachoir-metadata\",\"./copy.doc\"])\n",
    "print r"
   ]
  },
  {
   "cell_type": "code",
   "execution_count": null,
   "metadata": {
    "collapsed": false
   },
   "outputs": [],
   "source": [
    "r = subprocess.check_output([\"hachoir-metadata\",\"./copy.doc\"])\n",
    "print r"
   ]
  },
  {
   "cell_type": "code",
   "execution_count": null,
   "metadata": {
    "collapsed": false
   },
   "outputs": [],
   "source": [
    "r = r.replace('- ','')"
   ]
  },
  {
   "cell_type": "code",
   "execution_count": null,
   "metadata": {
    "collapsed": false
   },
   "outputs": [],
   "source": [
    "y = r.split('\\n')"
   ]
  },
  {
   "cell_type": "code",
   "execution_count": null,
   "metadata": {
    "collapsed": false
   },
   "outputs": [],
   "source": [
    "print y"
   ]
  },
  {
   "cell_type": "code",
   "execution_count": null,
   "metadata": {
    "collapsed": false
   },
   "outputs": [],
   "source": [
    "r = subprocess.check_output([\"hachoir-metadata\",\"./0000400030303.zip\"])\n",
    "print r"
   ]
  },
  {
   "cell_type": "code",
   "execution_count": 19,
   "metadata": {
    "collapsed": false
   },
   "outputs": [],
   "source": [
    "from collections import defaultdict\n",
    "from pprint import pprint\n",
    "\n",
    "from hachoir_metadata import metadata\n",
    "from hachoir_core.cmd_line import unicodeFilename\n",
    "from hachoir_parser import createParser\n",
    "\n",
    "# using this example http://archive.org/details/WorkToFishtestwmv\n",
    "filename = './copy.doc' \n",
    "def not_pdf_about(filename):\n",
    "    filename, realname = unicodeFilename(filename), filename\n",
    "    parser = createParser(filename)\n",
    "\n",
    "    # Turn the tags into a defaultdict\n",
    "    metalist = metadata.extractMetadata(parser).exportPlaintext()\n",
    "    meta = defaultdict(defaultdict)\n",
    "    for item in metalist:\n",
    "        if item[0] == 'Metadata:':\n",
    "            k = 'Metadata:'\n",
    "        else:\n",
    "            danksplit = item.split(': ')\n",
    "            if meta[str(danksplit[0][2:])] == {} and len(danksplit[1:]) == 1:\n",
    "                meta[k][str(danksplit[0][2:])] = danksplit[1:][0] \n",
    "\n",
    "            elif meta[str(danksplit[0][2:])] == {} and len(danksplit[1:]) == 2:\n",
    "                meta[k][str(danksplit[0][2:])] = {str(danksplit[1]): danksplit[2]}\n",
    "\n",
    "            elif meta[str(danksplit[0][2:])] != {} and len(danksplit[1:]) == 2:\n",
    "                meta[k][str(danksplit[0][2:])][str(danksplit[1])] = danksplit[2]\n",
    "            else:\n",
    "                print danksplit\n",
    "    return meta,metalist"
   ]
  },
  {
   "cell_type": "code",
   "execution_count": 20,
   "metadata": {
    "collapsed": false
   },
   "outputs": [
    {
     "ename": "UnboundLocalError",
     "evalue": "local variable 'k' referenced before assignment",
     "output_type": "error",
     "traceback": [
      "\u001b[0;31m---------------------------------------------------------------------------\u001b[0m",
      "\u001b[0;31mUnboundLocalError\u001b[0m                         Traceback (most recent call last)",
      "\u001b[0;32m<ipython-input-20-f820880298e6>\u001b[0m in \u001b[0;36m<module>\u001b[0;34m()\u001b[0m\n\u001b[0;32m----> 1\u001b[0;31m \u001b[0mm\u001b[0m\u001b[0;34m,\u001b[0m\u001b[0mmm\u001b[0m \u001b[0;34m=\u001b[0m \u001b[0mnot_pdf_about\u001b[0m\u001b[0;34m(\u001b[0m\u001b[0;34m'./copy.doc'\u001b[0m\u001b[0;34m)\u001b[0m\u001b[0;34m\u001b[0m\u001b[0m\n\u001b[0m",
      "\u001b[0;32m<ipython-input-19-544eb63aeccd>\u001b[0m in \u001b[0;36mnot_pdf_about\u001b[0;34m(filename)\u001b[0m\n\u001b[1;32m     21\u001b[0m             \u001b[0mdanksplit\u001b[0m \u001b[0;34m=\u001b[0m \u001b[0mitem\u001b[0m\u001b[0;34m.\u001b[0m\u001b[0msplit\u001b[0m\u001b[0;34m(\u001b[0m\u001b[0;34m': '\u001b[0m\u001b[0;34m)\u001b[0m\u001b[0;34m\u001b[0m\u001b[0m\n\u001b[1;32m     22\u001b[0m             \u001b[0;32mif\u001b[0m \u001b[0mmeta\u001b[0m\u001b[0;34m[\u001b[0m\u001b[0mstr\u001b[0m\u001b[0;34m(\u001b[0m\u001b[0mdanksplit\u001b[0m\u001b[0;34m[\u001b[0m\u001b[0;36m0\u001b[0m\u001b[0;34m]\u001b[0m\u001b[0;34m[\u001b[0m\u001b[0;36m2\u001b[0m\u001b[0;34m:\u001b[0m\u001b[0;34m]\u001b[0m\u001b[0;34m)\u001b[0m\u001b[0;34m]\u001b[0m \u001b[0;34m==\u001b[0m \u001b[0;34m{\u001b[0m\u001b[0;34m}\u001b[0m \u001b[0;32mand\u001b[0m \u001b[0mlen\u001b[0m\u001b[0;34m(\u001b[0m\u001b[0mdanksplit\u001b[0m\u001b[0;34m[\u001b[0m\u001b[0;36m1\u001b[0m\u001b[0;34m:\u001b[0m\u001b[0;34m]\u001b[0m\u001b[0;34m)\u001b[0m \u001b[0;34m==\u001b[0m \u001b[0;36m1\u001b[0m\u001b[0;34m:\u001b[0m\u001b[0;34m\u001b[0m\u001b[0m\n\u001b[0;32m---> 23\u001b[0;31m                 \u001b[0mmeta\u001b[0m\u001b[0;34m[\u001b[0m\u001b[0mk\u001b[0m\u001b[0;34m]\u001b[0m\u001b[0;34m[\u001b[0m\u001b[0mstr\u001b[0m\u001b[0;34m(\u001b[0m\u001b[0mdanksplit\u001b[0m\u001b[0;34m[\u001b[0m\u001b[0;36m0\u001b[0m\u001b[0;34m]\u001b[0m\u001b[0;34m[\u001b[0m\u001b[0;36m2\u001b[0m\u001b[0;34m:\u001b[0m\u001b[0;34m]\u001b[0m\u001b[0;34m)\u001b[0m\u001b[0;34m]\u001b[0m \u001b[0;34m=\u001b[0m \u001b[0mdanksplit\u001b[0m\u001b[0;34m[\u001b[0m\u001b[0;36m1\u001b[0m\u001b[0;34m:\u001b[0m\u001b[0;34m]\u001b[0m\u001b[0;34m[\u001b[0m\u001b[0;36m0\u001b[0m\u001b[0;34m]\u001b[0m\u001b[0;34m\u001b[0m\u001b[0m\n\u001b[0m\u001b[1;32m     24\u001b[0m \u001b[0;34m\u001b[0m\u001b[0m\n\u001b[1;32m     25\u001b[0m             \u001b[0;32melif\u001b[0m \u001b[0mmeta\u001b[0m\u001b[0;34m[\u001b[0m\u001b[0mstr\u001b[0m\u001b[0;34m(\u001b[0m\u001b[0mdanksplit\u001b[0m\u001b[0;34m[\u001b[0m\u001b[0;36m0\u001b[0m\u001b[0;34m]\u001b[0m\u001b[0;34m[\u001b[0m\u001b[0;36m2\u001b[0m\u001b[0;34m:\u001b[0m\u001b[0;34m]\u001b[0m\u001b[0;34m)\u001b[0m\u001b[0;34m]\u001b[0m \u001b[0;34m==\u001b[0m \u001b[0;34m{\u001b[0m\u001b[0;34m}\u001b[0m \u001b[0;32mand\u001b[0m \u001b[0mlen\u001b[0m\u001b[0;34m(\u001b[0m\u001b[0mdanksplit\u001b[0m\u001b[0;34m[\u001b[0m\u001b[0;36m1\u001b[0m\u001b[0;34m:\u001b[0m\u001b[0;34m]\u001b[0m\u001b[0;34m)\u001b[0m \u001b[0;34m==\u001b[0m \u001b[0;36m2\u001b[0m\u001b[0;34m:\u001b[0m\u001b[0;34m\u001b[0m\u001b[0m\n",
      "\u001b[0;31mUnboundLocalError\u001b[0m: local variable 'k' referenced before assignment"
     ]
    }
   ],
   "source": [
    "m,mm = not_pdf_about('./copy.doc')"
   ]
  },
  {
   "cell_type": "code",
   "execution_count": 16,
   "metadata": {
    "collapsed": false
   },
   "outputs": [
    {
     "data": {
      "text/plain": [
       "defaultdict(collections.defaultdict,\n",
       "            {'Author': defaultdict(None, {}),\n",
       "             'Comment': defaultdict(None, {}),\n",
       "             'Creation date': defaultdict(None, {}),\n",
       "             'Endianness': defaultdict(None, {}),\n",
       "             'Last modification': defaultdict(None, {}),\n",
       "             'MIME type': defaultdict(None, {}),\n",
       "             u'Metadata': defaultdict(None,\n",
       "                         {'Author': u'-UNIDAD DE ENLACE-',\n",
       "                          'Comment': {'Security': u'0'},\n",
       "                          'Creation date': u'2003-11-11 14:49:00',\n",
       "                          'Endianness': u'Little endian',\n",
       "                          'Last modification': u'2003-11-11 14:49:00',\n",
       "                          'MIME type': u'application/msword',\n",
       "                          'Nb page': u'1',\n",
       "                          'Producer': u'Microsoft Word 10.0',\n",
       "                          'Title': u'PROPUESTA DE RESPUESTA'}),\n",
       "             'Nb page': defaultdict(None, {}),\n",
       "             'Producer': defaultdict(None, {}),\n",
       "             'Title': defaultdict(None, {})})"
      ]
     },
     "execution_count": 16,
     "metadata": {},
     "output_type": "execute_result"
    }
   ],
   "source": [
    "m"
   ]
  },
  {
   "cell_type": "code",
   "execution_count": 18,
   "metadata": {
    "collapsed": false
   },
   "outputs": [
    {
     "data": {
      "text/plain": [
       "[u'Metadata:',\n",
       " u'- Title: PROPUESTA DE RESPUESTA',\n",
       " u'- Author: -UNIDAD DE ENLACE-',\n",
       " u'- Nb page: 1',\n",
       " u'- Creation date: 2003-11-11 14:49:00',\n",
       " u'- Last modification: 2003-11-11 14:49:00',\n",
       " u'- Producer: Microsoft Word 10.0',\n",
       " u'- Comment: NumWords: d.g.i.m.',\n",
       " u'- Comment: Keywords: 6',\n",
       " u'- Comment: Comments: 1',\n",
       " u'- Comment: Thumbnail: 896',\n",
       " u'- Comment: 23: 657985',\n",
       " u'- Comment: LastPrinted: False',\n",
       " u'- Comment: NumCharacters: False',\n",
       " u'- Comment: Security: False',\n",
       " u'- Comment: 22: False',\n",
       " u'- Comment: Encrypted: False',\n",
       " u'- Comment: Template: Normal',\n",
       " u'- Comment: RevisionNumber: 2',\n",
       " u'- Comment: TotalEditingTime: 0:01:00',\n",
       " u'- Comment: LastPrinted: 2003-11-11 02:47:00',\n",
       " u'- Comment: NumWords: 138',\n",
       " u'- Comment: NumCharacters: 759',\n",
       " u'- Comment: Security: 0',\n",
       " u'- MIME type: application/msword',\n",
       " u'- Endianness: Little endian']"
      ]
     },
     "execution_count": 18,
     "metadata": {},
     "output_type": "execute_result"
    }
   ],
   "source": [
    "mm"
   ]
  },
  {
   "cell_type": "code",
   "execution_count": 7,
   "metadata": {
    "collapsed": true
   },
   "outputs": [],
   "source": [
    "f = '../../ActiveSurface Product Info.pptx'\n",
    "p,pp = not_pdf_about(f)"
   ]
  },
  {
   "cell_type": "code",
   "execution_count": 8,
   "metadata": {
    "collapsed": false
   },
   "outputs": [
    {
     "data": {
      "text/plain": [
       "defaultdict(collections.defaultdict,\n",
       "            {'Compressed file size': u'227 bytes',\n",
       "             'Compression': u'Deflate',\n",
       "             'Compression rate': u'2.6x',\n",
       "             'Creation date': u'2015-09-17 17:37:46',\n",
       "             'Endianness': u'Little endian',\n",
       "             'File name': u'_rels/.rels',\n",
       "             'File size': u'592 bytes',\n",
       "             'MIME type': u'application/zip'})"
      ]
     },
     "execution_count": 8,
     "metadata": {},
     "output_type": "execute_result"
    }
   ],
   "source": [
    "p"
   ]
  },
  {
   "cell_type": "code",
   "execution_count": 9,
   "metadata": {
    "collapsed": false
   },
   "outputs": [
    {
     "data": {
      "text/plain": [
       "[u'Common:',\n",
       " u'- MIME type: application/zip',\n",
       " u'- Endianness: Little endian',\n",
       " u'File \"_rels/.rels\":',\n",
       " u'- File name: _rels/.rels',\n",
       " u'- File size: 592 bytes',\n",
       " u'- Compressed file size: 227 bytes',\n",
       " u'- Compression rate: 2.6x',\n",
       " u'- Creation date: 2015-09-17 17:37:46',\n",
       " u'- Compression: Deflate',\n",
       " u'File \"docProps/core.xml\":',\n",
       " u'- File name: docProps/core.xml',\n",
       " u'- File size: 299 bytes',\n",
       " u'- Compressed file size: 197 bytes',\n",
       " u'- Compression rate: 1.5x',\n",
       " u'- Creation date: 2015-09-17 17:37:46',\n",
       " u'- Compression: Deflate',\n",
       " u'File \"docProps/app.xml\":',\n",
       " u'- File name: docProps/app.xml',\n",
       " u'- File size: 231 bytes',\n",
       " u'- Compressed file size: 149 bytes',\n",
       " u'- Compression rate: 1.6x',\n",
       " u'- Creation date: 2015-09-17 17:37:46',\n",
       " u'- Compression: Deflate',\n",
       " u'File \"ppt/presentation.xml\":',\n",
       " u'- File name: ppt/presentation.xml',\n",
       " u'- File size: 3143 bytes',\n",
       " u'- Compressed file size: 519 bytes',\n",
       " u'- Compression rate: 6.1x',\n",
       " u'- Creation date: 2015-09-17 17:37:46',\n",
       " u'- Compression: Deflate',\n",
       " u'File \"ppt/_rels/presentation.xml.rels\":',\n",
       " u'- File name: ppt/_rels/presentation.xml.rels',\n",
       " u'- File size: 2072 bytes',\n",
       " u'- Compressed file size: 324 bytes',\n",
       " u'- Compression rate: 6.4x',\n",
       " u'- Creation date: 2015-09-17 17:37:46',\n",
       " u'- Compression: Deflate',\n",
       " u'File \"ppt/presProps.xml\":',\n",
       " u'- File name: ppt/presProps.xml',\n",
       " u'- File size: 324 bytes',\n",
       " u'- Compressed file size: 177 bytes',\n",
       " u'- Compression rate: 1.8x',\n",
       " u'- Creation date: 2015-09-17 17:37:46',\n",
       " u'- Compression: Deflate']"
      ]
     },
     "execution_count": 9,
     "metadata": {},
     "output_type": "execute_result"
    }
   ],
   "source": [
    "pp"
   ]
  },
  {
   "cell_type": "code",
   "execution_count": 10,
   "metadata": {
    "collapsed": true
   },
   "outputs": [],
   "source": [
    "from itertools import izip\n",
    "i = iter(pp)\n",
    "b = dict(izip(i, i))"
   ]
  },
  {
   "cell_type": "code",
   "execution_count": 11,
   "metadata": {
    "collapsed": false
   },
   "outputs": [
    {
     "data": {
      "text/plain": [
       "{u'- Compressed file size: 149 bytes': u'- Compression rate: 1.6x',\n",
       " u'- Compressed file size: 227 bytes': u'- Compression rate: 2.6x',\n",
       " u'- Compressed file size: 324 bytes': u'- Compression rate: 6.4x',\n",
       " u'- Compression rate: 1.5x': u'- Creation date: 2015-09-17 17:37:46',\n",
       " u'- Compression rate: 1.8x': u'- Creation date: 2015-09-17 17:37:46',\n",
       " u'- Compression rate: 6.1x': u'- Creation date: 2015-09-17 17:37:46',\n",
       " u'- Compression: Deflate': u'File \"ppt/_rels/presentation.xml.rels\":',\n",
       " u'- Creation date: 2015-09-17 17:37:46': u'- Compression: Deflate',\n",
       " u'- Endianness: Little endian': u'File \"_rels/.rels\":',\n",
       " u'- File name: _rels/.rels': u'- File size: 592 bytes',\n",
       " u'- File name: docProps/app.xml': u'- File size: 231 bytes',\n",
       " u'- File name: ppt/_rels/presentation.xml.rels': u'- File size: 2072 bytes',\n",
       " u'- File size: 299 bytes': u'- Compressed file size: 197 bytes',\n",
       " u'- File size: 3143 bytes': u'- Compressed file size: 519 bytes',\n",
       " u'- File size: 324 bytes': u'- Compressed file size: 177 bytes',\n",
       " u'Common:': u'- MIME type: application/zip',\n",
       " u'File \"docProps/core.xml\":': u'- File name: docProps/core.xml',\n",
       " u'File \"ppt/presProps.xml\":': u'- File name: ppt/presProps.xml',\n",
       " u'File \"ppt/presentation.xml\":': u'- File name: ppt/presentation.xml'}"
      ]
     },
     "execution_count": 11,
     "metadata": {},
     "output_type": "execute_result"
    }
   ],
   "source": [
    "b"
   ]
  },
  {
   "cell_type": "code",
   "execution_count": 13,
   "metadata": {
    "collapsed": false
   },
   "outputs": [],
   "source": [
    "meta = defaultdict(defaultdict)\n",
    "for item in metalist:\n",
    "    if item.endswith(':'):\n",
    "        k = item[:-1]\n",
    "    else:\n",
    "        danksplit = item.split(': ')\n",
    "        if meta[str(danksplit[0][2:])] == {} and len(danksplit[1:]) == 1:\n",
    "            meta[str(danksplit[0][2:])] = danksplit[1:][0] \n",
    "        elif meta[str(danksplit[0][2:])] == {} and len(danksplit[1:]) != 1:\n",
    "            meta[str(danksplit[0][2:])] = danksplit[1:]\n",
    "        else:\n",
    "            meta[str(danksplit[0][2:])].append(danksplit[1:])"
   ]
  },
  {
   "cell_type": "code",
   "execution_count": 8,
   "metadata": {
    "collapsed": false
   },
   "outputs": [
    {
     "data": {
      "text/plain": [
       "1"
      ]
     },
     "execution_count": 8,
     "metadata": {},
     "output_type": "execute_result"
    }
   ],
   "source": [
    "len(danksplit[1:])"
   ]
  },
  {
   "cell_type": "code",
   "execution_count": 20,
   "metadata": {
    "collapsed": true
   },
   "outputs": [],
   "source": [
    "meta = defaultdict(defaultdict)\n",
    "for item in metalist:\n",
    "    if item.endswith(':'):\n",
    "        k = item[:-1]\n",
    "    else:\n",
    "        danksplit = item.split(': ')\n",
    "        if meta[str(danksplit[0][2:])] == {} and len(danksplit[1:]) == 1:\n",
    "            meta[str(danksplit[0][2:])] = danksplit[1:][0] \n",
    "            \n",
    "        elif meta[str(danksplit[0][2:])] == {} and len(danksplit[1:]) == 2:\n",
    "            meta[str(danksplit[0][2:])] = {str(danksplit[1]): danksplit[2]}\n",
    "            \n",
    "        elif meta[str(danksplit[0][2:])] != {} and len(danksplit[1:]) == 2:\n",
    "            meta[str(danksplit[0][2:])][str(danksplit[1])] = danksplit[2]\n",
    "        else:\n",
    "            print danksplit"
   ]
  },
  {
   "cell_type": "code",
   "execution_count": 21,
   "metadata": {
    "collapsed": false
   },
   "outputs": [
    {
     "data": {
      "text/plain": [
       "defaultdict(collections.defaultdict,\n",
       "            {'Author': u'-UNIDAD DE ENLACE-',\n",
       "             'Comment': {'22': u'False',\n",
       "              '23': u'657985',\n",
       "              'Comments': u'1',\n",
       "              'Encrypted': u'False',\n",
       "              'Keywords': u'6',\n",
       "              'LastPrinted': u'2003-11-11 02:47:00',\n",
       "              'NumCharacters': u'759',\n",
       "              'NumWords': u'138',\n",
       "              'RevisionNumber': u'2',\n",
       "              'Security': u'0',\n",
       "              'Template': u'Normal',\n",
       "              'Thumbnail': u'896',\n",
       "              'TotalEditingTime': u'0:01:00'},\n",
       "             'Creation date': u'2003-11-11 14:49:00',\n",
       "             'Endianness': u'Little endian',\n",
       "             'Last modification': u'2003-11-11 14:49:00',\n",
       "             'MIME type': u'application/msword',\n",
       "             'Nb page': u'1',\n",
       "             'Producer': u'Microsoft Word 10.0',\n",
       "             'Title': u'PROPUESTA DE RESPUESTA'})"
      ]
     },
     "execution_count": 21,
     "metadata": {},
     "output_type": "execute_result"
    }
   ],
   "source": [
    "meta"
   ]
  },
  {
   "cell_type": "code",
   "execution_count": 14,
   "metadata": {
    "collapsed": false
   },
   "outputs": [
    {
     "data": {
      "text/plain": [
       "defaultdict(collections.defaultdict,\n",
       "            {'Author': u'-UNIDAD DE ENLACE-',\n",
       "             'Comment': [u'NumWords',\n",
       "              u'd.g.i.m.',\n",
       "              [u'Keywords', u'6'],\n",
       "              [u'Comments', u'1'],\n",
       "              [u'Thumbnail', u'896'],\n",
       "              [u'23', u'657985'],\n",
       "              [u'LastPrinted', u'False'],\n",
       "              [u'NumCharacters', u'False'],\n",
       "              [u'Security', u'False'],\n",
       "              [u'22', u'False'],\n",
       "              [u'Encrypted', u'False'],\n",
       "              [u'Template', u'Normal'],\n",
       "              [u'RevisionNumber', u'2'],\n",
       "              [u'TotalEditingTime', u'0:01:00'],\n",
       "              [u'LastPrinted', u'2003-11-11 02:47:00'],\n",
       "              [u'NumWords', u'138'],\n",
       "              [u'NumCharacters', u'759'],\n",
       "              [u'Security', u'0']],\n",
       "             'Creation date': u'2003-11-11 14:49:00',\n",
       "             'Endianness': u'Little endian',\n",
       "             'Last modification': u'2003-11-11 14:49:00',\n",
       "             'MIME type': u'application/msword',\n",
       "             'Nb page': u'1',\n",
       "             'Producer': u'Microsoft Word 10.0',\n",
       "             'Title': u'PROPUESTA DE RESPUESTA'})"
      ]
     },
     "execution_count": 14,
     "metadata": {},
     "output_type": "execute_result"
    }
   ],
   "source": [
    "for item in metalist:\n",
    "    if item.endswith(':'):\n",
    "        k = item[:-1]\n",
    "    else:\n",
    "        danksplit = item.split(': ')"
   ]
  },
  {
   "cell_type": "code",
   "execution_count": null,
   "metadata": {
    "collapsed": true
   },
   "outputs": [],
   "source": [
    "meta_true['Comment'] = [{}]"
   ]
  },
  {
   "cell_type": "code",
   "execution_count": 5,
   "metadata": {
    "collapsed": false
   },
   "outputs": [
    {
     "data": {
      "text/plain": [
       "[u'NumWords',\n",
       " u'd.g.i.m.',\n",
       " [u'Keywords', u'6'],\n",
       " [u'Comments', u'1'],\n",
       " [u'Thumbnail', u'896'],\n",
       " [u'23', u'657985'],\n",
       " [u'LastPrinted', u'False'],\n",
       " [u'NumCharacters', u'False'],\n",
       " [u'Security', u'False'],\n",
       " [u'22', u'False'],\n",
       " [u'Encrypted', u'False'],\n",
       " [u'Template', u'Normal'],\n",
       " [u'RevisionNumber', u'2'],\n",
       " [u'TotalEditingTime', u'0:01:00'],\n",
       " [u'LastPrinted', u'2003-11-11 02:47:00'],\n",
       " [u'NumWords', u'138'],\n",
       " [u'NumCharacters', u'759'],\n",
       " [u'Security', u'0']]"
      ]
     },
     "execution_count": 5,
     "metadata": {},
     "output_type": "execute_result"
    }
   ],
   "source": [
    "meta['Comment']"
   ]
  },
  {
   "cell_type": "code",
   "execution_count": null,
   "metadata": {
    "collapsed": true
   },
   "outputs": [],
   "source": []
  },
  {
   "cell_type": "code",
   "execution_count": null,
   "metadata": {
    "collapsed": true
   },
   "outputs": [],
   "source": []
  },
  {
   "cell_type": "code",
   "execution_count": null,
   "metadata": {
    "collapsed": true
   },
   "outputs": [],
   "source": [
    "import json"
   ]
  },
  {
   "cell_type": "code",
   "execution_count": null,
   "metadata": {
    "collapsed": false
   },
   "outputs": [],
   "source": [
    "json.load(r)"
   ]
  },
  {
   "cell_type": "code",
   "execution_count": null,
   "metadata": {
    "collapsed": false
   },
   "outputs": [],
   "source": [
    "fp = open('./0000700037203.doc', 'rb')\n",
    "parser = PDFParser(fp)\n",
    "doc = PDFDocument(parser)\n",
    "\n",
    "print doc.info  # The \"Info\" metadata\n",
    "fp.close()"
   ]
  },
  {
   "cell_type": "code",
   "execution_count": null,
   "metadata": {
    "collapsed": false
   },
   "outputs": [],
   "source": []
  },
  {
   "cell_type": "code",
   "execution_count": null,
   "metadata": {
    "collapsed": false
   },
   "outputs": [],
   "source": [
    "from hachoir_core.error import HachoirError\n",
    "from hachoir_core.stream import InputIOStream\n",
    "from hachoir_parser import guessParser\n",
    "from hachoir_metadata import extractMetadata\n",
    "\n",
    "\n",
    "def metadata_for_filelike(filelike):\n",
    "    try:\n",
    "        filelike.seek(0)\n",
    "    except (AttributeError, IOError):\n",
    "        return None\n",
    "\n",
    "    stream = InputIOStream(filelike, None, tags=[])\n",
    "    parser = guessParser(stream)\n",
    "\n",
    "    if not parser:\n",
    "        return None\n",
    "\n",
    "    try:\n",
    "        metadata = extractMetadata(parser)\n",
    "    except HachoirError:\n",
    "        return None\n",
    "\n",
    "    return metadata"
   ]
  },
  {
   "cell_type": "code",
   "execution_count": null,
   "metadata": {
    "collapsed": false
   },
   "outputs": [],
   "source": [
    "r = hachoir_parser.HachoirParser('./0000700037203.doc')\n",
    "a = extractMetadata(r)"
   ]
  },
  {
   "cell_type": "code",
   "execution_count": null,
   "metadata": {
    "collapsed": true
   },
   "outputs": [],
   "source": []
  },
  {
   "cell_type": "code",
   "execution_count": null,
   "metadata": {
    "collapsed": false
   },
   "outputs": [],
   "source": [
    "from hachoir_parser import createParser\n",
    "from hachoir_core.tools import makePrintable\n",
    "from hachoir_metadata import extractMetadata\n",
    "from hachoir_core.i18n import getTerminalCharset\n",
    "from hachoir_parser import guessParser\n",
    "filename = \"copy.doc\"\n",
    "parser = createParser(filename)\n",
    "\n",
    "if not parser:\n",
    "    print(\"Unable to parse file\")\n",
    "    exit(1)\n",
    "\n",
    "try:\n",
    "    metadata = extractMetadata(parser)\n",
    "except Exception as err:\n",
    "    print(\"Metadata extraction error: %s\" % err)\n",
    "    metadata = None\n",
    "if not metadata:\n",
    "    print(\"Unable to extract metadata\")\n",
    "    exit(1)\n",
    "\n",
    "for line in metadata.exportPlaintext():\n",
    "    print(line)"
   ]
  },
  {
   "cell_type": "code",
   "execution_count": null,
   "metadata": {
    "collapsed": false
   },
   "outputs": [],
   "source": [
    "import subprocess"
   ]
  },
  {
   "cell_type": "code",
   "execution_count": null,
   "metadata": {
    "collapsed": false
   },
   "outputs": [],
   "source": [
    "r = subprocess.check_output([\"hachoir-metadata\", \"./copy.doc\"]).decode(\"utf-8\")"
   ]
  },
  {
   "cell_type": "code",
   "execution_count": null,
   "metadata": {
    "collapsed": false
   },
   "outputs": [],
   "source": [
    "s = \"Metadata:\\n- Title: PROPUESTA DE RESPUESTA\\n- Author: -UNIDAD DE ENLACE-\\n- Nb page: 1\\n- Creation date: 2003-11-11 14:49:00\\n- Last modification: 2003-11-11 14:49:00\\n- Producer: Microsoft Word 10.0\\n- Comment: NumWords: d.g.i.m.\\n- Comment: Keywords: 6\\n- Comment: Comments: 1\\n- Comment: Thumbnail: 896\\n- Comment: 23: 657985\\n- Comment: LastPrinted: False\\n- Comment: NumCharacters: False\\n- Comment: Security: False\\n- Comment: 22: False\\n- Comment: Encrypted: False\\n- Comment: Template: Normal\\n- Comment: RevisionNumber: 2\\n- Comment: TotalEditingTime: 0:01:00\\n- Comment: LastPrinted: 2003-11-11 02:47:00\\n- Comment: NumWords: 138\\n- Comment: NumCharacters: 759\\n- Comment: Security: 0\\n- MIME type: application/msword\\n- Endianness: Little endian\\n\""
   ]
  },
  {
   "cell_type": "code",
   "execution_count": null,
   "metadata": {
    "collapsed": true
   },
   "outputs": [],
   "source": [
    "s = \"penis\""
   ]
  },
  {
   "cell_type": "code",
   "execution_count": null,
   "metadata": {
    "collapsed": false
   },
   "outputs": [],
   "source": [
    "import sys\n",
    "reload(sys)\n",
    "s = \"penis\"\n",
    "print s"
   ]
  },
  {
   "cell_type": "code",
   "execution_count": null,
   "metadata": {
    "collapsed": false
   },
   "outputs": [],
   "source": [
    "import pandas as pd\n",
    "pd.read_json(r)"
   ]
  },
  {
   "cell_type": "code",
   "execution_count": null,
   "metadata": {
    "collapsed": false
   },
   "outputs": [],
   "source": [
    "r"
   ]
  }
 ],
 "metadata": {
  "kernelspec": {
   "display_name": "Python [Root]",
   "language": "python",
   "name": "Python [Root]"
  },
  "language_info": {
   "codemirror_mode": {
    "name": "ipython",
    "version": 2
   },
   "file_extension": ".py",
   "mimetype": "text/x-python",
   "name": "python",
   "nbconvert_exporter": "python",
   "pygments_lexer": "ipython2",
   "version": "2.7.12"
  }
 },
 "nbformat": 4,
 "nbformat_minor": 0
}
