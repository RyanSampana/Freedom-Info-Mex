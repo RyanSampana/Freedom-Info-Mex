{
 "cells": [
  {
   "cell_type": "code",
   "execution_count": 1,
   "metadata": {
    "collapsed": true
   },
   "outputs": [],
   "source": [
    "import time\n",
    "import pymongo\n",
    "import pandas as pd\n",
    "def mongo_database_setup():\n",
    "    database_name={}\n",
    "\n",
    "    # Try to connect to MongoDB,  exit if not successful.\n",
    "    try:\n",
    "        conn=pymongo.MongoClient()\n",
    "        print \"Connected successfully!!!\"\n",
    "        \n",
    "    except pymongo.errors.ConnectionFailure, e:\n",
    "       print \"Could not connect to MongoDB: %s\" % e \n",
    "\n",
    "\n",
    "    #Use todays date for the database name:\n",
    "    name='polisci_test'+time.strftime(\"%d%b%y\")\n",
    "\n",
    "    if name in conn.database_names():\n",
    "        conn.drop_database(name) #Drop the database if it exists\n",
    "        db = conn[name] #Create the database\n",
    "        \n",
    "        #Create two collections in the database\n",
    "        folios = db.folios\n",
    "        responses=db.responses\n",
    "   \n",
    "    else:\n",
    "        db = conn[name] #Create the database\n",
    "        #Create two collections in the database\n",
    "        folios = db.folios\n",
    "        responses = db.responses\n",
    "   \n",
    "    #return the connection, database name, collections names.     \n",
    "    return conn,db,folios,responses"
   ]
  },
  {
   "cell_type": "code",
   "execution_count": 2,
   "metadata": {
    "collapsed": false
   },
   "outputs": [
    {
     "name": "stdout",
     "output_type": "stream",
     "text": [
      "Connected successfully!!!\n"
     ]
    }
   ],
   "source": [
    "conn, db, folios, responses = mongo_database_setup()"
   ]
  },
  {
   "cell_type": "markdown",
   "metadata": {},
   "source": [
    "# How many documents do we have to scrape and download?"
   ]
  },
  {
   "cell_type": "code",
   "execution_count": 4,
   "metadata": {
    "collapsed": false
   },
   "outputs": [
    {
     "name": "stdout",
     "output_type": "stream",
     "text": [
      "804315\n"
     ]
    }
   ],
   "source": [
    "poli = conn['polisci_test26Oct16']\n",
    "count = 0\n",
    "#\n",
    "for doc in poli.get_collection('folios').find({'ARCHIVORESPUESTA' : {'$regex' : 'respuesta=' }}):\n",
    "    count += 1\n",
    "print count"
   ]
  }
 ],
 "metadata": {
  "anaconda-cloud": {},
  "kernelspec": {
   "display_name": "Python [Root]",
   "language": "python",
   "name": "Python [Root]"
  },
  "language_info": {
   "codemirror_mode": {
    "name": "ipython",
    "version": 2
   },
   "file_extension": ".py",
   "mimetype": "text/x-python",
   "name": "python",
   "nbconvert_exporter": "python",
   "pygments_lexer": "ipython2",
   "version": "2.7.12"
  }
 },
 "nbformat": 4,
 "nbformat_minor": 0
}
