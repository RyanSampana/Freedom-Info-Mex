{
 "cells": [
  {
   "cell_type": "code",
   "execution_count": 30,
   "metadata": {
    "collapsed": true
   },
   "outputs": [],
   "source": [
    "import time\n",
    "import pymongo\n",
    "import os\n",
    "import numpy as np\n",
    "import pandas as pd\n",
    "import requests\n",
    "from collections import defaultdict\n",
    "import warnings\n",
    "warnings.filterwarnings('ignore')"
   ]
  },
  {
   "cell_type": "markdown",
   "metadata": {},
   "source": [
    "# How many documents do we have to scrape and download?"
   ]
  },
  {
   "cell_type": "code",
   "execution_count": 3,
   "metadata": {
    "collapsed": false
   },
   "outputs": [
    {
     "data": {
      "text/plain": [
       "804315"
      ]
     },
     "execution_count": 3,
     "metadata": {},
     "output_type": "execute_result"
    }
   ],
   "source": [
    "poli = conn['polisci_test26Oct16']\n",
    "count = 0\n",
    "poli.get_collection('folios').find({'ARCHIVORESPUESTA' : {'$regex' : 'respuesta=' }}).count()"
   ]
  },
  {
   "cell_type": "code",
   "execution_count": 81,
   "metadata": {
    "collapsed": true
   },
   "outputs": [],
   "source": [
    "\"\"\" A util for making a connection to mongo \"\"\"\n",
    "def _connect_mongo(host, port, username, password, db):\n",
    "    try:\n",
    "        if username and password:\n",
    "            mongo_uri = 'mongodb://%s:%s@%s:%s/%s' % (username, password, host, port, db)\n",
    "            conn = pymongo.MongoClient(mongo_uri)\n",
    "            \n",
    "        else:\n",
    "            conn = pymongo.MongoClient(host, port)\n",
    "\n",
    "        print \"Connected successfully!!!\"\n",
    "        return conn[db]\n",
    "    \n",
    "    except pymongo.errors.ConnectionFailure, e:\n",
    "        print \"Could not connect to MongoDB: %s\" % e \n",
    "\n",
    "        \n",
    "    \"\"\" Read from Mongo and Store into DataFrame \"\"\"\n",
    "def read_mongo(db, collection, query={}, nb_limit=None, nb_count=False,\n",
    "               host='localhost', port=27017, \n",
    "               username=None, password=None, no_id=True):\n",
    "    # Connect to MongoDB\n",
    "    db = _connect_mongo(host=host, port=port, username=username, password=password, db=db)\n",
    "    \n",
    "    if nb_limit == None and nb_count == False:\n",
    "        # just query\n",
    "        cursor = db[collection].find(query)\n",
    "        \n",
    "        # Expand the cursor and construct the DataFrame\n",
    "        df =  pd.DataFrame(list(cursor))\n",
    "        # Delete the _id\n",
    "        if no_id:\n",
    "            del df['_id']\n",
    "        return df\n",
    "    elif nb_limit != None and nb_count == False:\n",
    "        # limit\n",
    "        cursor = db[collection].find(query).limit(nb_limit)\n",
    "        \n",
    "        # Expand the cursor and construct the DataFrame\n",
    "        df =  pd.DataFrame(list(cursor))\n",
    "        # Delete the _id\n",
    "        if no_id:\n",
    "            del df['_id']\n",
    "        return df\n",
    "    elif nb_limit == None and nb_count == True:\n",
    "        # count\n",
    "        cursor = db[collection].find(query).count()\n",
    "        return cursor\n",
    "    else:\n",
    "        # why the hell would you limit and count but here it is\n",
    "        cursor = db[collection].find(query).limit(nb_limit).count()\n",
    "        return cursor\n",
    "\n",
    "\n",
    "def download_file(url):\n",
    "    local_filename = url.split('/')[-1]\n",
    "    # NOTE the stream=True parameter\n",
    "    r = requests.get(url, stream=True, verify = False)\n",
    "    with open('./'+local_filename, 'wb') as f:\n",
    "        for chunk in r.iter_content(chunk_size=1024): \n",
    "            if chunk: # filter out keep-alive new chunks\n",
    "                f.write(chunk)\n",
    "    return local_filename\n",
    "\n",
    "def download_file(url,filename,path,extension=\"\"):\n",
    "    infilename = download_file(url)\n",
    "    # most of these files are zip files... lets just change extension to this\n",
    "    newname = os.path.splitext(path+filename)[0]+extension\n",
    "    # yes\n",
    "    output = os.rename(infilename, newname)\n",
    "    print \"File is located at:\",newname\n",
    "\n",
    "def download_file_raw(url,filename,path):\n",
    "    infilename = download_file(url)\n",
    "    # most of these files are zip files... lets just change extension to this\n",
    "    newname = os.path.splitext(path+filename)[0]\n",
    "    # yes\n",
    "    output = os.rename(infilename, newname)\n",
    "    print \"File is located at:\",newname\n",
    "\n",
    "def download_stack_urls(stackOfUrls,fileNameBase,path):\n",
    "    count = 0\n",
    "    length = len(stackOfUrls)\n",
    "    for url in stackOfUrls:\n",
    "        r = requests.get(url, verify = False)\n",
    "        if r.status_code == 200:\n",
    "            download_file_raw(url,str(fileNameBase)+str(count),path)\n",
    "        else:\n",
    "            print r.status_code,\"for html url\"\n",
    "            print url\n",
    "        count+=1\n",
    "        print \"Downloaded\",count,\"out of\",length\n",
    "        time.sleep(1)\n",
    "        \n",
    "def request_to_db(request,db):\n",
    "    pass\n",
    "\n",
    "def update_request(request,db):\n",
    "    pass\n",
    "\n",
    "def uploadRequest(db):\n",
    "    pass\n"
   ]
  },
  {
   "cell_type": "code",
   "execution_count": 4,
   "metadata": {
    "collapsed": false
   },
   "outputs": [
    {
     "name": "stdout",
     "output_type": "stream",
     "text": [
      "Connected successfully!!!\n"
     ]
    }
   ],
   "source": [
    "df = read_mongo('polisci_test26Oct16',\n",
    "                'folios',\n",
    "                {'ARCHIVORESPUESTA' : {'$regex' : 'respuesta=' }},\n",
    "                400000\n",
    "               )"
   ]
  },
  {
   "cell_type": "code",
   "execution_count": 5,
   "metadata": {
    "collapsed": false
   },
   "outputs": [
    {
     "data": {
      "text/html": [
       "<div>\n",
       "<table border=\"1\" class=\"dataframe\">\n",
       "  <thead>\n",
       "    <tr style=\"text-align: right;\">\n",
       "      <th></th>\n",
       "      <th>ARCHIVOADJUNTOSOLICITUD</th>\n",
       "      <th>ARCHIVORESPUESTA</th>\n",
       "      <th>CODIGOPOSTAL</th>\n",
       "      <th>DEPENDENCIA</th>\n",
       "      <th>DESCRIPCIONSOLICITUD</th>\n",
       "      <th>ESTADO</th>\n",
       "      <th>ESTATUS</th>\n",
       "      <th>FECHARESPUESTA</th>\n",
       "      <th>FECHASOLICITUD</th>\n",
       "      <th>FOLIO</th>\n",
       "      <th>...</th>\n",
       "      <th>OTROSDATOS</th>\n",
       "      <th>PAIS</th>\n",
       "      <th>PDFOCR</th>\n",
       "      <th>RESPUESTA</th>\n",
       "      <th>SECTOR</th>\n",
       "      <th>TIPOSOLICITUD</th>\n",
       "      <th>attach_full</th>\n",
       "      <th>attach_inc</th>\n",
       "      <th>word_count</th>\n",
       "      <th>year</th>\n",
       "    </tr>\n",
       "  </thead>\n",
       "  <tbody>\n",
       "    <tr>\n",
       "      <th>0</th>\n",
       "      <td>NaN</td>\n",
       "      <td>https://www.infomex.org.mx/gobiernofederal/mod...</td>\n",
       "      <td>4510</td>\n",
       "      <td>SECRETARÍA DE GOBERNACIÓN</td>\n",
       "      <td>Tirajes y circulación de los diarios y revista...</td>\n",
       "      <td>Distrito Federal</td>\n",
       "      <td>Terminada</td>\n",
       "      <td>08/08/2003</td>\n",
       "      <td>12/06/2003 10:42</td>\n",
       "      <td>'0000400000803</td>\n",
       "      <td>...</td>\n",
       "      <td>NaN</td>\n",
       "      <td>México</td>\n",
       "      <td>0</td>\n",
       "      <td>Entrega de información en medio electrónico</td>\n",
       "      <td>Gobernación</td>\n",
       "      <td>Información Pública</td>\n",
       "      <td></td>\n",
       "      <td>0</td>\n",
       "      <td>18.0</td>\n",
       "      <td>2003</td>\n",
       "    </tr>\n",
       "    <tr>\n",
       "      <th>1</th>\n",
       "      <td>NaN</td>\n",
       "      <td>https://www.infomex.org.mx/gobiernofederal/mod...</td>\n",
       "      <td>4800</td>\n",
       "      <td>SECRETARÍA DE GOBERNACIÓN</td>\n",
       "      <td>Información detallada de lo que pagó Secretarí...</td>\n",
       "      <td>Distrito Federal</td>\n",
       "      <td>Terminada</td>\n",
       "      <td>25/07/2003</td>\n",
       "      <td>12/06/2003 11:50</td>\n",
       "      <td>'0000400002003</td>\n",
       "      <td>...</td>\n",
       "      <td>NaN</td>\n",
       "      <td>México</td>\n",
       "      <td>0</td>\n",
       "      <td>Entrega de información en medio electrónico</td>\n",
       "      <td>Gobernación</td>\n",
       "      <td>Información Pública</td>\n",
       "      <td></td>\n",
       "      <td>0</td>\n",
       "      <td>32.0</td>\n",
       "      <td>2003</td>\n",
       "    </tr>\n",
       "    <tr>\n",
       "      <th>2</th>\n",
       "      <td>https://www.infomex.org.mx/gobiernofederal/mod...</td>\n",
       "      <td>https://www.infomex.org.mx/gobiernofederal/mod...</td>\n",
       "      <td>6400</td>\n",
       "      <td>SECRETARÍA DE GOBERNACIÓN</td>\n",
       "      <td>Secretarìa de Gobernacion (VER ARCHIVO DE WORD...</td>\n",
       "      <td>Distrito Federal</td>\n",
       "      <td>Terminada</td>\n",
       "      <td>25/07/2003</td>\n",
       "      <td>12/06/2003 14:43</td>\n",
       "      <td>'0000400004803</td>\n",
       "      <td>...</td>\n",
       "      <td>NaN</td>\n",
       "      <td>México</td>\n",
       "      <td>0</td>\n",
       "      <td>Entrega de información en medio electrónico</td>\n",
       "      <td>Gobernación</td>\n",
       "      <td>Información Pública</td>\n",
       "      <td>Not Found The requested URL /jspsi/document...</td>\n",
       "      <td>1</td>\n",
       "      <td>27.0</td>\n",
       "      <td>2003</td>\n",
       "    </tr>\n",
       "    <tr>\n",
       "      <th>3</th>\n",
       "      <td>https://www.infomex.org.mx/gobiernofederal/mod...</td>\n",
       "      <td>https://www.infomex.org.mx/gobiernofederal/mod...</td>\n",
       "      <td>4040</td>\n",
       "      <td>SECRETARÍA DE GOBERNACIÓN</td>\n",
       "      <td>Anexo carta con un punto en el que explicola i...</td>\n",
       "      <td>Distrito Federal</td>\n",
       "      <td>Terminada</td>\n",
       "      <td>24/07/2003</td>\n",
       "      <td>12/06/2003 14:57</td>\n",
       "      <td>'0000400005203</td>\n",
       "      <td>...</td>\n",
       "      <td>Todos estos documentos estan en el archivo de ...</td>\n",
       "      <td>México</td>\n",
       "      <td>0</td>\n",
       "      <td>Entrega de información en medio electrónico</td>\n",
       "      <td>Gobernación</td>\n",
       "      <td>Información Pública</td>\n",
       "      <td>México DF a 12 de junio de 2003        EFRE...</td>\n",
       "      <td>1</td>\n",
       "      <td>195.0</td>\n",
       "      <td>2003</td>\n",
       "    </tr>\n",
       "    <tr>\n",
       "      <th>4</th>\n",
       "      <td>https://www.infomex.org.mx/gobiernofederal/mod...</td>\n",
       "      <td>https://www.infomex.org.mx/gobiernofederal/mod...</td>\n",
       "      <td>6400</td>\n",
       "      <td>SECRETARÍA DE GOBERNACIÓN</td>\n",
       "      <td>DIRECCIÓN GENERAL DE RADIO  TELEVISIÓN Y CINEM...</td>\n",
       "      <td>Distrito Federal</td>\n",
       "      <td>Terminada</td>\n",
       "      <td>25/07/2003</td>\n",
       "      <td>12/06/2003 15:20</td>\n",
       "      <td>'0000400005403</td>\n",
       "      <td>...</td>\n",
       "      <td>NaN</td>\n",
       "      <td>México</td>\n",
       "      <td>0</td>\n",
       "      <td>Entrega de información en medio electrónico</td>\n",
       "      <td>Gobernación</td>\n",
       "      <td>Información Pública</td>\n",
       "      <td>Dirección General de Radio  Televisión y Ci...</td>\n",
       "      <td>1</td>\n",
       "      <td>201.0</td>\n",
       "      <td>2003</td>\n",
       "    </tr>\n",
       "  </tbody>\n",
       "</table>\n",
       "<p>5 rows × 22 columns</p>\n",
       "</div>"
      ],
      "text/plain": [
       "                             ARCHIVOADJUNTOSOLICITUD  \\\n",
       "0                                                NaN   \n",
       "1                                                NaN   \n",
       "2  https://www.infomex.org.mx/gobiernofederal/mod...   \n",
       "3  https://www.infomex.org.mx/gobiernofederal/mod...   \n",
       "4  https://www.infomex.org.mx/gobiernofederal/mod...   \n",
       "\n",
       "                                    ARCHIVORESPUESTA CODIGOPOSTAL  \\\n",
       "0  https://www.infomex.org.mx/gobiernofederal/mod...         4510   \n",
       "1  https://www.infomex.org.mx/gobiernofederal/mod...         4800   \n",
       "2  https://www.infomex.org.mx/gobiernofederal/mod...         6400   \n",
       "3  https://www.infomex.org.mx/gobiernofederal/mod...         4040   \n",
       "4  https://www.infomex.org.mx/gobiernofederal/mod...         6400   \n",
       "\n",
       "                 DEPENDENCIA  \\\n",
       "0  SECRETARÍA DE GOBERNACIÓN   \n",
       "1  SECRETARÍA DE GOBERNACIÓN   \n",
       "2  SECRETARÍA DE GOBERNACIÓN   \n",
       "3  SECRETARÍA DE GOBERNACIÓN   \n",
       "4  SECRETARÍA DE GOBERNACIÓN   \n",
       "\n",
       "                                DESCRIPCIONSOLICITUD            ESTADO  \\\n",
       "0  Tirajes y circulación de los diarios y revista...  Distrito Federal   \n",
       "1  Información detallada de lo que pagó Secretarí...  Distrito Federal   \n",
       "2  Secretarìa de Gobernacion (VER ARCHIVO DE WORD...  Distrito Federal   \n",
       "3  Anexo carta con un punto en el que explicola i...  Distrito Federal   \n",
       "4  DIRECCIÓN GENERAL DE RADIO  TELEVISIÓN Y CINEM...  Distrito Federal   \n",
       "\n",
       "     ESTATUS FECHARESPUESTA    FECHASOLICITUD           FOLIO  ...   \\\n",
       "0  Terminada     08/08/2003  12/06/2003 10:42  '0000400000803  ...    \n",
       "1  Terminada     25/07/2003  12/06/2003 11:50  '0000400002003  ...    \n",
       "2  Terminada     25/07/2003  12/06/2003 14:43  '0000400004803  ...    \n",
       "3  Terminada     24/07/2003  12/06/2003 14:57  '0000400005203  ...    \n",
       "4  Terminada     25/07/2003  12/06/2003 15:20  '0000400005403  ...    \n",
       "\n",
       "                                          OTROSDATOS    PAIS PDFOCR  \\\n",
       "0                                                NaN  México      0   \n",
       "1                                                NaN  México      0   \n",
       "2                                                NaN  México      0   \n",
       "3  Todos estos documentos estan en el archivo de ...  México      0   \n",
       "4                                                NaN  México      0   \n",
       "\n",
       "                                     RESPUESTA       SECTOR  \\\n",
       "0  Entrega de información en medio electrónico  Gobernación   \n",
       "1  Entrega de información en medio electrónico  Gobernación   \n",
       "2  Entrega de información en medio electrónico  Gobernación   \n",
       "3  Entrega de información en medio electrónico  Gobernación   \n",
       "4  Entrega de información en medio electrónico  Gobernación   \n",
       "\n",
       "         TIPOSOLICITUD                                        attach_full  \\\n",
       "0  Información Pública                                                      \n",
       "1  Información Pública                                                      \n",
       "2  Información Pública     Not Found The requested URL /jspsi/document...   \n",
       "3  Información Pública     México DF a 12 de junio de 2003        EFRE...   \n",
       "4  Información Pública     Dirección General de Radio  Televisión y Ci...   \n",
       "\n",
       "  attach_inc word_count  year  \n",
       "0          0       18.0  2003  \n",
       "1          0       32.0  2003  \n",
       "2          1       27.0  2003  \n",
       "3          1      195.0  2003  \n",
       "4          1      201.0  2003  \n",
       "\n",
       "[5 rows x 22 columns]"
      ]
     },
     "execution_count": 5,
     "metadata": {},
     "output_type": "execute_result"
    }
   ],
   "source": [
    "df.head()"
   ]
  },
  {
   "cell_type": "code",
   "execution_count": 7,
   "metadata": {
    "collapsed": false
   },
   "outputs": [
    {
     "data": {
      "text/plain": [
       "array([u'Desechada por falta de pago',\n",
       "       u'Desechada por falta de respuesta del ciudadano', u'Terminada'], dtype=object)"
      ]
     },
     "execution_count": 7,
     "metadata": {},
     "output_type": "execute_result"
    }
   ],
   "source": [
    "np.unique(df['ESTATUS'])"
   ]
  },
  {
   "cell_type": "code",
   "execution_count": 18,
   "metadata": {
    "collapsed": false
   },
   "outputs": [],
   "source": [
    "df = df.set_index(np.arange(0,len(df)))"
   ]
  },
  {
   "cell_type": "code",
   "execution_count": 29,
   "metadata": {
    "collapsed": false
   },
   "outputs": [
    {
     "name": "stdout",
     "output_type": "stream",
     "text": [
      "https://www.infomex.org.mx/gobiernofederal/moduloPublico/MimeGenerator.action?folio=0000400005203\n",
      "https://www.infomex.org.mx/gobiernofederal/moduloPublico/MimeAdjuntoSeguimientoGenerator.action?folio=0000400005203&respuesta=6\n"
     ]
    }
   ],
   "source": [
    "print df[['ARCHIVOADJUNTOSOLICITUD']].iloc[3].item()\n",
    "print df[['ARCHIVORESPUESTA']].iloc[3].item()"
   ]
  },
  {
   "cell_type": "code",
   "execution_count": 32,
   "metadata": {
    "collapsed": false
   },
   "outputs": [
    {
     "name": "stdout",
     "output_type": "stream",
     "text": [
      "File is located at: ./wordDoc.zip\n"
     ]
    }
   ],
   "source": [
    "download_file_as_zip('https://www.infomex.org.mx/gobiernofederal/moduloPublico/MimeGenerator.action?folio=0000400005203','wordDoc','./')"
   ]
  },
  {
   "cell_type": "code",
   "execution_count": 34,
   "metadata": {
    "collapsed": false
   },
   "outputs": [
    {
     "name": "stdout",
     "output_type": "stream",
     "text": [
      "File is located at: ./wordDoc\n"
     ]
    }
   ],
   "source": [
    "download_file_raw('https://www.infomex.org.mx/gobiernofederal/moduloPublico/MimeGenerator.action?folio=0000400005203','wordDoc','./')"
   ]
  },
  {
   "cell_type": "code",
   "execution_count": 35,
   "metadata": {
    "collapsed": false
   },
   "outputs": [
    {
     "name": "stdout",
     "output_type": "stream",
     "text": [
      "File is located at: ./azipfile\n"
     ]
    }
   ],
   "source": [
    "download_file_raw('https://www.infomex.org.mx/gobiernofederal/moduloPublico/MimeAdjuntoSeguimientoGenerator.action?folio=0000400005203&respuesta=6','azipfile','./')"
   ]
  },
  {
   "cell_type": "code",
   "execution_count": 41,
   "metadata": {
    "collapsed": false
   },
   "outputs": [
    {
     "name": "stdout",
     "output_type": "stream",
     "text": [
      "File is located at: ./attachments/respuesta/arespuesta0\n",
      "Downloaded 1 out of 10\n",
      "File is located at: ./attachments/respuesta/arespuesta1\n",
      "Downloaded 2 out of 10\n",
      "File is located at: ./attachments/respuesta/arespuesta2\n",
      "Downloaded 3 out of 10\n",
      "File is located at: ./attachments/respuesta/arespuesta3\n",
      "Downloaded 4 out of 10\n",
      "File is located at: ./attachments/respuesta/arespuesta4\n",
      "Downloaded 5 out of 10\n",
      "File is located at: ./attachments/respuesta/arespuesta5\n",
      "Downloaded 6 out of 10\n",
      "File is located at: ./attachments/respuesta/arespuesta6\n",
      "Downloaded 7 out of 10\n",
      "File is located at: ./attachments/respuesta/arespuesta7\n",
      "Downloaded 8 out of 10\n",
      "File is located at: ./attachments/respuesta/arespuesta8\n",
      "Downloaded 9 out of 10\n",
      "File is located at: ./attachments/respuesta/arespuesta9\n",
      "Downloaded 10 out of 10\n"
     ]
    }
   ],
   "source": [
    "respuestas = df['ARCHIVORESPUESTA']\n",
    "ajuntos = df['ARCHIVOADJUNTOSOLICITUD']\n",
    "# download only 10 files\n",
    "respuestas = respuestas[0:10]\n",
    "# download only 10 files\n",
    "ajuntos = ajuntos[0:10]\n",
    "\n",
    "download_stack_urls(respuestas,'arespuesta','./attachments/respuesta/')"
   ]
  },
  {
   "cell_type": "code",
   "execution_count": 58,
   "metadata": {
    "collapsed": false
   },
   "outputs": [
    {
     "name": "stdout",
     "output_type": "stream",
     "text": [
      "File is located at: ./attachments/ajunto/aajunto0\n",
      "Downloaded 1 out of 3\n",
      "File is located at: ./attachments/ajunto/aajunto1\n",
      "Downloaded 2 out of 3\n",
      "File is located at: ./attachments/ajunto/aajunto2\n",
      "Downloaded 3 out of 3\n"
     ]
    }
   ],
   "source": [
    "ajuntos_clean = []\n",
    "for url in ajuntos:\n",
    "    if str(url) == 'nan':\n",
    "        continue\n",
    "    else:\n",
    "        ajuntos_clean.append(url)\n",
    "download_stack_urls(ajuntos_clean,'aajunto','./attachments/ajunto/')"
   ]
  },
  {
   "cell_type": "code",
   "execution_count": 62,
   "metadata": {
    "collapsed": false
   },
   "outputs": [
    {
     "data": {
      "text/plain": [
       "501358.0"
      ]
     },
     "execution_count": 62,
     "metadata": {},
     "output_type": "execute_result"
    }
   ],
   "source": [
    "df2 = df[df['attach_inc'] == 1]\n",
    "max(df2['word_count'])"
   ]
  },
  {
   "cell_type": "code",
   "execution_count": 63,
   "metadata": {
    "collapsed": false
   },
   "outputs": [
    {
     "name": "stdout",
     "output_type": "stream",
     "text": [
      "Connected successfully!!!\n"
     ]
    }
   ],
   "source": [
    "df2 = read_mongo('polisci_test26Oct16','folios',{'attach_inc' : 0},400000)"
   ]
  },
  {
   "cell_type": "code",
   "execution_count": 76,
   "metadata": {
    "collapsed": false
   },
   "outputs": [
    {
     "data": {
      "text/plain": [
       "400000"
      ]
     },
     "execution_count": 76,
     "metadata": {},
     "output_type": "execute_result"
    }
   ],
   "source": [
    "len(df2[df2['attach_full']== '    '])"
   ]
  },
  {
   "cell_type": "code",
   "execution_count": 88,
   "metadata": {
    "collapsed": false
   },
   "outputs": [
    {
     "name": "stdout",
     "output_type": "stream",
     "text": [
      "Connected successfully!!!\n",
      "Connected successfully!!!\n",
      "difference 128692\n",
      "percent 0.898840086655\n"
     ]
    }
   ],
   "source": [
    "not_attachments = read_mongo('polisci_test26Oct16','folios',{'attach_inc' : 0}, nb_count = True)\n",
    "total = read_mongo('polisci_test26Oct16','folios', nb_count = True)\n",
    "print \"difference\",total-not_attachments\n",
    "print \"percent\",float(not_attachments)/float(total)"
   ]
  }
 ],
 "metadata": {
  "anaconda-cloud": {},
  "kernelspec": {
   "display_name": "Python [Root]",
   "language": "python",
   "name": "Python [Root]"
  },
  "language_info": {
   "codemirror_mode": {
    "name": "ipython",
    "version": 2
   },
   "file_extension": ".py",
   "mimetype": "text/x-python",
   "name": "python",
   "nbconvert_exporter": "python",
   "pygments_lexer": "ipython2",
   "version": "2.7.12"
  }
 },
 "nbformat": 4,
 "nbformat_minor": 0
}
