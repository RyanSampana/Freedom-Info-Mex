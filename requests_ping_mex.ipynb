{
 "cells": [
  {
   "cell_type": "code",
   "execution_count": 3,
   "metadata": {
    "collapsed": true
   },
   "outputs": [],
   "source": [
    "import time\n",
    "import pymongo\n",
    "import pandas as pd\n",
    "import requests\n",
    "from collections import defaultdict\n",
    "import warnings\n",
    "warnings.filterwarnings('ignore')\n",
    "def mongo_database_setup():\n",
    "    database_name={}\n",
    "\n",
    "    # Try to connect to MongoDB,  exit if not successful.\n",
    "    try:\n",
    "        conn=pymongo.MongoClient()\n",
    "        print \"Connected successfully!!!\"\n",
    "        \n",
    "    except pymongo.errors.ConnectionFailure, e:\n",
    "       print \"Could not connect to MongoDB: %s\" % e \n",
    "\n",
    "\n",
    "    #Use todays date for the database name:\n",
    "    name='polisci_test'+time.strftime(\"%d%b%y\")\n",
    "\n",
    "    if name in conn.database_names():\n",
    "        conn.drop_database(name) #Drop the database if it exists\n",
    "        db = conn[name] #Create the database\n",
    "        \n",
    "        #Create two collections in the database\n",
    "        folios = db.folios\n",
    "        responses=db.responses\n",
    "   \n",
    "    else:\n",
    "        db = conn[name] #Create the database\n",
    "        #Create two collections in the database\n",
    "        folios = db.folios\n",
    "        responses = db.responses\n",
    "   \n",
    "    #return the connection, database name, collections names.     \n",
    "    return conn,db,folios,responses"
   ]
  },
  {
   "cell_type": "code",
   "execution_count": 4,
   "metadata": {
    "collapsed": false
   },
   "outputs": [
    {
     "name": "stdout",
     "output_type": "stream",
     "text": [
      "Connected successfully!!!\n"
     ]
    }
   ],
   "source": [
    "conn, db, folios, responses = mongo_database_setup()"
   ]
  },
  {
   "cell_type": "markdown",
   "metadata": {},
   "source": [
    "# How many documents do we have to scrape and download?"
   ]
  },
  {
   "cell_type": "code",
   "execution_count": 6,
   "metadata": {
    "collapsed": false
   },
   "outputs": [
    {
     "data": {
      "text/plain": [
       "804315"
      ]
     },
     "execution_count": 6,
     "metadata": {},
     "output_type": "execute_result"
    }
   ],
   "source": [
    "poli = conn['polisci_test26Oct16']\n",
    "count = 0\n",
    "poli.get_collection('folios').find({'ARCHIVORESPUESTA' : {'$regex' : 'respuesta=' }}).count()"
   ]
  },
  {
   "cell_type": "code",
   "execution_count": 7,
   "metadata": {
    "collapsed": false
   },
   "outputs": [
    {
     "name": "stdout",
     "output_type": "stream",
     "text": [
      "150\n"
     ]
    }
   ],
   "source": [
    "htmls_to_ping = []\n",
    "for doc in poli.get_collection('folios').find({'ARCHIVORESPUESTA' : {'$regex' : 'respuesta=' }}).limit(150):\n",
    "        htmls_to_ping.append(doc['ARCHIVORESPUESTA'])\n",
    "print len(htmls_to_ping)"
   ]
  },
  {
   "cell_type": "code",
   "execution_count": null,
   "metadata": {
    "collapsed": false
   },
   "outputs": [],
   "source": [
    "countsofResponses = defaultdict(int)\n",
    "for url in htmls_to_ping:\n",
    "    r = requests.get(url,verify = False)\n",
    "    countsofResponses[r.status_code] += 1 \n",
    "    time.sleep(1) # gotta be nce to the server\n",
    "print countsofResponses"
   ]
  },
  {
   "cell_type": "markdown",
   "metadata": {},
   "source": [
    "### This looks suspicious. Are the last five the only 500 reposnses? Lets look at the next 50 requests and see what that gives us"
   ]
  },
  {
   "cell_type": "code",
   "execution_count": null,
   "metadata": {
    "collapsed": false
   },
   "outputs": [],
   "source": [
    "countsofResponses = defaultdict(int)\n",
    "count = 0\n",
    "for url in htmls_to_ping:\n",
    "    if count >= 100:\n",
    "        r = requests.get(url,verify = False)\n",
    "        countsofResponses[r.status_code] += 1 \n",
    "        time.sleep(1) # gotta be nce to the server\n",
    "        count += 1\n",
    "    else: \n",
    "        count += 1\n",
    "\n",
    "print countsofResponses"
   ]
  },
  {
   "cell_type": "markdown",
   "metadata": {},
   "source": [
    "We want to download the raw stream of bytes coming from the mex server"
   ]
  },
  {
   "cell_type": "code",
   "execution_count": 20,
   "metadata": {
    "collapsed": false
   },
   "outputs": [],
   "source": [
    "def download_file(url):\n",
    "    local_filename = url.split('/')[-1]\n",
    "    # NOTE the stream=True parameter\n",
    "    r = requests.get(url, stream=True, verify = False)\n",
    "    with open('./'+local_filename, 'wb') as f:\n",
    "        for chunk in r.iter_content(chunk_size=1024): \n",
    "            if chunk: # filter out keep-alive new chunks\n",
    "                f.write(chunk)\n",
    "    return local_filename"
   ]
  },
  {
   "cell_type": "code",
   "execution_count": 34,
   "metadata": {
    "collapsed": false
   },
   "outputs": [],
   "source": [
    "import os\n",
    "def download_file_as_zip(url,filename,path):\n",
    "    infilename = download_file(url)\n",
    "    # most of these files are zip files... lets just change extension to this\n",
    "    newname = os.path.splitext(path+filename)[0]+'.zip'\n",
    "    # yes\n",
    "    output = os.rename(infilename, newname)\n",
    "    print \"File is located at:\",newname"
   ]
  },
  {
   "cell_type": "code",
   "execution_count": 35,
   "metadata": {
    "collapsed": false
   },
   "outputs": [
    {
     "name": "stdout",
     "output_type": "stream",
     "text": [
      "File is located at: ./index2.zip\n"
     ]
    }
   ],
   "source": [
    "download_file_as_zip(htmls_to_ping[2],'index2','./')"
   ]
  }
 ],
 "metadata": {
  "anaconda-cloud": {},
  "kernelspec": {
   "display_name": "Python [Root]",
   "language": "python",
   "name": "Python [Root]"
  },
  "language_info": {
   "codemirror_mode": {
    "name": "ipython",
    "version": 2
   },
   "file_extension": ".py",
   "mimetype": "text/x-python",
   "name": "python",
   "nbconvert_exporter": "python",
   "pygments_lexer": "ipython2",
   "version": "2.7.12"
  }
 },
 "nbformat": 4,
 "nbformat_minor": 0
}
