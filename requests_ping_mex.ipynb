{
 "cells": [
  {
   "cell_type": "code",
   "execution_count": 1,
   "metadata": {
    "collapsed": true
   },
   "outputs": [],
   "source": [
    "import time\n",
    "import pymongo\n",
    "import os\n",
    "import numpy as np\n",
    "import pandas as pd\n",
    "import requests\n",
    "from collections import defaultdict\n",
    "import warnings\n",
    "warnings.filterwarnings('ignore')\n",
    "import magic"
   ]
  },
  {
   "cell_type": "markdown",
   "metadata": {},
   "source": [
    "# How many documents do we have to scrape and download?"
   ]
  },
  {
   "cell_type": "code",
   "execution_count": 27,
   "metadata": {
    "collapsed": false
   },
   "outputs": [],
   "source": [
    "\"\"\" A util for making a connection to mongo \"\"\"\n",
    "def _connect_mongo(host, port, username, password, db):\n",
    "    try:\n",
    "        if username and password:\n",
    "            mongo_uri = 'mongodb://%s:%s@%s:%s/%s' % (username, password, host, port, db)\n",
    "            conn = pymongo.MongoClient(mongo_uri)\n",
    "            \n",
    "        else:\n",
    "            conn = pymongo.MongoClient(host, port)\n",
    "\n",
    "        print \"Connected successfully!!!\"\n",
    "        return conn[db]\n",
    "    \n",
    "    except pymongo.errors.ConnectionFailure, e:\n",
    "        print \"Could not connect to MongoDB: %s\" % e \n",
    "\n",
    "def insert_folio(db,collection,insert_query={},\n",
    "                 host='localhost',port=27017,username=None, password=None,):\n",
    "    # Connect to MongoDB\n",
    "    db = _connect_mongo(host=host, port=port, username=username, password=password, db=db)\n",
    "    return db\n",
    "    \n",
    "\"\"\" send a query and reutnr the count \"\"\"   \n",
    "def mongo_count(db,collection, query={}, host='localhost', port=27017, \n",
    "               username=None, password=None, no_id=True):\n",
    "    # Connect to MongoDB\n",
    "    db = _connect_mongo(host=host, port=port, username=username, password=password, db=db)\n",
    "    \n",
    "    # With query get the count\n",
    "    count = db[collection].find(query).count()\n",
    "    return count\n",
    "\n",
    "\"\"\" Read from Mongo and Store into Pandas DataFrame \"\"\"\n",
    "def read_mongo(db, collection, query={}, nb_limit=None, host='localhost', port=27017,\n",
    "               username=None, password=None, no_id=True):\n",
    "\n",
    "    # Connect to MongoDB\n",
    "    db = _connect_mongo(host=host, port=port, username=username, password=password, db=db)\n",
    "    \n",
    "    if nb_limit == None:\n",
    "        # just query\n",
    "        cursor = db[collection].find(query)\n",
    "    else:\n",
    "        cursor = db[collection].find(query).limit(nb_limit)\n",
    "    \n",
    "    df = pd.DataFrame(list(cursor))\n",
    "    \n",
    "    if no_id :\n",
    "        del df['_id']\n",
    "    return df\n",
    "\n",
    "\n",
    "def _download_file(url):\n",
    "    local_filename = url.split('/')[-1]\n",
    "    # NOTE the stream=True parameter\n",
    "    r = requests.get(url, stream=True, verify = False)\n",
    "    with open('./'+local_filename, 'wb') as f:\n",
    "        for chunk in r.iter_content(chunk_size=1024): \n",
    "            if chunk: # filter out keep-alive new chunks\n",
    "                f.write(chunk)\n",
    "    return local_filename\n",
    "\n",
    "\n",
    "# we need to change the infilename into something else for the respuestas\n",
    "def download_file(url,filename,path,extension=\"\"):\n",
    "    infilename = _download_file(url)\n",
    "    newname = os.path.splitext(path+filename)[0]+extension\n",
    "    # yes\n",
    "    output = os.rename(infilename, newname)\n",
    "    print \"File is located at:\",newname\n",
    "    return str(newname)\n",
    "    \n",
    "    \n",
    "\"\"\"Downloads a stack of urls\"\"\"\n",
    "def download_stack_urls(stackOfUrls,fileNameBase,path):\n",
    "    count = 0\n",
    "    length = len(stackOfUrls)\n",
    "    for url in stackOfUrls:\n",
    "        r = requests.get(url, verify = False)\n",
    "        if r.status_code == 200:\n",
    "            download_file_raw(url,str(fileNameBase)+str(count),path)\n",
    "        else:\n",
    "            print r.status_code,\"for html url\"\n",
    "            print url\n",
    "        count+=1\n",
    "        print \"Downloaded\",count,\"out of\",length\n",
    "        time.sleep(1)\n",
    "        \n",
    "def request_to_db(request,db):\n",
    "    pass\n",
    "\n",
    "def update_request(request,db):\n",
    "    pass\n",
    "\n",
    "def uploadRequest(db):\n",
    "    pass\n",
    "\n",
    "\"\"\"Determine the file_extension of a magicFile\"\"\"\n",
    "def what_is_file_extension(magicFile):\n",
    "    import re\n",
    "    r = magic.from_file(magicFile)\n",
    "    if re.search(\"Microsoft Word\",r):\n",
    "        return \".docx\"\n",
    "    if re.search(\"Composite Document File V2 Document\",r):\n",
    "        return \".doc\"\n",
    "    if re.search(\"PDF document\",r):\n",
    "        return \".pdf\"\n",
    "    if re.search(\"Rich Text Format data\",r):\n",
    "        return \".rtf\"\n",
    "    if re.search(\"HTML\",r):\n",
    "        return \".html\"\n",
    "    if re.search(\"Zip\",r):\n",
    "        return \".zip\"\n",
    "    if re.search(\"ASCII text\",r):\n",
    "        return \".txt\"\n",
    "    else:\n",
    "        return None"
   ]
  },
  {
   "cell_type": "code",
   "execution_count": 3,
   "metadata": {
    "collapsed": false
   },
   "outputs": [
    {
     "name": "stdout",
     "output_type": "stream",
     "text": [
      "Connected successfully!!!\n"
     ]
    }
   ],
   "source": [
    "df = read_mongo('polisci_test05Nov16',\n",
    "                'folios',\n",
    "                {'ARCHIVORESPUESTA' : {'$regex' : 'respuesta=' }},\n",
    "                no_id=False\n",
    "               )"
   ]
  },
  {
   "cell_type": "code",
   "execution_count": 4,
   "metadata": {
    "collapsed": false
   },
   "outputs": [
    {
     "data": {
      "text/html": [
       "<div>\n",
       "<table border=\"1\" class=\"dataframe\">\n",
       "  <thead>\n",
       "    <tr style=\"text-align: right;\">\n",
       "      <th></th>\n",
       "      <th>ARCHIVOADJUNTOSOLICITUD</th>\n",
       "      <th>ARCHIVORESPUESTA</th>\n",
       "      <th>DEPENDENCIA</th>\n",
       "      <th>DESCRIPCIONSOLICITUD</th>\n",
       "      <th>ESTATUS</th>\n",
       "      <th>FECHARESPUESTA</th>\n",
       "      <th>FECHASOLICITUD</th>\n",
       "      <th>FOLIO</th>\n",
       "      <th>LOCALIDAD</th>\n",
       "      <th>MEDIOENTRADA</th>\n",
       "      <th>OTROSDATOS</th>\n",
       "      <th>PDFOCR</th>\n",
       "      <th>RESPUESTA</th>\n",
       "      <th>SECTOR</th>\n",
       "      <th>TIPOSOLICITUD</th>\n",
       "      <th>_id</th>\n",
       "      <th>path_to_file</th>\n",
       "      <th>year</th>\n",
       "    </tr>\n",
       "  </thead>\n",
       "  <tbody>\n",
       "    <tr>\n",
       "      <th>0</th>\n",
       "      <td>NaN</td>\n",
       "      <td>https://www.infomex.org.mx/gobiernofederal/mod...</td>\n",
       "      <td>SECRETARÍA DE GOBERNACIÓN (INCLUYE LA ENTONCES...</td>\n",
       "      <td>cuenta publica municipal 2013-2014 del municip...</td>\n",
       "      <td>Electrónica</td>\n",
       "      <td>2015-01-08</td>\n",
       "      <td>2014-12-20 21:25:00</td>\n",
       "      <td>'0000400000115</td>\n",
       "      <td>{u'CODIGOPOSTAL': u'75412', u'PAIS': u'México'...</td>\n",
       "      <td>Electrónica</td>\n",
       "      <td>NaN</td>\n",
       "      <td>0</td>\n",
       "      <td>La solicitud no corresponde al marco de la Ley</td>\n",
       "      <td>Gobernación</td>\n",
       "      <td>Información Pública</td>\n",
       "      <td>581e7b270fa8cb6876cc06c9</td>\n",
       "      <td>None</td>\n",
       "      <td>2014</td>\n",
       "    </tr>\n",
       "    <tr>\n",
       "      <th>1</th>\n",
       "      <td>NaN</td>\n",
       "      <td>https://www.infomex.org.mx/gobiernofederal/mod...</td>\n",
       "      <td>SECRETARÍA DE GOBERNACIÓN (INCLUYE LA ENTONCES...</td>\n",
       "      <td>Convenios (incluyendo sus anexos) celebrados c...</td>\n",
       "      <td>Electrónica</td>\n",
       "      <td>2015-01-09</td>\n",
       "      <td>2014-12-22 09:03:00</td>\n",
       "      <td>'0000400000215</td>\n",
       "      <td>{u'CODIGOPOSTAL': u'16600', u'PAIS': u'México'...</td>\n",
       "      <td>Electrónica</td>\n",
       "      <td>NaN</td>\n",
       "      <td>0</td>\n",
       "      <td>La información está disponible públicamente</td>\n",
       "      <td>Gobernación</td>\n",
       "      <td>Información Pública</td>\n",
       "      <td>581e7b270fa8cb6876cc06ca</td>\n",
       "      <td>None</td>\n",
       "      <td>2014</td>\n",
       "    </tr>\n",
       "    <tr>\n",
       "      <th>2</th>\n",
       "      <td>NaN</td>\n",
       "      <td>https://www.infomex.org.mx/gobiernofederal/mod...</td>\n",
       "      <td>SECRETARÍA DE GOBERNACIÓN (INCLUYE LA ENTONCES...</td>\n",
       "      <td>Preguntas para una solicitud de información a ...</td>\n",
       "      <td>Electrónica</td>\n",
       "      <td>2015-01-13</td>\n",
       "      <td>2014-12-22 11:56:00</td>\n",
       "      <td>'0000400000315</td>\n",
       "      <td>{u'CODIGOPOSTAL': u'9227', u'PAIS': u'México',...</td>\n",
       "      <td>Electrónica</td>\n",
       "      <td>NaN</td>\n",
       "      <td>0</td>\n",
       "      <td>Requerimiento de información adicional</td>\n",
       "      <td>Gobernación</td>\n",
       "      <td>Información Pública</td>\n",
       "      <td>581e7b270fa8cb6876cc06cb</td>\n",
       "      <td>None</td>\n",
       "      <td>2014</td>\n",
       "    </tr>\n",
       "    <tr>\n",
       "      <th>3</th>\n",
       "      <td>NaN</td>\n",
       "      <td>https://www.infomex.org.mx/gobiernofederal/mod...</td>\n",
       "      <td>SECRETARÍA DE GOBERNACIÓN (INCLUYE LA ENTONCES...</td>\n",
       "      <td>Documentos de los contratos realizados con la ...</td>\n",
       "      <td>Electrónica</td>\n",
       "      <td>2015-03-05</td>\n",
       "      <td>2014-12-22 13:49:00</td>\n",
       "      <td>'0000400000615</td>\n",
       "      <td>{u'CODIGOPOSTAL': u'9780', u'PAIS': u'México',...</td>\n",
       "      <td>Electrónica</td>\n",
       "      <td>NaN</td>\n",
       "      <td>0</td>\n",
       "      <td>Entrega de información en medio electrónico</td>\n",
       "      <td>Gobernación</td>\n",
       "      <td>Información Pública</td>\n",
       "      <td>581e7b270fa8cb6876cc06ce</td>\n",
       "      <td>None</td>\n",
       "      <td>2014</td>\n",
       "    </tr>\n",
       "    <tr>\n",
       "      <th>4</th>\n",
       "      <td>NaN</td>\n",
       "      <td>https://www.infomex.org.mx/gobiernofederal/mod...</td>\n",
       "      <td>SECRETARÍA DE GOBERNACIÓN (INCLUYE LA ENTONCES...</td>\n",
       "      <td>Solicitó saber cual era el salario neto de la ...</td>\n",
       "      <td>Electrónica</td>\n",
       "      <td>2015-02-03</td>\n",
       "      <td>2014-12-22 14:27:00</td>\n",
       "      <td>'0000400000715</td>\n",
       "      <td>{u'CODIGOPOSTAL': u'25000', u'PAIS': u'México'...</td>\n",
       "      <td>Electrónica</td>\n",
       "      <td>En la secretaria de Gobernación o alguna de su...</td>\n",
       "      <td>0</td>\n",
       "      <td>Entrega de información en medio electrónico</td>\n",
       "      <td>Gobernación</td>\n",
       "      <td>Información Pública</td>\n",
       "      <td>581e7b270fa8cb6876cc06cf</td>\n",
       "      <td>None</td>\n",
       "      <td>2014</td>\n",
       "    </tr>\n",
       "  </tbody>\n",
       "</table>\n",
       "</div>"
      ],
      "text/plain": [
       "  ARCHIVOADJUNTOSOLICITUD                                   ARCHIVORESPUESTA  \\\n",
       "0                     NaN  https://www.infomex.org.mx/gobiernofederal/mod...   \n",
       "1                     NaN  https://www.infomex.org.mx/gobiernofederal/mod...   \n",
       "2                     NaN  https://www.infomex.org.mx/gobiernofederal/mod...   \n",
       "3                     NaN  https://www.infomex.org.mx/gobiernofederal/mod...   \n",
       "4                     NaN  https://www.infomex.org.mx/gobiernofederal/mod...   \n",
       "\n",
       "                                         DEPENDENCIA  \\\n",
       "0  SECRETARÍA DE GOBERNACIÓN (INCLUYE LA ENTONCES...   \n",
       "1  SECRETARÍA DE GOBERNACIÓN (INCLUYE LA ENTONCES...   \n",
       "2  SECRETARÍA DE GOBERNACIÓN (INCLUYE LA ENTONCES...   \n",
       "3  SECRETARÍA DE GOBERNACIÓN (INCLUYE LA ENTONCES...   \n",
       "4  SECRETARÍA DE GOBERNACIÓN (INCLUYE LA ENTONCES...   \n",
       "\n",
       "                                DESCRIPCIONSOLICITUD      ESTATUS  \\\n",
       "0  cuenta publica municipal 2013-2014 del municip...  Electrónica   \n",
       "1  Convenios (incluyendo sus anexos) celebrados c...  Electrónica   \n",
       "2  Preguntas para una solicitud de información a ...  Electrónica   \n",
       "3  Documentos de los contratos realizados con la ...  Electrónica   \n",
       "4  Solicitó saber cual era el salario neto de la ...  Electrónica   \n",
       "\n",
       "  FECHARESPUESTA      FECHASOLICITUD           FOLIO  \\\n",
       "0     2015-01-08 2014-12-20 21:25:00  '0000400000115   \n",
       "1     2015-01-09 2014-12-22 09:03:00  '0000400000215   \n",
       "2     2015-01-13 2014-12-22 11:56:00  '0000400000315   \n",
       "3     2015-03-05 2014-12-22 13:49:00  '0000400000615   \n",
       "4     2015-02-03 2014-12-22 14:27:00  '0000400000715   \n",
       "\n",
       "                                           LOCALIDAD MEDIOENTRADA  \\\n",
       "0  {u'CODIGOPOSTAL': u'75412', u'PAIS': u'México'...  Electrónica   \n",
       "1  {u'CODIGOPOSTAL': u'16600', u'PAIS': u'México'...  Electrónica   \n",
       "2  {u'CODIGOPOSTAL': u'9227', u'PAIS': u'México',...  Electrónica   \n",
       "3  {u'CODIGOPOSTAL': u'9780', u'PAIS': u'México',...  Electrónica   \n",
       "4  {u'CODIGOPOSTAL': u'25000', u'PAIS': u'México'...  Electrónica   \n",
       "\n",
       "                                          OTROSDATOS  PDFOCR  \\\n",
       "0                                                NaN       0   \n",
       "1                                                NaN       0   \n",
       "2                                                NaN       0   \n",
       "3                                                NaN       0   \n",
       "4  En la secretaria de Gobernación o alguna de su...       0   \n",
       "\n",
       "                                         RESPUESTA       SECTOR  \\\n",
       "0  La solicitud no corresponde al marco de la Ley   Gobernación   \n",
       "1      La información está disponible públicamente  Gobernación   \n",
       "2           Requerimiento de información adicional  Gobernación   \n",
       "3      Entrega de información en medio electrónico  Gobernación   \n",
       "4      Entrega de información en medio electrónico  Gobernación   \n",
       "\n",
       "         TIPOSOLICITUD                       _id path_to_file  year  \n",
       "0  Información Pública  581e7b270fa8cb6876cc06c9         None  2014  \n",
       "1  Información Pública  581e7b270fa8cb6876cc06ca         None  2014  \n",
       "2  Información Pública  581e7b270fa8cb6876cc06cb         None  2014  \n",
       "3  Información Pública  581e7b270fa8cb6876cc06ce         None  2014  \n",
       "4  Información Pública  581e7b270fa8cb6876cc06cf         None  2014  "
      ]
     },
     "execution_count": 4,
     "metadata": {},
     "output_type": "execute_result"
    }
   ],
   "source": [
    "df.head()"
   ]
  },
  {
   "cell_type": "code",
   "execution_count": 5,
   "metadata": {
    "collapsed": true
   },
   "outputs": [],
   "source": [
    "# the path to the directory \n",
    "attachment_directory = '../code/'"
   ]
  },
  {
   "cell_type": "code",
   "execution_count": 6,
   "metadata": {
    "collapsed": true
   },
   "outputs": [],
   "source": [
    "test_document = df.iloc[0]"
   ]
  },
  {
   "cell_type": "code",
   "execution_count": 7,
   "metadata": {
    "collapsed": false
   },
   "outputs": [
    {
     "name": "stdout",
     "output_type": "stream",
     "text": [
      "https://www.infomex.org.mx/gobiernofederal/moduloPublico/MimeAdjuntoSeguimientoGenerator.action?folio=0000400000115&respuesta=3\n"
     ]
    }
   ],
   "source": [
    "object_id = test_document['_id']\n",
    "year = test_document['year']\n",
    "url = test_document['ARCHIVORESPUESTA']\n",
    "print url"
   ]
  },
  {
   "cell_type": "code",
   "execution_count": 8,
   "metadata": {
    "collapsed": false
   },
   "outputs": [
    {
     "data": {
      "text/plain": [
       "ObjectId('581e7b270fa8cb6876cc06c9')"
      ]
     },
     "execution_count": 8,
     "metadata": {},
     "output_type": "execute_result"
    }
   ],
   "source": [
    "object_id"
   ]
  },
  {
   "cell_type": "code",
   "execution_count": 9,
   "metadata": {
    "collapsed": false
   },
   "outputs": [
    {
     "data": {
      "text/plain": [
       "posix.stat_result(st_mode=16877, st_ino=74347143, st_dev=16777220, st_nlink=54, st_uid=501, st_gid=20, st_size=1836, st_atime=1478487788, st_mtime=1478487788, st_ctime=1478487788)"
      ]
     },
     "execution_count": 9,
     "metadata": {},
     "output_type": "execute_result"
    }
   ],
   "source": [
    "path_year = str(attachment_directory)+str(year)+'/'\n",
    "os.stat(path_year)"
   ]
  },
  {
   "cell_type": "code",
   "execution_count": 10,
   "metadata": {
    "collapsed": false
   },
   "outputs": [
    {
     "ename": "OSError",
     "evalue": "[Errno 2] No such file or directory: '../code/2014/581e7b270fa8cb6876cc06c9'",
     "output_type": "error",
     "traceback": [
      "\u001b[0;31m---------------------------------------------------------------------------\u001b[0m",
      "\u001b[0;31mOSError\u001b[0m                                   Traceback (most recent call last)",
      "\u001b[0;32m<ipython-input-10-22d62c09bc0b>\u001b[0m in \u001b[0;36m<module>\u001b[0;34m()\u001b[0m\n\u001b[1;32m      1\u001b[0m \u001b[0mpath\u001b[0m \u001b[0;34m=\u001b[0m \u001b[0mstr\u001b[0m\u001b[0;34m(\u001b[0m\u001b[0mattachment_directory\u001b[0m\u001b[0;34m)\u001b[0m\u001b[0;34m+\u001b[0m\u001b[0mstr\u001b[0m\u001b[0;34m(\u001b[0m\u001b[0myear\u001b[0m\u001b[0;34m)\u001b[0m\u001b[0;34m+\u001b[0m\u001b[0;34m'/'\u001b[0m\u001b[0;34m+\u001b[0m\u001b[0mstr\u001b[0m\u001b[0;34m(\u001b[0m\u001b[0mobject_id\u001b[0m\u001b[0;34m)\u001b[0m\u001b[0;34m\u001b[0m\u001b[0m\n\u001b[0;32m----> 2\u001b[0;31m \u001b[0mos\u001b[0m\u001b[0;34m.\u001b[0m\u001b[0mstat\u001b[0m\u001b[0;34m(\u001b[0m\u001b[0mpath\u001b[0m\u001b[0;34m)\u001b[0m\u001b[0;34m\u001b[0m\u001b[0m\n\u001b[0m",
      "\u001b[0;31mOSError\u001b[0m: [Errno 2] No such file or directory: '../code/2014/581e7b270fa8cb6876cc06c9'"
     ]
    }
   ],
   "source": [
    "path = str(attachment_directory)+str(year)+'/'+str(object_id)\n",
    "os.stat(path)"
   ]
  },
  {
   "cell_type": "markdown",
   "metadata": {},
   "source": [
    "OH NO! No path. lets make it:"
   ]
  },
  {
   "cell_type": "code",
   "execution_count": 11,
   "metadata": {
    "collapsed": false
   },
   "outputs": [
    {
     "data": {
      "text/plain": [
       "posix.stat_result(st_mode=16877, st_ino=74696920, st_dev=16777220, st_nlink=2, st_uid=501, st_gid=20, st_size=68, st_atime=1478487874, st_mtime=1478487874, st_ctime=1478487874)"
      ]
     },
     "execution_count": 11,
     "metadata": {},
     "output_type": "execute_result"
    }
   ],
   "source": [
    "os.mkdir(str(attachment_directory)+str(year)+'/'+str(object_id))\n",
    "os.stat(path)"
   ]
  },
  {
   "cell_type": "code",
   "execution_count": 12,
   "metadata": {
    "collapsed": false,
    "scrolled": true
   },
   "outputs": [
    {
     "name": "stdout",
     "output_type": "stream",
     "text": [
      "File is located at: ../code/2014/581e7b270fa8cb6876cc06c9/afile\n"
     ]
    }
   ],
   "source": [
    "download_file(url,'/afile',path)"
   ]
  },
  {
   "cell_type": "code",
   "execution_count": 13,
   "metadata": {
    "collapsed": false
   },
   "outputs": [
    {
     "data": {
      "text/plain": [
       "'.html'"
      ]
     },
     "execution_count": 13,
     "metadata": {},
     "output_type": "execute_result"
    }
   ],
   "source": [
    "# what is the extension of file\n",
    "what_is_file_extension('../code/2014/581e7b270fa8cb6876cc06c9/afile')"
   ]
  },
  {
   "cell_type": "code",
   "execution_count": 16,
   "metadata": {
    "collapsed": false
   },
   "outputs": [],
   "source": [
    "renamed_file = os.path.join(path,'afile'+'.html')\n",
    "os.rename('../code/2014/581e7b270fa8cb6876cc06c9/afile',renamed_file)"
   ]
  },
  {
   "cell_type": "code",
   "execution_count": 56,
   "metadata": {
    "collapsed": true
   },
   "outputs": [],
   "source": [
    "def a_function(document,attachment_directory,afilename):\n",
    "    object_id = document['_id']\n",
    "    year = document['year']\n",
    "    url = document['ARCHIVORESPUESTA']\n",
    "    path_year = str(attachment_directory)+str(year)+'/'\n",
    "    path_to_download = str(attachment_directory)+str(year)+'/'+str(object_id) \n",
    "    \n",
    "    try:\n",
    "        os.stat(path_to_download)\n",
    "    except:\n",
    "        os.mkdir(path_to_download)\n",
    "    \n",
    "    downloaded_file = download_file(url,afilename,path_to_download)\n",
    "    extension = what_is_file_extension(str(downloaded_file))\n",
    "    renamed_file = os.path.join(path_to_download,afilename+str(extension))\n",
    "    print renamed_file\n",
    "    print path_to_download\n",
    "    try:\n",
    "        os.rename(path_to_download+afilename,renamed_file)\n",
    "        print \"successfuly renamed\"\n",
    "    except:\n",
    "        print \"unsuccessful rename\"\n",
    "        return renamed_file\n",
    "    \n",
    "    return renamed_file"
   ]
  },
  {
   "cell_type": "code",
   "execution_count": 57,
   "metadata": {
    "collapsed": false
   },
   "outputs": [
    {
     "name": "stdout",
     "output_type": "stream",
     "text": [
      "File is located at: ../code/2014/581e7b270fa8cb6876cc06caattachment\n",
      "../code/2014/581e7b270fa8cb6876cc06ca/attachment.html\n",
      "../code/2014/581e7b270fa8cb6876cc06ca\n",
      "successfuly renamed\n"
     ]
    },
    {
     "data": {
      "text/plain": [
       "'../code/2014/581e7b270fa8cb6876cc06ca/attachment.html'"
      ]
     },
     "execution_count": 57,
     "metadata": {},
     "output_type": "execute_result"
    }
   ],
   "source": [
    "a_function(df.iloc[1],attachment_directory,'attachment')"
   ]
  },
  {
   "cell_type": "code",
   "execution_count": 42,
   "metadata": {
    "collapsed": false
   },
   "outputs": [
    {
     "ename": "OSError",
     "evalue": "[Errno 2] No such file or directory: '../code/2014/581e7b270fa8cb6876cc06c9/attachment'",
     "output_type": "error",
     "traceback": [
      "\u001b[0;31m---------------------------------------------------------------------------\u001b[0m",
      "\u001b[0;31mOSError\u001b[0m                                   Traceback (most recent call last)",
      "\u001b[0;32m<ipython-input-42-780251255b1c>\u001b[0m in \u001b[0;36m<module>\u001b[0;34m()\u001b[0m\n\u001b[0;32m----> 1\u001b[0;31m \u001b[0mos\u001b[0m\u001b[0;34m.\u001b[0m\u001b[0mstat\u001b[0m\u001b[0;34m(\u001b[0m\u001b[0;34m'../code/2014/581e7b270fa8cb6876cc06c9/attachment'\u001b[0m\u001b[0;34m)\u001b[0m\u001b[0;34m\u001b[0m\u001b[0m\n\u001b[0m",
      "\u001b[0;31mOSError\u001b[0m: [Errno 2] No such file or directory: '../code/2014/581e7b270fa8cb6876cc06c9/attachment'"
     ]
    }
   ],
   "source": [
    "os.stat('../code/2014/581e7b270fa8cb6876cc06c9/attachment')"
   ]
  },
  {
   "cell_type": "code",
   "execution_count": 58,
   "metadata": {
    "collapsed": true
   },
   "outputs": [],
   "source": [
    "def build_request_from_folio(folio_document,path_to_file,mongo_request):\n",
    "    import datetime\n",
    "    request = {}\n",
    "    request['folio_id'] = folio_document['_id']\n",
    "    request['request_url'] = folio_document['ARCHIVORESPUESTA']\n",
    "    request['date'] = datetime.datetime.now()\n",
    "    request['path_to_file'] = str(path_to_file)\n",
    "    result_of_insert = mongo_request.insert_one(request)\n",
    "    return result_of_insert"
   ]
  },
  {
   "cell_type": "code",
   "execution_count": null,
   "metadata": {
    "collapsed": true
   },
   "outputs": [],
   "source": []
  },
  {
   "cell_type": "code",
   "execution_count": 6,
   "metadata": {
    "collapsed": false
   },
   "outputs": [
    {
     "data": {
      "text/plain": [
       "array([u'Desechada por falta de pago',\n",
       "       u'Desechada por falta de respuesta del ciudadano', u'Terminada'], dtype=object)"
      ]
     },
     "execution_count": 6,
     "metadata": {},
     "output_type": "execute_result"
    }
   ],
   "source": [
    "np.unique(df['ESTATUS'])"
   ]
  },
  {
   "cell_type": "code",
   "execution_count": 7,
   "metadata": {
    "collapsed": false
   },
   "outputs": [],
   "source": [
    "df = df.set_index(np.arange(0,len(df)))"
   ]
  },
  {
   "cell_type": "code",
   "execution_count": 8,
   "metadata": {
    "collapsed": false
   },
   "outputs": [
    {
     "name": "stdout",
     "output_type": "stream",
     "text": [
      "https://www.infomex.org.mx/gobiernofederal/moduloPublico/MimeGenerator.action?folio=0000400005203\n",
      "https://www.infomex.org.mx/gobiernofederal/moduloPublico/MimeAdjuntoSeguimientoGenerator.action?folio=0000400005203&respuesta=6\n"
     ]
    }
   ],
   "source": [
    "print df[['ARCHIVOADJUNTOSOLICITUD']].iloc[3].item()\n",
    "print df[['ARCHIVORESPUESTA']].iloc[3].item()"
   ]
  },
  {
   "cell_type": "code",
   "execution_count": 15,
   "metadata": {
    "collapsed": false
   },
   "outputs": [
    {
     "name": "stdout",
     "output_type": "stream",
     "text": [
      "File is located at: ./wordDoc.zip\n"
     ]
    }
   ],
   "source": [
    "download_file('https://www.infomex.org.mx/gobiernofederal/moduloPublico/MimeGenerator.action?folio=0000400005203','wordDoc','./','.zip')"
   ]
  },
  {
   "cell_type": "code",
   "execution_count": 16,
   "metadata": {
    "collapsed": false
   },
   "outputs": [
    {
     "name": "stdout",
     "output_type": "stream",
     "text": [
      "File is located at: ./wordDoc\n"
     ]
    }
   ],
   "source": [
    "download_file('https://www.infomex.org.mx/gobiernofederal/moduloPublico/MimeGenerator.action?folio=0000400005203','wordDoc','./')"
   ]
  },
  {
   "cell_type": "code",
   "execution_count": 18,
   "metadata": {
    "collapsed": false
   },
   "outputs": [
    {
     "name": "stdout",
     "output_type": "stream",
     "text": [
      "File is located at: ./azipfile\n"
     ]
    }
   ],
   "source": [
    "download_file('https://www.infomex.org.mx/gobiernofederal/moduloPublico/MimeAdjuntoSeguimientoGenerator.action?folio=0000400005203&respuesta=6','azipfile','./')"
   ]
  },
  {
   "cell_type": "code",
   "execution_count": 19,
   "metadata": {
    "collapsed": false
   },
   "outputs": [],
   "source": [
    "respuestas = df['ARCHIVORESPUESTA']\n",
    "ajuntos = df['ARCHIVOADJUNTOSOLICITUD']\n",
    "# download only 10 files\n",
    "respuestas = respuestas[0:10]\n",
    "# download only 10 files\n",
    "ajuntos = ajuntos[0:10]\n",
    "\n",
    "#download_stack_urls(respuestas,'arespuesta','./attachments/respuesta/')"
   ]
  },
  {
   "cell_type": "code",
   "execution_count": 20,
   "metadata": {
    "collapsed": false
   },
   "outputs": [],
   "source": [
    "ajuntos_clean = []\n",
    "for url in ajuntos:\n",
    "    if str(url) == 'nan':\n",
    "        continue\n",
    "    else:\n",
    "        ajuntos_clean.append(url)\n",
    "#download_stack_urls(ajuntos_clean,'aajunto','./attachments/ajunto/')"
   ]
  },
  {
   "cell_type": "code",
   "execution_count": 21,
   "metadata": {
    "collapsed": false
   },
   "outputs": [
    {
     "data": {
      "text/plain": [
       "501358.0"
      ]
     },
     "execution_count": 21,
     "metadata": {},
     "output_type": "execute_result"
    }
   ],
   "source": [
    "df2 = df[df['attach_inc'] == 1]\n",
    "max(df2['word_count'])"
   ]
  },
  {
   "cell_type": "code",
   "execution_count": 22,
   "metadata": {
    "collapsed": false
   },
   "outputs": [
    {
     "name": "stdout",
     "output_type": "stream",
     "text": [
      "Connected successfully!!!\n"
     ]
    }
   ],
   "source": [
    "df2 = read_mongo('polisci_test26Oct16','folios',{'attach_inc' : 0},400000)"
   ]
  },
  {
   "cell_type": "code",
   "execution_count": 23,
   "metadata": {
    "collapsed": false
   },
   "outputs": [
    {
     "data": {
      "text/plain": [
       "400000"
      ]
     },
     "execution_count": 23,
     "metadata": {},
     "output_type": "execute_result"
    }
   ],
   "source": [
    "len(df2[df2['attach_full']== '    '])"
   ]
  },
  {
   "cell_type": "code",
   "execution_count": 28,
   "metadata": {
    "collapsed": false
   },
   "outputs": [
    {
     "name": "stdout",
     "output_type": "stream",
     "text": [
      "Connected successfully!!!\n",
      "Connected successfully!!!\n",
      "difference 128692\n",
      "percent of documents with attachments included 0.898840086655 %\n"
     ]
    }
   ],
   "source": [
    "not_attachments = mongo_count('polisci_test26Oct16','folios',{'attach_inc' : 0})\n",
    "total = mongo_count('polisci_test26Oct16','folios')\n",
    "print \"difference\",total-not_attachments\n",
    "print \"percent of documents with attachments included\",float(not_attachments)/float(total),'%'"
   ]
  },
  {
   "cell_type": "code",
   "execution_count": null,
   "metadata": {
    "collapsed": true
   },
   "outputs": [],
   "source": []
  }
 ],
 "metadata": {
  "anaconda-cloud": {},
  "kernelspec": {
   "display_name": "Python [Root]",
   "language": "python",
   "name": "Python [Root]"
  },
  "language_info": {
   "codemirror_mode": {
    "name": "ipython",
    "version": 2
   },
   "file_extension": ".py",
   "mimetype": "text/x-python",
   "name": "python",
   "nbconvert_exporter": "python",
   "pygments_lexer": "ipython2",
   "version": "2.7.12"
  }
 },
 "nbformat": 4,
 "nbformat_minor": 0
}
