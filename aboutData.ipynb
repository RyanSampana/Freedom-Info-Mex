{
 "cells": [
  {
   "cell_type": "markdown",
   "metadata": {},
   "source": [
    "# First let understand the data that we have. I'm going to use 2003 as an example"
   ]
  },
  {
   "cell_type": "code",
   "execution_count": 2,
   "metadata": {
    "collapsed": false
   },
   "outputs": [
    {
     "data": {
      "text/html": [
       "<div>\n",
       "<table border=\"1\" class=\"dataframe\">\n",
       "  <thead>\n",
       "    <tr style=\"text-align: right;\">\n",
       "      <th></th>\n",
       "      <th>FOLIO</th>\n",
       "      <th>FECHASOLICITUD</th>\n",
       "      <th>DEPENDENCIA</th>\n",
       "      <th>ESTATUS</th>\n",
       "      <th>MEDIOENTRADA</th>\n",
       "      <th>TIPOSOLICITUD</th>\n",
       "      <th>DESCRIPCIONSOLICITUD</th>\n",
       "      <th>OTROSDATOS</th>\n",
       "      <th>ARCHIVOADJUNTOSOLICITUD</th>\n",
       "      <th>MEDIOENTREGA</th>\n",
       "      <th>...</th>\n",
       "      <th>ESTADO</th>\n",
       "      <th>MUNICIPIO</th>\n",
       "      <th>CODIGOPOSTAL</th>\n",
       "      <th>SECTOR</th>\n",
       "      <th>X</th>\n",
       "      <th>X.1</th>\n",
       "      <th>PDFOCR</th>\n",
       "      <th>attach_full</th>\n",
       "      <th>attach.inc</th>\n",
       "      <th>word.count</th>\n",
       "    </tr>\n",
       "  </thead>\n",
       "  <tbody>\n",
       "    <tr>\n",
       "      <th>0</th>\n",
       "      <td>'0000400000115</td>\n",
       "      <td>20/12/2014 21:25</td>\n",
       "      <td>SECRETARÍA DE GOBERNACIÓN (INCLUYE LA ENTONCES...</td>\n",
       "      <td>Terminada</td>\n",
       "      <td>Electrónica</td>\n",
       "      <td>Información Pública</td>\n",
       "      <td>cuenta publica municipal 2013-2014 del municip...</td>\n",
       "      <td>NaN</td>\n",
       "      <td>NaN</td>\n",
       "      <td>Entrega por Internet en el INFOMEX</td>\n",
       "      <td>...</td>\n",
       "      <td>Puebla</td>\n",
       "      <td>REYES DE JUAREZ  LOS</td>\n",
       "      <td>75412</td>\n",
       "      <td>Gobernación</td>\n",
       "      <td>NaN</td>\n",
       "      <td>NaN</td>\n",
       "      <td>0</td>\n",
       "      <td></td>\n",
       "      <td>0</td>\n",
       "      <td>31.0</td>\n",
       "    </tr>\n",
       "    <tr>\n",
       "      <th>1</th>\n",
       "      <td>'0000400000215</td>\n",
       "      <td>22/12/2014 09:03</td>\n",
       "      <td>SECRETARÍA DE GOBERNACIÓN (INCLUYE LA ENTONCES...</td>\n",
       "      <td>Terminada</td>\n",
       "      <td>Electrónica</td>\n",
       "      <td>Información Pública</td>\n",
       "      <td>Convenios (incluyendo sus anexos) celebrados c...</td>\n",
       "      <td>NaN</td>\n",
       "      <td>NaN</td>\n",
       "      <td>Entrega por Internet en el INFOMEX</td>\n",
       "      <td>...</td>\n",
       "      <td>Distrito Federal</td>\n",
       "      <td>XOCHIMILCO</td>\n",
       "      <td>16600</td>\n",
       "      <td>Gobernación</td>\n",
       "      <td>NaN</td>\n",
       "      <td>NaN</td>\n",
       "      <td>0</td>\n",
       "      <td></td>\n",
       "      <td>0</td>\n",
       "      <td>20.0</td>\n",
       "    </tr>\n",
       "    <tr>\n",
       "      <th>2</th>\n",
       "      <td>'0000400000315</td>\n",
       "      <td>22/12/2014 11:56</td>\n",
       "      <td>SECRETARÍA DE GOBERNACIÓN (INCLUYE LA ENTONCES...</td>\n",
       "      <td>Desechada por falta de respuesta del ciudadano</td>\n",
       "      <td>Electrónica</td>\n",
       "      <td>Información Pública</td>\n",
       "      <td>Preguntas para una solicitud de información a ...</td>\n",
       "      <td>NaN</td>\n",
       "      <td>NaN</td>\n",
       "      <td>Entrega por Internet en el INFOMEX</td>\n",
       "      <td>...</td>\n",
       "      <td>Distrito Federal</td>\n",
       "      <td>IZTAPALAPA</td>\n",
       "      <td>9227</td>\n",
       "      <td>Gobernación</td>\n",
       "      <td>NaN</td>\n",
       "      <td>NaN</td>\n",
       "      <td>0</td>\n",
       "      <td></td>\n",
       "      <td>0</td>\n",
       "      <td>137.0</td>\n",
       "    </tr>\n",
       "    <tr>\n",
       "      <th>3</th>\n",
       "      <td>'0000400000415</td>\n",
       "      <td>22/12/2014 12:40</td>\n",
       "      <td>SECRETARÍA DE GOBERNACIÓN (INCLUYE LA ENTONCES...</td>\n",
       "      <td>Terminada</td>\n",
       "      <td>Electrónica</td>\n",
       "      <td>Datos Personales</td>\n",
       "      <td>DESCRIPCIÓN SOLICITUD</td>\n",
       "      <td>OTROS DATOS</td>\n",
       "      <td>NaN</td>\n",
       "      <td>Consulta Directa</td>\n",
       "      <td>...</td>\n",
       "      <td>Aguascalientes</td>\n",
       "      <td>AGUASCALIENTES</td>\n",
       "      <td>20210</td>\n",
       "      <td>Gobernación</td>\n",
       "      <td>NaN</td>\n",
       "      <td>NaN</td>\n",
       "      <td>0</td>\n",
       "      <td></td>\n",
       "      <td>0</td>\n",
       "      <td>4.0</td>\n",
       "    </tr>\n",
       "    <tr>\n",
       "      <th>4</th>\n",
       "      <td>'0000400000515</td>\n",
       "      <td>22/12/2014 13:07</td>\n",
       "      <td>SECRETARÍA DE GOBERNACIÓN (INCLUYE LA ENTONCES...</td>\n",
       "      <td>Terminada</td>\n",
       "      <td>Electrónica</td>\n",
       "      <td>Información Pública</td>\n",
       "      <td>Del Programa Implementación de operativos para...</td>\n",
       "      <td>NaN</td>\n",
       "      <td>NaN</td>\n",
       "      <td>Entrega por Internet en el INFOMEX</td>\n",
       "      <td>...</td>\n",
       "      <td>México</td>\n",
       "      <td>OCOYOACAC</td>\n",
       "      <td>52740</td>\n",
       "      <td>Gobernación</td>\n",
       "      <td>NaN</td>\n",
       "      <td>NaN</td>\n",
       "      <td>0</td>\n",
       "      <td></td>\n",
       "      <td>0</td>\n",
       "      <td>122.0</td>\n",
       "    </tr>\n",
       "  </tbody>\n",
       "</table>\n",
       "<p>5 rows × 26 columns</p>\n",
       "</div>"
      ],
      "text/plain": [
       "            FOLIO    FECHASOLICITUD  \\\n",
       "0  '0000400000115  20/12/2014 21:25   \n",
       "1  '0000400000215  22/12/2014 09:03   \n",
       "2  '0000400000315  22/12/2014 11:56   \n",
       "3  '0000400000415  22/12/2014 12:40   \n",
       "4  '0000400000515  22/12/2014 13:07   \n",
       "\n",
       "                                         DEPENDENCIA  \\\n",
       "0  SECRETARÍA DE GOBERNACIÓN (INCLUYE LA ENTONCES...   \n",
       "1  SECRETARÍA DE GOBERNACIÓN (INCLUYE LA ENTONCES...   \n",
       "2  SECRETARÍA DE GOBERNACIÓN (INCLUYE LA ENTONCES...   \n",
       "3  SECRETARÍA DE GOBERNACIÓN (INCLUYE LA ENTONCES...   \n",
       "4  SECRETARÍA DE GOBERNACIÓN (INCLUYE LA ENTONCES...   \n",
       "\n",
       "                                          ESTATUS MEDIOENTRADA  \\\n",
       "0                                       Terminada  Electrónica   \n",
       "1                                       Terminada  Electrónica   \n",
       "2  Desechada por falta de respuesta del ciudadano  Electrónica   \n",
       "3                                       Terminada  Electrónica   \n",
       "4                                       Terminada  Electrónica   \n",
       "\n",
       "         TIPOSOLICITUD                               DESCRIPCIONSOLICITUD  \\\n",
       "0  Información Pública  cuenta publica municipal 2013-2014 del municip...   \n",
       "1  Información Pública  Convenios (incluyendo sus anexos) celebrados c...   \n",
       "2  Información Pública  Preguntas para una solicitud de información a ...   \n",
       "3     Datos Personales                              DESCRIPCIÓN SOLICITUD   \n",
       "4  Información Pública  Del Programa Implementación de operativos para...   \n",
       "\n",
       "    OTROSDATOS ARCHIVOADJUNTOSOLICITUD                        MEDIOENTREGA  \\\n",
       "0          NaN                     NaN  Entrega por Internet en el INFOMEX   \n",
       "1          NaN                     NaN  Entrega por Internet en el INFOMEX   \n",
       "2          NaN                     NaN  Entrega por Internet en el INFOMEX   \n",
       "3  OTROS DATOS                     NaN                    Consulta Directa   \n",
       "4          NaN                     NaN  Entrega por Internet en el INFOMEX   \n",
       "\n",
       "     ...                ESTADO             MUNICIPIO CODIGOPOSTAL  \\\n",
       "0    ...                Puebla  REYES DE JUAREZ  LOS        75412   \n",
       "1    ...      Distrito Federal            XOCHIMILCO        16600   \n",
       "2    ...      Distrito Federal            IZTAPALAPA         9227   \n",
       "3    ...        Aguascalientes        AGUASCALIENTES        20210   \n",
       "4    ...                México             OCOYOACAC        52740   \n",
       "\n",
       "        SECTOR    X  X.1 PDFOCR attach_full attach.inc word.count  \n",
       "0  Gobernación  NaN  NaN      0                      0       31.0  \n",
       "1  Gobernación  NaN  NaN      0                      0       20.0  \n",
       "2  Gobernación  NaN  NaN      0                      0      137.0  \n",
       "3  Gobernación  NaN  NaN      0                      0        4.0  \n",
       "4  Gobernación  NaN  NaN      0                      0      122.0  \n",
       "\n",
       "[5 rows x 26 columns]"
      ]
     },
     "execution_count": 2,
     "metadata": {},
     "output_type": "execute_result"
    }
   ],
   "source": [
    "import warnings\n",
    "import re\n",
    "warnings.filterwarnings('ignore')\n",
    "# load data\n",
    "import numpy as np\n",
    "import pandas as pd\n",
    "df = pd.read_csv('../full_request_data/attachdata2014.csv',encoding='Latin-1')\n",
    "df.head()"
   ]
  },
  {
   "cell_type": "markdown",
   "metadata": {},
   "source": [
    "## What are the english translations to the the column headers. I just printed our all the columns and used google translate for each of them. Results below"
   ]
  },
  {
   "cell_type": "code",
   "execution_count": 2,
   "metadata": {
    "collapsed": false
   },
   "outputs": [
    {
     "name": "stdout",
     "output_type": "stream",
     "text": [
      "(u'FOLIO', 'FOLIO')\n",
      "(u'FECHASOLICITUD', 'APPLICATION DATE')\n",
      "(u'DEPENDENCIA', 'DEPENDENCE')\n",
      "(u'ESTATUS', 'STATUS')\n",
      "(u'MEDIOENTRADA', 'RATED INPUT')\n",
      "(u'TIPOSOLICITUD', 'APPLICATION TYPE')\n",
      "(u'DESCRIPCIONSOLICITUD', 'DESCRIPTION APPLICATION')\n",
      "(u'OTROSDATOS', 'OTHER DATA')\n",
      "(u'ARCHIVOADJUNTOSOLICITUD', 'ATTACHMENT REQUEST')\n",
      "(u'MEDIOENTREGA', 'AVERAGE DELIVERY')\n",
      "(u'FECHALIMITE', 'DEADLINE')\n",
      "(u'RESPUESTA', 'ANSWER')\n",
      "(u'TEXTORESPUESTA', 'TEXT ANSWER')\n",
      "(u'ARCHIVORESPUESTA', 'RESPONSE FILE')\n",
      "(u'FECHARESPUESTA', 'DATE RESPONSE')\n",
      "(u'PAIS', 'COUNTRY')\n",
      "(u'ESTADO', 'STATE')\n",
      "(u'MUNICIPIO', 'MUNICIPALITY')\n",
      "(u'CODIGOPOSTAL', 'POSTAL CODE')\n",
      "(u'SECTOR', 'SECTOR')\n",
      "(u'X', 'X')\n",
      "(u'X.1', 'X.1')\n",
      "(u'X.2', 'X.2')\n",
      "(u'X.3', 'X.3')\n",
      "(u'PDFOCR', 'PDFOCR')\n",
      "(u'attach_full', 'attach_full')\n",
      "(u'attach.inc', 'attach.inc')\n",
      "(u'word.count', 'word.count')\n"
     ]
    }
   ],
   "source": [
    "columns = list(df.columns.values)\n",
    "# Uncomment below to print all the column values\n",
    "# for x in columns: print x\n",
    "# Google translate gave us these translations for the column headers\n",
    "english = [\n",
    "'FOLIO'\n",
    ",'APPLICATION DATE'\n",
    ",'DEPENDENCE'\n",
    ",'STATUS'\n",
    ",'RATED INPUT'\n",
    ",'APPLICATION TYPE'\n",
    ",'DESCRIPTION APPLICATION'\n",
    ",'OTHER DATA'\n",
    ",'ATTACHMENT REQUEST'\n",
    ",'AVERAGE DELIVERY'\n",
    ",'DEADLINE'\n",
    ",'ANSWER'\n",
    ",'TEXT ANSWER'\n",
    ",'RESPONSE FILE'\n",
    ",'DATE RESPONSE'\n",
    ",'COUNTRY'\n",
    ",'STATE'\n",
    ",'MUNICIPALITY'\n",
    ",'POSTAL CODE'\n",
    ",'SECTOR'\n",
    ",'X'\n",
    ",'X.1'\n",
    ",'X.2'\n",
    ",'X.3'\n",
    ",'PDFOCR'\n",
    ",'attach_full'\n",
    ",'attach.inc'\n",
    ",'word.count']\n",
    "column_translations = zip(columns,english)\n",
    "# prints out the translations\n",
    "for x in column_translations:\n",
    "    print x"
   ]
  },
  {
   "cell_type": "markdown",
   "metadata": {},
   "source": [
    "# Let see what are the different types of responses and their google translations"
   ]
  },
  {
   "cell_type": "code",
   "execution_count": 3,
   "metadata": {
    "collapsed": false
   },
   "outputs": [
    {
     "name": "stdout",
     "output_type": "stream",
     "text": [
      "Delivery of information on electronic media \n",
      "Absence of the information requested \n",
      "Information partially proprietary or confidential \n",
      "The information is publicly available \n",
      "The request does not correspond to the framework of the Law \n",
      "Refusal to be proprietary or confidential It is not within the competence of the liaison unit \n",
      "Do not shall process the request \n",
      "Notification of availability of information \n",
      "Shipping Notification \n",
      "Notification of extension \n",
      "Notification Date and place of delivery \n",
      "Request for additional information \n",
      "Response to Request for additional information \n",
      "Reply by the applicant to the delivery notification of information with cost \n",
      "Reply by the applicant to the delivery notification of information without cost \n",
      "No Answer\n"
     ]
    }
   ],
   "source": [
    "# for x in np.unique(df.RESPUESTA): print x\n",
    "# google translated the requests printed above\n",
    "respuesta_english = ['Delivery of information on electronic media '\n",
    ",'Absence of the information requested '\n",
    ",'Information partially proprietary or confidential '\n",
    ",'The information is publicly available '\n",
    ",'The request does not correspond to the framework of the Law '\n",
    ",'Refusal to be proprietary or confidential '\n",
    "'It is not within the competence of the liaison unit '\n",
    ",'Do not shall process the request '\n",
    ",'Notification of availability of information '\n",
    ",'Shipping Notification '\n",
    ",'Notification of extension '\n",
    ",'Notification Date and place of delivery '\n",
    ",'Request for additional information '\n",
    ",'Response to Request for additional information '\n",
    ",'Reply by the applicant to the delivery notification of information with cost '\n",
    ",'Reply by the applicant to the delivery notification of information without cost '\n",
    ",'No Answer']    \n",
    "for x,y in zip(respuesta_english,np.unique(df.RESPUESTA)): print x"
   ]
  },
  {
   "cell_type": "markdown",
   "metadata": {},
   "source": [
    "# What are the different statuses of each record?"
   ]
  },
  {
   "cell_type": "code",
   "execution_count": 4,
   "metadata": {
    "collapsed": false
   },
   "outputs": [
    {
     "name": "stdout",
     "output_type": "stream",
     "text": [
      "ESTATUS\n",
      "Dismissed for lack of payment\n",
      "Dismissed for lack of response from the citizen\n",
      "In process\n",
      "completed\n",
      "\n",
      "TIPOSOLICITUD\n",
      "Personal information\n",
      "Public information\n"
     ]
    }
   ],
   "source": [
    "print \"ESTATUS\"\n",
    "#for x in np.unique(df['ESTATUS']): print x\n",
    "estatus_english = ['Dismissed for lack of payment'\n",
    ",'Dismissed for lack of response from the citizen'\n",
    ",'In process'\n",
    ",'completed']\n",
    "for x,y in zip(estatus_english,np.unique(df['ESTATUS'])): print x\n",
    "print\n",
    "print \"TIPOSOLICITUD\"    \n",
    "#for x in np.unique(df['TIPOSOLICITUD']): print x\n",
    "tiposolicidtude_english = ['Personal information','Public information']\n",
    "for x,y in zip(tiposolicidtude_english,np.unique(df['TIPOSOLICITUD'])): print x"
   ]
  },
  {
   "cell_type": "markdown",
   "metadata": {},
   "source": [
    "# List indicies where the the attachment is given"
   ]
  },
  {
   "cell_type": "code",
   "execution_count": 5,
   "metadata": {
    "collapsed": true
   },
   "outputs": [],
   "source": [
    "notnullz = np.where(df['ARCHIVOADJUNTOSOLICITUD'].notnull())[0]"
   ]
  },
  {
   "cell_type": "code",
   "execution_count": 6,
   "metadata": {
    "collapsed": false
   },
   "outputs": [
    {
     "data": {
      "text/plain": [
       "3101"
      ]
     },
     "execution_count": 6,
     "metadata": {},
     "output_type": "execute_result"
    }
   ],
   "source": [
    "len(notnullz)"
   ]
  },
  {
   "cell_type": "markdown",
   "metadata": {},
   "source": [
    "### Lets look at one of those links"
   ]
  },
  {
   "cell_type": "code",
   "execution_count": 7,
   "metadata": {
    "collapsed": false
   },
   "outputs": [
    {
     "data": {
      "text/plain": [
       "u'https://www.infomex.org.mx/gobiernofederal/moduloPublico/MimeGenerator.action?folio=0000400005103'"
      ]
     },
     "execution_count": 7,
     "metadata": {},
     "output_type": "execute_result"
    }
   ],
   "source": [
    "df['ARCHIVOADJUNTOSOLICITUD'][notnullz[2]]"
   ]
  },
  {
   "cell_type": "markdown",
   "metadata": {},
   "source": [
    "### 'PDFOCR' looks like it gives us links if the reponse is a pdf\n",
    "0 for no 1 for yes"
   ]
  },
  {
   "cell_type": "code",
   "execution_count": 8,
   "metadata": {
    "collapsed": false
   },
   "outputs": [
    {
     "name": "stdout",
     "output_type": "stream",
     "text": [
      "Int64Index([  665,  1722,  1875,  2304,  2339,  2392,  2420,  2482,  2483,\n",
      "             2484,  2485,  2486,  2487,  2493,  2517,  2545,  2546,  2642,\n",
      "             2643,  4464,  4466,  4538,  4540,  4544,  4562,  4593,  4645,\n",
      "             5859,  5860,  5861,  6018,  6037,  6158,  6169,  6204,  6764,\n",
      "             7021,  9719, 14485, 14619, 14740, 14749, 14750, 14751, 14752,\n",
      "            14753, 14754, 14755, 14756, 14763, 16111, 20310, 21590, 22508,\n",
      "            22561, 22619, 22620, 22658, 22675, 22709, 22803, 22870, 22904,\n",
      "            22925, 22929, 23090, 23091, 23141, 23285, 23946],\n",
      "           dtype='int64')\n"
     ]
    }
   ],
   "source": [
    "len(df[df['PDFOCR'] == 1])\n",
    "pdfocr_index = df[df['PDFOCR'] == 1].index\n",
    "print pdfocr_index"
   ]
  },
  {
   "cell_type": "code",
   "execution_count": 9,
   "metadata": {
    "collapsed": false
   },
   "outputs": [
    {
     "data": {
      "text/plain": [
       "u'https://www.infomex.org.mx/gobiernofederal/moduloPublico/MimeGenerator.action?folio=0000400066703'"
      ]
     },
     "execution_count": 9,
     "metadata": {},
     "output_type": "execute_result"
    }
   ],
   "source": [
    "df['ARCHIVOADJUNTOSOLICITUD'][pdfocr_index[0]]"
   ]
  },
  {
   "cell_type": "markdown",
   "metadata": {},
   "source": [
    "# Todo: what happens to folio's with no responses in the next years"
   ]
  },
  {
   "cell_type": "code",
   "execution_count": 10,
   "metadata": {
    "collapsed": false
   },
   "outputs": [
    {
     "data": {
      "text/html": [
       "<div>\n",
       "<table border=\"1\" class=\"dataframe\">\n",
       "  <thead>\n",
       "    <tr style=\"text-align: right;\">\n",
       "      <th></th>\n",
       "      <th>FOLIO</th>\n",
       "      <th>FECHASOLICITUD</th>\n",
       "      <th>DEPENDENCIA</th>\n",
       "      <th>ESTATUS</th>\n",
       "      <th>MEDIOENTRADA</th>\n",
       "      <th>TIPOSOLICITUD</th>\n",
       "      <th>DESCRIPCIONSOLICITUD</th>\n",
       "      <th>OTROSDATOS</th>\n",
       "      <th>ARCHIVOADJUNTOSOLICITUD</th>\n",
       "      <th>MEDIOENTREGA</th>\n",
       "      <th>...</th>\n",
       "      <th>CODIGOPOSTAL</th>\n",
       "      <th>SECTOR</th>\n",
       "      <th>X</th>\n",
       "      <th>X.1</th>\n",
       "      <th>X.2</th>\n",
       "      <th>X.3</th>\n",
       "      <th>PDFOCR</th>\n",
       "      <th>attach_full</th>\n",
       "      <th>attach.inc</th>\n",
       "      <th>word.count</th>\n",
       "    </tr>\n",
       "  </thead>\n",
       "  <tbody>\n",
       "    <tr>\n",
       "      <th>0</th>\n",
       "      <td>'1</td>\n",
       "      <td>06/01/2004 12:25</td>\n",
       "      <td>SECRETARÍA DE MEDIO AMBIENTE Y RECURSOS NATURALES</td>\n",
       "      <td>Terminada</td>\n",
       "      <td>Electrónica</td>\n",
       "      <td>Información Pública</td>\n",
       "      <td>Existen rellenos sanitarios para desechos hosp...</td>\n",
       "      <td>NaN</td>\n",
       "      <td>NaN</td>\n",
       "      <td>Entrega por Internet en el INFOMEX</td>\n",
       "      <td>...</td>\n",
       "      <td>6760</td>\n",
       "      <td>Medio Ambiente y Recursos Naturales</td>\n",
       "      <td>NaN</td>\n",
       "      <td>NaN</td>\n",
       "      <td>NaN</td>\n",
       "      <td>NaN</td>\n",
       "      <td>0</td>\n",
       "      <td></td>\n",
       "      <td>0</td>\n",
       "      <td>18</td>\n",
       "    </tr>\n",
       "    <tr>\n",
       "      <th>1</th>\n",
       "      <td>'10</td>\n",
       "      <td>06/01/2004 13:23</td>\n",
       "      <td>SERVICIO DE ADMINISTRACIÓN TRIBUTARIA</td>\n",
       "      <td>Terminada</td>\n",
       "      <td>Electrónica</td>\n",
       "      <td>Información Pública</td>\n",
       "      <td>CONTENIDO O DATOS PRINCIPALES DE ACUERDO 325-S...</td>\n",
       "      <td>ESTOS DATOS SON PUBLICADOS EN LA PAGINA INTERN...</td>\n",
       "      <td>NaN</td>\n",
       "      <td>Entrega por Internet en el INFOMEX</td>\n",
       "      <td>...</td>\n",
       "      <td>55890</td>\n",
       "      <td>Hacienda y Crédito Público</td>\n",
       "      <td>NaN</td>\n",
       "      <td>NaN</td>\n",
       "      <td>NaN</td>\n",
       "      <td>NaN</td>\n",
       "      <td>0</td>\n",
       "      <td></td>\n",
       "      <td>0</td>\n",
       "      <td>38</td>\n",
       "    </tr>\n",
       "    <tr>\n",
       "      <th>2</th>\n",
       "      <td>'100</td>\n",
       "      <td>07/01/2004 15:11</td>\n",
       "      <td>INSTITUTO MEXICANO DE LA PROPIEDAD INDUSTRIAL</td>\n",
       "      <td>Terminada</td>\n",
       "      <td>Electrónica</td>\n",
       "      <td>Información Pública</td>\n",
       "      <td>INSTITUTO MEXICANO DE LA PROPIEDAD INDUSTRIAL ...</td>\n",
       "      <td>NaN</td>\n",
       "      <td>https://www.infomex.org.mx/gobiernofederal/mod...</td>\n",
       "      <td>Entrega por Internet en el INFOMEX</td>\n",
       "      <td>...</td>\n",
       "      <td>1210</td>\n",
       "      <td>Economía</td>\n",
       "      <td>NaN</td>\n",
       "      <td>NaN</td>\n",
       "      <td>NaN</td>\n",
       "      <td>NaN</td>\n",
       "      <td>0</td>\n",
       "      <td>INSTITUTO MEXICANO DE LA PROPIEDAD INDUSTR...</td>\n",
       "      <td>1</td>\n",
       "      <td>115</td>\n",
       "    </tr>\n",
       "    <tr>\n",
       "      <th>3</th>\n",
       "      <td>'1000</td>\n",
       "      <td>21/01/2004 12:48</td>\n",
       "      <td>SECRETARÍA DEL TRABAJO Y PREVISIÓN SOCIAL</td>\n",
       "      <td>Terminada</td>\n",
       "      <td>Electrónica</td>\n",
       "      <td>Información Pública</td>\n",
       "      <td>Número de personas laborando en la subsecretar...</td>\n",
       "      <td>NaN</td>\n",
       "      <td>NaN</td>\n",
       "      <td>Entrega por Internet en el INFOMEX</td>\n",
       "      <td>...</td>\n",
       "      <td>6800</td>\n",
       "      <td>Trabajo y Previsión Social</td>\n",
       "      <td>NaN</td>\n",
       "      <td>NaN</td>\n",
       "      <td>NaN</td>\n",
       "      <td>NaN</td>\n",
       "      <td>0</td>\n",
       "      <td></td>\n",
       "      <td>0</td>\n",
       "      <td>25</td>\n",
       "    </tr>\n",
       "    <tr>\n",
       "      <th>4</th>\n",
       "      <td>'10000</td>\n",
       "      <td>21/04/2004 12:58</td>\n",
       "      <td>INSTITUTO MEXICANO DEL SEGURO SOCIAL</td>\n",
       "      <td>Terminada</td>\n",
       "      <td>Electrónica</td>\n",
       "      <td>Información Pública</td>\n",
       "      <td>SOLICITO LA DOCUMENTACION COMPROBATORIA DE LOS...</td>\n",
       "      <td>EL IMSS DELEGACION COAHUILA A TRAVES DEL ARCHI...</td>\n",
       "      <td>https://www.infomex.org.mx/gobiernofederal/mod...</td>\n",
       "      <td>Entrega por Internet en el INFOMEX</td>\n",
       "      <td>...</td>\n",
       "      <td>0</td>\n",
       "      <td>Aportaciones a Seguridad Social</td>\n",
       "      <td>NaN</td>\n",
       "      <td>NaN</td>\n",
       "      <td>NaN</td>\n",
       "      <td>NaN</td>\n",
       "      <td>0</td>\n",
       "      <td>Descripción clara de la solicitud de inform...</td>\n",
       "      <td>1</td>\n",
       "      <td>1379</td>\n",
       "    </tr>\n",
       "  </tbody>\n",
       "</table>\n",
       "<p>5 rows × 28 columns</p>\n",
       "</div>"
      ],
      "text/plain": [
       "    FOLIO    FECHASOLICITUD  \\\n",
       "0      '1  06/01/2004 12:25   \n",
       "1     '10  06/01/2004 13:23   \n",
       "2    '100  07/01/2004 15:11   \n",
       "3   '1000  21/01/2004 12:48   \n",
       "4  '10000  21/04/2004 12:58   \n",
       "\n",
       "                                         DEPENDENCIA    ESTATUS MEDIOENTRADA  \\\n",
       "0  SECRETARÍA DE MEDIO AMBIENTE Y RECURSOS NATURALES  Terminada  Electrónica   \n",
       "1              SERVICIO DE ADMINISTRACIÓN TRIBUTARIA  Terminada  Electrónica   \n",
       "2      INSTITUTO MEXICANO DE LA PROPIEDAD INDUSTRIAL  Terminada  Electrónica   \n",
       "3          SECRETARÍA DEL TRABAJO Y PREVISIÓN SOCIAL  Terminada  Electrónica   \n",
       "4               INSTITUTO MEXICANO DEL SEGURO SOCIAL  Terminada  Electrónica   \n",
       "\n",
       "         TIPOSOLICITUD                               DESCRIPCIONSOLICITUD  \\\n",
       "0  Información Pública  Existen rellenos sanitarios para desechos hosp...   \n",
       "1  Información Pública  CONTENIDO O DATOS PRINCIPALES DE ACUERDO 325-S...   \n",
       "2  Información Pública  INSTITUTO MEXICANO DE LA PROPIEDAD INDUSTRIAL ...   \n",
       "3  Información Pública  Número de personas laborando en la subsecretar...   \n",
       "4  Información Pública  SOLICITO LA DOCUMENTACION COMPROBATORIA DE LOS...   \n",
       "\n",
       "                                          OTROSDATOS  \\\n",
       "0                                                NaN   \n",
       "1  ESTOS DATOS SON PUBLICADOS EN LA PAGINA INTERN...   \n",
       "2                                                NaN   \n",
       "3                                                NaN   \n",
       "4  EL IMSS DELEGACION COAHUILA A TRAVES DEL ARCHI...   \n",
       "\n",
       "                             ARCHIVOADJUNTOSOLICITUD  \\\n",
       "0                                                NaN   \n",
       "1                                                NaN   \n",
       "2  https://www.infomex.org.mx/gobiernofederal/mod...   \n",
       "3                                                NaN   \n",
       "4  https://www.infomex.org.mx/gobiernofederal/mod...   \n",
       "\n",
       "                         MEDIOENTREGA    ...     CODIGOPOSTAL  \\\n",
       "0  Entrega por Internet en el INFOMEX    ...             6760   \n",
       "1  Entrega por Internet en el INFOMEX    ...            55890   \n",
       "2  Entrega por Internet en el INFOMEX    ...             1210   \n",
       "3  Entrega por Internet en el INFOMEX    ...             6800   \n",
       "4  Entrega por Internet en el INFOMEX    ...                0   \n",
       "\n",
       "                                SECTOR    X  X.1  X.2  X.3 PDFOCR  \\\n",
       "0  Medio Ambiente y Recursos Naturales  NaN  NaN  NaN  NaN      0   \n",
       "1           Hacienda y Crédito Público  NaN  NaN  NaN  NaN      0   \n",
       "2                             Economía  NaN  NaN  NaN  NaN      0   \n",
       "3           Trabajo y Previsión Social  NaN  NaN  NaN  NaN      0   \n",
       "4      Aportaciones a Seguridad Social  NaN  NaN  NaN  NaN      0   \n",
       "\n",
       "                                         attach_full attach.inc word.count  \n",
       "0                                                             0         18  \n",
       "1                                                             0         38  \n",
       "2      INSTITUTO MEXICANO DE LA PROPIEDAD INDUSTR...          1        115  \n",
       "3                                                             0         25  \n",
       "4     Descripción clara de la solicitud de inform...          1       1379  \n",
       "\n",
       "[5 rows x 28 columns]"
      ]
     },
     "execution_count": 10,
     "metadata": {},
     "output_type": "execute_result"
    }
   ],
   "source": [
    "df2 = pd.read_csv('../full_request_data/attachdata2004.csv',encoding='Latin-1')\n",
    "df2.head()"
   ]
  },
  {
   "cell_type": "code",
   "execution_count": 11,
   "metadata": {
    "collapsed": false
   },
   "outputs": [
    {
     "data": {
      "text/html": [
       "<div>\n",
       "<table border=\"1\" class=\"dataframe\">\n",
       "  <thead>\n",
       "    <tr style=\"text-align: right;\">\n",
       "      <th></th>\n",
       "      <th>FOLIO</th>\n",
       "      <th>FECHASOLICITUD</th>\n",
       "      <th>DEPENDENCIA</th>\n",
       "      <th>ESTATUS</th>\n",
       "      <th>MEDIOENTRADA</th>\n",
       "      <th>TIPOSOLICITUD</th>\n",
       "      <th>DESCRIPCIONSOLICITUD</th>\n",
       "      <th>OTROSDATOS</th>\n",
       "      <th>ARCHIVOADJUNTOSOLICITUD</th>\n",
       "      <th>MEDIOENTREGA</th>\n",
       "      <th>...</th>\n",
       "      <th>CODIGOPOSTAL</th>\n",
       "      <th>SECTOR</th>\n",
       "      <th>X</th>\n",
       "      <th>X.1</th>\n",
       "      <th>X.2</th>\n",
       "      <th>X.3</th>\n",
       "      <th>PDFOCR</th>\n",
       "      <th>attach_full</th>\n",
       "      <th>attach.inc</th>\n",
       "      <th>word.count</th>\n",
       "    </tr>\n",
       "  </thead>\n",
       "  <tbody>\n",
       "    <tr>\n",
       "      <th>0</th>\n",
       "      <td>'0000400000105</td>\n",
       "      <td>04/01/2005 17:12</td>\n",
       "      <td>SECRETARÍA DE GOBERNACIÓN</td>\n",
       "      <td>Terminada</td>\n",
       "      <td>Electrónica</td>\n",
       "      <td>Información Pública</td>\n",
       "      <td>solicitud del curp</td>\n",
       "      <td>NaN</td>\n",
       "      <td>NaN</td>\n",
       "      <td>Entrega por Internet en el INFOMEX</td>\n",
       "      <td>...</td>\n",
       "      <td>22204</td>\n",
       "      <td>Gobernación</td>\n",
       "      <td>NaN</td>\n",
       "      <td>NaN</td>\n",
       "      <td>NaN</td>\n",
       "      <td>NaN</td>\n",
       "      <td>0</td>\n",
       "      <td></td>\n",
       "      <td>0</td>\n",
       "      <td>3.0</td>\n",
       "    </tr>\n",
       "    <tr>\n",
       "      <th>1</th>\n",
       "      <td>'0000400000106</td>\n",
       "      <td>16/12/2005 17:45</td>\n",
       "      <td>SECRETARÍA DE GOBERNACIÓN</td>\n",
       "      <td>Terminada</td>\n",
       "      <td>Electrónica</td>\n",
       "      <td>Datos Personales</td>\n",
       "      <td>DESCRIPCIÓN SOLICITUD</td>\n",
       "      <td>OTROS DATOS</td>\n",
       "      <td>ADJUNTO SOLICITUD</td>\n",
       "      <td>Copia Certificada</td>\n",
       "      <td>...</td>\n",
       "      <td>57120</td>\n",
       "      <td>Gobernación</td>\n",
       "      <td>NaN</td>\n",
       "      <td>NaN</td>\n",
       "      <td>NaN</td>\n",
       "      <td>NaN</td>\n",
       "      <td>0</td>\n",
       "      <td></td>\n",
       "      <td>0</td>\n",
       "      <td>4.0</td>\n",
       "    </tr>\n",
       "    <tr>\n",
       "      <th>2</th>\n",
       "      <td>'0000400000205</td>\n",
       "      <td>04/01/2005 17:42</td>\n",
       "      <td>SECRETARÍA DE GOBERNACIÓN</td>\n",
       "      <td>Terminada</td>\n",
       "      <td>Manual</td>\n",
       "      <td>Información Pública</td>\n",
       "      <td>FAVOR DE REVISAR EL ARCHIVO ANEXO</td>\n",
       "      <td>SEGOB</td>\n",
       "      <td>https://www.infomex.org.mx/gobiernofederal/mod...</td>\n",
       "      <td>Archivo electrónico en disco o CD</td>\n",
       "      <td>...</td>\n",
       "      <td>9470</td>\n",
       "      <td>Gobernación</td>\n",
       "      <td>NaN</td>\n",
       "      <td>NaN</td>\n",
       "      <td>NaN</td>\n",
       "      <td>NaN</td>\n",
       "      <td>0</td>\n",
       "      <td>ASUNTO: SOLICITUD DE ACCESO A INFORMACIÓN...</td>\n",
       "      <td>1</td>\n",
       "      <td>290.0</td>\n",
       "    </tr>\n",
       "    <tr>\n",
       "      <th>3</th>\n",
       "      <td>'0000400000206</td>\n",
       "      <td>16/12/2005 22:09</td>\n",
       "      <td>SECRETARÍA DE GOBERNACIÓN</td>\n",
       "      <td>Terminada</td>\n",
       "      <td>Electrónica</td>\n",
       "      <td>Información Pública</td>\n",
       "      <td>SOLICITO COPIA SIMPLE DEL DIARIO OFICIAL DE LA...</td>\n",
       "      <td>DIARIO OFICIAL DE LA FEDERACION DEL DIA 15 DE ...</td>\n",
       "      <td>NaN</td>\n",
       "      <td>Copia Simple</td>\n",
       "      <td>...</td>\n",
       "      <td>9470</td>\n",
       "      <td>Gobernación</td>\n",
       "      <td>NaN</td>\n",
       "      <td>NaN</td>\n",
       "      <td>NaN</td>\n",
       "      <td>NaN</td>\n",
       "      <td>0</td>\n",
       "      <td></td>\n",
       "      <td>0</td>\n",
       "      <td>24.0</td>\n",
       "    </tr>\n",
       "    <tr>\n",
       "      <th>4</th>\n",
       "      <td>'0000400000305</td>\n",
       "      <td>04/01/2005 18:02</td>\n",
       "      <td>SECRETARÍA DE GOBERNACIÓN</td>\n",
       "      <td>Terminada</td>\n",
       "      <td>Electrónica</td>\n",
       "      <td>Información Pública</td>\n",
       "      <td>Nombre del proveedor de la tómbola de aire que...</td>\n",
       "      <td>Nombre de proveedores de tómbolas de aire o de...</td>\n",
       "      <td>NaN</td>\n",
       "      <td>Entrega por Internet en el INFOMEX</td>\n",
       "      <td>...</td>\n",
       "      <td>80085</td>\n",
       "      <td>Gobernación</td>\n",
       "      <td>NaN</td>\n",
       "      <td>NaN</td>\n",
       "      <td>NaN</td>\n",
       "      <td>NaN</td>\n",
       "      <td>0</td>\n",
       "      <td></td>\n",
       "      <td>0</td>\n",
       "      <td>46.0</td>\n",
       "    </tr>\n",
       "  </tbody>\n",
       "</table>\n",
       "<p>5 rows × 28 columns</p>\n",
       "</div>"
      ],
      "text/plain": [
       "            FOLIO    FECHASOLICITUD                DEPENDENCIA    ESTATUS  \\\n",
       "0  '0000400000105  04/01/2005 17:12  SECRETARÍA DE GOBERNACIÓN  Terminada   \n",
       "1  '0000400000106  16/12/2005 17:45  SECRETARÍA DE GOBERNACIÓN  Terminada   \n",
       "2  '0000400000205  04/01/2005 17:42  SECRETARÍA DE GOBERNACIÓN  Terminada   \n",
       "3  '0000400000206  16/12/2005 22:09  SECRETARÍA DE GOBERNACIÓN  Terminada   \n",
       "4  '0000400000305  04/01/2005 18:02  SECRETARÍA DE GOBERNACIÓN  Terminada   \n",
       "\n",
       "  MEDIOENTRADA        TIPOSOLICITUD  \\\n",
       "0  Electrónica  Información Pública   \n",
       "1  Electrónica     Datos Personales   \n",
       "2       Manual  Información Pública   \n",
       "3  Electrónica  Información Pública   \n",
       "4  Electrónica  Información Pública   \n",
       "\n",
       "                                DESCRIPCIONSOLICITUD  \\\n",
       "0                                 solicitud del curp   \n",
       "1                              DESCRIPCIÓN SOLICITUD   \n",
       "2                  FAVOR DE REVISAR EL ARCHIVO ANEXO   \n",
       "3  SOLICITO COPIA SIMPLE DEL DIARIO OFICIAL DE LA...   \n",
       "4  Nombre del proveedor de la tómbola de aire que...   \n",
       "\n",
       "                                          OTROSDATOS  \\\n",
       "0                                                NaN   \n",
       "1                                        OTROS DATOS   \n",
       "2                                              SEGOB   \n",
       "3  DIARIO OFICIAL DE LA FEDERACION DEL DIA 15 DE ...   \n",
       "4  Nombre de proveedores de tómbolas de aire o de...   \n",
       "\n",
       "                             ARCHIVOADJUNTOSOLICITUD  \\\n",
       "0                                                NaN   \n",
       "1                                  ADJUNTO SOLICITUD   \n",
       "2  https://www.infomex.org.mx/gobiernofederal/mod...   \n",
       "3                                                NaN   \n",
       "4                                                NaN   \n",
       "\n",
       "                         MEDIOENTREGA    ...     CODIGOPOSTAL       SECTOR  \\\n",
       "0  Entrega por Internet en el INFOMEX    ...            22204  Gobernación   \n",
       "1                   Copia Certificada    ...            57120  Gobernación   \n",
       "2   Archivo electrónico en disco o CD    ...             9470  Gobernación   \n",
       "3                        Copia Simple    ...             9470  Gobernación   \n",
       "4  Entrega por Internet en el INFOMEX    ...            80085  Gobernación   \n",
       "\n",
       "     X  X.1  X.2  X.3 PDFOCR  \\\n",
       "0  NaN  NaN  NaN  NaN      0   \n",
       "1  NaN  NaN  NaN  NaN      0   \n",
       "2  NaN  NaN  NaN  NaN      0   \n",
       "3  NaN  NaN  NaN  NaN      0   \n",
       "4  NaN  NaN  NaN  NaN      0   \n",
       "\n",
       "                                         attach_full attach.inc word.count  \n",
       "0                                                             0        3.0  \n",
       "1                                                             0        4.0  \n",
       "2       ASUNTO: SOLICITUD DE ACCESO A INFORMACIÓN...          1      290.0  \n",
       "3                                                             0       24.0  \n",
       "4                                                             0       46.0  \n",
       "\n",
       "[5 rows x 28 columns]"
      ]
     },
     "execution_count": 11,
     "metadata": {},
     "output_type": "execute_result"
    }
   ],
   "source": [
    "df3 = pd.read_csv('../full_request_data/attachdata2005.csv',encoding='Latin-1')\n",
    "df3.head()"
   ]
  },
  {
   "cell_type": "markdown",
   "metadata": {},
   "source": [
    "## To make our primary key we are going to use FOLIO number and FECHA SOLICITUD"
   ]
  },
  {
   "cell_type": "markdown",
   "metadata": {},
   "source": [
    "# If we create a list of indicies to check for responses"
   ]
  },
  {
   "cell_type": "code",
   "execution_count": 12,
   "metadata": {
    "collapsed": false
   },
   "outputs": [
    {
     "name": "stdout",
     "output_type": "stream",
     "text": [
      "11673\n"
     ]
    }
   ],
   "source": [
    "pattern = 'respuesta='\n",
    "x = df['ARCHIVORESPUESTA'].str.contains(pattern, na = False)\n",
    "indiciestoCheck = x[x == True].index.tolist()\n",
    "print len(df['ARCHIVORESPUESTA'][indiciestoCheck])\n",
    "aurl = df['ARCHIVORESPUESTA'][indiciestoCheck[5]]"
   ]
  },
  {
   "cell_type": "code",
   "execution_count": 13,
   "metadata": {
    "collapsed": false
   },
   "outputs": [],
   "source": [
    "import urllib\n",
    "import ssl\n",
    "\n",
    "# This restores the same behavior as before.\n",
    "context = ssl._create_unverified_context()\n",
    "response = urllib.urlopen(aurl, context=context)\n",
    "\n",
    "#urllib.urlopen(aurl)\n",
    "html = response.read()"
   ]
  },
  {
   "cell_type": "code",
   "execution_count": 14,
   "metadata": {
    "collapsed": false
   },
   "outputs": [],
   "source": [
    "import requests\n",
    "r = requests.get(aurl,verify = False)\n",
    "#r.status_code"
   ]
  },
  {
   "cell_type": "code",
   "execution_count": 16,
   "metadata": {
    "collapsed": false
   },
   "outputs": [
    {
     "name": "stdout",
     "output_type": "stream",
     "text": [
      "defaultdict(<type 'int'>, {200: 95, 500: 5})\n"
     ]
    }
   ],
   "source": [
    "from collections import defaultdict\n",
    "import time\n",
    "countsofResponses = defaultdict(int)\n",
    "for url in df['ARCHIVORESPUESTA'][indiciestoCheck[0:100]]:\n",
    "    r = requests.get(url,verify = False)\n",
    "    countsofResponses[r.status_code] += 1 \n",
    "    time.sleep(1) # gotta be nce to the server\n",
    "print countsofResponses"
   ]
  },
  {
   "cell_type": "code",
   "execution_count": 17,
   "metadata": {
    "collapsed": false
   },
   "outputs": [
    {
     "name": "stdout",
     "output_type": "stream",
     "text": [
      "200\n"
     ]
    },
    {
     "data": {
      "text/plain": [
       "'.zip'"
      ]
     },
     "execution_count": 17,
     "metadata": {},
     "output_type": "execute_result"
    }
   ],
   "source": [
    "gotten_object = requests.get(aurl, verify = False)\n",
    "print(gotten_object.status_code)\n",
    "re.search('.*(\\.\\w{3}$)', gotten_object.headers['Content-Disposition']).group(1)"
   ]
  },
  {
   "cell_type": "code",
   "execution_count": 19,
   "metadata": {
    "collapsed": false
   },
   "outputs": [
    {
     "name": "stdout",
     "output_type": "stream",
     "text": [
      "FOLIO\n",
      "FECHASOLICITUD\n",
      "DEPENDENCIA\n",
      "ESTATUS\n",
      "MEDIOENTRADA\n",
      "TIPOSOLICITUD\n",
      "DESCRIPCIONSOLICITUD\n",
      "OTROSDATOS\n",
      "ARCHIVOADJUNTOSOLICITUD\n",
      "MEDIOENTREGA\n",
      "FECHALIMITE\n",
      "RESPUESTA\n",
      "TEXTORESPUESTA\n",
      "ARCHIVORESPUESTA\n",
      "FECHARESPUESTA\n",
      "PAIS\n",
      "ESTADO\n",
      "MUNICIPIO\n",
      "CODIGOPOSTAL\n",
      "SECTOR\n",
      "X\n",
      "X.1\n",
      "X.2\n",
      "X.3\n",
      "PDFOCR\n",
      "attach_full\n",
      "attach.inc\n",
      "word.count\n"
     ]
    }
   ],
   "source": [
    "for x in columns: print x"
   ]
  },
  {
   "cell_type": "code",
   "execution_count": 13,
   "metadata": {
    "collapsed": false
   },
   "outputs": [
    {
     "name": "stdout",
     "output_type": "stream",
     "text": [
      "defaultdict(<type 'int'>, {16385: 1, 4: 137438, 5: 70, 6: 126, 7: 28, 8: 8, 9: 10, 10: 5, 11: 3, 12: 4, 13: 7, 14: 2, 15: 5, 16: 1, 17: 3, 18: 3, 22: 3, 25: 1, 26: 1, 8219: 1, 28: 1, 29: 1, 30: 3, 8197: 1, 32: 2, 33: 1, 8730: 1, 35: 3, 36: 1, 8229: 7, 38: 1, 16423: 1, 40: 1, 41: 2, 24618: 2, 43: 4, 90158: 1, 8240: 1, 49: 1, 51: 2, 53: 3, 278582: 2, 56: 2, 57: 5, 58: 2, 59: 1, 60: 1, 8254: 1, 65: 1, 66: 2, 68: 1, 70: 1, 1377: 1, 16456: 1, 73: 1, 2743: 1, 76: 1, 77: 1, 78: 2, 82: 1, 8277: 1, 86: 1, 89: 1, 90: 1, 91: 1, 92: 2, 8286: 1, 98: 4, 39611: 1, 6329: 1, 102: 1, 105: 1, 106: 1, 1383: 2, 109: 1, 8302: 1, 6845: 1, 112: 2, 114: 3, 115: 1, 116: 1, 24693: 1, 118: 3, 119: 2, 122: 2, 8316: 3, 125: 4, 128: 2, 130: 2, 8324: 1, 24598: 1, 16521: 1, 862: 1, 8331: 1, 140: 1, 39618: 1, 8334: 1, 5485: 1, 144: 2, 8337: 1, 146: 1, 147: 2, 2187: 1, 5486: 2, 151: 3, 40986: 1, 780997: 1, 5488: 1, 165: 1, 8358: 1, 167: 2, 168: 2, 171: 1, 174: 2, 175: 1, 178: 1, 179: 2, 123063: 1, 114873: 1, 187: 1, 188: 1, 41149: 1, 190: 1, 191: 1, 16577: 1, 194: 1, 195: 1, 197: 1, 16583: 1, 200: 3, 41162: 1, 204: 1, 8400: 1, 209: 1, 210: 1, 211: 13, 213: 1, 216: 1, 217: 2, 218: 1, 220: 1, 221: 3, 8415: 2, 225: 1, 1403: 3, 228: 4, 24805: 1, 230: 1, 232: 4, 233: 1, 234: 1, 236: 1, 5501: 2, 241: 3, 242: 1, 278773: 1, 246: 1, 60116: 1, 250: 5, 251: 1, 252: 1, 63021: 1, 256: 1, 16641: 1, 16642: 1, 142: 1, 263: 4, 264: 1, 265: 1, 267: 2, 269: 1, 106766: 1, 24850: 1, 277: 1, 2777: 1, 280: 1, 8479: 5, 288: 1, 6829: 2, 290: 4, 291: 2, 292: 2, 293: 1, 294: 1, 295: 3, 296: 8, 8466: 1, 300: 1, 301: 1, 303: 1, 304: 2, 305: 1, 306: 2, 8499: 1, 1374: 2, 309: 3, 311: 3, 312: 1, 313: 2, 314: 1, 315: 1, 318: 1, 321: 2, 323: 1, 324: 4, 8518: 1, 328: 1, 332: 2, 333: 1, 335: 129, 336: 1, 338: 1, 16723: 1, 2739: 2, 342: 1, 343: 1, 346: 2, 347: 2, 349: 4, 98654: 1, 351: 1, 352: 1, 5520: 2, 9559: 1, 355: 1, 357: 1, 359: 1, 360: 2, 361: 2, 377194: 3, 364: 4, 8557: 1, 366: 1, 8559: 3, 370: 2, 8564: 1, 373: 1, 8566: 1, 375: 3, 376: 2, 377: 2, 381: 2, 8575: 1, 384: 1, 385: 3, 386: 3, 2795: 3, 98760: 1, 391: 1, 392: 1, 396: 3, 399: 3, 401: 3, 402: 1, 403: 2, 404: 1, 407: 1, 408: 2, 41028: 1, 411: 1, 414: 2, 417: 1, 418: 1, 419: 1, 420: 1, 421: 1, 423: 1, 424: 2, 1436: 1, 426: 1, 427: 1, 428: 1, 429: 2, 430: 3, 431: 3, 433: 2, 435: 3, 437: 1, 565686: 1, 439: 1, 440: 1, 443: 2, 445: 2, 57790: 1, 447: 2, 1440: 1, 803266: 1, 452: 1, 213445: 1, 49607: 1, 25032: 1, 8650: 1, 461: 1, 462: 2, 49615: 3, 16848: 1, 49617: 1, 467: 1, 468: 2, 16853: 1, 123350: 1, 471: 2, 473: 1, 475: 1, 476: 3, 478: 1, 16863: 1, 480: 1, 482: 2, 483: 1, 484: 1, 485: 1, 488: 1, 489: 1, 491: 3, 8274: 1, 495: 2, 497: 4, 498: 2, 499: 4, 500: 1, 501: 1, 9564: 1, 506: 3, 507: 3, 509: 2, 510: 2, 85: 1, 25089: 1, 8706: 1, 1451: 3, 516: 3, 517: 2, 518: 1, 519: 2, 521: 48, 522: 2, 523: 1, 8716: 1, 525: 1, 527: 1, 528: 1, 529: 2, 530: 2, 531: 4, 532: 4, 533: 1, 535: 2, 536: 5, 537: 6, 538: 4, 539: 7, 540: 2, 541: 3, 542: 4, 543: 5, 544: 3, 545: 6, 546: 6, 547: 7, 548: 3, 549: 4, 550: 12, 551: 8, 552: 10, 553: 6, 554: 7, 555: 6, 556: 10, 557: 6, 558: 7, 559: 8, 560: 7, 561: 5, 562: 8, 57907: 1, 564: 8, 565: 7, 566: 5, 567: 11, 568: 12, 569: 10, 570: 7, 571: 2, 572: 3, 573: 6, 574: 9, 575: 8, 576: 5, 577: 7, 8770: 1, 579: 13, 148036: 1, 581: 5, 582: 4, 583: 5, 584: 2, 585: 6, 586: 4, 587: 1, 588: 1, 8781: 1, 590: 1, 591: 8, 592: 1, 593: 3, 594: 4, 595: 2, 597: 7, 33366: 1, 600: 1, 602: 1, 604: 1, 25181: 1, 606: 5, 607: 2, 8800: 2, 8801: 1, 8802: 1, 611: 2, 612: 3, 613: 1, 614: 1, 615: 1, 616: 1, 617: 1, 8810: 1, 620: 6, 621: 3, 9568: 1, 626: 1, 628: 1, 629: 3, 630: 2, 8823: 3, 632: 2, 633: 1, 634: 3, 637: 2, 638: 3, 639: 2, 641: 1, 41602: 1, 644: 1, 645: 5, 646: 4, 647: 2, 648: 2, 650: 1, 652: 3, 653: 2, 8847: 2, 659: 1, 660: 1, 8853: 1, 662: 1, 663: 2, 664: 1, 665: 1, 666: 1, 1386: 2, 670: 2, 671: 1, 672: 1, 673: 2, 2843: 1, 8868: 1, 677: 4, 679: 2, 682: 1, 683: 1, 684: 2, 685: 3, 687: 4, 689: 2, 690: 1, 691: 2, 692: 1, 693: 1, 694: 1, 695: 1, 696: 15, 698: 1, 700: 2, 25277: 1, 702: 1, 703: 3, 704: 3, 131778: 1, 707: 2, 708: 2, 709: 2, 710: 1, 711: 133, 712: 1, 713: 3, 714: 1, 8907: 1, 716: 1, 717: 2, 718: 4, 719: 2, 720: 2, 721: 1, 722: 1, 723: 1, 724: 1, 725: 2, 303830: 2, 727: 2, 728: 2, 729: 5, 730: 2, 8923: 1, 733: 2, 735: 2, 736: 4, 738: 2, 4219: 1, 4642: 1, 17126: 1, 743: 1, 115432: 1, 745: 1, 189162: 1, 747: 3, 8940: 1, 749: 2, 752: 1, 17138: 1, 755: 1, 759: 1, 762: 4, 763: 5, 8956: 1, 765: 3, 766: 1, 767: 1, 769: 1, 770: 1, 772: 1, 25349: 1, 8966: 1, 775: 2, 776: 1, 777: 1, 778: 1, 779: 4, 780: 1, 781: 3, 782: 2, 783: 4, 784: 4, 8755: 1, 786: 1, 788: 1, 789: 131, 790: 4, 791: 4, 792: 10, 793: 1, 795: 1, 798: 3, 799: 1, 801: 3, 8995: 1, 804: 3, 805: 1, 806: 1, 808: 1, 9001: 1, 811: 1, 812: 1, 813: 4, 816: 3, 819: 1, 820: 2, 821: 4, 822: 1, 8329: 1, 824: 1, 825: 1, 826: 2, 827: 3, 12426: 1, 830: 1, 832: 1, 5600: 1, 68496: 1, 139: 2, 836: 1, 837: 3, 838: 4, 839: 1, 840: 3, 841: 1, 842: 1, 845: 4, 846: 1, 848: 2, 849: 1, 850: 1, 851: 1, 852: 2, 9045: 1, 855: 1, 856: 2, 857: 9, 25434: 1, 860: 1, 861: 4, 9054: 1, 863: 2, 864: 2, 865: 2, 866: 1, 868: 2, 869: 1, 870: 2, 871: 1, 872: 5, 873: 3, 874: 1, 875: 1, 877: 4, 1393: 1, 880: 2, 881: 3, 882: 1, 883: 2, 884: 1, 885: 1, 886: 1, 887: 1, 888: 2, 889: 1, 890: 1, 891: 2, 892: 4, 893: 1, 895: 3, 896: 2, 897: 1, 898: 2, 899: 1, 900: 1, 901: 3, 902: 2, 50055: 1, 410504: 1, 9097: 1, 906: 2, 907: 1, 9100: 1, 909: 2, 910: 2, 9104: 1, 913: 1, 9106: 1, 916: 19, 917: 1, 918: 1, 919: 1, 920: 2, 11076: 1, 922: 3, 923: 1, 924: 3, 927: 2, 928: 1, 929: 2, 933: 1, 934: 1, 935: 3, 40130: 1, 937: 1, 938: 1, 939: 1, 940: 1, 941: 1, 942: 2, 33711: 1, 944: 3, 945: 1, 58290: 2, 948: 1, 951: 1, 952: 2, 5620: 1, 954: 1, 955: 1, 956: 1, 957: 1, 958: 3, 959: 4, 9152: 1, 963: 3, 964: 7, 967: 2, 968: 1, 969: 4, 970: 1, 971: 1, 972: 2, 973: 1, 976: 2, 977: 1, 140243: 1, 980: 2, 981: 1, 982: 1, 985: 1, 986: 1, 987: 1, 989: 2, 990: 1, 991: 1, 992: 2, 995: 2, 996: 1, 998: 1, 999: 2, 1000: 2, 1003: 2, 1005: 1, 1006: 4, 1007: 2, 1008: 1, 8360: 1, 1010: 5, 9203: 1, 1012: 1, 1013: 1, 1014: 1, 25591: 2, 1016: 2, 1017: 2, 1019: 4, 1021: 3, 1022: 17, 1023: 1, 1024: 6, 1027: 1, 1398: 1, 1030: 1, 1031: 2, 1032: 2, 1034: 2, 6999: 1, 17420: 1, 305278: 1, 1038: 3, 1039: 1, 1040: 3, 1041: 1, 1042: 1, 1043: 4, 1044: 132, 1045: 1, 1046: 2, 1047: 2, 1048: 3, 1049: 2, 1050: 2, 1051: 3, 1052: 2, 1054: 1, 17925: 1, 9248: 1, 1058: 2, 9251: 1, 1060: 2, 1061: 3, 1062: 3, 1063: 3, 1064: 2, 1065: 2, 1066: 1, 5639: 1, 1068: 1, 1070: 1, 1071: 3, 1072: 7, 1073: 1, 1075: 1, 1076: 3, 1077: 2, 1079: 1, 1080: 1, 1081: 2, 1085: 4, 1087: 1, 1088: 2, 9281: 1, 1090: 2, 1092: 2, 1095: 3, 1096: 1, 1097: 2, 3037: 1, 1100: 4, 1101: 1, 1102: 1, 1103: 2, 13919: 1, 1105: 6, 1106: 4, 1107: 2, 1108: 1, 1109: 1, 1110: 2, 9304: 1, 9305: 2, 1116: 1, 1117: 1, 1119: 1, 1120: 1, 1121: 2, 1122: 1, 1123: 4, 582756: 1, 1125: 4, 1126: 3, 1127: 1, 1129: 1, 1130: 2, 1131: 1, 1132: 1, 1135: 1, 25712: 1, 42098: 1, 1139: 5, 1141: 1, 1142: 3, 1143: 1, 1144: 1, 1145: 2, 1146: 2, 1147: 2, 9340: 1, 1149: 2, 1150: 3, 1151: 1, 1152: 2, 1153: 5, 9346: 1, 17539: 1, 1156: 4, 1157: 2, 1158: 1, 1159: 3, 1160: 3, 1162: 3, 9355: 2, 1164: 1, 1165: 2, 1166: 2, 1167: 2, 1560: 1, 1170: 2, 1171: 1, 1173: 4, 1174: 9, 1175: 3, 1176: 2, 33945: 3, 99482: 1, 1179: 1, 9372: 1, 1181: 3, 1182: 4, 1183: 5, 1184: 1, 1185: 1, 1187: 2, 1188: 2, 1189: 2, 1190: 1, 1191: 2, 1192: 2, 1193: 1, 1194: 9, 199: 1, 1196: 1, 1197: 1, 1199: 1, 1200: 5, 1201: 1, 42162: 1, 1203: 1, 1204: 1, 1205: 1, 1208: 2, 1210: 2, 5223: 2, 1212: 5, 1213: 1, 1214: 3, 1216: 1, 83137: 1, 1218: 1, 1219: 1, 1220: 5, 1221: 1, 1222: 2, 5665: 2, 1224: 1, 1225: 1, 1226: 2, 1227: 1, 1228: 2, 1229: 1, 1230: 5, 1231: 4, 1233: 1, 1235: 1, 1236: 2, 1238: 3, 1239: 85, 1240: 1, 9434: 1, 1243: 3, 9436: 1, 1245: 2, 1246: 1, 1247: 1, 1248: 1, 208: 1, 1251: 3, 1252: 2, 1253: 2, 1254: 1, 1256: 7, 1259: 3, 1260: 1, 1261: 36, 1262: 4, 1263: 5, 1264: 1, 9457: 1, 1266: 2, 1269: 1, 1270: 4, 1271: 5, 1272: 6, 42233: 1, 25851: 1, 1278: 1, 1279: 1, 1282: 3, 1283: 1, 1284: 2, 1285: 1, 1286: 1, 1287: 1, 1288: 1, 1290: 1, 1292: 2, 1293: 7, 1295: 2, 1297: 3, 9491: 1, 1300: 2, 1302: 1, 1303: 1, 2948: 1, 1306: 79, 1307: 4, 9500: 3, 1310: 5, 1311: 1, 1312: 4, 25889: 1, 1314: 1, 50467: 1, 1316: 1, 1318: 1, 1319: 2, 1321: 2, 1322: 2, 2951: 1, 1324: 1, 1326: 2, 9519: 5, 1328: 3, 648497: 1, 9522: 2, 1331: 1, 1333: 1, 1334: 3, 1335: 1, 1336: 1, 9780: 2, 1338: 6, 1339: 2, 1341: 2, 1344: 2, 9938: 1, 1347: 1, 9543: 1, 1352: 5, 1353: 1, 1354: 1, 1355: 2, 9548: 1, 1357: 1, 1358: 2, 1360: 2, 1363: 6, 1364: 6, 148821: 1, 1366: 1, 1367: 5, 1368: 5, 9561: 1, 1370: 1, 1371: 5, 1372: 3, 124254: 1, 1376: 1, 9569: 1, 9570: 1, 1379: 1, 1382: 2, 132455: 7, 1384: 2, 5692: 1, 17770: 5, 9580: 1, 1389: 1, 1390: 3, 1391: 1, 1392: 3, 271729: 1, 1395: 2, 1397: 1, 17782: 1, 1400: 3, 1402: 4, 9595: 2, 1404: 1, 1405: 8, 1406: 1, 1407: 1, 1408: 7, 1409: 1, 1411: 1, 1412: 4, 1413: 1, 1414: 1, 1415: 3, 1416: 1, 1417: 1, 1418: 3, 1419: 2, 1420: 5, 1421: 1, 1422: 6, 1423: 2, 42385: 1, 1426: 1, 17812: 1, 1429: 2, 1432: 1, 1433: 1, 1434: 3, 1435: 3, 198044: 1, 1437: 2, 1439: 1, 9632: 1, 1442: 2, 1443: 2, 1445: 2, 1446: 1, 48: 1, 1448: 1, 1607: 4, 1452: 1, 26029: 1, 1455: 1, 17841: 1, 1458: 1, 1463: 1, 26040: 1, 9658: 1, 1467: 1, 1469: 2, 1470: 1, 1471: 1, 1472: 3, 1473: 1, 1474: 5, 1611: 1, 42437: 1, 1478: 1, 1479: 1, 1481: 1, 1482: 1, 1485: 2, 1486: 1, 1487: 1, 1489: 2, 1490: 4, 1491: 1, 1492: 2, 1493: 2, 1495: 2, 1498: 1, 1499: 1, 1500: 1, 1503: 2, 1504: 2, 1505: 2, 1506: 1, 1508: 2, 1509: 3, 9703: 1, 1513: 1, 1514: 2, 1515: 1, 1516: 1, 9810: 1, 1518: 2, 1520: 1, 1522: 1, 1523: 14, 1524: 3, 1525: 4, 1526: 1, 2985: 2, 1528: 4, 1529: 1, 1530: 2, 1532: 1, 1534: 1, 1535: 4, 1536: 2, 1538: 4, 1539: 1, 9732: 1, 1622: 11, 157190: 1, 1543: 4, 1545: 2, 1546: 2, 9740: 1, 1549: 1, 1550: 1, 1551: 3, 1552: 1, 1553: 2, 1554: 1, 90576: 1, 1557: 1, 1558: 1, 32853: 1, 50712: 1, 9872: 1, 1563: 1, 90618: 1, 1567: 3, 26146: 1, 1571: 3, 1573: 1, 1574: 2, 1575: 1, 9768: 5, 1156649: 1, 1578: 3, 1579: 2, 1580: 1, 1583: 2, 1586: 3, 1587: 1, 1588: 1, 1589: 1, 1590: 1, 9873: 1, 1593: 2, 1631: 1, 9788: 1, 1598: 4, 1599: 2, 1600: 1, 1601: 2, 1602: 2, 1603: 1, 1604: 1, 1605: 3, 1606: 2, 26183: 6, 1608: 1, 1609: 1, 132683: 1, 1612: 2, 1613: 2, 1615: 1, 1617: 4, 1618: 1, 1619: 2, 1620: 1, 1621: 9, 67158: 1, 1623: 1, 1624: 2, 1625: 1, 1626: 7, 1627: 2, 9820: 1, 1629: 2, 763486: 1, 5733: 1, 1632: 2, 1633: 1, 1634: 1, 1635: 2, 9828: 1, 1637: 2, 1643: 1, 1644: 1, 1645: 2, 1647: 1, 1649: 3, 1650: 2, 1651: 1, 9844: 2, 1653: 2, 1654: 2, 1655: 2, 9848: 1, 1657: 1, 1658: 1, 1660: 3, 1662: 4, 1663: 2, 1664: 1, 4147: 1, 1666: 2, 1667: 2, 1670: 1, 9863: 1, 1672: 5, 1673: 1, 18058: 1, 1675: 1, 1676: 1, 1677: 123, 9871: 2, 1680: 1, 1681: 2, 1683: 3, 9877: 1, 1686: 4, 1687: 1, 1688: 1, 1689: 2, 1690: 3, 1691: 2, 1692: 4, 1693: 1, 9886: 1, 18079: 1, 1696: 3, 1697: 1, 1699: 1, 1700: 2, 9893: 1, 1702: 1, 1706: 4, 1708: 1, 13938: 1, 1710: 2, 9903: 1, 1713: 1, 1714: 1, 1715: 3, 1716: 2, 9909: 1, 1718: 3, 1719: 1, 42680: 1, 1652: 2, 1723: 1, 1724: 2, 1726: 1, 1727: 1, 1728: 1, 173761: 1, 1730: 2, 1731: 3, 1732: 1, 1734: 2, 1735: 2, 1736: 3, 1737: 1, 1738: 2, 1739: 2, 1741: 1, 1742: 2, 1743: 5, 108240: 13, 1656: 1, 1746: 2, 1748: 1, 1749: 2, 1751: 2, 1752: 3, 1753: 2, 1754: 1, 9947: 2, 1756: 2, 1757: 5, 1758: 20, 1759: 1, 9952: 2, 1761: 1, 1762: 1, 1763: 5, 1764: 12, 1765: 2, 1767: 11, 1768: 5, 9961: 1, 1770: 5, 1771: 4, 1772: 4, 1773: 1, 1774: 17, 1775: 14, 1776: 5, 1777: 2, 1778: 2, 1779: 2, 1780: 1, 1781: 3, 1782: 3, 1784: 6, 1785: 6, 1788: 5, 1789: 4, 605: 2, 1791: 3, 1792: 4, 1793: 5, 1794: 1, 26371: 1, 1796: 3, 18181: 1, 1798: 4, 1799: 9, 1800: 6, 1801: 4, 1802: 3, 1803: 2, 1804: 3, 1805: 2, 1806: 1, 1807: 3, 1808: 8, 1809: 3, 1810: 3, 1811: 5, 1812: 2, 1813: 5, 1815: 5, 1817: 2, 1818: 7, 1820: 2, 1821: 4, 1822: 2, 1823: 1, 1824: 8, 1825: 3, 1826: 1, 1827: 3, 1828: 1, 1829: 1, 1830: 2, 1831: 2, 1832: 2, 1833: 3, 1834: 1, 1835: 1, 1836: 3, 1837: 2, 1838: 2, 10031: 3, 1840: 2, 18225: 1, 1842: 5, 1843: 4, 1844: 9, 39902: 1, 1846: 2, 10039: 1, 1848: 2, 1849: 1, 1850: 4, 1852: 1, 10045: 1, 1854: 2, 1855: 8, 1856: 2, 1857: 1, 1858: 1, 1859: 2, 1860: 1, 1861: 2, 1862: 2, 1863: 2, 1864: 5, 1866: 3, 1867: 7, 1868: 1, 1869: 2, 1870: 2, 1871: 3, 1872: 4, 1873: 4, 1874: 27, 1875: 2, 1876: 3, 1877: 2, 10070: 1, 28159: 1, 1881: 2, 1883: 3, 1884: 1, 1885: 3, 1886: 7, 1887: 3, 1888: 1, 1889: 1, 1890: 4, 1892: 3, 1893: 1, 1894: 4, 1895: 1, 1896: 2, 1897: 3, 1898: 3, 1899: 3, 1900: 3, 1901: 7, 1902: 2, 1903: 2, 1904: 1, 1905: 6, 1906: 1, 1907: 6, 1908: 14, 10101: 2, 1911: 1, 1912: 2, 10105: 1, 10106: 1, 1915: 2, 1916: 1, 1917: 2, 1918: 6, 1919: 1, 26496: 1, 1921: 2, 1922: 1, 1923: 1, 7429: 1, 1927: 5, 1928: 1, 108425: 1, 1930: 2, 1931: 3, 1932: 1, 90194: 1, 26510: 1, 1935: 2, 1937: 2, 10131: 1, 1940: 1, 51093: 1, 1942: 3, 599960: 1, 18341: 1, 1946: 1, 18331: 1, 1948: 1, 1949: 2, 1950: 2, 6996: 1, 1952: 2, 1953: 4, 1954: 1, 1955: 4, 10148: 2, 10149: 1, 1959: 2, 1960: 5, 1962: 2, 1963: 5, 1967: 2, 1968: 1, 1971: 1, 1972: 5, 1973: 3, 1974: 1, 231351: 2, 1976: 1, 1978: 2, 1979: 2, 1980: 3, 1981: 1, 10174: 1, 10175: 1, 1986: 1, 1988: 1, 239557: 1, 1991: 1, 1992: 1, 1993: 7, 1996: 3, 1998: 1, 10191: 1, 2000: 1, 2002: 2, 2003: 1, 75732: 1, 2007: 1, 2009: 1, 2011: 1, 2014: 2, 2015: 2, 2017: 1, 2018: 1, 10211: 1, 2020: 1, 6067: 1, 2022: 2, 2024: 2, 2025: 1, 2026: 1, 2028: 2, 2029: 1, 11261: 2, 2032: 4, 10225: 1, 2034: 4, 339: 1, 2036: 2, 2037: 2, 42999: 3, 2040: 1, 2042: 5, 2044: 2, 2045: 4, 2047: 1, 19163: 1, 2055: 4, 2056: 1, 2057: 1, 2058: 3, 2059: 2, 2060: 1, 296974: 1, 2063: 2, 2065: 2, 10259: 1, 2068: 2, 2070: 3, 2071: 3, 2072: 1, 1711: 2, 2076: 2, 2077: 1, 2079: 1, 10273: 1, 2082: 2, 18467: 1, 2084: 2, 2085: 2, 2086: 1, 2089: 3, 2090: 1, 2091: 1, 2092: 2, 43053: 1, 2095: 1, 2096: 2, 2097: 4, 2098: 2, 2099: 2, 2100: 1, 2101: 1, 2103: 3, 2104: 1, 2105: 2, 2107: 1, 10302: 1, 2111: 4, 5253: 1, 2115: 1, 2116: 1, 2117: 3, 2119: 2, 2120: 1, 2121: 2, 18103: 1, 2124: 1, 2125: 1, 2126: 1, 3085: 1, 2128: 2, 10321: 1, 2130: 3, 43091: 1, 2132: 1, 2133: 3, 2134: 1, 2135: 2, 2136: 1, 2137: 1, 198746: 1, 2140: 1, 2141: 1, 2142: 4, 10335: 2, 2144: 2, 2145: 2, 2146: 1, 2147: 2, 2148: 2, 2150: 3, 2151: 3, 444521: 1, 2154: 1, 2155: 2, 2157: 1, 3618: 1, 2164: 3, 2166: 2, 2167: 3, 2168: 1, 2169: 2, 2170: 2, 2173: 3, 2174: 2, 2175: 2, 2176: 2, 2177: 3, 2180: 1, 2181: 2, 2182: 1, 10375: 18, 2184: 1, 49719: 1, 67722: 1, 18571: 1, 18574: 1, 2191: 2, 2192: 3, 2193: 1, 2194: 1, 2195: 2, 2196: 1, 2197: 2, 2199: 2, 2200: 2, 2201: 1, 2202: 2, 2203: 3, 2204: 2, 18589: 1, 2206: 3, 2207: 1, 2208: 1, 2209: 1, 2210: 2, 2211: 2, 18596: 1, 2213: 1, 2215: 2, 18600: 1, 10409: 1, 2220: 3, 2221: 1, 2222: 1, 2223: 1, 2226: 3, 2227: 3, 2228: 1, 2229: 2, 2230: 2, 2231: 2, 2232: 1, 10425: 1, 2234: 3, 2236: 1, 2237: 2, 2238: 1, 2239: 2, 2240: 4, 2241: 1, 2242: 6, 2243: 2, 84164: 1, 18629: 1, 2246: 1, 2248: 1, 2249: 1, 2250: 1, 6076: 1, 2252: 1, 2253: 1, 2254: 1, 2256: 1, 2258: 2, 2259: 1, 2261: 1, 2262: 1, 2263: 1, 2264: 1, 2265: 1, 141530: 1, 2267: 1, 2270: 2, 2272: 2, 1744: 1, 3349: 3, 2279: 1, 2280: 1, 2282: 1, 2284: 1, 2285: 2, 2286: 1, 2287: 1, 2289: 3, 2290: 2, 2293: 3, 2295: 2, 165588: 1, 2298: 2, 2299: 2, 2300: 1, 10493: 1, 10715: 1, 2303: 5, 2305: 2, 2308: 1, 2311: 2, 2312: 4, 2313: 1, 2314: 1, 2315: 1, 10508: 1, 2317: 1, 2319: 1, 2320: 3, 2322: 2, 387: 1, 2324: 1, 2325: 1, 2326: 4, 2327: 1, 2328: 2, 125209: 2, 2330: 4, 2331: 1, 2335: 1, 2336: 1, 2337: 1, 2339: 3, 2341: 1, 2342: 1, 739624: 1, 2345: 2, 2346: 1, 10539: 1, 10540: 2, 2349: 3, 2356: 2, 2357: 1, 2358: 3, 26937: 1, 2363: 3, 2364: 2, 10557: 1, 2366: 1, 2367: 1, 2368: 2, 1760: 1, 2370: 1, 2372: 3, 2373: 4, 2374: 2, 2375: 3, 2376: 2, 2377: 2, 2379: 2, 51533: 1, 2382: 1, 2383: 2, 2385: 1, 2386: 5, 10579: 1, 2388: 1, 4494: 1, 3129: 1, 2392: 1, 2393: 1, 2397: 1, 2398: 3, 2399: 2, 2401: 2, 2403: 1, 2404: 1, 2405: 3, 2406: 2, 2410: 2, 2411: 2, 2413: 1, 84334: 1, 353: 1, 24979: 1, 2421: 3, 1769: 15, 2424: 2, 2425: 1, 2426: 5, 3135: 2, 2428: 1, 9962: 1, 2430: 2, 2431: 3, 2432: 2, 2433: 1, 2434: 1, 2435: 1, 2436: 2, 2438: 1, 2439: 7, 10633: 1, 18826: 1, 43403: 28, 2444: 2, 2446: 1, 2447: 1, 2449: 1, 2450: 2, 10644: 1, 2453: 2, 2455: 1, 240028: 1, 2461: 1, 2462: 1, 2463: 1, 2465: 3, 2466: 2, 10659: 1, 2468: 1, 2469: 1, 2471: 2, 2472: 1, 2473: 3, 2474: 1, 2475: 1, 2476: 1, 2477: 1, 2478: 2, 2479: 4, 2483: 3, 2484: 4, 2485: 1, 2486: 1, 2487: 1, 2489: 1, 2490: 2, 2491: 1, 2492: 1, 2493: 3, 2494: 1, 2496: 2, 2497: 1, 272835: 1, 2500: 1, 2501: 3, 2502: 3, 2503: 1, 68042: 1, 2507: 1, 2508: 3, 10701: 1, 2510: 2, 2513: 2, 2514: 3, 2515: 2, 2516: 1, 2517: 1, 2518: 2, 2519: 3, 2520: 3, 2521: 3, 2522: 1, 2523: 3, 2524: 1, 2525: 6, 2526: 2, 51679: 1, 2528: 4, 2529: 2, 2530: 2, 2531: 2, 2532: 1, 2533: 1, 2534: 1, 2535: 1, 2536: 4, 3499772: 1, 2538: 4, 2539: 4, 2540: 3, 2541: 3, 2542: 3, 2543: 5, 2544: 4, 65960: 1, 2546: 1, 2547: 6, 2548: 7, 2549: 1, 2550: 2, 2551: 3, 2552: 3, 2553: 6, 2554: 2, 2555: 1, 2556: 5, 2558: 2, 2559: 2, 2560: 1, 2561: 6, 2562: 2, 2563: 2, 2564: 1, 2565: 3, 2566: 1, 2567: 1, 2568: 3, 2569: 5, 2570: 1, 2571: 1, 18956: 1, 2576: 3, 2577: 3, 2578: 1, 2579: 1, 2580: 1, 2581: 1, 2582: 1, 2583: 4, 2584: 3, 2585: 1, 2586: 1, 2588: 1, 2589: 2, 2590: 2, 2591: 2, 2592: 1, 2594: 3, 3163: 1, 2596: 1, 2600: 5, 2601: 1, 2603: 2, 2604: 7, 35373: 1, 51758: 1, 2607: 2, 2608: 1, 2609: 3, 2610: 2, 2611: 2, 2612: 1, 2613: 1, 2614: 2, 10808: 1, 2617: 1, 2620: 3, 2621: 1, 2625: 3, 2626: 3, 2630: 3, 2631: 2, 2632: 1, 2633: 1, 2635: 2, 2636: 4, 2637: 1, 2638: 4, 2639: 1, 2640: 2, 2641: 1, 2644: 2, 10838: 1, 2647: 1, 2648: 3, 2649: 1, 2650: 2, 2651: 1, 2652: 1, 2653: 4, 2654: 3, 10847: 1, 2657: 2, 223842: 1, 2659: 2, 2660: 2, 2661: 3, 2662: 3, 2663: 1, 2664: 4, 2665: 5, 2666: 1, 3362: 1, 2668: 1, 2671: 1, 2672: 2, 2674: 1, 2675: 1, 2676: 2, 446: 1, 2679: 1, 2680: 2, 1453: 1, 2682: 1, 2684: 2, 35454: 1, 43648: 1, 2689: 1, 2690: 2, 2691: 1, 19076: 1, 2693: 2, 19078: 1, 2695: 1, 10888: 1, 2697: 1, 2698: 2, 2700: 2, 2702: 1, 2703: 2, 2704: 1, 2707: 2, 510612: 1, 2711: 2, 2712: 1, 2714: 1, 10909: 1, 2718: 1, 16837: 1, 2721: 1, 2722: 1, 35491: 1, 2724: 1, 2725: 2, 68721: 1, 2728: 7, 2730: 1, 2731: 1, 2732: 1, 35954: 1, 2734: 2, 2737: 1, 60531: 1, 2740: 1, 2741: 1, 10935: 1, 19128: 1, 2745: 1, 2746: 2, 2747: 1, 10940: 1, 458: 1, 2750: 1, 2751: 2, 2754: 1, 10947: 1, 3365: 1, 2760: 5, 2762: 2, 2764: 1, 2766: 1, 2767: 2, 2769: 1, 2771: 2, 2772: 4, 109478: 1, 10458: 1, 10969: 1, 2778: 1, 2779: 1, 2781: 2, 2782: 3, 2783: 1, 2784: 1, 2785: 2, 11387: 2, 2789: 1, 2791: 3, 2793: 6, 2794: 1, 19179: 1, 2796: 1, 2797: 1, 2799: 1, 92912: 2, 2801: 1, 2803: 1, 2807: 1, 2808: 2, 2809: 1, 2810: 2, 2811: 1, 1100542: 17, 2815: 1, 2818: 1, 2823: 2, 2824: 2, 2825: 3, 2826: 1, 150283: 1, 2828: 3, 2830: 1, 2831: 2, 174864: 1, 2833: 2, 19218: 1, 2835: 17, 18880: 1, 2838: 1, 2839: 2, 2841: 2, 19462: 1, 1839: 1, 2846: 1, 2848: 2, 2849: 2, 2850: 1, 2851: 2, 11046: 2, 2855: 1, 2857: 1, 2860: 1, 2862: 1, 2864: 2, 239411: 1, 2868: 1, 2869: 1, 2870: 1, 2872: 1, 2873: 1, 2875: 1, 2877: 2, 914: 1, 1845: 5, 2884: 1, 26206: 1, 2888: 2, 2890: 1, 1847: 4, 2892: 1, 11085: 1, 2894: 1, 2895: 4, 11088: 1, 2897: 2, 11090: 1, 60243: 1, 248661: 1, 2902: 1, 10041: 1, 600920: 9, 27486: 1, 11103: 1, 19296: 1, 2917: 2, 68454: 2, 2919: 1, 2920: 1, 2922: 1, 1853: 1, 2928: 1, 2933: 2, 2934: 2, 2938: 1, 2940: 2, 34624: 1, 93060: 1, 1695: 1, 2952: 1, 12919: 1, 2958: 2, 18102: 1, 2960: 1, 2961: 2, 2962: 1, 2966: 1, 11159: 2, 2968: 1, 2969: 1, 2970: 1, 2971: 1, 11165: 1, 2974: 2, 2976: 1, 2978: 2, 11171: 1, 2980: 2, 11173: 1, 2982: 1, 2983: 1, 2827: 1, 27561: 2, 2986: 1, 2987: 2, 11181: 1, 2990: 1, 3229: 1, 527280: 1, 19377: 1, 27570: 1, 8691: 1, 2110: 1, 2999: 1, 3000: 1, 3002: 1, 11195: 1, 272064: 1, 3009: 3, 3010: 1, 3011: 1, 3012: 3, 3014: 1, 3015: 1, 3016: 1, 3017: 2, 3021: 1, 3022: 1, 3025: 1, 3028: 3, 3030: 1, 11204: 5, 101339: 1, 8698: 1, 3041: 2, 3044: 1, 12077: 1, 3046: 2, 3047: 2, 3048: 1, 3049: 2, 3054: 3, 3055: 3, 27632: 1, 9649: 2, 3058: 1, 3059: 1, 3060: 1, 1059: 1, 10495: 1, 3063: 1, 511: 1, 3068: 1, 11434: 1, 3071: 1, 3074: 2, 3077: 1, 3078: 1, 513: 1, 1879: 1, 514: 1, 3090: 3, 11283: 1, 3092: 1, 3095: 1, 3097: 1, 11291: 1, 3100: 1, 3101: 1, 3103: 1, 3107: 1, 3108: 3, 3109: 2, 3111: 1, 3112: 2, 3113: 2, 44077: 1, 3118: 2, 3119: 1, 3126: 1, 3127: 1, 19513: 1, 3133: 1, 60597: 2, 3139: 1, 3141: 1, 3142: 10, 524: 1, 3147: 1, 3148: 1, 11016: 1, 3152: 1, 3154: 1, 3157: 1, 3159: 1, 3160: 1, 3162: 2, 60507: 1, 3164: 5, 3166: 1, 3168: 1, 11361: 56, 3170: 1, 15547: 1, 3172: 3, 3174: 1, 3176: 1, 3178: 1, 14183: 1, 11374: 1, 3183: 1, 11376: 1, 13745: 1, 3186: 5, 3187: 1, 3189: 1, 3191: 1, 3192: 1, 4628: 1, 76922: 1, 3195: 1, 150653: 1, 3199: 1, 35968: 1, 3264: 1, 3203: 2, 3204: 2, 3205: 2, 3206: 19, 3210: 1, 3266: 1, 11406: 1, 3217: 1, 3222: 1, 3225: 1, 11421: 2, 11422: 1, 93343: 2, 3233: 2, 3235: 5, 3236: 1, 3239: 1, 183465: 2, 3242: 2, 3243: 1, 11260: 1, 3245: 1, 3253: 2, 3254: 3, 3256: 1, 3258: 1, 3261: 1, 316809: 1, 3265: 2, 11458: 1, 3270: 1, 3276: 2, 3277: 1, 3281: 1, 3286: 1, 3291: 4, 3292: 4, 3297: 1, 3298: 1, 3302: 1, 3307: 1, 3313: 1, 3315: 1, 27897: 1, 3323: 1, 3325: 1, 3326: 1, 3329: 1, 19715: 1, 3335: 1, 3336: 2, 3337: 1, 3338: 1, 3339: 1, 3341: 2, 3343: 2, 3345: 1, 823: 1, 165763: 1, 11588: 1, 4654: 1, 3351: 2, 178052: 1, 3355: 4, 93469: 1, 17297: 1, 3361: 1, 115226: 1, 3363: 1, 3364: 2, 36133: 1, 19750: 6, 3368: 1, 3369: 1, 3370: 1, 3372: 1, 27953: 1, 563: 7, 3381: 1, 3383: 1, 93498: 1, 3388: 1, 33333: 1, 11585: 1, 3394: 1, 10123: 1, 3396: 1, 27973: 3, 3398: 2, 3399: 1, 3401: 1, 11595: 1, 3405: 1, 3406: 1, 1933: 1, 8760: 1, 3410: 1, 3411: 1, 1934: 2, 3414: 1, 3415: 1, 3416: 2, 3418: 1, 3419: 1, 11025: 1, 3421: 2, 3423: 1, 22718: 2, 3429: 1, 3430: 1, 3438: 1, 3443: 4, 3445: 2, 3446: 1, 11639: 1, 11640: 2, 3450: 2, 8767: 1, 3453: 1, 11647: 1, 36226: 1, 11499: 1, 19844: 2, 3461: 1, 3463: 1, 3464: 1, 388: 1, 3467: 1, 578: 4, 3479: 1, 216472: 1, 580: 4, 3482: 1, 3485: 1, 3488: 7, 3489: 2, 3491: 1, 11684: 1, 3495: 1, 11688: 1, 11689: 2, 8775: 1, 6333: 6, 3502: 1, 3506: 1, 3511: 1, 3513: 1, 10989: 1, 3515: 2, 3517: 1, 11713: 1, 3523: 1, 3524: 1, 28101: 1, 11718: 1, 3529: 1, 3530: 1, 3531: 1, 28110: 1, 3535: 3, 3540: 2, 3541: 1, 11736: 1, 1956: 1, 3548: 1, 3550: 1, 1957: 1, 3553: 1, 3554: 1, 60899: 1, 3557: 2, 1755: 3, 11751: 1, 3563: 1, 3564: 3, 3570: 1, 3572: 1, 3574: 1, 3578: 1, 3579: 2, 3582: 2, 3583: 1, 3586: 2, 3590: 2, 69127: 1, 3592: 1, 3596: 1, 3597: 3, 3600: 1, 3602: 5, 3605: 1, 11304: 1, 6063: 1, 3612: 1, 3615: 1, 3616: 2, 814626: 1, 3619: 1, 3621: 1, 3622: 1, 3623: 6, 28200: 1, 8796: 1, 3626: 1, 11819: 1, 3629: 1, 3630: 1, 3631: 1, 3632: 1, 3634: 1, 3635: 6, 257591: 1, 3640: 1, 3641: 2, 3643: 2, 52796: 1, 3645: 1, 3646: 1, 10165: 1, 608: 1, 3655: 1, 19754: 1, 3395: 1, 3659: 1, 610: 1, 3662: 1, 9432: 1, 2506: 1, 3667: 1, 3668: 1, 3673: 1, 26554: 1, 3678: 1, 3679: 1, 3680: 4, 3684: 1, 28262: 1, 3687: 2, 3689: 2, 3690: 1, 21095: 1, 3693: 1, 3695: 2, 3699: 1, 3182196: 4, 3703: 1, 3704: 2, 1983: 1, 618: 1, 11902: 1, 3711: 1, 669: 1, 3714: 1, 11907: 1, 3719: 1, 11912: 1, 3722: 1, 3724: 1, 3726: 1, 3727: 1, 3730: 1, 3731: 1, 3733: 1, 27250327: 1, 3737: 1, 11932: 1, 102045: 1, 1989: 1, 3748: 2, 3751: 1, 3753: 1, 59491: 1, 194503: 1, 3756: 1, 3759: 1, 3761: 1, 3762: 1, 3763: 2, 3764: 1, 3768: 1, 3769: 1, 3771: 1, 3773: 1, 3775: 1, 3777: 2, 3780: 1, 11976: 1, 3786: 4, 631: 1, 76731: 1, 28365: 3, 11982: 1, 29280: 1, 3795: 2, 93908: 1, 118487: 1, 3800: 1, 6095: 2, 3805: 1, 11999: 3, 3809: 1, 3810: 1, 429795: 1, 3813: 1, 306918: 1, 3815: 1, 3816: 1, 12924: 1, 478955: 2, 3821: 1, 97238: 2, 3833: 3, 36602: 1, 3836: 4, 3837: 1, 3838: 1, 3840: 1, 151298: 2, 3845: 1, 12038: 1, 3848: 1, 3849: 1, 3852: 1, 3853: 2, 3854: 2, 102159: 1, 3856: 1, 528508: 1, 28436: 1, 20245: 1, 3863: 1, 3864: 1, 3865: 1, 9682: 1, 12063: 1, 3872: 1, 3874: 1, 41606: 1, 3881: 1, 3883: 1, 3884: 1, 102189: 1, 77614: 1, 3887: 1, 11571: 1, 3892: 1, 3893: 1, 28471: 1, 12088: 1, 3899: 1, 12092: 1, 20285: 1, 44864: 1, 3906: 1, 3907: 1, 28485: 1, 3910: 1, 10209: 1, 3912: 2, 44874: 1, 36683: 1, 3916: 1, 190434: 1, 8845: 1, 3920: 1, 2019: 2, 3924: 1, 20309: 1, 3927: 1, 3928: 1, 3931: 1, 3933: 2, 3936: 1, 61282: 1, 3939: 1, 118629: 1, 3942: 2, 3943: 1, 53096: 2, 3951: 1, 3952: 1, 3954: 2, 3958: 1, 3961: 1, 20347: 1, 3964: 3, 3965: 1, 661: 1, 3971: 4, 3972: 2, 15681: 1, 3976: 1, 3977: 1, 3979: 1, 3981: 2, 3983: 1, 3984: 2, 12178: 1, 3987: 1, 3988: 2, 3989: 1, 3993: 1, 3994: 3, 3996: 1, 3997: 1, 3397: 2, 4001: 1, 4004: 1, 4006: 1, 2033: 1, 4008: 1, 4009: 1, 4012: 1, 10772: 1, 4015: 1, 4018: 2, 4019: 1, 12214: 1, 4023: 1, 4025: 1, 4027: 1, 44988: 1, 4029: 1, 4031: 1, 44993: 1, 27471: 1, 4036: 1, 282567: 1, 20426: 1, 4043: 1, 4045: 1, 126927: 1, 4048: 1, 4049: 1, 4050: 1, 4051: 2, 26322: 1, 4059: 2, 126943: 1, 4067: 1, 4069: 3, 4070: 1, 12264: 1, 4074: 1, 20460: 3, 11602: 1, 12271: 1, 4080: 1, 4083: 1, 20469: 1, 12278: 1, 151544: 2, 4090: 1, 4092: 1, 12288: 1, 4097: 1, 4101: 1, 4102: 1, 4103: 1, 4104: 1, 4107: 1, 12307: 1, 4116: 1, 4118: 1, 4121: 1, 192543: 1, 4131: 1, 20516: 1, 2054: 1, 4134: 1, 12327: 1, 4136: 1, 289: 1, 4140: 1, 33458: 1, 8594: 1, 4787: 6, 4148: 1, 4152: 1, 4157: 1, 4158: 1, 17077: 3, 4166: 1, 4168: 5, 36946: 2, 2062: 1, 4182: 1, 4185: 1, 4186: 1, 4188: 1, 4794: 1, 4190: 1, 4192: 1, 28006: 2, 8484: 1, 4207: 1, 4208: 2, 4209: 2, 4215: 1, 4217: 1, 4218: 2, 25279: 1, 249980: 2, 774270: 1, 8896: 1, 4231: 2, 4232: 1, 6781787: 1, 12436: 1, 4249: 1, 4254: 1, 28831: 1, 4259: 1, 4263: 1, 4264: 1, 4265: 1, 12458: 1, 4807: 1, 4268: 2, 4269: 1, 4270: 2, 4272: 1, 4273: 1, 9144: 1, 4276: 2, 4277: 1, 4279: 1, 4280: 1, 12474: 1, 12476: 1, 4285: 1, 4290: 2, 4291: 3, 4293: 1, 4294: 2, 4298: 1, 20684: 1, 4302: 1, 4303: 1, 4304: 1, 2083: 1, 4308: 2, 4309: 1, 4313: 1, 4315: 2, 4316: 1, 4317: 4, 4320: 2, 25296: 1, 4322: 1, 4323: 1, 4325: 1, 12518: 1, 4330: 1, 4337: 1, 4338: 1, 4341: 1, 4342: 2, 4344: 1, 12537: 1, 4347: 2, 4349: 1, 4350: 1, 4351: 1, 4353: 1, 4354: 1, 4356: 1, 726: 1, 4358: 1, 20746: 1, 4363: 1, 4367: 5, 86288: 2, 4371: 1, 4374: 1, 4385: 3, 4386: 1, 4389: 1, 4390: 1, 4391: 2, 69928: 1, 12586: 1, 40156: 1, 4407: 1, 127145: 1, 12604: 1, 4415: 2, 12610: 1, 4419: 2, 53572: 10, 53573: 1, 1511: 1, 20809: 1, 37196: 1, 4429: 1, 61775: 1, 110933: 1, 4438: 2, 4440: 1, 4443: 1, 12636: 1, 4449: 1, 4450: 1, 12643: 1, 4454: 1, 4462: 1, 4464: 1, 744: 1, 4466: 1, 4467: 2, 4469: 1, 4472: 1, 4474: 1, 4479: 1, 4480: 1, 4481: 1, 4485: 2, 4486: 3, 45451: 1, 4493: 1, 53646: 1, 8941: 2, 4496: 1, 4497: 5, 4498: 8, 4500: 1, 4504: 1, 4505: 1, 4509: 3, 4510: 6, 4511: 2, 4513: 1, 4519: 1, 4520: 1, 12713: 1, 4522: 4, 4523: 2, 4524: 1, 4526: 1, 4528: 1, 10312: 1, 4532: 3, 4533: 1, 4534: 7, 12729: 1, 2606: 1, 4540: 1, 4541: 2, 4542: 1, 20927: 2, 4546: 2, 348619: 1, 4558: 4, 4562: 1, 4568: 3, 4569: 2, 4570: 1, 2127: 1, 4573: 1, 12768: 1, 4577: 1, 4579: 3, 4582: 3, 4587: 2, 20974: 1, 4592: 5, 3031: 1, 4594: 2, 12787: 1, 4598: 3, 4604: 1, 10325: 11, 1790: 3, 12804: 1, 4618: 2, 4619: 1, 414224: 1, 12820: 2, 4630: 3, 4635: 1, 2138: 1, 586501: 1, 83353: 1, 21025: 3, 53794: 1, 4644: 2, 111144: 1, 4652: 2, 45614: 1, 21039: 3, 12848: 1, 12852: 1, 74505: 1, 4665: 1, 4666: 2, 2143: 3, 10336: 1, 8339: 1, 12870: 1, 10337: 1, 176716: 1, 4687: 1, 4689: 1, 12883: 1, 4694: 2, 4879: 2, 4702: 4, 4703: 2, 4704: 1, 4521: 2, 4707: 1, 4711: 1, 4713: 1, 4714: 1, 29292: 1, 4717: 1, 4720: 1, 4726: 1, 2153: 3, 4731: 1, 4732: 1, 4733: 1, 4734: 1, 12927: 1, 4737: 1, 4739: 1, 4740: 1, 37509: 2, 21126: 1, 4746: 1, 18541: 1, 8984: 1, 5341: 1, 4757: 1, 4760: 1, 4761: 2, 1941: 1, 4765: 1, 4766: 1, 21151: 1, 4768: 1, 3526: 1, 6257: 1, 4777: 1, 4778: 1, 12979: 1, 12983: 1, 4792: 2, 25801: 1, 12989: 1, 4799: 1, 4797: 1, 4804: 1, 37573: 2, 70343: 1, 46533: 1, 4811: 1, 4812: 2, 4814: 1, 4816: 1, 4817: 3, 13011: 1, 29396: 1, 660181: 1, 21206: 1, 4825: 1, 1389277: 1, 4832: 1, 4835: 1, 4836: 7, 4902: 1, 4840: 1, 4843: 1, 4847: 1, 4851: 1, 4853: 1, 13046: 1, 4859: 1, 4862: 1, 4863: 3, 4864: 1, 4865: 1, 4868: 1, 4869: 1, 4873: 1, 4874: 1, 4876: 1, 4878: 1, 13071: 1, 28120: 2, 4886: 1, 4887: 1, 4888: 1, 13081: 1, 4893: 1, 4894: 1, 13092: 1, 21285: 1, 21286: 1, 4903: 3, 4904: 1, 2183: 1, 4255: 1, 4909: 1, 33530: 1, 4917: 2, 4921: 1, 4922: 1, 4924: 2, 4925: 1, 4928: 1, 4929: 1, 37698: 1, 4931: 1, 4932: 1, 2131: 1, 4940: 1, 4942: 1, 4948: 3, 46641: 1, 13143: 1, 4955: 1, 13148: 1, 4958: 1, 54117: 1, 553831: 2, 4968: 1, 4970: 1, 4971: 1, 4974: 1, 4975: 1, 4977: 1, 9022: 1, 45949: 1, 4990: 1, 4991: 1, 4995: 1, 5000: 2, 6335: 2, 5003: 2, 5004: 1, 5005: 1, 5006: 1, 13200: 1, 5010: 3, 41795: 5, 5013: 1, 21399: 1, 5016: 1, 5020: 1, 10394: 1, 5030: 1, 5036: 17, 2205: 5, 5041: 1, 33720: 1, 5045: 1, 5047: 1, 13241: 3, 10399: 2, 21437: 1, 5055: 1, 340930: 1, 9292: 1, 387257: 2, 13258: 1, 13262: 1, 5074: 1, 5075: 3, 5076: 1, 5078: 1, 201687: 1, 5080: 1, 2212: 1, 5082: 1, 5085: 1, 50880: 1, 5089: 1, 5095: 1, 144361: 1, 5099: 2, 5100: 1, 29677: 1, 195482: 1, 13302: 1, 46071: 1, 13304: 1, 25428: 1, 21498: 1, 5115: 2, 5117: 1, 3486720: 1, 5125: 1, 78854: 1, 5128: 1, 5137: 2, 5138: 1, 5142: 1, 2899: 1, 13342: 1, 5152: 1, 5156: 1, 21543: 1, 5162: 1, 5165: 1, 13360: 1, 94: 1, 21556: 1, 5173: 2, 5174: 1, 26804: 1, 13372: 1, 6325: 14, 21568: 2, 4537: 1, 5193: 2, 5195: 1, 5202: 1, 5203: 1, 54357: 1, 2233: 3, 62554: 1, 5213: 1, 5215: 1, 595046: 2, 21607: 1, 5225: 2, 13423: 1, 5234: 1, 5237: 1, 29815: 1, 22719: 1, 2217: 2, 5251: 1, 5252: 2, 8631: 2, 5260: 1, 119950: 2, 5263: 1, 13457: 1, 2903: 1, 152724: 1, 5274: 1, 5277: 1, 5278: 1, 2245: 1, 5280: 2, 5282: 1, 5284: 2, 5285: 1, 5286: 2, 13480: 1, 119979: 2, 5294: 3, 5295: 1, 2904: 1, 908: 1, 4584632: 1, 13497: 1, 7711: 1, 5309: 1, 13505: 1, 13506: 2, 308: 1, 5320: 1, 17908: 1, 29902: 1, 226512: 1, 305277: 2, 9081: 1, 21724: 1, 21725: 1, 5343: 1, 5348: 2, 152806: 1, 5352: 1, 9084: 1, 5354: 1, 13552: 2, 3624: 1, 685299: 1, 5366: 2, 5367: 2, 13561: 1, 5371: 1, 5373: 2, 103681: 1, 5378: 1, 5383: 1, 5384: 1, 5389: 2, 38158: 214, 5401: 1, 2266: 1, 5407: 1, 5410: 1, 5411: 1, 5412: 3, 5415: 1, 5417: 1, 5422: 1, 13616: 1, 5428: 2, 5429: 2, 905: 1, 5433: 1, 5435: 2, 13629: 1, 5438: 1, 136511: 3, 5440: 1, 5442: 1, 8496: 1, 2273: 1, 1466: 1, 5451: 3, 13644: 1, 13646: 1, 11832: 1, 5459: 1, 5460: 1, 8638: 1, 13656: 1, 5465: 2, 1273: 5, 5469: 1, 11835: 1, 5479: 1, 5480: 1, 17298: 1, 13678: 1, 5487: 2, 21872: 1, 5490: 1, 5491: 1, 4820: 1, 5495: 1, 21880: 1, 5497: 1, 21884: 1, 30077: 1, 5502: 1, 5504: 1, 5507: 1, 456: 1, 30089: 1, 5515: 1, 4699: 1, 5517: 3, 13710: 1, 9731: 1, 13714: 1, 13715: 1, 13717: 1, 834: 1, 13722: 1, 140186: 2, 5536: 1, 5537: 2, 5538: 1, 16824: 1, 147014: 1, 13734: 1, 5543: 3, 10973: 4, 30126: 1, 5551: 1, 5552: 1, 5553: 2, 308661: 1, 71094: 1, 5560: 1, 12733: 1, 5562: 1, 5563: 1, 5567: 1, 5570: 1, 5571: 1, 21957: 1, 5575: 1, 5576: 1, 5578: 1, 5585: 3, 5587: 1, 5590: 1, 5596: 2, 62944: 1, 5601: 1, 5602: 1, 5605: 3, 5606: 1, 79335: 1, 9127: 1, 5612: 1, 5619: 3, 3503604: 1, 5622: 2, 15956: 1, 5627: 2, 5629: 1, 5630: 1, 305279: 1, 5636: 1, 497159: 1, 5643: 1, 164781: 1, 5648: 1, 22033: 1, 5651: 1, 5652: 2, 22037: 1, 22039: 1, 5656: 2, 5658: 1, 943: 2, 5660: 2, 1947: 1, 5663: 1, 87585: 1, 5666: 2, 5668: 1, 5670: 1, 5673: 1, 5674: 1, 13868: 2, 946: 3, 3677: 1, 10504: 1, 365: 1, 4052540: 1, 5695: 1, 5696: 1, 54851: 1, 13892: 1, 2316: 1, 13113: 1, 5707: 1, 5709: 1, 5712: 1, 5713: 1, 5717: 1, 5722: 1, 17605: 1, 22111: 1, 5729: 1, 13923: 2, 13925: 1, 5737: 1, 63082: 1, 11879: 1, 5742: 1, 5743: 1, 5746: 1, 2323: 1, 5748: 1, 46716: 2, 960: 1, 20075: 1, 5764: 1, 10518: 1, 6423: 1, 5774: 1, 5775: 2, 465: 5, 128667: 1, 5789: 1, 5790: 1, 9409: 1, 11377: 1, 6428: 1, 5803: 1, 5804: 1, 5809: 1, 1457: 1, 18042: 1, 38586: 3, 38588: 1, 30400: 1, 5825: 1, 10014: 1, 5827: 1, 5831: 2, 30410: 1, 5835: 1, 17357: 1, 14049: 1, 55016: 1, 5872: 3, 979: 1, 3710: 1, 1694: 2, 5880: 1, 5883: 1, 5885: 1, 2347: 3, 5896: 1, 2348: 4, 469: 1, 5907: 1, 30489: 1, 30490: 1, 46881: 1, 5924: 1, 2658: 2, 8441: 1, 22714: 1, 5941: 2, 5943: 2, 5946: 1, 5949: 1, 5952: 7, 1562: 2, 38723: 1, 5958: 1, 22343: 1, 5962: 1, 5964: 1, 14157: 1, 5977: 1, 367: 1, 29387: 1, 5991: 1, 14189: 1, 6000: 1, 21204: 1, 5550: 1, 6010: 1, 6011: 1, 6012: 1, 6014: 1, 6020: 2, 3735: 1, 38804: 2, 5102: 1, 50159: 1, 16026: 1, 6050: 1, 6052: 9, 3740: 1, 6058: 2, 55211: 1, 14255: 1, 6065: 1, 1011: 3, 11386: 1, 22857: 1, 22456: 1, 3743: 1, 11659: 1, 6083: 2, 14279: 3, 2112: 3, 1015: 1, 6092: 2, 6094: 1, 2381: 1, 6101: 1, 6102: 1, 13305: 2, 6106: 1, 166223: 1, 6109: 1, 6111: 1, 88032: 1, 22502: 1, 14313: 1, 6122: 1, 14315: 1, 6124: 1, 6125: 1, 13309: 1, 14322: 1, 2387: 1, 9214: 1, 6137: 2, 1841: 1, 22526: 1, 14335: 1, 6149: 2, 6156: 1, 6160: 1, 6161: 1, 7854: 1, 6171: 2, 350236: 1, 6175: 1, 6176: 1, 6180: 1, 6185: 2, 41991: 1, 6192: 1, 6196: 2, 6199: 1, 6201: 1, 14396: 1, 58378: 1, 97973: 1, 6208: 1, 3480: 1, 1035: 1, 14406: 2, 120903: 1, 1036: 1, 22603: 1, 6221: 1, 6223: 1, 14420: 1, 30812: 3, 15633: 1, 6244: 1, 22630: 1, 10028: 1, 6252: 1, 6254: 2, 118461: 23, 6330: 6, 112753: 1, 63603: 1, 6260: 2, 1951: 1, 9236: 1, 6275: 1, 16303: 1, 39048: 1, 47241: 1, 7134: 1, 2414: 1, 9241: 1, 47265: 1, 6316: 1, 6318: 1, 6319: 2, 6320: 5, 6321: 11, 6322: 10, 6323: 19, 6324: 19, 22709: 1, 6326: 7, 6327: 7, 6328: 9, 6516: 1, 39098: 1, 6331: 4, 11978: 1, 6334: 2, 202943: 3, 6337: 5, 6338: 1, 20171: 1, 6341: 2, 14535: 1, 6345: 1, 22734: 1, 6352: 1, 6354: 6, 6355: 1, 6357: 4, 88279: 19, 6360: 1, 5573: 1, 83895: 1, 6365: 2, 10032: 1, 6368: 1, 6373: 1, 6379: 3, 9257: 1, 6394: 1, 22779: 1, 1067: 1, 6407: 1, 14600: 1, 6409: 2, 3799: 1, 80140: 1, 52315: 1, 14615: 1, 14620: 1, 6434: 3, 18822: 1, 6441: 2, 1415466: 1, 18823: 1, 229124: 1, 10210: 1, 55607: 2, 5172: 1, 6462: 1, 6463: 1, 22848: 1, 6465: 1, 6466: 1, 6467: 34, 6473: 1, 6479: 1, 14674: 1, 9754: 1, 6485: 1, 6491: 1, 6493: 1, 11007: 2, 14692: 1, 8301: 4, 55663: 1, 25040: 1, 1308: 1, 2452: 1, 182677: 1, 2945: 1, 6529: 2, 6534: 1, 7916: 1, 10647: 2, 25666: 1, 694672: 1, 6546: 1, 481685: 1, 589: 3, 26285: 1, 55712: 1, 244136: 1, 162222: 1, 493981: 1, 14770: 1, 31157: 1, 22971: 1, 14780: 1, 6590: 3, 6594: 1, 6599: 1, 170440: 2, 9767: 1, 14794: 1, 7927: 1, 6607: 1, 17292: 1, 6611: 2, 47573: 1, 6615: 2, 6620: 1, 3834: 1, 6622: 1, 6623: 4, 6625: 1, 23013: 1, 6630: 1, 2499: 1, 16315: 1, 6638: 1, 1587704: 1, 6654: 1, 55808: 1, 121345: 1, 6658: 1, 80391: 1, 14857: 2, 6669: 1, 1112: 1, 14868: 1, 1113: 2, 6681: 1, 6575: 1, 7941: 2, 23072: 1, 6692: 3, 6695: 1, 6709: 1, 7649846: 1, 23097: 1, 55866: 1, 21599: 3, 6717: 1, 6719: 1, 14917: 1, 6729: 1, 64077: 1, 6734: 1, 6738: 1, 20135: 1, 6741: 1, 9499: 1, 14937: 1, 3855: 1, 18501: 2, 31328: 1, 43722: 1, 150347: 1, 23147: 1, 14960: 2, 3184: 1, 6775: 3, 6776: 1, 12052: 1, 6780: 1, 6781: 1, 10688: 1, 164971: 1, 6790: 1, 23177: 1, 6796: 1, 6799: 1, 36632: 1, 6802: 1, 6803: 1, 31386: 1, 6813: 2, 1136: 4, 6821: 1, 31399: 1, 6827: 1, 1138: 1, 6841: 1, 6843: 1, 18890: 1, 6847: 1, 15040: 1, 6850: 1, 6858: 1, 31436: 1, 15059: 1, 6868: 3, 2093: 1, 6871: 1, 50299: 4, 16166: 1, 350952: 1, 1148: 2, 6893: 1, 31472: 1, 6897: 1, 6898: 1, 6899: 1, 6900: 1, 6902: 1, 6907: 1, 6909: 1, 6613: 1, 23296: 2, 23299: 1, 137990: 1, 6919: 2, 31496: 1, 59863: 1, 1154: 1, 6926: 1, 6927: 1, 6929: 1, 23315: 1, 6933: 1, 4930: 1, 6939: 1, 6940: 1, 531231: 1, 15139: 2, 6948: 1, 15141: 1, 6950: 1, 15143: 4, 6953: 5, 6954: 1, 399837: 1, 6960: 1, 15154: 1, 39735: 1, 6970: 1, 2527: 1, 47932: 1, 6973: 1, 56130: 2, 129864: 1, 31561: 1, 90555: 1, 6992: 2, 162644: 1, 56151: 1, 7002: 3, 47963: 1, 31581: 1, 23391: 1, 7016: 1, 7019: 1, 47983: 1, 7026: 1, 7029: 1, 2537: 2, 7033: 1, 7034: 1, 16191: 1, 31614: 4, 7039: 1, 3904: 1, 7044: 1, 7048: 1, 7057: 1, 3496852: 1, 7061: 1, 9369: 2, 7065: 1, 23450: 2, 10735: 1, 15261: 1, 8029: 1, 39841: 1, 2545: 1, 7082: 1, 7084: 4, 117234: 1, 15280: 1, 151368: 1, 7090: 2, 1055670: 1, 4786676: 1, 15291: 1, 613308: 1, 1055: 1, 26151: 1, 7116: 2, 7121: 1, 7122: 1, 23510: 1, 7128: 1, 27130: 1, 23518: 2, 7136: 1, 7141: 1, 66727: 1, 3784: 1, 32699: 1, 7153: 1, 7158: 8, 7159: 1, 7163: 1, 89084: 1, 31741: 1, 3925: 1, 7170: 2, 7173: 1, 145921: 1, 62145: 1, 23564: 1, 17581: 1, 7185: 2, 7186: 2, 29870: 1, 31767: 1, 10756: 1, 49613: 1, 7198: 1, 7207: 2, 7208: 1, 1202: 2, 12125: 1, 23601: 1, 7219: 1, 8151: 1, 10762: 1, 7233: 1, 15428: 1, 23621: 1, 7240: 1, 31821: 1, 7251: 1, 7257: 4, 7259: 1, 14451: 1, 26348: 1, 435387: 1, 48230: 1, 18961: 1, 7275: 1, 7278: 1, 72817: 1, 15476: 1, 7286: 2, 4607: 1, 7289: 1, 173248: 1, 1217: 2, 7304: 1, 7305: 1, 97419: 1, 228494: 1, 15506: 1, 72851: 1, 72853: 1, 7321: 1, 12143: 1, 4881: 1, 81053: 1, 7326: 1, 15519: 1, 31908: 1, 107718: 2, 7334: 1, 7337: 1, 1223: 1, 79624: 1, 35358: 1, 9417: 1, 8701: 2, 15554: 1, 23748: 1, 2973: 1, 9420: 1, 9606349: 1, 154833: 1, 2595: 3, 7381: 1, 7388: 3, 7391: 1, 434807: 1, 7397: 1, 465886: 1, 7222: 1, 10792: 1, 1795: 3, 7420: 1, 7424: 3, 859397: 1, 7431: 1, 7437: 1, 2605: 1, 7441: 1, 7445: 1, 7448: 1, 1242: 1, 7457: 1, 7460: 1, 1244: 1, 7467: 2, 7471: 1, 7472: 1, 191378: 1, 11160: 1, 7475: 1, 15668: 2, 28553: 1, 7484: 1, 7489: 1, 7491: 1, 15690: 1, 73035: 1, 7505: 1, 9328: 1, 7511: 1, 7512: 1, 7517: 2, 89444: 1, 7528: 1, 114025: 1, 3986: 1, 15729: 1, 105847: 1, 7545: 1, 15738: 1, 47679: 1, 2979: 1, 7561: 1, 15760: 1, 32145: 1, 15766: 1, 7575: 1, 15772: 1, 15776: 1, 81314: 1, 7591: 1, 7592: 1, 114090: 1, 10823: 1, 7597: 1, 7599: 1, 7600: 1, 680027: 1, 7605: 1, 7610: 1, 3999: 1, 97724: 1, 48574: 1, 15812: 1, 7621: 1, 15814: 1, 15815: 1, 12296: 1, 51788: 2, 24012: 1, 7636: 1, 9465: 1, 1275: 1, 7652: 1, 7653: 1, 7661: 1, 48624: 2, 7669: 1, 7675: 1, 7676: 1, 7683: 1, 8780: 1, 474642: 1, 58627: 1, 7700: 1, 32279: 1, 9476: 1, 7706: 1, 102319: 1, 7710: 1, 9477: 1, 15910: 1, 7724: 1, 7729: 1, 1179192: 1, 2655: 1, 9482: 2, 4022: 1, 7750: 1, 7753: 1, 24138: 1, 7757: 2, 65103: 2, 7763: 1, 65108: 2, 5390: 1, 89687: 1, 7351: 1, 7778: 1, 8123: 2, 89706: 1, 24174: 1, 4624: 22, 15991: 1, 7805: 1, 24194: 1, 155268: 1, 16013: 1, 32401: 1, 24211: 1, 8444: 1, 7834: 1, 16028: 2, 4266: 1, 16033: 1, 34075: 1, 7844: 1, 7848: 1, 2989: 1, 97966: 1, 24240: 1, 7861: 1, 7870: 1, 2677: 1, 2717: 1, 638659: 1, 10987: 1, 114380: 1, 7885: 1, 7890: 1, 1315: 3, 16086: 1, 11174: 1, 16090: 1, 4047: 1, 42388: 1, 109178: 2, 196324: 1, 7910: 1, 409324: 1, 7921: 1, 409335: 1, 32504: 4, 245499: 2, 48893: 1, 1628: 1, 40708: 1, 24325: 1, 17708: 1, 16139: 2, 10883: 1, 27543: 1, 1356: 1, 1327: 1, 679709: 1, 117381: 1, 7971: 1, 7972: 1, 474918: 1, 16167: 1, 7976: 1, 16170: 1, 7979: 1, 73520: 3, 2696: 3, 7999: 1, 24384: 1, 8003: 6, 24392: 2, 24396: 1, 8013: 2, 1729: 1, 8021: 1, 24407: 1, 75555: 1, 2995: 1, 16231: 1, 65390: 1, 4072: 1, 24437: 1, 8054: 1, 8055: 1, 8058: 1, 5439: 1, 8062: 2, 155519: 1, 8066: 1, 98180: 1, 130113: 1, 4076: 1, 8077: 2, 45117: 1, 32658: 1, 81812: 1, 16278: 1, 5452: 1, 24476: 1, 8100: 1, 8104: 1, 8106: 1, 8107: 1, 8111: 1, 270: 2, 5449: 1, 8121: 1, 10911: 1, 923912: 1, 24512: 1, 171977: 1, 10914: 1, 16336: 1, 12280: 1, 2723: 1, 5454: 1, 16343: 1, 8154: 1, 139230: 1, 40932: 1, 8165: 1, 5457: 1, 2727: 1, 8172: 1, 8173: 1, 8176: 1, 16369: 2, 9555: 1})\n"
     ]
    }
   ],
   "source": [
    "from collections import defaultdict\n",
    "countsOfLenght = defaultdict(int)\n",
    "for i in range(len(df)):\n",
    "    countsOfLenght[len(df['attach_full'][i])] += 1\n",
    "print countsOfLenght"
   ]
  },
  {
   "cell_type": "code",
   "execution_count": 28,
   "metadata": {
    "collapsed": false
   },
   "outputs": [
    {
     "name": "stdout",
     "output_type": "stream",
     "text": [
      "this is how many megs in the max file 27.250327 MB\n"
     ]
    }
   ],
   "source": [
    "print \"this is how many megs in the max file\",max(countsOfLenght.viewkeys())/1000./1000.,\"MB\""
   ]
  },
  {
   "cell_type": "code",
   "execution_count": 31,
   "metadata": {
    "collapsed": false
   },
   "outputs": [
    {
     "name": "stdout",
     "output_type": "stream",
     "text": [
      "this is how many megs in the second max file 9.606349 MB\n"
     ]
    }
   ],
   "source": [
    "print \"this is how many megs in the second max file\",9606349/1000./1000.,\"MB\""
   ]
  },
  {
   "cell_type": "code",
   "execution_count": 35,
   "metadata": {
    "collapsed": false
   },
   "outputs": [
    {
     "name": "stdout",
     "output_type": "stream",
     "text": [
      "OrderedDict([(27250327, 1), (9606349, 1), (7649846, 1), (6781787, 1), (4786676, 1), (4584632, 1), (4052540, 1), (3503604, 1), (3499772, 1), (3496852, 1), (3486720, 1), (3182196, 4), (1587704, 1), (1415466, 1), (1389277, 1), (1179192, 1), (1156649, 1), (1100542, 17), (1055670, 1), (923912, 1), (859397, 1), (814626, 1), (803266, 1), (780997, 1), (774270, 1), (763486, 1), (739624, 1), (694672, 1), (685299, 1), (680027, 1), (679709, 1), (660181, 1), (648497, 1), (638659, 1), (613308, 1), (600920, 9), (599960, 1), (595046, 2), (586501, 1), (582756, 1), (565686, 1), (553831, 2), (531231, 1), (528508, 1), (527280, 1), (510612, 1), (497159, 1), (493981, 1), (481685, 1), (478955, 2), (474918, 1), (474642, 1), (465886, 1), (444521, 1), (435387, 1), (434807, 1), (429795, 1), (414224, 1), (410504, 1), (409335, 1), (409324, 1), (399837, 1), (387257, 2), (377194, 3), (350952, 1), (350236, 1), (348619, 1), (340930, 1), (316809, 1), (308661, 1), (306918, 1), (305279, 1), (305278, 1), (305277, 2), (303830, 2), (296974, 1), (282567, 1), (278773, 1), (278582, 2), (272835, 1), (272064, 1), (271729, 1), (257591, 1), (249980, 2), (248661, 1), (245499, 2), (244136, 1), (240028, 1), (239557, 1), (239411, 1), (231351, 2), (229124, 1), (228494, 1), (226512, 1), (223842, 1), (216472, 1), (213445, 1), (202943, 3), (201687, 1), (198746, 1), (198044, 1), (196324, 1), (195482, 1), (194503, 1), (192543, 1), (191378, 1), (190434, 1), (189162, 1), (183465, 2), (182677, 1), (178052, 1), (176716, 1), (174864, 1), (173761, 1), (173248, 1), (171977, 1), (170440, 2), (166223, 1), (165763, 1), (165588, 1), (164971, 1), (164781, 1), (162644, 1), (162222, 1), (157190, 1), (155519, 1), (155268, 1), (154833, 1), (152806, 1), (152724, 1), (151544, 2), (151368, 1), (151298, 2), (150653, 1), (150347, 1), (150283, 1), (148821, 1), (148036, 1), (147014, 1), (145921, 1), (144361, 1), (141530, 1), (140243, 1), (140186, 2), (139230, 1), (137990, 1), (136511, 3), (132683, 1), (132455, 7), (131778, 1), (130113, 1), (129864, 1), (128667, 1), (127145, 1), (126943, 1), (126927, 1), (125209, 2), (124254, 1), (123350, 1), (123063, 1), (121345, 1), (120903, 1), (119979, 2), (119950, 2), (118629, 1), (118487, 1), (118461, 23), (117381, 1), (117234, 1), (115432, 1), (115226, 1), (114873, 1), (114380, 1), (114090, 1), (114025, 1), (112753, 1), (111144, 1), (110933, 1), (109478, 1), (109178, 2), (108425, 1), (108240, 13), (107718, 2), (106766, 1), (105847, 1), (103681, 1), (102319, 1), (102189, 1), (102159, 1), (102045, 1), (101339, 1), (99482, 1), (98760, 1), (98654, 1), (98180, 1), (97973, 1), (97966, 1), (97724, 1), (97419, 1), (97238, 2), (93908, 1), (93498, 1), (93469, 1), (93343, 2), (93060, 1), (92912, 2), (90618, 1), (90576, 1), (90555, 1), (90194, 1), (90158, 1), (89706, 1), (89687, 1), (89444, 1), (89084, 1), (88279, 19), (88032, 1), (87585, 1), (86288, 2), (84334, 1), (84164, 1), (83895, 1), (83353, 1), (83137, 1), (81812, 1), (81314, 1), (81053, 1), (80391, 1), (80140, 1), (79624, 1), (79335, 1), (78854, 1), (77614, 1), (76922, 1), (76731, 1), (75732, 1), (75555, 1), (74505, 1), (73520, 3), (73035, 1), (72853, 1), (72851, 1), (72817, 1), (71094, 1), (70343, 1), (69928, 1), (69127, 1), (68721, 1), (68496, 1), (68454, 2), (68042, 1), (67722, 1), (67158, 1), (66727, 1), (65960, 1), (65390, 1), (65108, 2), (65103, 2), (64077, 1), (63603, 1), (63082, 1), (63021, 1), (62944, 1), (62554, 1), (62145, 1), (61775, 1), (61282, 1), (60899, 1), (60597, 2), (60531, 1), (60507, 1), (60243, 1), (60116, 1), (59863, 1), (59491, 1), (58627, 1), (58378, 1), (58290, 2), (57907, 1), (57790, 1), (56151, 1), (56130, 2), (55866, 1), (55808, 1), (55712, 1), (55663, 1), (55607, 2), (55211, 1), (55016, 1), (54851, 1), (54357, 1), (54117, 1), (53794, 1), (53646, 1), (53573, 1), (53572, 10), (53096, 2), (52796, 1), (52315, 1), (51788, 2), (51758, 1), (51679, 1), (51533, 1), (51093, 1), (50880, 1), (50712, 1), (50467, 1), (50299, 4), (50159, 1), (50055, 1), (49719, 1), (49617, 1), (49615, 3), (49613, 1), (49607, 1), (48893, 1), (48624, 2), (48574, 1), (48230, 1), (47983, 1), (47963, 1), (47932, 1), (47679, 1), (47573, 1), (47265, 1), (47241, 1), (46881, 1), (46716, 2), (46641, 1), (46533, 1), (46071, 1), (45949, 1), (45614, 1), (45451, 1), (45117, 1), (44993, 1), (44988, 1), (44874, 1), (44864, 1), (44077, 1), (43722, 1), (43648, 1), (43403, 28), (43091, 1), (43053, 1), (42999, 3), (42680, 1), (42437, 1), (42388, 1), (42385, 1), (42233, 1), (42162, 1), (42098, 1), (41991, 1), (41795, 5), (41606, 1), (41602, 1), (41162, 1), (41149, 1), (41028, 1), (40986, 1), (40932, 1), (40708, 1), (40156, 1), (40130, 1), (39902, 1), (39841, 1), (39735, 1), (39618, 1), (39611, 1), (39098, 1), (39048, 1), (38804, 2), (38723, 1), (38588, 1), (38586, 3), (38158, 214), (37698, 1), (37573, 2), (37509, 2), (37196, 1), (36946, 2), (36683, 1), (36632, 1), (36602, 1), (36226, 1), (36133, 1), (35968, 1), (35954, 1), (35491, 1), (35454, 1), (35373, 1), (35358, 1), (34624, 1), (34075, 1), (33945, 3), (33720, 1), (33711, 1), (33530, 1), (33458, 1), (33366, 1), (33333, 1), (32853, 1), (32699, 1), (32658, 1), (32504, 4), (32401, 1), (32279, 1), (32145, 1), (31908, 1), (31821, 1), (31767, 1), (31741, 1), (31614, 4), (31581, 1), (31561, 1), (31496, 1), (31472, 1), (31436, 1), (31399, 1), (31386, 1), (31328, 1), (31157, 1), (30812, 3), (30490, 1), (30489, 1), (30410, 1), (30400, 1), (30126, 1), (30089, 1), (30077, 1), (29902, 1), (29870, 1), (29815, 1), (29677, 1), (29396, 1), (29387, 1), (29292, 1), (29280, 1), (28831, 1), (28553, 1), (28485, 1), (28471, 1), (28436, 1), (28365, 3), (28262, 1), (28200, 1), (28159, 1), (28120, 2), (28110, 1), (28101, 1), (28006, 2), (27973, 3), (27953, 1), (27897, 1), (27632, 1), (27570, 1), (27561, 2), (27543, 1), (27486, 1), (27471, 1), (27130, 1), (26937, 1), (26804, 1), (26554, 1), (26510, 1), (26496, 1), (26371, 1), (26348, 1), (26322, 1), (26285, 1), (26206, 1), (26183, 6), (26151, 1), (26146, 1), (26040, 1), (26029, 1), (25889, 1), (25851, 1), (25801, 1), (25712, 1), (25666, 1), (25591, 2), (25434, 1), (25428, 1), (25349, 1), (25296, 1), (25279, 1), (25277, 1), (25181, 1), (25089, 1), (25040, 1), (25032, 1), (24979, 1), (24850, 1), (24805, 1), (24693, 1), (24618, 2), (24598, 1), (24512, 1), (24476, 1), (24437, 1), (24407, 1), (24396, 1), (24392, 2), (24384, 1), (24325, 1), (24240, 1), (24211, 1), (24194, 1), (24174, 1), (24138, 1), (24012, 1), (23748, 1), (23621, 1), (23601, 1), (23564, 1), (23518, 2), (23510, 1), (23450, 2), (23391, 1), (23315, 1), (23299, 1), (23296, 2), (23177, 1), (23147, 1), (23097, 1), (23072, 1), (23013, 1), (22971, 1), (22857, 1), (22848, 1), (22779, 1), (22734, 1), (22719, 1), (22718, 2), (22714, 1), (22709, 1), (22630, 1), (22603, 1), (22526, 1), (22502, 1), (22456, 1), (22343, 1), (22111, 1), (22039, 1), (22037, 1), (22033, 1), (21957, 1), (21884, 1), (21880, 1), (21872, 1), (21725, 1), (21724, 1), (21607, 1), (21599, 3), (21568, 2), (21556, 1), (21543, 1), (21498, 1), (21437, 1), (21399, 1), (21286, 1), (21285, 1), (21206, 1), (21204, 1), (21151, 1), (21126, 1), (21095, 1), (21039, 3), (21025, 3), (20974, 1), (20927, 2), (20809, 1), (20746, 1), (20684, 1), (20516, 1), (20469, 1), (20460, 3), (20426, 1), (20347, 1), (20309, 1), (20285, 1), (20245, 1), (20171, 1), (20135, 1), (20075, 1), (19844, 2), (19754, 1), (19750, 6), (19715, 1), (19513, 1), (19462, 1), (19377, 1), (19296, 1), (19218, 1), (19179, 1), (19163, 1), (19128, 1), (19078, 1), (19076, 1), (18961, 1), (18956, 1), (18890, 1), (18880, 1), (18826, 1), (18823, 1), (18822, 1), (18629, 1), (18600, 1), (18596, 1), (18589, 1), (18574, 1), (18571, 1), (18541, 1), (18501, 2), (18467, 1), (18341, 1), (18331, 1), (18225, 1), (18181, 1), (18103, 1), (18102, 1), (18079, 1), (18058, 1), (18042, 1), (17925, 1), (17908, 1), (17841, 1), (17812, 1), (17782, 1), (17770, 5), (17708, 1), (17605, 1), (17581, 1), (17539, 1), (17420, 1), (17357, 1), (17298, 1), (17297, 1), (17292, 1), (17138, 1), (17126, 1), (17077, 3), (16863, 1), (16853, 1), (16848, 1), (16837, 1), (16824, 1), (16723, 1), (16642, 1), (16641, 1), (16583, 1), (16577, 1), (16521, 1), (16456, 1), (16423, 1), (16385, 1), (16369, 2), (16343, 1), (16336, 1), (16315, 1), (16303, 1), (16278, 1), (16231, 1), (16191, 1), (16170, 1), (16167, 1), (16166, 1), (16139, 2), (16090, 1), (16086, 1), (16033, 1), (16028, 2), (16026, 1), (16013, 1), (15991, 1), (15956, 1), (15910, 1), (15815, 1), (15814, 1), (15812, 1), (15776, 1), (15772, 1), (15766, 1), (15760, 1), (15738, 1), (15729, 1), (15690, 1), (15681, 1), (15668, 2), (15633, 1), (15554, 1), (15547, 1), (15519, 1), (15506, 1), (15476, 1), (15428, 1), (15291, 1), (15280, 1), (15261, 1), (15154, 1), (15143, 4), (15141, 1), (15139, 2), (15059, 1), (15040, 1), (14960, 2), (14937, 1), (14917, 1), (14868, 1), (14857, 2), (14794, 1), (14780, 1), (14770, 1), (14692, 1), (14674, 1), (14620, 1), (14615, 1), (14600, 1), (14535, 1), (14451, 1), (14420, 1), (14406, 2), (14396, 1), (14335, 1), (14322, 1), (14315, 1), (14313, 1), (14279, 3), (14255, 1), (14189, 1), (14183, 1), (14157, 1), (14049, 1), (13938, 1), (13925, 1), (13923, 2), (13919, 1), (13892, 1), (13868, 2), (13745, 1), (13734, 1), (13722, 1), (13717, 1), (13715, 1), (13714, 1), (13710, 1), (13678, 1), (13656, 1), (13646, 1), (13644, 1), (13629, 1), (13616, 1), (13561, 1), (13552, 2), (13506, 2), (13505, 1), (13497, 1), (13480, 1), (13457, 1), (13423, 1), (13372, 1), (13360, 1), (13342, 1), (13309, 1), (13305, 2), (13304, 1), (13302, 1), (13262, 1), (13258, 1), (13241, 3), (13200, 1), (13148, 1), (13143, 1), (13113, 1), (13092, 1), (13081, 1), (13071, 1), (13046, 1), (13011, 1), (12989, 1), (12983, 1), (12979, 1), (12927, 1), (12924, 1), (12919, 1), (12883, 1), (12870, 1), (12852, 1), (12848, 1), (12820, 2), (12804, 1), (12787, 1), (12768, 1), (12733, 1), (12729, 1), (12713, 1), (12643, 1), (12636, 1), (12610, 1), (12604, 1), (12586, 1), (12537, 1), (12518, 1), (12476, 1), (12474, 1), (12458, 1), (12436, 1), (12426, 1), (12327, 1), (12307, 1), (12296, 1), (12288, 1), (12280, 1), (12278, 1), (12271, 1), (12264, 1), (12214, 1), (12178, 1), (12143, 1), (12125, 1), (12092, 1), (12088, 1), (12077, 1), (12063, 1), (12052, 1), (12038, 1), (11999, 3), (11982, 1), (11978, 1), (11976, 1), (11932, 1), (11912, 1), (11907, 1), (11902, 1), (11879, 1), (11835, 1), (11832, 1), (11819, 1), (11751, 1), (11736, 1), (11718, 1), (11713, 1), (11689, 2), (11688, 1), (11684, 1), (11659, 1), (11647, 1), (11640, 2), (11639, 1), (11602, 1), (11595, 1), (11588, 1), (11585, 1), (11571, 1), (11499, 1), (11458, 1), (11434, 1), (11422, 1), (11421, 2), (11406, 1), (11387, 2), (11386, 1), (11377, 1), (11376, 1), (11374, 1), (11361, 56), (11304, 1), (11291, 1), (11283, 1), (11261, 2), (11260, 1), (11204, 5), (11195, 1), (11181, 1), (11174, 1), (11173, 1), (11171, 1), (11165, 1), (11160, 1), (11159, 2), (11103, 1), (11090, 1), (11088, 1), (11085, 1), (11076, 1), (11046, 2), (11025, 1), (11016, 1), (11007, 2), (10989, 1), (10987, 1), (10973, 4), (10969, 1), (10947, 1), (10940, 1), (10935, 1), (10914, 1), (10911, 1), (10909, 1), (10888, 1), (10883, 1), (10847, 1), (10838, 1), (10823, 1), (10808, 1), (10792, 1), (10772, 1), (10762, 1), (10756, 1), (10735, 1), (10715, 1), (10701, 1), (10688, 1), (10659, 1), (10647, 2), (10644, 1), (10633, 1), (10579, 1), (10557, 1), (10540, 2), (10539, 1), (10518, 1), (10508, 1), (10504, 1), (10495, 1), (10493, 1), (10458, 1), (10425, 1), (10409, 1), (10399, 2), (10394, 1), (10375, 18), (10337, 1), (10336, 1), (10335, 2), (10325, 11), (10321, 1), (10312, 1), (10302, 1), (10273, 1), (10259, 1), (10225, 1), (10211, 1), (10210, 1), (10209, 1), (10191, 1), (10175, 1), (10174, 1), (10165, 1), (10149, 1), (10148, 2), (10131, 1), (10123, 1), (10106, 1), (10105, 1), (10101, 2), (10070, 1), (10045, 1), (10041, 1), (10039, 1), (10032, 1), (10031, 3), (10028, 1), (10014, 1), (9962, 1), (9961, 1), (9952, 2), (9947, 2), (9938, 1), (9909, 1), (9903, 1), (9893, 1), (9886, 1), (9877, 1), (9873, 1), (9872, 1), (9871, 2), (9863, 1), (9848, 1), (9844, 2), (9828, 1), (9820, 1), (9810, 1), (9788, 1), (9780, 2), (9768, 5), (9767, 1), (9754, 1), (9740, 1), (9732, 1), (9731, 1), (9703, 1), (9682, 1), (9658, 1), (9649, 2), (9632, 1), (9595, 2), (9580, 1), (9570, 1), (9569, 1), (9568, 1), (9564, 1), (9561, 1), (9559, 1), (9555, 1), (9548, 1), (9543, 1), (9522, 2), (9519, 5), (9500, 3), (9499, 1), (9491, 1), (9482, 2), (9477, 1), (9476, 1), (9465, 1), (9457, 1), (9436, 1), (9434, 1), (9432, 1), (9420, 1), (9417, 1), (9409, 1), (9372, 1), (9369, 2), (9355, 2), (9346, 1), (9340, 1), (9328, 1), (9305, 2), (9304, 1), (9292, 1), (9281, 1), (9257, 1), (9251, 1), (9248, 1), (9241, 1), (9236, 1), (9214, 1), (9203, 1), (9152, 1), (9144, 1), (9127, 1), (9106, 1), (9104, 1), (9100, 1), (9097, 1), (9084, 1), (9081, 1), (9054, 1), (9045, 1), (9022, 1), (9001, 1), (8995, 1), (8984, 1), (8966, 1), (8956, 1), (8941, 2), (8940, 1), (8923, 1), (8907, 1), (8896, 1), (8868, 1), (8853, 1), (8847, 2), (8845, 1), (8823, 3), (8810, 1), (8802, 1), (8801, 1), (8800, 2), (8796, 1), (8781, 1), (8780, 1), (8775, 1), (8770, 1), (8767, 1), (8760, 1), (8755, 1), (8730, 1), (8716, 1), (8706, 1), (8701, 2), (8698, 1), (8691, 1), (8650, 1), (8638, 1), (8631, 2), (8594, 1), (8575, 1), (8566, 1), (8564, 1), (8559, 3), (8557, 1), (8518, 1), (8499, 1), (8496, 1), (8484, 1), (8479, 5), (8466, 1), (8444, 1), (8441, 1), (8415, 2), (8400, 1), (8360, 1), (8358, 1), (8339, 1), (8337, 1), (8334, 1), (8331, 1), (8329, 1), (8324, 1), (8316, 3), (8302, 1), (8301, 4), (8286, 1), (8277, 1), (8274, 1), (8254, 1), (8240, 1), (8229, 7), (8219, 1), (8197, 1), (8176, 1), (8173, 1), (8172, 1), (8165, 1), (8154, 1), (8151, 1), (8123, 2), (8121, 1), (8111, 1), (8107, 1), (8106, 1), (8104, 1), (8100, 1), (8077, 2), (8066, 1), (8062, 2), (8058, 1), (8055, 1), (8054, 1), (8029, 1), (8021, 1), (8013, 2), (8003, 6), (7999, 1), (7979, 1), (7976, 1), (7972, 1), (7971, 1), (7941, 2), (7927, 1), (7921, 1), (7916, 1), (7910, 1), (7890, 1), (7885, 1), (7870, 1), (7861, 1), (7854, 1), (7848, 1), (7844, 1), (7834, 1), (7805, 1), (7778, 1), (7763, 1), (7757, 2), (7753, 1), (7750, 1), (7729, 1), (7724, 1), (7711, 1), (7710, 1), (7706, 1), (7700, 1), (7683, 1), (7676, 1), (7675, 1), (7669, 1), (7661, 1), (7653, 1), (7652, 1), (7636, 1), (7621, 1), (7610, 1), (7605, 1), (7600, 1), (7599, 1), (7597, 1), (7592, 1), (7591, 1), (7575, 1), (7561, 1), (7545, 1), (7528, 1), (7517, 2), (7512, 1), (7511, 1), (7505, 1), (7491, 1), (7489, 1), (7484, 1), (7475, 1), (7472, 1), (7471, 1), (7467, 2), (7460, 1), (7457, 1), (7448, 1), (7445, 1), (7441, 1), (7437, 1), (7431, 1), (7429, 1), (7424, 3), (7420, 1), (7397, 1), (7391, 1), (7388, 3), (7381, 1), (7351, 1), (7337, 1), (7334, 1), (7326, 1), (7321, 1), (7305, 1), (7304, 1), (7289, 1), (7286, 2), (7278, 1), (7275, 1), (7259, 1), (7257, 4), (7251, 1), (7240, 1), (7233, 1), (7222, 1), (7219, 1), (7208, 1), (7207, 2), (7198, 1), (7186, 2), (7185, 2), (7173, 1), (7170, 2), (7163, 1), (7159, 1), (7158, 8), (7153, 1), (7141, 1), (7136, 1), (7134, 1), (7128, 1), (7122, 1), (7121, 1), (7116, 2), (7090, 2), (7084, 4), (7082, 1), (7065, 1), (7061, 1), (7057, 1), (7048, 1), (7044, 1), (7039, 1), (7034, 1), (7033, 1), (7029, 1), (7026, 1), (7019, 1), (7016, 1), (7002, 3), (6999, 1), (6996, 1), (6992, 2), (6973, 1), (6970, 1), (6960, 1), (6954, 1), (6953, 5), (6950, 1), (6948, 1), (6940, 1), (6939, 1), (6933, 1), (6929, 1), (6927, 1), (6926, 1), (6919, 2), (6909, 1), (6907, 1), (6902, 1), (6900, 1), (6899, 1), (6898, 1), (6897, 1), (6893, 1), (6871, 1), (6868, 3), (6858, 1), (6850, 1), (6847, 1), (6845, 1), (6843, 1), (6841, 1), (6829, 2), (6827, 1), (6821, 1), (6813, 2), (6803, 1), (6802, 1), (6799, 1), (6796, 1), (6790, 1), (6781, 1), (6780, 1), (6776, 1), (6775, 3), (6741, 1), (6738, 1), (6734, 1), (6729, 1), (6719, 1), (6717, 1), (6709, 1), (6695, 1), (6692, 3), (6681, 1), (6669, 1), (6658, 1), (6654, 1), (6638, 1), (6630, 1), (6625, 1), (6623, 4), (6622, 1), (6620, 1), (6615, 2), (6613, 1), (6611, 2), (6607, 1), (6599, 1), (6594, 1), (6590, 3), (6575, 1), (6546, 1), (6534, 1), (6529, 2), (6516, 1), (6493, 1), (6491, 1), (6485, 1), (6479, 1), (6473, 1), (6467, 34), (6466, 1), (6465, 1), (6463, 1), (6462, 1), (6441, 2), (6434, 3), (6428, 1), (6423, 1), (6409, 2), (6407, 1), (6394, 1), (6379, 3), (6373, 1), (6368, 1), (6365, 2), (6360, 1), (6357, 4), (6355, 1), (6354, 6), (6352, 1), (6345, 1), (6341, 2), (6338, 1), (6337, 5), (6335, 2), (6334, 2), (6333, 6), (6331, 4), (6330, 6), (6329, 1), (6328, 9), (6327, 7), (6326, 7), (6325, 14), (6324, 19), (6323, 19), (6322, 10), (6321, 11), (6320, 5), (6319, 2), (6318, 1), (6316, 1), (6275, 1), (6260, 2), (6257, 1), (6254, 2), (6252, 1), (6244, 1), (6223, 1), (6221, 1), (6208, 1), (6201, 1), (6199, 1), (6196, 2), (6192, 1), (6185, 2), (6180, 1), (6176, 1), (6175, 1), (6171, 2), (6161, 1), (6160, 1), (6156, 1), (6149, 2), (6137, 2), (6125, 1), (6124, 1), (6122, 1), (6111, 1), (6109, 1), (6106, 1), (6102, 1), (6101, 1), (6095, 2), (6094, 1), (6092, 2), (6083, 2), (6076, 1), (6067, 1), (6065, 1), (6063, 1), (6058, 2), (6052, 9), (6050, 1), (6020, 2), (6014, 1), (6012, 1), (6011, 1), (6010, 1), (6000, 1), (5991, 1), (5977, 1), (5964, 1), (5962, 1), (5958, 1), (5952, 7), (5949, 1), (5946, 1), (5943, 2), (5941, 2), (5924, 1), (5907, 1), (5896, 1), (5885, 1), (5883, 1), (5880, 1), (5872, 3), (5835, 1), (5831, 2), (5827, 1), (5825, 1), (5809, 1), (5804, 1), (5803, 1), (5790, 1), (5789, 1), (5775, 2), (5774, 1), (5764, 1), (5748, 1), (5746, 1), (5743, 1), (5742, 1), (5737, 1), (5733, 1), (5729, 1), (5722, 1), (5717, 1), (5713, 1), (5712, 1), (5709, 1), (5707, 1), (5696, 1), (5695, 1), (5692, 1), (5674, 1), (5673, 1), (5670, 1), (5668, 1), (5666, 2), (5665, 2), (5663, 1), (5660, 2), (5658, 1), (5656, 2), (5652, 2), (5651, 1), (5648, 1), (5643, 1), (5639, 1), (5636, 1), (5630, 1), (5629, 1), (5627, 2), (5622, 2), (5620, 1), (5619, 3), (5612, 1), (5606, 1), (5605, 3), (5602, 1), (5601, 1), (5600, 1), (5596, 2), (5590, 1), (5587, 1), (5585, 3), (5578, 1), (5576, 1), (5575, 1), (5573, 1), (5571, 1), (5570, 1), (5567, 1), (5563, 1), (5562, 1), (5560, 1), (5553, 2), (5552, 1), (5551, 1), (5550, 1), (5543, 3), (5538, 1), (5537, 2), (5536, 1), (5520, 2), (5517, 3), (5515, 1), (5507, 1), (5504, 1), (5502, 1), (5501, 2), (5497, 1), (5495, 1), (5491, 1), (5490, 1), (5488, 1), (5487, 2), (5486, 2), (5485, 1), (5480, 1), (5479, 1), (5469, 1), (5465, 2), (5460, 1), (5459, 1), (5457, 1), (5454, 1), (5452, 1), (5451, 3), (5449, 1), (5442, 1), (5440, 1), (5439, 1), (5438, 1), (5435, 2), (5433, 1), (5429, 2), (5428, 2), (5422, 1), (5417, 1), (5415, 1), (5412, 3), (5411, 1), (5410, 1), (5407, 1), (5401, 1), (5390, 1), (5389, 2), (5384, 1), (5383, 1), (5378, 1), (5373, 2), (5371, 1), (5367, 2), (5366, 2), (5354, 1), (5352, 1), (5348, 2), (5343, 1), (5341, 1), (5320, 1), (5309, 1), (5295, 1), (5294, 3), (5286, 2), (5285, 1), (5284, 2), (5282, 1), (5280, 2), (5278, 1), (5277, 1), (5274, 1), (5263, 1), (5260, 1), (5253, 1), (5252, 2), (5251, 1), (5237, 1), (5234, 1), (5225, 2), (5223, 2), (5215, 1), (5213, 1), (5203, 1), (5202, 1), (5195, 1), (5193, 2), (5174, 1), (5173, 2), (5172, 1), (5165, 1), (5162, 1), (5156, 1), (5152, 1), (5142, 1), (5138, 1), (5137, 2), (5128, 1), (5125, 1), (5117, 1), (5115, 2), (5102, 1), (5100, 1), (5099, 2), (5095, 1), (5089, 1), (5085, 1), (5082, 1), (5080, 1), (5078, 1), (5076, 1), (5075, 3), (5074, 1), (5055, 1), (5047, 1), (5045, 1), (5041, 1), (5036, 17), (5030, 1), (5020, 1), (5016, 1), (5013, 1), (5010, 3), (5006, 1), (5005, 1), (5004, 1), (5003, 2), (5000, 2), (4995, 1), (4991, 1), (4990, 1), (4977, 1), (4975, 1), (4974, 1), (4971, 1), (4970, 1), (4968, 1), (4958, 1), (4955, 1), (4948, 3), (4942, 1), (4940, 1), (4932, 1), (4931, 1), (4930, 1), (4929, 1), (4928, 1), (4925, 1), (4924, 2), (4922, 1), (4921, 1), (4917, 2), (4909, 1), (4904, 1), (4903, 3), (4902, 1), (4894, 1), (4893, 1), (4888, 1), (4887, 1), (4886, 1), (4881, 1), (4879, 2), (4878, 1), (4876, 1), (4874, 1), (4873, 1), (4869, 1), (4868, 1), (4865, 1), (4864, 1), (4863, 3), (4862, 1), (4859, 1), (4853, 1), (4851, 1), (4847, 1), (4843, 1), (4840, 1), (4836, 7), (4835, 1), (4832, 1), (4825, 1), (4820, 1), (4817, 3), (4816, 1), (4814, 1), (4812, 2), (4811, 1), (4807, 1), (4804, 1), (4799, 1), (4797, 1), (4794, 1), (4792, 2), (4787, 6), (4778, 1), (4777, 1), (4768, 1), (4766, 1), (4765, 1), (4761, 2), (4760, 1), (4757, 1), (4746, 1), (4740, 1), (4739, 1), (4737, 1), (4734, 1), (4733, 1), (4732, 1), (4731, 1), (4726, 1), (4720, 1), (4717, 1), (4714, 1), (4713, 1), (4711, 1), (4707, 1), (4704, 1), (4703, 2), (4702, 4), (4699, 1), (4694, 2), (4689, 1), (4687, 1), (4666, 2), (4665, 1), (4654, 1), (4652, 2), (4644, 2), (4642, 1), (4635, 1), (4630, 3), (4628, 1), (4624, 22), (4619, 1), (4618, 2), (4607, 1), (4604, 1), (4598, 3), (4594, 2), (4592, 5), (4587, 2), (4582, 3), (4579, 3), (4577, 1), (4573, 1), (4570, 1), (4569, 2), (4568, 3), (4562, 1), (4558, 4), (4546, 2), (4542, 1), (4541, 2), (4540, 1), (4537, 1), (4534, 7), (4533, 1), (4532, 3), (4528, 1), (4526, 1), (4524, 1), (4523, 2), (4522, 4), (4521, 2), (4520, 1), (4519, 1), (4513, 1), (4511, 2), (4510, 6), (4509, 3), (4505, 1), (4504, 1), (4500, 1), (4498, 8), (4497, 5), (4496, 1), (4494, 1), (4493, 1), (4486, 3), (4485, 2), (4481, 1), (4480, 1), (4479, 1), (4474, 1), (4472, 1), (4469, 1), (4467, 2), (4466, 1), (4464, 1), (4462, 1), (4454, 1), (4450, 1), (4449, 1), (4443, 1), (4440, 1), (4438, 2), (4429, 1), (4419, 2), (4415, 2), (4407, 1), (4391, 2), (4390, 1), (4389, 1), (4386, 1), (4385, 3), (4374, 1), (4371, 1), (4367, 5), (4363, 1), (4358, 1), (4356, 1), (4354, 1), (4353, 1), (4351, 1), (4350, 1), (4349, 1), (4347, 2), (4344, 1), (4342, 2), (4341, 1), (4338, 1), (4337, 1), (4330, 1), (4325, 1), (4323, 1), (4322, 1), (4320, 2), (4317, 4), (4316, 1), (4315, 2), (4313, 1), (4309, 1), (4308, 2), (4304, 1), (4303, 1), (4302, 1), (4298, 1), (4294, 2), (4293, 1), (4291, 3), (4290, 2), (4285, 1), (4280, 1), (4279, 1), (4277, 1), (4276, 2), (4273, 1), (4272, 1), (4270, 2), (4269, 1), (4268, 2), (4266, 1), (4265, 1), (4264, 1), (4263, 1), (4259, 1), (4255, 1), (4254, 1), (4249, 1), (4232, 1), (4231, 2), (4219, 1), (4218, 2), (4217, 1), (4215, 1), (4209, 2), (4208, 2), (4207, 1), (4192, 1), (4190, 1), (4188, 1), (4186, 1), (4185, 1), (4182, 1), (4168, 5), (4166, 1), (4158, 1), (4157, 1), (4152, 1), (4148, 1), (4147, 1), (4140, 1), (4136, 1), (4134, 1), (4131, 1), (4121, 1), (4118, 1), (4116, 1), (4107, 1), (4104, 1), (4103, 1), (4102, 1), (4101, 1), (4097, 1), (4092, 1), (4090, 1), (4083, 1), (4080, 1), (4076, 1), (4074, 1), (4072, 1), (4070, 1), (4069, 3), (4067, 1), (4059, 2), (4051, 2), (4050, 1), (4049, 1), (4048, 1), (4047, 1), (4045, 1), (4043, 1), (4036, 1), (4031, 1), (4029, 1), (4027, 1), (4025, 1), (4023, 1), (4022, 1), (4019, 1), (4018, 2), (4015, 1), (4012, 1), (4009, 1), (4008, 1), (4006, 1), (4004, 1), (4001, 1), (3999, 1), (3997, 1), (3996, 1), (3994, 3), (3993, 1), (3989, 1), (3988, 2), (3987, 1), (3986, 1), (3984, 2), (3983, 1), (3981, 2), (3979, 1), (3977, 1), (3976, 1), (3972, 2), (3971, 4), (3965, 1), (3964, 3), (3961, 1), (3958, 1), (3954, 2), (3952, 1), (3951, 1), (3943, 1), (3942, 2), (3939, 1), (3936, 1), (3933, 2), (3931, 1), (3928, 1), (3927, 1), (3925, 1), (3924, 1), (3920, 1), (3916, 1), (3912, 2), (3910, 1), (3907, 1), (3906, 1), (3904, 1), (3899, 1), (3893, 1), (3892, 1), (3887, 1), (3884, 1), (3883, 1), (3881, 1), (3874, 1), (3872, 1), (3865, 1), (3864, 1), (3863, 1), (3856, 1), (3855, 1), (3854, 2), (3853, 2), (3852, 1), (3849, 1), (3848, 1), (3845, 1), (3840, 1), (3838, 1), (3837, 1), (3836, 4), (3834, 1), (3833, 3), (3821, 1), (3816, 1), (3815, 1), (3813, 1), (3810, 1), (3809, 1), (3805, 1), (3800, 1), (3799, 1), (3795, 2), (3786, 4), (3784, 1), (3780, 1), (3777, 2), (3775, 1), (3773, 1), (3771, 1), (3769, 1), (3768, 1), (3764, 1), (3763, 2), (3762, 1), (3761, 1), (3759, 1), (3756, 1), (3753, 1), (3751, 1), (3748, 2), (3743, 1), (3740, 1), (3737, 1), (3735, 1), (3733, 1), (3731, 1), (3730, 1), (3727, 1), (3726, 1), (3724, 1), (3722, 1), (3719, 1), (3714, 1), (3711, 1), (3710, 1), (3704, 2), (3703, 1), (3699, 1), (3695, 2), (3693, 1), (3690, 1), (3689, 2), (3687, 2), (3684, 1), (3680, 4), (3679, 1), (3678, 1), (3677, 1), (3673, 1), (3668, 1), (3667, 1), (3662, 1), (3659, 1), (3655, 1), (3646, 1), (3645, 1), (3643, 2), (3641, 2), (3640, 1), (3635, 6), (3634, 1), (3632, 1), (3631, 1), (3630, 1), (3629, 1), (3626, 1), (3624, 1), (3623, 6), (3622, 1), (3621, 1), (3619, 1), (3618, 1), (3616, 2), (3615, 1), (3612, 1), (3605, 1), (3602, 5), (3600, 1), (3597, 3), (3596, 1), (3592, 1), (3590, 2), (3586, 2), (3583, 1), (3582, 2), (3579, 2), (3578, 1), (3574, 1), (3572, 1), (3570, 1), (3564, 3), (3563, 1), (3557, 2), (3554, 1), (3553, 1), (3550, 1), (3548, 1), (3541, 1), (3540, 2), (3535, 3), (3531, 1), (3530, 1), (3529, 1), (3526, 1), (3524, 1), (3523, 1), (3517, 1), (3515, 2), (3513, 1), (3511, 1), (3506, 1), (3502, 1), (3495, 1), (3491, 1), (3489, 2), (3488, 7), (3485, 1), (3482, 1), (3480, 1), (3479, 1), (3467, 1), (3464, 1), (3463, 1), (3461, 1), (3453, 1), (3450, 2), (3446, 1), (3445, 2), (3443, 4), (3438, 1), (3430, 1), (3429, 1), (3423, 1), (3421, 2), (3419, 1), (3418, 1), (3416, 2), (3415, 1), (3414, 1), (3411, 1), (3410, 1), (3406, 1), (3405, 1), (3401, 1), (3399, 1), (3398, 2), (3397, 2), (3396, 1), (3395, 1), (3394, 1), (3388, 1), (3383, 1), (3381, 1), (3372, 1), (3370, 1), (3369, 1), (3368, 1), (3365, 1), (3364, 2), (3363, 1), (3362, 1), (3361, 1), (3355, 4), (3351, 2), (3349, 3), (3345, 1), (3343, 2), (3341, 2), (3339, 1), (3338, 1), (3337, 1), (3336, 2), (3335, 1), (3329, 1), (3326, 1), (3325, 1), (3323, 1), (3315, 1), (3313, 1), (3307, 1), (3302, 1), (3298, 1), (3297, 1), (3292, 4), (3291, 4), (3286, 1), (3281, 1), (3277, 1), (3276, 2), (3270, 1), (3266, 1), (3265, 2), (3264, 1), (3261, 1), (3258, 1), (3256, 1), (3254, 3), (3253, 2), (3245, 1), (3243, 1), (3242, 2), (3239, 1), (3236, 1), (3235, 5), (3233, 2), (3229, 1), (3225, 1), (3222, 1), (3217, 1), (3210, 1), (3206, 19), (3205, 2), (3204, 2), (3203, 2), (3199, 1), (3195, 1), (3192, 1), (3191, 1), (3189, 1), (3187, 1), (3186, 5), (3184, 1), (3183, 1), (3178, 1), (3176, 1), (3174, 1), (3172, 3), (3170, 1), (3168, 1), (3166, 1), (3164, 5), (3163, 1), (3162, 2), (3160, 1), (3159, 1), (3157, 1), (3154, 1), (3152, 1), (3148, 1), (3147, 1), (3142, 10), (3141, 1), (3139, 1), (3135, 2), (3133, 1), (3129, 1), (3127, 1), (3126, 1), (3119, 1), (3118, 2), (3113, 2), (3112, 2), (3111, 1), (3109, 2), (3108, 3), (3107, 1), (3103, 1), (3101, 1), (3100, 1), (3097, 1), (3095, 1), (3092, 1), (3090, 3), (3085, 1), (3078, 1), (3077, 1), (3074, 2), (3071, 1), (3068, 1), (3063, 1), (3060, 1), (3059, 1), (3058, 1), (3055, 3), (3054, 3), (3049, 2), (3048, 1), (3047, 2), (3046, 2), (3044, 1), (3041, 2), (3037, 1), (3031, 1), (3030, 1), (3028, 3), (3025, 1), (3022, 1), (3021, 1), (3017, 2), (3016, 1), (3015, 1), (3014, 1), (3012, 3), (3011, 1), (3010, 1), (3009, 3), (3002, 1), (3000, 1), (2999, 1), (2995, 1), (2990, 1), (2989, 1), (2987, 2), (2986, 1), (2985, 2), (2983, 1), (2982, 1), (2980, 2), (2979, 1), (2978, 2), (2976, 1), (2974, 2), (2973, 1), (2971, 1), (2970, 1), (2969, 1), (2968, 1), (2966, 1), (2962, 1), (2961, 2), (2960, 1), (2958, 2), (2952, 1), (2951, 1), (2948, 1), (2945, 1), (2940, 2), (2938, 1), (2934, 2), (2933, 2), (2928, 1), (2922, 1), (2920, 1), (2919, 1), (2917, 2), (2904, 1), (2903, 1), (2902, 1), (2899, 1), (2897, 2), (2895, 4), (2894, 1), (2892, 1), (2890, 1), (2888, 2), (2884, 1), (2877, 2), (2875, 1), (2873, 1), (2872, 1), (2870, 1), (2869, 1), (2868, 1), (2864, 2), (2862, 1), (2860, 1), (2857, 1), (2855, 1), (2851, 2), (2850, 1), (2849, 2), (2848, 2), (2846, 1), (2843, 1), (2841, 2), (2839, 2), (2838, 1), (2835, 17), (2833, 2), (2831, 2), (2830, 1), (2828, 3), (2827, 1), (2826, 1), (2825, 3), (2824, 2), (2823, 2), (2818, 1), (2815, 1), (2811, 1), (2810, 2), (2809, 1), (2808, 2), (2807, 1), (2803, 1), (2801, 1), (2799, 1), (2797, 1), (2796, 1), (2795, 3), (2794, 1), (2793, 6), (2791, 3), (2789, 1), (2785, 2), (2784, 1), (2783, 1), (2782, 3), (2781, 2), (2779, 1), (2778, 1), (2777, 1), (2772, 4), (2771, 2), (2769, 1), (2767, 2), (2766, 1), (2764, 1), (2762, 2), (2760, 5), (2754, 1), (2751, 2), (2750, 1), (2747, 1), (2746, 2), (2745, 1), (2743, 1), (2741, 1), (2740, 1), (2739, 2), (2737, 1), (2734, 2), (2732, 1), (2731, 1), (2730, 1), (2728, 7), (2727, 1), (2725, 2), (2724, 1), (2723, 1), (2722, 1), (2721, 1), (2718, 1), (2717, 1), (2714, 1), (2712, 1), (2711, 2), (2707, 2), (2704, 1), (2703, 2), (2702, 1), (2700, 2), (2698, 2), (2697, 1), (2696, 3), (2695, 1), (2693, 2), (2691, 1), (2690, 2), (2689, 1), (2684, 2), (2682, 1), (2680, 2), (2679, 1), (2677, 1), (2676, 2), (2675, 1), (2674, 1), (2672, 2), (2671, 1), (2668, 1), (2666, 1), (2665, 5), (2664, 4), (2663, 1), (2662, 3), (2661, 3), (2660, 2), (2659, 2), (2658, 2), (2657, 2), (2655, 1), (2654, 3), (2653, 4), (2652, 1), (2651, 1), (2650, 2), (2649, 1), (2648, 3), (2647, 1), (2644, 2), (2641, 1), (2640, 2), (2639, 1), (2638, 4), (2637, 1), (2636, 4), (2635, 2), (2633, 1), (2632, 1), (2631, 2), (2630, 3), (2626, 3), (2625, 3), (2621, 1), (2620, 3), (2617, 1), (2614, 2), (2613, 1), (2612, 1), (2611, 2), (2610, 2), (2609, 3), (2608, 1), (2607, 2), (2606, 1), (2605, 1), (2604, 7), (2603, 2), (2601, 1), (2600, 5), (2596, 1), (2595, 3), (2594, 3), (2592, 1), (2591, 2), (2590, 2), (2589, 2), (2588, 1), (2586, 1), (2585, 1), (2584, 3), (2583, 4), (2582, 1), (2581, 1), (2580, 1), (2579, 1), (2578, 1), (2577, 3), (2576, 3), (2571, 1), (2570, 1), (2569, 5), (2568, 3), (2567, 1), (2566, 1), (2565, 3), (2564, 1), (2563, 2), (2562, 2), (2561, 6), (2560, 1), (2559, 2), (2558, 2), (2556, 5), (2555, 1), (2554, 2), (2553, 6), (2552, 3), (2551, 3), (2550, 2), (2549, 1), (2548, 7), (2547, 6), (2546, 1), (2545, 1), (2544, 4), (2543, 5), (2542, 3), (2541, 3), (2540, 3), (2539, 4), (2538, 4), (2537, 2), (2536, 4), (2535, 1), (2534, 1), (2533, 1), (2532, 1), (2531, 2), (2530, 2), (2529, 2), (2528, 4), (2527, 1), (2526, 2), (2525, 6), (2524, 1), (2523, 3), (2522, 1), (2521, 3), (2520, 3), (2519, 3), (2518, 2), (2517, 1), (2516, 1), (2515, 2), (2514, 3), (2513, 2), (2510, 2), (2508, 3), (2507, 1), (2506, 1), (2503, 1), (2502, 3), (2501, 3), (2500, 1), (2499, 1), (2497, 1), (2496, 2), (2494, 1), (2493, 3), (2492, 1), (2491, 1), (2490, 2), (2489, 1), (2487, 1), (2486, 1), (2485, 1), (2484, 4), (2483, 3), (2479, 4), (2478, 2), (2477, 1), (2476, 1), (2475, 1), (2474, 1), (2473, 3), (2472, 1), (2471, 2), (2469, 1), (2468, 1), (2466, 2), (2465, 3), (2463, 1), (2462, 1), (2461, 1), (2455, 1), (2453, 2), (2452, 1), (2450, 2), (2449, 1), (2447, 1), (2446, 1), (2444, 2), (2439, 7), (2438, 1), (2436, 2), (2435, 1), (2434, 1), (2433, 1), (2432, 2), (2431, 3), (2430, 2), (2428, 1), (2426, 5), (2425, 1), (2424, 2), (2421, 3), (2414, 1), (2413, 1), (2411, 2), (2410, 2), (2406, 2), (2405, 3), (2404, 1), (2403, 1), (2401, 2), (2399, 2), (2398, 3), (2397, 1), (2393, 1), (2392, 1), (2388, 1), (2387, 1), (2386, 5), (2385, 1), (2383, 2), (2382, 1), (2381, 1), (2379, 2), (2377, 2), (2376, 2), (2375, 3), (2374, 2), (2373, 4), (2372, 3), (2370, 1), (2368, 2), (2367, 1), (2366, 1), (2364, 2), (2363, 3), (2358, 3), (2357, 1), (2356, 2), (2349, 3), (2348, 4), (2347, 3), (2346, 1), (2345, 2), (2342, 1), (2341, 1), (2339, 3), (2337, 1), (2336, 1), (2335, 1), (2331, 1), (2330, 4), (2328, 2), (2327, 1), (2326, 4), (2325, 1), (2324, 1), (2323, 1), (2322, 2), (2320, 3), (2319, 1), (2317, 1), (2316, 1), (2315, 1), (2314, 1), (2313, 1), (2312, 4), (2311, 2), (2308, 1), (2305, 2), (2303, 5), (2300, 1), (2299, 2), (2298, 2), (2295, 2), (2293, 3), (2290, 2), (2289, 3), (2287, 1), (2286, 1), (2285, 2), (2284, 1), (2282, 1), (2280, 1), (2279, 1), (2273, 1), (2272, 2), (2270, 2), (2267, 1), (2266, 1), (2265, 1), (2264, 1), (2263, 1), (2262, 1), (2261, 1), (2259, 1), (2258, 2), (2256, 1), (2254, 1), (2253, 1), (2252, 1), (2250, 1), (2249, 1), (2248, 1), (2246, 1), (2245, 1), (2243, 2), (2242, 6), (2241, 1), (2240, 4), (2239, 2), (2238, 1), (2237, 2), (2236, 1), (2234, 3), (2233, 3), (2232, 1), (2231, 2), (2230, 2), (2229, 2), (2228, 1), (2227, 3), (2226, 3), (2223, 1), (2222, 1), (2221, 1), (2220, 3), (2217, 2), (2215, 2), (2213, 1), (2212, 1), (2211, 2), (2210, 2), (2209, 1), (2208, 1), (2207, 1), (2206, 3), (2205, 5), (2204, 2), (2203, 3), (2202, 2), (2201, 1), (2200, 2), (2199, 2), (2197, 2), (2196, 1), (2195, 2), (2194, 1), (2193, 1), (2192, 3), (2191, 2), (2187, 1), (2184, 1), (2183, 1), (2182, 1), (2181, 2), (2180, 1), (2177, 3), (2176, 2), (2175, 2), (2174, 2), (2173, 3), (2170, 2), (2169, 2), (2168, 1), (2167, 3), (2166, 2), (2164, 3), (2157, 1), (2155, 2), (2154, 1), (2153, 3), (2151, 3), (2150, 3), (2148, 2), (2147, 2), (2146, 1), (2145, 2), (2144, 2), (2143, 3), (2142, 4), (2141, 1), (2140, 1), (2138, 1), (2137, 1), (2136, 1), (2135, 2), (2134, 1), (2133, 3), (2132, 1), (2131, 1), (2130, 3), (2128, 2), (2127, 1), (2126, 1), (2125, 1), (2124, 1), (2121, 2), (2120, 1), (2119, 2), (2117, 3), (2116, 1), (2115, 1), (2112, 3), (2111, 4), (2110, 1), (2107, 1), (2105, 2), (2104, 1), (2103, 3), (2101, 1), (2100, 1), (2099, 2), (2098, 2), (2097, 4), (2096, 2), (2095, 1), (2093, 1), (2092, 2), (2091, 1), (2090, 1), (2089, 3), (2086, 1), (2085, 2), (2084, 2), (2083, 1), (2082, 2), (2079, 1), (2077, 1), (2076, 2), (2072, 1), (2071, 3), (2070, 3), (2068, 2), (2065, 2), (2063, 2), (2062, 1), (2060, 1), (2059, 2), (2058, 3), (2057, 1), (2056, 1), (2055, 4), (2054, 1), (2047, 1), (2045, 4), (2044, 2), (2042, 5), (2040, 1), (2037, 2), (2036, 2), (2034, 4), (2033, 1), (2032, 4), (2029, 1), (2028, 2), (2026, 1), (2025, 1), (2024, 2), (2022, 2), (2020, 1), (2019, 2), (2018, 1), (2017, 1), (2015, 2), (2014, 2), (2011, 1), (2009, 1), (2007, 1), (2003, 1), (2002, 2), (2000, 1), (1998, 1), (1996, 3), (1993, 7), (1992, 1), (1991, 1), (1989, 1), (1988, 1), (1986, 1), (1983, 1), (1981, 1), (1980, 3), (1979, 2), (1978, 2), (1976, 1), (1974, 1), (1973, 3), (1972, 5), (1971, 1), (1968, 1), (1967, 2), (1963, 5), (1962, 2), (1960, 5), (1959, 2), (1957, 1), (1956, 1), (1955, 4), (1954, 1), (1953, 4), (1952, 2), (1951, 1), (1950, 2), (1949, 2), (1948, 1), (1947, 1), (1946, 1), (1942, 3), (1941, 1), (1940, 1), (1937, 2), (1935, 2), (1934, 2), (1933, 1), (1932, 1), (1931, 3), (1930, 2), (1928, 1), (1927, 5), (1923, 1), (1922, 1), (1921, 2), (1919, 1), (1918, 6), (1917, 2), (1916, 1), (1915, 2), (1912, 2), (1911, 1), (1908, 14), (1907, 6), (1906, 1), (1905, 6), (1904, 1), (1903, 2), (1902, 2), (1901, 7), (1900, 3), (1899, 3), (1898, 3), (1897, 3), (1896, 2), (1895, 1), (1894, 4), (1893, 1), (1892, 3), (1890, 4), (1889, 1), (1888, 1), (1887, 3), (1886, 7), (1885, 3), (1884, 1), (1883, 3), (1881, 2), (1879, 1), (1877, 2), (1876, 3), (1875, 2), (1874, 27), (1873, 4), (1872, 4), (1871, 3), (1870, 2), (1869, 2), (1868, 1), (1867, 7), (1866, 3), (1864, 5), (1863, 2), (1862, 2), (1861, 2), (1860, 1), (1859, 2), (1858, 1), (1857, 1), (1856, 2), (1855, 8), (1854, 2), (1853, 1), (1852, 1), (1850, 4), (1849, 1), (1848, 2), (1847, 4), (1846, 2), (1845, 5), (1844, 9), (1843, 4), (1842, 5), (1841, 1), (1840, 2), (1839, 1), (1838, 2), (1837, 2), (1836, 3), (1835, 1), (1834, 1), (1833, 3), (1832, 2), (1831, 2), (1830, 2), (1829, 1), (1828, 1), (1827, 3), (1826, 1), (1825, 3), (1824, 8), (1823, 1), (1822, 2), (1821, 4), (1820, 2), (1818, 7), (1817, 2), (1815, 5), (1813, 5), (1812, 2), (1811, 5), (1810, 3), (1809, 3), (1808, 8), (1807, 3), (1806, 1), (1805, 2), (1804, 3), (1803, 2), (1802, 3), (1801, 4), (1800, 6), (1799, 9), (1798, 4), (1796, 3), (1795, 3), (1794, 1), (1793, 5), (1792, 4), (1791, 3), (1790, 3), (1789, 4), (1788, 5), (1785, 6), (1784, 6), (1782, 3), (1781, 3), (1780, 1), (1779, 2), (1778, 2), (1777, 2), (1776, 5), (1775, 14), (1774, 17), (1773, 1), (1772, 4), (1771, 4), (1770, 5), (1769, 15), (1768, 5), (1767, 11), (1765, 2), (1764, 12), (1763, 5), (1762, 1), (1761, 1), (1760, 1), (1759, 1), (1758, 20), (1757, 5), (1756, 2), (1755, 3), (1754, 1), (1753, 2), (1752, 3), (1751, 2), (1749, 2), (1748, 1), (1746, 2), (1744, 1), (1743, 5), (1742, 2), (1741, 1), (1739, 2), (1738, 2), (1737, 1), (1736, 3), (1735, 2), (1734, 2), (1732, 1), (1731, 3), (1730, 2), (1729, 1), (1728, 1), (1727, 1), (1726, 1), (1724, 2), (1723, 1), (1719, 1), (1718, 3), (1716, 2), (1715, 3), (1714, 1), (1713, 1), (1711, 2), (1710, 2), (1708, 1), (1706, 4), (1702, 1), (1700, 2), (1699, 1), (1697, 1), (1696, 3), (1695, 1), (1694, 2), (1693, 1), (1692, 4), (1691, 2), (1690, 3), (1689, 2), (1688, 1), (1687, 1), (1686, 4), (1683, 3), (1681, 2), (1680, 1), (1677, 123), (1676, 1), (1675, 1), (1673, 1), (1672, 5), (1670, 1), (1667, 2), (1666, 2), (1664, 1), (1663, 2), (1662, 4), (1660, 3), (1658, 1), (1657, 1), (1656, 1), (1655, 2), (1654, 2), (1653, 2), (1652, 2), (1651, 1), (1650, 2), (1649, 3), (1647, 1), (1645, 2), (1644, 1), (1643, 1), (1637, 2), (1635, 2), (1634, 1), (1633, 1), (1632, 2), (1631, 1), (1629, 2), (1628, 1), (1627, 2), (1626, 7), (1625, 1), (1624, 2), (1623, 1), (1622, 11), (1621, 9), (1620, 1), (1619, 2), (1618, 1), (1617, 4), (1615, 1), (1613, 2), (1612, 2), (1611, 1), (1609, 1), (1608, 1), (1607, 4), (1606, 2), (1605, 3), (1604, 1), (1603, 1), (1602, 2), (1601, 2), (1600, 1), (1599, 2), (1598, 4), (1593, 2), (1590, 1), (1589, 1), (1588, 1), (1587, 1), (1586, 3), (1583, 2), (1580, 1), (1579, 2), (1578, 3), (1575, 1), (1574, 2), (1573, 1), (1571, 3), (1567, 3), (1563, 1), (1562, 2), (1560, 1), (1558, 1), (1557, 1), (1554, 1), (1553, 2), (1552, 1), (1551, 3), (1550, 1), (1549, 1), (1546, 2), (1545, 2), (1543, 4), (1539, 1), (1538, 4), (1536, 2), (1535, 4), (1534, 1), (1532, 1), (1530, 2), (1529, 1), (1528, 4), (1526, 1), (1525, 4), (1524, 3), (1523, 14), (1522, 1), (1520, 1), (1518, 2), (1516, 1), (1515, 1), (1514, 2), (1513, 1), (1511, 1), (1509, 3), (1508, 2), (1506, 1), (1505, 2), (1504, 2), (1503, 2), (1500, 1), (1499, 1), (1498, 1), (1495, 2), (1493, 2), (1492, 2), (1491, 1), (1490, 4), (1489, 2), (1487, 1), (1486, 1), (1485, 2), (1482, 1), (1481, 1), (1479, 1), (1478, 1), (1474, 5), (1473, 1), (1472, 3), (1471, 1), (1470, 1), (1469, 2), (1467, 1), (1466, 1), (1463, 1), (1458, 1), (1457, 1), (1455, 1), (1453, 1), (1452, 1), (1451, 3), (1448, 1), (1446, 1), (1445, 2), (1443, 2), (1442, 2), (1440, 1), (1439, 1), (1437, 2), (1436, 1), (1435, 3), (1434, 3), (1433, 1), (1432, 1), (1429, 2), (1426, 1), (1423, 2), (1422, 6), (1421, 1), (1420, 5), (1419, 2), (1418, 3), (1417, 1), (1416, 1), (1415, 3), (1414, 1), (1413, 1), (1412, 4), (1411, 1), (1409, 1), (1408, 7), (1407, 1), (1406, 1), (1405, 8), (1404, 1), (1403, 3), (1402, 4), (1400, 3), (1398, 1), (1397, 1), (1395, 2), (1393, 1), (1392, 3), (1391, 1), (1390, 3), (1389, 1), (1386, 2), (1384, 2), (1383, 2), (1382, 2), (1379, 1), (1377, 1), (1376, 1), (1374, 2), (1372, 3), (1371, 5), (1370, 1), (1368, 5), (1367, 5), (1366, 1), (1364, 6), (1363, 6), (1360, 2), (1358, 2), (1357, 1), (1356, 1), (1355, 2), (1354, 1), (1353, 1), (1352, 5), (1347, 1), (1344, 2), (1341, 2), (1339, 2), (1338, 6), (1336, 1), (1335, 1), (1334, 3), (1333, 1), (1331, 1), (1328, 3), (1327, 1), (1326, 2), (1324, 1), (1322, 2), (1321, 2), (1319, 2), (1318, 1), (1316, 1), (1315, 3), (1314, 1), (1312, 4), (1311, 1), (1310, 5), (1308, 1), (1307, 4), (1306, 79), (1303, 1), (1302, 1), (1300, 2), (1297, 3), (1295, 2), (1293, 7), (1292, 2), (1290, 1), (1288, 1), (1287, 1), (1286, 1), (1285, 1), (1284, 2), (1283, 1), (1282, 3), (1279, 1), (1278, 1), (1275, 1), (1273, 5), (1272, 6), (1271, 5), (1270, 4), (1269, 1), (1266, 2), (1264, 1), (1263, 5), (1262, 4), (1261, 36), (1260, 1), (1259, 3), (1256, 7), (1254, 1), (1253, 2), (1252, 2), (1251, 3), (1248, 1), (1247, 1), (1246, 1), (1245, 2), (1244, 1), (1243, 3), (1242, 1), (1240, 1), (1239, 85), (1238, 3), (1236, 2), (1235, 1), (1233, 1), (1231, 4), (1230, 5), (1229, 1), (1228, 2), (1227, 1), (1226, 2), (1225, 1), (1224, 1), (1223, 1), (1222, 2), (1221, 1), (1220, 5), (1219, 1), (1218, 1), (1217, 2), (1216, 1), (1214, 3), (1213, 1), (1212, 5), (1210, 2), (1208, 2), (1205, 1), (1204, 1), (1203, 1), (1202, 2), (1201, 1), (1200, 5), (1199, 1), (1197, 1), (1196, 1), (1194, 9), (1193, 1), (1192, 2), (1191, 2), (1190, 1), (1189, 2), (1188, 2), (1187, 2), (1185, 1), (1184, 1), (1183, 5), (1182, 4), (1181, 3), (1179, 1), (1176, 2), (1175, 3), (1174, 9), (1173, 4), (1171, 1), (1170, 2), (1167, 2), (1166, 2), (1165, 2), (1164, 1), (1162, 3), (1160, 3), (1159, 3), (1158, 1), (1157, 2), (1156, 4), (1154, 1), (1153, 5), (1152, 2), (1151, 1), (1150, 3), (1149, 2), (1148, 2), (1147, 2), (1146, 2), (1145, 2), (1144, 1), (1143, 1), (1142, 3), (1141, 1), (1139, 5), (1138, 1), (1136, 4), (1135, 1), (1132, 1), (1131, 1), (1130, 2), (1129, 1), (1127, 1), (1126, 3), (1125, 4), (1123, 4), (1122, 1), (1121, 2), (1120, 1), (1119, 1), (1117, 1), (1116, 1), (1113, 2), (1112, 1), (1110, 2), (1109, 1), (1108, 1), (1107, 2), (1106, 4), (1105, 6), (1103, 2), (1102, 1), (1101, 1), (1100, 4), (1097, 2), (1096, 1), (1095, 3), (1092, 2), (1090, 2), (1088, 2), (1087, 1), (1085, 4), (1081, 2), (1080, 1), (1079, 1), (1077, 2), (1076, 3), (1075, 1), (1073, 1), (1072, 7), (1071, 3), (1070, 1), (1068, 1), (1067, 1), (1066, 1), (1065, 2), (1064, 2), (1063, 3), (1062, 3), (1061, 3), (1060, 2), (1059, 1), (1058, 2), (1055, 1), (1054, 1), (1052, 2), (1051, 3), (1050, 2), (1049, 2), (1048, 3), (1047, 2), (1046, 2), (1045, 1), (1044, 132), (1043, 4), (1042, 1), (1041, 1), (1040, 3), (1039, 1), (1038, 3), (1036, 1), (1035, 1), (1034, 2), (1032, 2), (1031, 2), (1030, 1), (1027, 1), (1024, 6), (1023, 1), (1022, 17), (1021, 3), (1019, 4), (1017, 2), (1016, 2), (1015, 1), (1014, 1), (1013, 1), (1012, 1), (1011, 3), (1010, 5), (1008, 1), (1007, 2), (1006, 4), (1005, 1), (1003, 2), (1000, 2), (999, 2), (998, 1), (996, 1), (995, 2), (992, 2), (991, 1), (990, 1), (989, 2), (987, 1), (986, 1), (985, 1), (982, 1), (981, 1), (980, 2), (979, 1), (977, 1), (976, 2), (973, 1), (972, 2), (971, 1), (970, 1), (969, 4), (968, 1), (967, 2), (964, 7), (963, 3), (960, 1), (959, 4), (958, 3), (957, 1), (956, 1), (955, 1), (954, 1), (952, 2), (951, 1), (948, 1), (946, 3), (945, 1), (944, 3), (943, 2), (942, 2), (941, 1), (940, 1), (939, 1), (938, 1), (937, 1), (935, 3), (934, 1), (933, 1), (929, 2), (928, 1), (927, 2), (924, 3), (923, 1), (922, 3), (920, 2), (919, 1), (918, 1), (917, 1), (916, 19), (914, 1), (913, 1), (910, 2), (909, 2), (908, 1), (907, 1), (906, 2), (905, 1), (902, 2), (901, 3), (900, 1), (899, 1), (898, 2), (897, 1), (896, 2), (895, 3), (893, 1), (892, 4), (891, 2), (890, 1), (889, 1), (888, 2), (887, 1), (886, 1), (885, 1), (884, 1), (883, 2), (882, 1), (881, 3), (880, 2), (877, 4), (875, 1), (874, 1), (873, 3), (872, 5), (871, 1), (870, 2), (869, 1), (868, 2), (866, 1), (865, 2), (864, 2), (863, 2), (862, 1), (861, 4), (860, 1), (857, 9), (856, 2), (855, 1), (852, 2), (851, 1), (850, 1), (849, 1), (848, 2), (846, 1), (845, 4), (842, 1), (841, 1), (840, 3), (839, 1), (838, 4), (837, 3), (836, 1), (834, 1), (832, 1), (830, 1), (827, 3), (826, 2), (825, 1), (824, 1), (823, 1), (822, 1), (821, 4), (820, 2), (819, 1), (816, 3), (813, 4), (812, 1), (811, 1), (808, 1), (806, 1), (805, 1), (804, 3), (801, 3), (799, 1), (798, 3), (795, 1), (793, 1), (792, 10), (791, 4), (790, 4), (789, 131), (788, 1), (786, 1), (784, 4), (783, 4), (782, 2), (781, 3), (780, 1), (779, 4), (778, 1), (777, 1), (776, 1), (775, 2), (772, 1), (770, 1), (769, 1), (767, 1), (766, 1), (765, 3), (763, 5), (762, 4), (759, 1), (755, 1), (752, 1), (749, 2), (747, 3), (745, 1), (744, 1), (743, 1), (738, 2), (736, 4), (735, 2), (733, 2), (730, 2), (729, 5), (728, 2), (727, 2), (726, 1), (725, 2), (724, 1), (723, 1), (722, 1), (721, 1), (720, 2), (719, 2), (718, 4), (717, 2), (716, 1), (714, 1), (713, 3), (712, 1), (711, 133), (710, 1), (709, 2), (708, 2), (707, 2), (704, 3), (703, 3), (702, 1), (700, 2), (698, 1), (696, 15), (695, 1), (694, 1), (693, 1), (692, 1), (691, 2), (690, 1), (689, 2), (687, 4), (685, 3), (684, 2), (683, 1), (682, 1), (679, 2), (677, 4), (673, 2), (672, 1), (671, 1), (670, 2), (669, 1), (666, 1), (665, 1), (664, 1), (663, 2), (662, 1), (661, 1), (660, 1), (659, 1), (653, 2), (652, 3), (650, 1), (648, 2), (647, 2), (646, 4), (645, 5), (644, 1), (641, 1), (639, 2), (638, 3), (637, 2), (634, 3), (633, 1), (632, 2), (631, 1), (630, 2), (629, 3), (628, 1), (626, 1), (621, 3), (620, 6), (618, 1), (617, 1), (616, 1), (615, 1), (614, 1), (613, 1), (612, 3), (611, 2), (610, 1), (608, 1), (607, 2), (606, 5), (605, 2), (604, 1), (602, 1), (600, 1), (597, 7), (595, 2), (594, 4), (593, 3), (592, 1), (591, 8), (590, 1), (589, 3), (588, 1), (587, 1), (586, 4), (585, 6), (584, 2), (583, 5), (582, 4), (581, 5), (580, 4), (579, 13), (578, 4), (577, 7), (576, 5), (575, 8), (574, 9), (573, 6), (572, 3), (571, 2), (570, 7), (569, 10), (568, 12), (567, 11), (566, 5), (565, 7), (564, 8), (563, 7), (562, 8), (561, 5), (560, 7), (559, 8), (558, 7), (557, 6), (556, 10), (555, 6), (554, 7), (553, 6), (552, 10), (551, 8), (550, 12), (549, 4), (548, 3), (547, 7), (546, 6), (545, 6), (544, 3), (543, 5), (542, 4), (541, 3), (540, 2), (539, 7), (538, 4), (537, 6), (536, 5), (535, 2), (533, 1), (532, 4), (531, 4), (530, 2), (529, 2), (528, 1), (527, 1), (525, 1), (524, 1), (523, 1), (522, 2), (521, 48), (519, 2), (518, 1), (517, 2), (516, 3), (514, 1), (513, 1), (511, 1), (510, 2), (509, 2), (507, 3), (506, 3), (501, 1), (500, 1), (499, 4), (498, 2), (497, 4), (495, 2), (491, 3), (489, 1), (488, 1), (485, 1), (484, 1), (483, 1), (482, 2), (480, 1), (478, 1), (476, 3), (475, 1), (473, 1), (471, 2), (469, 1), (468, 2), (467, 1), (465, 5), (462, 2), (461, 1), (458, 1), (456, 1), (452, 1), (447, 2), (446, 1), (445, 2), (443, 2), (440, 1), (439, 1), (437, 1), (435, 3), (433, 2), (431, 3), (430, 3), (429, 2), (428, 1), (427, 1), (426, 1), (424, 2), (423, 1), (421, 1), (420, 1), (419, 1), (418, 1), (417, 1), (414, 2), (411, 1), (408, 2), (407, 1), (404, 1), (403, 2), (402, 1), (401, 3), (399, 3), (396, 3), (392, 1), (391, 1), (388, 1), (387, 1), (386, 3), (385, 3), (384, 1), (381, 2), (377, 2), (376, 2), (375, 3), (373, 1), (370, 2), (367, 1), (366, 1), (365, 1), (364, 4), (361, 2), (360, 2), (359, 1), (357, 1), (355, 1), (353, 1), (352, 1), (351, 1), (349, 4), (347, 2), (346, 2), (343, 1), (342, 1), (339, 1), (338, 1), (336, 1), (335, 129), (333, 1), (332, 2), (328, 1), (324, 4), (323, 1), (321, 2), (318, 1), (315, 1), (314, 1), (313, 2), (312, 1), (311, 3), (309, 3), (308, 1), (306, 2), (305, 1), (304, 2), (303, 1), (301, 1), (300, 1), (296, 8), (295, 3), (294, 1), (293, 1), (292, 2), (291, 2), (290, 4), (289, 1), (288, 1), (280, 1), (277, 1), (270, 2), (269, 1), (267, 2), (265, 1), (264, 1), (263, 4), (256, 1), (252, 1), (251, 1), (250, 5), (246, 1), (242, 1), (241, 3), (236, 1), (234, 1), (233, 1), (232, 4), (230, 1), (228, 4), (225, 1), (221, 3), (220, 1), (218, 1), (217, 2), (216, 1), (213, 1), (211, 13), (210, 1), (209, 1), (208, 1), (204, 1), (200, 3), (199, 1), (197, 1), (195, 1), (194, 1), (191, 1), (190, 1), (188, 1), (187, 1), (179, 2), (178, 1), (175, 1), (174, 2), (171, 1), (168, 2), (167, 2), (165, 1), (151, 3), (147, 2), (146, 1), (144, 2), (142, 1), (140, 1), (139, 2), (130, 2), (128, 2), (125, 4), (122, 2), (119, 2), (118, 3), (116, 1), (115, 1), (114, 3), (112, 2), (109, 1), (106, 1), (105, 1), (102, 1), (98, 4), (94, 1), (92, 2), (91, 1), (90, 1), (89, 1), (86, 1), (85, 1), (82, 1), (78, 2), (77, 1), (76, 1), (73, 1), (70, 1), (68, 1), (66, 2), (65, 1), (60, 1), (59, 1), (58, 2), (57, 5), (56, 2), (53, 3), (51, 2), (49, 1), (48, 1), (43, 4), (41, 2), (40, 1), (38, 1), (36, 1), (35, 3), (33, 1), (32, 2), (30, 3), (29, 1), (28, 1), (26, 1), (25, 1), (22, 3), (18, 3), (17, 3), (16, 1), (15, 5), (14, 2), (13, 7), (12, 4), (11, 3), (10, 5), (9, 10), (8, 8), (7, 28), (6, 126), (5, 70), (4, 137438)])\n"
     ]
    }
   ],
   "source": [
    "import collections\n",
    "print collections.OrderedDict(sorted(countsOfLenght.items(),reverse = True))"
   ]
  },
  {
   "cell_type": "code",
   "execution_count": 43,
   "metadata": {
    "collapsed": false
   },
   "outputs": [
    {
     "name": "stdout",
     "output_type": "stream",
     "text": [
      "52\n",
      "68\n",
      "76\n",
      "92\n",
      "103\n",
      "127\n",
      "138\n",
      "139\n",
      "140\n",
      "148\n",
      "161\n",
      "182\n",
      "204\n",
      "231\n",
      "278\n",
      "288\n",
      "292\n",
      "311\n",
      "373\n",
      "385\n",
      "386\n",
      "435\n",
      "437\n",
      "458\n",
      "486\n",
      "526\n",
      "527\n",
      "537\n",
      "555\n",
      "572\n",
      "573\n",
      "585\n",
      "660\n",
      "661\n",
      "681\n",
      "684\n",
      "745\n",
      "746\n",
      "752\n",
      "769\n",
      "796\n",
      "799\n",
      "819\n",
      "885\n",
      "894\n",
      "896\n",
      "904\n",
      "905\n",
      "913\n",
      "931\n",
      "959\n",
      "964\n",
      "987\n"
     ]
    }
   ],
   "source": [
    "for i in range(0,1000):\n",
    "    if len(df['attach_full'][i]) > 4:\n",
    "        print i"
   ]
  },
  {
   "cell_type": "code",
   "execution_count": 44,
   "metadata": {
    "collapsed": false
   },
   "outputs": [
    {
     "name": "stdout",
     "output_type": "stream",
     "text": [
      "    Unidad de Enlace UE/076/14   SAE   SHCP   .\\l l RITAKIA llf· HACII N llA Y C11íD1TO rLIIILICO   Solicitud 0681200009714   México D.F. a 12 de marzo de 2014   Apreciable Solicitante:   En atención a su solicitud de información con el número de folio citado al rubro  y con fundamento en los artículos 41  42 y 44 de la Ley Federal de Transparencia y Acceso a la Información Pública Gubernamental  esta Unidad de Enlace se permite hacer de su conocimiento la respuesta emitida por la Unidad Administrativa responsable de la información:   Oficina encargada del proceso de liquidación del extinto Luz y Fuerza del Centro   \"Se hace referencia a la solicitud de acceso a la información con número citado al rubro  requerida bajo la modalidad de Internet por INFOMEX  la cual se transcribe para su pronta noticia   'SOLICITO AL SERVICIO DE ADMINISTRACION Y ENAJENACION DE   BIENES:   DE QUE ENTIDAD VAN A SALIR LOS RECURSOS PARA PAGAR LAS PENSIONES DE LOS CASI 20 EXTRABAJADORES DE LA EXTINTA LUZ Y FUERZA  QUE RECIEN FUERON CONVENIDAS  ENTRE LA SECRETARIA DE GOBERNACION Y EL EXLIDER SEL SME  MARTÍN ESPARZA. DURANTE CUANTO TIEMPO  LES PAGARAN LA PENSION O ACASO  ES VITALICIA.   SOBRE QUE BASE  SERÁ DETERMINADO EL MONTO DE LA PENSION MENSUAL  PARA CADA UNO DE LOS EXTRABAJADORES DE LUZ Y FUERZA.' (sic)   Con fundamento en el Artículo 42 de la Ley Federal de Transparencia y Acceso a la Información Pública Gubernamental  se informa lo siguiente:   Que como es de conocimiento público la Secretaría de Gobernación y el Sindicato Mexicano de Electricistas firmaron el Memorándum de Entendimiento de fecha 9 de octubre de 2013  por lo que el Servicio de Administración y Enajenación de Bienes (SAE) en su carácter de liquidador del organismo descentralizado Luz y Fuerza del Centro  no cuenta con la información mencionada por el solicitante.   Sin más por el momento aprovechamos para enviarle un cordial saludo.   Atentamente Unidad de Enlace   Servicio de Administración y Enajenación de Bienes   Insurgentes Sur 2073  Col. San Angel lnn  Del. Álvaro Obregón  México  D.F.  C.P.01000  Tel: 55507177 ext 4242 www.sae.gob.mx   Página I de 1   \n"
     ]
    }
   ],
   "source": [
    "print df['attach_full'][987]"
   ]
  },
  {
   "cell_type": "markdown",
   "metadata": {},
   "source": [
    "# Things we have to handle\n",
    "- what happens if the attach_full > 15MB??\n",
    "<p>\n",
    "We should download the data from attach_full into a .txt file. Place the file in the directory. \n",
    "</p>\n",
    "- how do we handle the stack of response requests?\n",
    "<p>\n",
    "We need to make a job queue of urls to ping. The stack should look like:\n",
    "<br>\n",
    "[(folio_id,url)]<br>\n",
    "[(folio_id,url)]\n",
    "</p>"
   ]
  }
 ],
 "metadata": {
  "anaconda-cloud": {},
  "kernelspec": {
   "display_name": "Python [Root]",
   "language": "python",
   "name": "Python [Root]"
  },
  "language_info": {
   "codemirror_mode": {
    "name": "ipython",
    "version": 2.0
   },
   "file_extension": ".py",
   "mimetype": "text/x-python",
   "name": "python",
   "nbconvert_exporter": "python",
   "pygments_lexer": "ipython2",
   "version": "2.7.12"
  }
 },
 "nbformat": 4,
 "nbformat_minor": 0
}