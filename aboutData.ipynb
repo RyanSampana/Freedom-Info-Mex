{
 "cells": [
  {
   "cell_type": "markdown",
   "metadata": {},
   "source": [
    "# First let understand the data that we have. I'm going to use 2003 as an example"
   ]
  },
  {
   "cell_type": "code",
   "execution_count": 1,
   "metadata": {
    "collapsed": false
   },
   "outputs": [
    {
     "data": {
      "text/html": [
       "<div>\n",
       "<table border=\"1\" class=\"dataframe\">\n",
       "  <thead>\n",
       "    <tr style=\"text-align: right;\">\n",
       "      <th></th>\n",
       "      <th>FOLIO</th>\n",
       "      <th>FECHASOLICITUD</th>\n",
       "      <th>DEPENDENCIA</th>\n",
       "      <th>ESTATUS</th>\n",
       "      <th>MEDIOENTRADA</th>\n",
       "      <th>TIPOSOLICITUD</th>\n",
       "      <th>DESCRIPCIONSOLICITUD</th>\n",
       "      <th>OTROSDATOS</th>\n",
       "      <th>ARCHIVOADJUNTOSOLICITUD</th>\n",
       "      <th>MEDIOENTREGA</th>\n",
       "      <th>...</th>\n",
       "      <th>CODIGOPOSTAL</th>\n",
       "      <th>SECTOR</th>\n",
       "      <th>X</th>\n",
       "      <th>X.1</th>\n",
       "      <th>X.2</th>\n",
       "      <th>X.3</th>\n",
       "      <th>PDFOCR</th>\n",
       "      <th>attach_full</th>\n",
       "      <th>attach.inc</th>\n",
       "      <th>word.count</th>\n",
       "    </tr>\n",
       "  </thead>\n",
       "  <tbody>\n",
       "    <tr>\n",
       "      <th>0</th>\n",
       "      <td>'0000400000103</td>\n",
       "      <td>12/06/2003 08:37</td>\n",
       "      <td>SECRETARÍA DE GOBERNACIÓN</td>\n",
       "      <td>Desechada por falta de respuesta del ciudadano</td>\n",
       "      <td>Electrónica</td>\n",
       "      <td>Información Pública</td>\n",
       "      <td>Copia del permiso de la Direccion de Juegos y ...</td>\n",
       "      <td>Probablemente la informacion este en poder de ...</td>\n",
       "      <td>NaN</td>\n",
       "      <td>Copia Simple</td>\n",
       "      <td>...</td>\n",
       "      <td>54060</td>\n",
       "      <td>Gobernación</td>\n",
       "      <td>NaN</td>\n",
       "      <td>NaN</td>\n",
       "      <td>NaN</td>\n",
       "      <td>NaN</td>\n",
       "      <td>0</td>\n",
       "      <td></td>\n",
       "      <td>0</td>\n",
       "      <td>52</td>\n",
       "    </tr>\n",
       "    <tr>\n",
       "      <th>1</th>\n",
       "      <td>'0000400000203</td>\n",
       "      <td>12/06/2003 09:21</td>\n",
       "      <td>SECRETARÍA DE GOBERNACIÓN</td>\n",
       "      <td>Desechada por falta de respuesta del ciudadano</td>\n",
       "      <td>Electrónica</td>\n",
       "      <td>Información Pública</td>\n",
       "      <td>C. VICENTE FOX QUESADA:                       ...</td>\n",
       "      <td>NaN</td>\n",
       "      <td>NaN</td>\n",
       "      <td>Entrega por Internet en el INFOMEX</td>\n",
       "      <td>...</td>\n",
       "      <td>78480</td>\n",
       "      <td>Gobernación</td>\n",
       "      <td>NaN</td>\n",
       "      <td>NaN</td>\n",
       "      <td>NaN</td>\n",
       "      <td>NaN</td>\n",
       "      <td>0</td>\n",
       "      <td></td>\n",
       "      <td>0</td>\n",
       "      <td>4</td>\n",
       "    </tr>\n",
       "    <tr>\n",
       "      <th>2</th>\n",
       "      <td>'0000400000303</td>\n",
       "      <td>12/06/2003 10:11</td>\n",
       "      <td>SECRETARÍA DE GOBERNACIÓN</td>\n",
       "      <td>Terminada</td>\n",
       "      <td>Electrónica</td>\n",
       "      <td>Información Pública</td>\n",
       "      <td>solicitud de pasaporte mexicano  asi como todo...</td>\n",
       "      <td>NaN</td>\n",
       "      <td>NaN</td>\n",
       "      <td>Entrega por Internet en el INFOMEX</td>\n",
       "      <td>...</td>\n",
       "      <td>81479</td>\n",
       "      <td>Gobernación</td>\n",
       "      <td>NaN</td>\n",
       "      <td>NaN</td>\n",
       "      <td>NaN</td>\n",
       "      <td>NaN</td>\n",
       "      <td>0</td>\n",
       "      <td></td>\n",
       "      <td>0</td>\n",
       "      <td>21</td>\n",
       "    </tr>\n",
       "    <tr>\n",
       "      <th>3</th>\n",
       "      <td>'0000400000403</td>\n",
       "      <td>12/06/2003 10:34</td>\n",
       "      <td>SECRETARÍA DE GOBERNACIÓN</td>\n",
       "      <td>Terminada</td>\n",
       "      <td>Electrónica</td>\n",
       "      <td>Información Pública</td>\n",
       "      <td>Monto y distribucion del gasto de las dependen...</td>\n",
       "      <td>NaN</td>\n",
       "      <td>NaN</td>\n",
       "      <td>Entrega por Internet en el INFOMEX</td>\n",
       "      <td>...</td>\n",
       "      <td>700</td>\n",
       "      <td>Gobernación</td>\n",
       "      <td>NaN</td>\n",
       "      <td>NaN</td>\n",
       "      <td>NaN</td>\n",
       "      <td>NaN</td>\n",
       "      <td>0</td>\n",
       "      <td></td>\n",
       "      <td>0</td>\n",
       "      <td>29</td>\n",
       "    </tr>\n",
       "    <tr>\n",
       "      <th>4</th>\n",
       "      <td>'0000400000503</td>\n",
       "      <td>12/06/2003 10:35</td>\n",
       "      <td>SECRETARÍA DE GOBERNACIÓN</td>\n",
       "      <td>Terminada</td>\n",
       "      <td>Electrónica</td>\n",
       "      <td>Información Pública</td>\n",
       "      <td>Monto y distribucion del gasto de las dependen...</td>\n",
       "      <td>NaN</td>\n",
       "      <td>NaN</td>\n",
       "      <td>Entrega por Internet en el INFOMEX</td>\n",
       "      <td>...</td>\n",
       "      <td>700</td>\n",
       "      <td>Gobernación</td>\n",
       "      <td>NaN</td>\n",
       "      <td>NaN</td>\n",
       "      <td>NaN</td>\n",
       "      <td>NaN</td>\n",
       "      <td>0</td>\n",
       "      <td></td>\n",
       "      <td>0</td>\n",
       "      <td>29</td>\n",
       "    </tr>\n",
       "  </tbody>\n",
       "</table>\n",
       "<p>5 rows × 28 columns</p>\n",
       "</div>"
      ],
      "text/plain": [
       "            FOLIO    FECHASOLICITUD                DEPENDENCIA  \\\n",
       "0  '0000400000103  12/06/2003 08:37  SECRETARÍA DE GOBERNACIÓN   \n",
       "1  '0000400000203  12/06/2003 09:21  SECRETARÍA DE GOBERNACIÓN   \n",
       "2  '0000400000303  12/06/2003 10:11  SECRETARÍA DE GOBERNACIÓN   \n",
       "3  '0000400000403  12/06/2003 10:34  SECRETARÍA DE GOBERNACIÓN   \n",
       "4  '0000400000503  12/06/2003 10:35  SECRETARÍA DE GOBERNACIÓN   \n",
       "\n",
       "                                          ESTATUS MEDIOENTRADA  \\\n",
       "0  Desechada por falta de respuesta del ciudadano  Electrónica   \n",
       "1  Desechada por falta de respuesta del ciudadano  Electrónica   \n",
       "2                                       Terminada  Electrónica   \n",
       "3                                       Terminada  Electrónica   \n",
       "4                                       Terminada  Electrónica   \n",
       "\n",
       "         TIPOSOLICITUD                               DESCRIPCIONSOLICITUD  \\\n",
       "0  Información Pública  Copia del permiso de la Direccion de Juegos y ...   \n",
       "1  Información Pública  C. VICENTE FOX QUESADA:                       ...   \n",
       "2  Información Pública  solicitud de pasaporte mexicano  asi como todo...   \n",
       "3  Información Pública  Monto y distribucion del gasto de las dependen...   \n",
       "4  Información Pública  Monto y distribucion del gasto de las dependen...   \n",
       "\n",
       "                                          OTROSDATOS ARCHIVOADJUNTOSOLICITUD  \\\n",
       "0  Probablemente la informacion este en poder de ...                     NaN   \n",
       "1                                                NaN                     NaN   \n",
       "2                                                NaN                     NaN   \n",
       "3                                                NaN                     NaN   \n",
       "4                                                NaN                     NaN   \n",
       "\n",
       "                         MEDIOENTREGA    ...     CODIGOPOSTAL       SECTOR  \\\n",
       "0                        Copia Simple    ...            54060  Gobernación   \n",
       "1  Entrega por Internet en el INFOMEX    ...            78480  Gobernación   \n",
       "2  Entrega por Internet en el INFOMEX    ...            81479  Gobernación   \n",
       "3  Entrega por Internet en el INFOMEX    ...              700  Gobernación   \n",
       "4  Entrega por Internet en el INFOMEX    ...              700  Gobernación   \n",
       "\n",
       "     X  X.1  X.2  X.3 PDFOCR attach_full attach.inc word.count  \n",
       "0  NaN  NaN  NaN  NaN      0                      0         52  \n",
       "1  NaN  NaN  NaN  NaN      0                      0          4  \n",
       "2  NaN  NaN  NaN  NaN      0                      0         21  \n",
       "3  NaN  NaN  NaN  NaN      0                      0         29  \n",
       "4  NaN  NaN  NaN  NaN      0                      0         29  \n",
       "\n",
       "[5 rows x 28 columns]"
      ]
     },
     "execution_count": 1,
     "metadata": {},
     "output_type": "execute_result"
    }
   ],
   "source": [
    "# load data\n",
    "import numpy as np\n",
    "import pandas as pd\n",
    "df = pd.read_csv('../full_request_data/attachdata2003.csv',encoding='Latin-1')\n",
    "df.head()"
   ]
  },
  {
   "cell_type": "markdown",
   "metadata": {},
   "source": [
    "## What are the english translations to the the column headers. I just printed our all the columns and used google translate for each of them. Results below"
   ]
  },
  {
   "cell_type": "code",
   "execution_count": 2,
   "metadata": {
    "collapsed": false
   },
   "outputs": [
    {
     "name": "stdout",
     "output_type": "stream",
     "text": [
      "(u'FOLIO', 'FOLIO')\n",
      "(u'FECHASOLICITUD', 'APPLICATION DATE')\n",
      "(u'DEPENDENCIA', 'DEPENDENCE')\n",
      "(u'ESTATUS', 'STATUS')\n",
      "(u'MEDIOENTRADA', 'RATED INPUT')\n",
      "(u'TIPOSOLICITUD', 'APPLICATION TYPE')\n",
      "(u'DESCRIPCIONSOLICITUD', 'DESCRIPTION APPLICATION')\n",
      "(u'OTROSDATOS', 'OTHER DATA')\n",
      "(u'ARCHIVOADJUNTOSOLICITUD', 'ATTACHMENT REQUEST')\n",
      "(u'MEDIOENTREGA', 'AVERAGE DELIVERY')\n",
      "(u'FECHALIMITE', 'DEADLINE')\n",
      "(u'RESPUESTA', 'ANSWER')\n",
      "(u'TEXTORESPUESTA', 'TEXT ANSWER')\n",
      "(u'ARCHIVORESPUESTA', 'RESPONSE FILE')\n",
      "(u'FECHARESPUESTA', 'DATE RESPONSE')\n",
      "(u'PAIS', 'COUNTRY')\n",
      "(u'ESTADO', 'STATE')\n",
      "(u'MUNICIPIO', 'MUNICIPALITY')\n",
      "(u'CODIGOPOSTAL', 'POSTAL CODE')\n",
      "(u'SECTOR', 'SECTOR')\n",
      "(u'X', 'X')\n",
      "(u'X.1', 'X.1')\n",
      "(u'X.2', 'X.2')\n",
      "(u'X.3', 'X.3')\n",
      "(u'PDFOCR', 'PDFOCR')\n",
      "(u'attach_full', 'attach_full')\n",
      "(u'attach.inc', 'attach.inc')\n",
      "(u'word.count', 'word.count')\n"
     ]
    }
   ],
   "source": [
    "columns = list(df.columns.values)\n",
    "# Uncomment below to print all the column values\n",
    "# for x in columns: print x\n",
    "# Google translate gave us these translations for the column headers\n",
    "english = [\n",
    "'FOLIO'\n",
    ",'APPLICATION DATE'\n",
    ",'DEPENDENCE'\n",
    ",'STATUS'\n",
    ",'RATED INPUT'\n",
    ",'APPLICATION TYPE'\n",
    ",'DESCRIPTION APPLICATION'\n",
    ",'OTHER DATA'\n",
    ",'ATTACHMENT REQUEST'\n",
    ",'AVERAGE DELIVERY'\n",
    ",'DEADLINE'\n",
    ",'ANSWER'\n",
    ",'TEXT ANSWER'\n",
    ",'RESPONSE FILE'\n",
    ",'DATE RESPONSE'\n",
    ",'COUNTRY'\n",
    ",'STATE'\n",
    ",'MUNICIPALITY'\n",
    ",'POSTAL CODE'\n",
    ",'SECTOR'\n",
    ",'X'\n",
    ",'X.1'\n",
    ",'X.2'\n",
    ",'X.3'\n",
    ",'PDFOCR'\n",
    ",'attach_full'\n",
    ",'attach.inc'\n",
    ",'word.count']\n",
    "column_translations = zip(columns,english)\n",
    "# prints out the translations\n",
    "for x in column_translations:\n",
    "    print x"
   ]
  },
  {
   "cell_type": "markdown",
   "metadata": {},
   "source": [
    "# Let see what are the different types of responses and their google translations"
   ]
  },
  {
   "cell_type": "code",
   "execution_count": 3,
   "metadata": {
    "collapsed": false
   },
   "outputs": [
    {
     "name": "stdout",
     "output_type": "stream",
     "text": [
      "Delivery of information on electronic media \n",
      "Absence of the information requested \n",
      "Information partially proprietary or confidential \n",
      "The information is publicly available \n",
      "The request does not correspond to the framework of the Law \n",
      "Refusal to be proprietary or confidential It is not within the competence of the liaison unit \n",
      "Do not shall process the request \n",
      "Notification of availability of information \n",
      "Shipping Notification \n",
      "Notification of extension \n",
      "Notification Date and place of delivery \n",
      "Request for additional information \n",
      "Response to Request for additional information \n",
      "Reply by the applicant to the delivery notification of information with cost \n",
      "Reply by the applicant to the delivery notification of information without cost \n",
      "No Answer\n"
     ]
    }
   ],
   "source": [
    "# for x in np.unique(df.RESPUESTA): print x\n",
    "# google translated the requests printed above\n",
    "respuesta_english = ['Delivery of information on electronic media '\n",
    ",'Absence of the information requested '\n",
    ",'Information partially proprietary or confidential '\n",
    ",'The information is publicly available '\n",
    ",'The request does not correspond to the framework of the Law '\n",
    ",'Refusal to be proprietary or confidential '\n",
    "'It is not within the competence of the liaison unit '\n",
    ",'Do not shall process the request '\n",
    ",'Notification of availability of information '\n",
    ",'Shipping Notification '\n",
    ",'Notification of extension '\n",
    ",'Notification Date and place of delivery '\n",
    ",'Request for additional information '\n",
    ",'Response to Request for additional information '\n",
    ",'Reply by the applicant to the delivery notification of information with cost '\n",
    ",'Reply by the applicant to the delivery notification of information without cost '\n",
    ",'No Answer']    \n",
    "for x,y in zip(respuesta_english,np.unique(df.RESPUESTA)): print x"
   ]
  },
  {
   "cell_type": "markdown",
   "metadata": {},
   "source": [
    "# What are the different statuses of each record?"
   ]
  },
  {
   "cell_type": "code",
   "execution_count": 4,
   "metadata": {
    "collapsed": false
   },
   "outputs": [
    {
     "name": "stdout",
     "output_type": "stream",
     "text": [
      "ESTATUS\n",
      "Dismissed for lack of payment\n",
      "Dismissed for lack of response from the citizen\n",
      "In process\n",
      "completed\n",
      "\n",
      "TIPOSOLICITUD\n",
      "Personal information\n",
      "Public information\n"
     ]
    }
   ],
   "source": [
    "print \"ESTATUS\"\n",
    "#for x in np.unique(df['ESTATUS']): print x\n",
    "estatus_english = ['Dismissed for lack of payment'\n",
    ",'Dismissed for lack of response from the citizen'\n",
    ",'In process'\n",
    ",'completed']\n",
    "for x,y in zip(estatus_english,np.unique(df['ESTATUS'])): print x\n",
    "print\n",
    "print \"TIPOSOLICITUD\"    \n",
    "#for x in np.unique(df['TIPOSOLICITUD']): print x\n",
    "tiposolicidtude_english = ['Personal information','Public information']\n",
    "for x,y in zip(tiposolicidtude_english,np.unique(df['TIPOSOLICITUD'])): print x"
   ]
  },
  {
   "cell_type": "markdown",
   "metadata": {},
   "source": [
    "# List indicies where the the attachment is given"
   ]
  },
  {
   "cell_type": "code",
   "execution_count": 5,
   "metadata": {
    "collapsed": true
   },
   "outputs": [],
   "source": [
    "notnullz = np.where(df['ARCHIVOADJUNTOSOLICITUD'].notnull())[0]"
   ]
  },
  {
   "cell_type": "code",
   "execution_count": 6,
   "metadata": {
    "collapsed": false
   },
   "outputs": [
    {
     "data": {
      "text/plain": [
       "3101"
      ]
     },
     "execution_count": 6,
     "metadata": {},
     "output_type": "execute_result"
    }
   ],
   "source": [
    "len(notnullz)"
   ]
  },
  {
   "cell_type": "markdown",
   "metadata": {},
   "source": [
    "### Lets look at one of those links"
   ]
  },
  {
   "cell_type": "code",
   "execution_count": 7,
   "metadata": {
    "collapsed": false
   },
   "outputs": [
    {
     "data": {
      "text/plain": [
       "u'https://www.infomex.org.mx/gobiernofederal/moduloPublico/MimeGenerator.action?folio=0000400005103'"
      ]
     },
     "execution_count": 7,
     "metadata": {},
     "output_type": "execute_result"
    }
   ],
   "source": [
    "df['ARCHIVOADJUNTOSOLICITUD'][notnullz[2]]"
   ]
  },
  {
   "cell_type": "markdown",
   "metadata": {},
   "source": [
    "### 'PDFOCR' looks like it gives us links if the reponse is a pdf\n",
    "0 for no 1 for yes"
   ]
  },
  {
   "cell_type": "code",
   "execution_count": 8,
   "metadata": {
    "collapsed": false
   },
   "outputs": [
    {
     "name": "stdout",
     "output_type": "stream",
     "text": [
      "Int64Index([  665,  1722,  1875,  2304,  2339,  2392,  2420,  2482,  2483,\n",
      "             2484,  2485,  2486,  2487,  2493,  2517,  2545,  2546,  2642,\n",
      "             2643,  4464,  4466,  4538,  4540,  4544,  4562,  4593,  4645,\n",
      "             5859,  5860,  5861,  6018,  6037,  6158,  6169,  6204,  6764,\n",
      "             7021,  9719, 14485, 14619, 14740, 14749, 14750, 14751, 14752,\n",
      "            14753, 14754, 14755, 14756, 14763, 16111, 20310, 21590, 22508,\n",
      "            22561, 22619, 22620, 22658, 22675, 22709, 22803, 22870, 22904,\n",
      "            22925, 22929, 23090, 23091, 23141, 23285, 23946],\n",
      "           dtype='int64')\n"
     ]
    }
   ],
   "source": [
    "len(df[df['PDFOCR'] == 1])\n",
    "pdfocr_index = df[df['PDFOCR'] == 1].index\n",
    "print pdfocr_index"
   ]
  },
  {
   "cell_type": "code",
   "execution_count": 9,
   "metadata": {
    "collapsed": false
   },
   "outputs": [
    {
     "data": {
      "text/plain": [
       "u'https://www.infomex.org.mx/gobiernofederal/moduloPublico/MimeGenerator.action?folio=0000400066703'"
      ]
     },
     "execution_count": 9,
     "metadata": {},
     "output_type": "execute_result"
    }
   ],
   "source": [
    "df['ARCHIVOADJUNTOSOLICITUD'][pdfocr_index[0]]"
   ]
  },
  {
   "cell_type": "markdown",
   "metadata": {},
   "source": [
    "# Todo: what happens to folio's with no responses in the next years"
   ]
  }
 ],
 "metadata": {
  "anaconda-cloud": {},
  "kernelspec": {
   "display_name": "Python [Root]",
   "language": "python",
   "name": "Python [Root]"
  },
  "language_info": {
   "codemirror_mode": {
    "name": "ipython",
    "version": 2
   },
   "file_extension": ".py",
   "mimetype": "text/x-python",
   "name": "python",
   "nbconvert_exporter": "python",
   "pygments_lexer": "ipython2",
   "version": "2.7.12"
  }
 },
 "nbformat": 4,
 "nbformat_minor": 0
}
