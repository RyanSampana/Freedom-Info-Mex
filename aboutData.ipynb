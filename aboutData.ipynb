{
 "cells": [
  {
   "cell_type": "markdown",
   "metadata": {},
   "source": [
    "# First let understand the data that we have. I'm going to use 2003 as an example"
   ]
  },
  {
   "cell_type": "code",
   "execution_count": 1,
   "metadata": {
    "collapsed": false
   },
   "outputs": [
    {
     "data": {
      "text/html": [
       "<div>\n",
       "<table border=\"1\" class=\"dataframe\">\n",
       "  <thead>\n",
       "    <tr style=\"text-align: right;\">\n",
       "      <th></th>\n",
       "      <th>FOLIO</th>\n",
       "      <th>FECHASOLICITUD</th>\n",
       "      <th>DEPENDENCIA</th>\n",
       "      <th>ESTATUS</th>\n",
       "      <th>MEDIOENTRADA</th>\n",
       "      <th>TIPOSOLICITUD</th>\n",
       "      <th>DESCRIPCIONSOLICITUD</th>\n",
       "      <th>OTROSDATOS</th>\n",
       "      <th>ARCHIVOADJUNTOSOLICITUD</th>\n",
       "      <th>MEDIOENTREGA</th>\n",
       "      <th>...</th>\n",
       "      <th>CODIGOPOSTAL</th>\n",
       "      <th>SECTOR</th>\n",
       "      <th>X</th>\n",
       "      <th>X.1</th>\n",
       "      <th>X.2</th>\n",
       "      <th>X.3</th>\n",
       "      <th>PDFOCR</th>\n",
       "      <th>attach_full</th>\n",
       "      <th>attach.inc</th>\n",
       "      <th>word.count</th>\n",
       "    </tr>\n",
       "  </thead>\n",
       "  <tbody>\n",
       "    <tr>\n",
       "      <th>0</th>\n",
       "      <td>'0000400000103</td>\n",
       "      <td>12/06/2003 08:37</td>\n",
       "      <td>SECRETARÍA DE GOBERNACIÓN</td>\n",
       "      <td>Desechada por falta de respuesta del ciudadano</td>\n",
       "      <td>Electrónica</td>\n",
       "      <td>Información Pública</td>\n",
       "      <td>Copia del permiso de la Direccion de Juegos y ...</td>\n",
       "      <td>Probablemente la informacion este en poder de ...</td>\n",
       "      <td>NaN</td>\n",
       "      <td>Copia Simple</td>\n",
       "      <td>...</td>\n",
       "      <td>54060</td>\n",
       "      <td>Gobernación</td>\n",
       "      <td>NaN</td>\n",
       "      <td>NaN</td>\n",
       "      <td>NaN</td>\n",
       "      <td>NaN</td>\n",
       "      <td>0</td>\n",
       "      <td></td>\n",
       "      <td>0</td>\n",
       "      <td>52</td>\n",
       "    </tr>\n",
       "    <tr>\n",
       "      <th>1</th>\n",
       "      <td>'0000400000203</td>\n",
       "      <td>12/06/2003 09:21</td>\n",
       "      <td>SECRETARÍA DE GOBERNACIÓN</td>\n",
       "      <td>Desechada por falta de respuesta del ciudadano</td>\n",
       "      <td>Electrónica</td>\n",
       "      <td>Información Pública</td>\n",
       "      <td>C. VICENTE FOX QUESADA:                       ...</td>\n",
       "      <td>NaN</td>\n",
       "      <td>NaN</td>\n",
       "      <td>Entrega por Internet en el INFOMEX</td>\n",
       "      <td>...</td>\n",
       "      <td>78480</td>\n",
       "      <td>Gobernación</td>\n",
       "      <td>NaN</td>\n",
       "      <td>NaN</td>\n",
       "      <td>NaN</td>\n",
       "      <td>NaN</td>\n",
       "      <td>0</td>\n",
       "      <td></td>\n",
       "      <td>0</td>\n",
       "      <td>4</td>\n",
       "    </tr>\n",
       "    <tr>\n",
       "      <th>2</th>\n",
       "      <td>'0000400000303</td>\n",
       "      <td>12/06/2003 10:11</td>\n",
       "      <td>SECRETARÍA DE GOBERNACIÓN</td>\n",
       "      <td>Terminada</td>\n",
       "      <td>Electrónica</td>\n",
       "      <td>Información Pública</td>\n",
       "      <td>solicitud de pasaporte mexicano  asi como todo...</td>\n",
       "      <td>NaN</td>\n",
       "      <td>NaN</td>\n",
       "      <td>Entrega por Internet en el INFOMEX</td>\n",
       "      <td>...</td>\n",
       "      <td>81479</td>\n",
       "      <td>Gobernación</td>\n",
       "      <td>NaN</td>\n",
       "      <td>NaN</td>\n",
       "      <td>NaN</td>\n",
       "      <td>NaN</td>\n",
       "      <td>0</td>\n",
       "      <td></td>\n",
       "      <td>0</td>\n",
       "      <td>21</td>\n",
       "    </tr>\n",
       "    <tr>\n",
       "      <th>3</th>\n",
       "      <td>'0000400000403</td>\n",
       "      <td>12/06/2003 10:34</td>\n",
       "      <td>SECRETARÍA DE GOBERNACIÓN</td>\n",
       "      <td>Terminada</td>\n",
       "      <td>Electrónica</td>\n",
       "      <td>Información Pública</td>\n",
       "      <td>Monto y distribucion del gasto de las dependen...</td>\n",
       "      <td>NaN</td>\n",
       "      <td>NaN</td>\n",
       "      <td>Entrega por Internet en el INFOMEX</td>\n",
       "      <td>...</td>\n",
       "      <td>700</td>\n",
       "      <td>Gobernación</td>\n",
       "      <td>NaN</td>\n",
       "      <td>NaN</td>\n",
       "      <td>NaN</td>\n",
       "      <td>NaN</td>\n",
       "      <td>0</td>\n",
       "      <td></td>\n",
       "      <td>0</td>\n",
       "      <td>29</td>\n",
       "    </tr>\n",
       "    <tr>\n",
       "      <th>4</th>\n",
       "      <td>'0000400000503</td>\n",
       "      <td>12/06/2003 10:35</td>\n",
       "      <td>SECRETARÍA DE GOBERNACIÓN</td>\n",
       "      <td>Terminada</td>\n",
       "      <td>Electrónica</td>\n",
       "      <td>Información Pública</td>\n",
       "      <td>Monto y distribucion del gasto de las dependen...</td>\n",
       "      <td>NaN</td>\n",
       "      <td>NaN</td>\n",
       "      <td>Entrega por Internet en el INFOMEX</td>\n",
       "      <td>...</td>\n",
       "      <td>700</td>\n",
       "      <td>Gobernación</td>\n",
       "      <td>NaN</td>\n",
       "      <td>NaN</td>\n",
       "      <td>NaN</td>\n",
       "      <td>NaN</td>\n",
       "      <td>0</td>\n",
       "      <td></td>\n",
       "      <td>0</td>\n",
       "      <td>29</td>\n",
       "    </tr>\n",
       "  </tbody>\n",
       "</table>\n",
       "<p>5 rows × 28 columns</p>\n",
       "</div>"
      ],
      "text/plain": [
       "            FOLIO    FECHASOLICITUD                DEPENDENCIA  \\\n",
       "0  '0000400000103  12/06/2003 08:37  SECRETARÍA DE GOBERNACIÓN   \n",
       "1  '0000400000203  12/06/2003 09:21  SECRETARÍA DE GOBERNACIÓN   \n",
       "2  '0000400000303  12/06/2003 10:11  SECRETARÍA DE GOBERNACIÓN   \n",
       "3  '0000400000403  12/06/2003 10:34  SECRETARÍA DE GOBERNACIÓN   \n",
       "4  '0000400000503  12/06/2003 10:35  SECRETARÍA DE GOBERNACIÓN   \n",
       "\n",
       "                                          ESTATUS MEDIOENTRADA  \\\n",
       "0  Desechada por falta de respuesta del ciudadano  Electrónica   \n",
       "1  Desechada por falta de respuesta del ciudadano  Electrónica   \n",
       "2                                       Terminada  Electrónica   \n",
       "3                                       Terminada  Electrónica   \n",
       "4                                       Terminada  Electrónica   \n",
       "\n",
       "         TIPOSOLICITUD                               DESCRIPCIONSOLICITUD  \\\n",
       "0  Información Pública  Copia del permiso de la Direccion de Juegos y ...   \n",
       "1  Información Pública  C. VICENTE FOX QUESADA:                       ...   \n",
       "2  Información Pública  solicitud de pasaporte mexicano  asi como todo...   \n",
       "3  Información Pública  Monto y distribucion del gasto de las dependen...   \n",
       "4  Información Pública  Monto y distribucion del gasto de las dependen...   \n",
       "\n",
       "                                          OTROSDATOS ARCHIVOADJUNTOSOLICITUD  \\\n",
       "0  Probablemente la informacion este en poder de ...                     NaN   \n",
       "1                                                NaN                     NaN   \n",
       "2                                                NaN                     NaN   \n",
       "3                                                NaN                     NaN   \n",
       "4                                                NaN                     NaN   \n",
       "\n",
       "                         MEDIOENTREGA    ...     CODIGOPOSTAL       SECTOR  \\\n",
       "0                        Copia Simple    ...            54060  Gobernación   \n",
       "1  Entrega por Internet en el INFOMEX    ...            78480  Gobernación   \n",
       "2  Entrega por Internet en el INFOMEX    ...            81479  Gobernación   \n",
       "3  Entrega por Internet en el INFOMEX    ...              700  Gobernación   \n",
       "4  Entrega por Internet en el INFOMEX    ...              700  Gobernación   \n",
       "\n",
       "     X  X.1  X.2  X.3 PDFOCR attach_full attach.inc word.count  \n",
       "0  NaN  NaN  NaN  NaN      0                      0         52  \n",
       "1  NaN  NaN  NaN  NaN      0                      0          4  \n",
       "2  NaN  NaN  NaN  NaN      0                      0         21  \n",
       "3  NaN  NaN  NaN  NaN      0                      0         29  \n",
       "4  NaN  NaN  NaN  NaN      0                      0         29  \n",
       "\n",
       "[5 rows x 28 columns]"
      ]
     },
     "execution_count": 1,
     "metadata": {},
     "output_type": "execute_result"
    }
   ],
   "source": [
    "import warnings\n",
    "import re\n",
    "warnings.filterwarnings('ignore')\n",
    "# load data\n",
    "import numpy as np\n",
    "import pandas as pd\n",
    "df = pd.read_csv('../full_request_data/attachdata2003.csv',encoding='Latin-1')\n",
    "df.head()"
   ]
  },
  {
   "cell_type": "markdown",
   "metadata": {},
   "source": [
    "## What are the english translations to the the column headers. I just printed our all the columns and used google translate for each of them. Results below"
   ]
  },
  {
   "cell_type": "code",
   "execution_count": 2,
   "metadata": {
    "collapsed": false
   },
   "outputs": [
    {
     "name": "stdout",
     "output_type": "stream",
     "text": [
      "(u'FOLIO', 'FOLIO')\n",
      "(u'FECHASOLICITUD', 'APPLICATION DATE')\n",
      "(u'DEPENDENCIA', 'DEPENDENCE')\n",
      "(u'ESTATUS', 'STATUS')\n",
      "(u'MEDIOENTRADA', 'RATED INPUT')\n",
      "(u'TIPOSOLICITUD', 'APPLICATION TYPE')\n",
      "(u'DESCRIPCIONSOLICITUD', 'DESCRIPTION APPLICATION')\n",
      "(u'OTROSDATOS', 'OTHER DATA')\n",
      "(u'ARCHIVOADJUNTOSOLICITUD', 'ATTACHMENT REQUEST')\n",
      "(u'MEDIOENTREGA', 'AVERAGE DELIVERY')\n",
      "(u'FECHALIMITE', 'DEADLINE')\n",
      "(u'RESPUESTA', 'ANSWER')\n",
      "(u'TEXTORESPUESTA', 'TEXT ANSWER')\n",
      "(u'ARCHIVORESPUESTA', 'RESPONSE FILE')\n",
      "(u'FECHARESPUESTA', 'DATE RESPONSE')\n",
      "(u'PAIS', 'COUNTRY')\n",
      "(u'ESTADO', 'STATE')\n",
      "(u'MUNICIPIO', 'MUNICIPALITY')\n",
      "(u'CODIGOPOSTAL', 'POSTAL CODE')\n",
      "(u'SECTOR', 'SECTOR')\n",
      "(u'X', 'X')\n",
      "(u'X.1', 'X.1')\n",
      "(u'X.2', 'X.2')\n",
      "(u'X.3', 'X.3')\n",
      "(u'PDFOCR', 'PDFOCR')\n",
      "(u'attach_full', 'attach_full')\n",
      "(u'attach.inc', 'attach.inc')\n",
      "(u'word.count', 'word.count')\n"
     ]
    }
   ],
   "source": [
    "columns = list(df.columns.values)\n",
    "# Uncomment below to print all the column values\n",
    "# for x in columns: print x\n",
    "# Google translate gave us these translations for the column headers\n",
    "english = [\n",
    "'FOLIO'\n",
    ",'APPLICATION DATE'\n",
    ",'DEPENDENCE'\n",
    ",'STATUS'\n",
    ",'RATED INPUT'\n",
    ",'APPLICATION TYPE'\n",
    ",'DESCRIPTION APPLICATION'\n",
    ",'OTHER DATA'\n",
    ",'ATTACHMENT REQUEST'\n",
    ",'AVERAGE DELIVERY'\n",
    ",'DEADLINE'\n",
    ",'ANSWER'\n",
    ",'TEXT ANSWER'\n",
    ",'RESPONSE FILE'\n",
    ",'DATE RESPONSE'\n",
    ",'COUNTRY'\n",
    ",'STATE'\n",
    ",'MUNICIPALITY'\n",
    ",'POSTAL CODE'\n",
    ",'SECTOR'\n",
    ",'X'\n",
    ",'X.1'\n",
    ",'X.2'\n",
    ",'X.3'\n",
    ",'PDFOCR'\n",
    ",'attach_full'\n",
    ",'attach.inc'\n",
    ",'word.count']\n",
    "column_translations = zip(columns,english)\n",
    "# prints out the translations\n",
    "for x in column_translations:\n",
    "    print x"
   ]
  },
  {
   "cell_type": "markdown",
   "metadata": {},
   "source": [
    "# Let see what are the different types of responses and their google translations"
   ]
  },
  {
   "cell_type": "code",
   "execution_count": 3,
   "metadata": {
    "collapsed": false
   },
   "outputs": [
    {
     "name": "stdout",
     "output_type": "stream",
     "text": [
      "Delivery of information on electronic media \n",
      "Absence of the information requested \n",
      "Information partially proprietary or confidential \n",
      "The information is publicly available \n",
      "The request does not correspond to the framework of the Law \n",
      "Refusal to be proprietary or confidential It is not within the competence of the liaison unit \n",
      "Do not shall process the request \n",
      "Notification of availability of information \n",
      "Shipping Notification \n",
      "Notification of extension \n",
      "Notification Date and place of delivery \n",
      "Request for additional information \n",
      "Response to Request for additional information \n",
      "Reply by the applicant to the delivery notification of information with cost \n",
      "Reply by the applicant to the delivery notification of information without cost \n",
      "No Answer\n"
     ]
    }
   ],
   "source": [
    "# for x in np.unique(df.RESPUESTA): print x\n",
    "# google translated the requests printed above\n",
    "respuesta_english = ['Delivery of information on electronic media '\n",
    ",'Absence of the information requested '\n",
    ",'Information partially proprietary or confidential '\n",
    ",'The information is publicly available '\n",
    ",'The request does not correspond to the framework of the Law '\n",
    ",'Refusal to be proprietary or confidential '\n",
    "'It is not within the competence of the liaison unit '\n",
    ",'Do not shall process the request '\n",
    ",'Notification of availability of information '\n",
    ",'Shipping Notification '\n",
    ",'Notification of extension '\n",
    ",'Notification Date and place of delivery '\n",
    ",'Request for additional information '\n",
    ",'Response to Request for additional information '\n",
    ",'Reply by the applicant to the delivery notification of information with cost '\n",
    ",'Reply by the applicant to the delivery notification of information without cost '\n",
    ",'No Answer']    \n",
    "for x,y in zip(respuesta_english,np.unique(df.RESPUESTA)): print x"
   ]
  },
  {
   "cell_type": "markdown",
   "metadata": {},
   "source": [
    "# What are the different statuses of each record?"
   ]
  },
  {
   "cell_type": "code",
   "execution_count": 4,
   "metadata": {
    "collapsed": false
   },
   "outputs": [
    {
     "name": "stdout",
     "output_type": "stream",
     "text": [
      "ESTATUS\n",
      "Dismissed for lack of payment\n",
      "Dismissed for lack of response from the citizen\n",
      "In process\n",
      "completed\n",
      "\n",
      "TIPOSOLICITUD\n",
      "Personal information\n",
      "Public information\n"
     ]
    }
   ],
   "source": [
    "print \"ESTATUS\"\n",
    "#for x in np.unique(df['ESTATUS']): print x\n",
    "estatus_english = ['Dismissed for lack of payment'\n",
    ",'Dismissed for lack of response from the citizen'\n",
    ",'In process'\n",
    ",'completed']\n",
    "for x,y in zip(estatus_english,np.unique(df['ESTATUS'])): print x\n",
    "print\n",
    "print \"TIPOSOLICITUD\"    \n",
    "#for x in np.unique(df['TIPOSOLICITUD']): print x\n",
    "tiposolicidtude_english = ['Personal information','Public information']\n",
    "for x,y in zip(tiposolicidtude_english,np.unique(df['TIPOSOLICITUD'])): print x"
   ]
  },
  {
   "cell_type": "markdown",
   "metadata": {},
   "source": [
    "# List indicies where the the attachment is given"
   ]
  },
  {
   "cell_type": "code",
   "execution_count": 5,
   "metadata": {
    "collapsed": true
   },
   "outputs": [],
   "source": [
    "notnullz = np.where(df['ARCHIVOADJUNTOSOLICITUD'].notnull())[0]"
   ]
  },
  {
   "cell_type": "code",
   "execution_count": 6,
   "metadata": {
    "collapsed": false
   },
   "outputs": [
    {
     "data": {
      "text/plain": [
       "3101"
      ]
     },
     "execution_count": 6,
     "metadata": {},
     "output_type": "execute_result"
    }
   ],
   "source": [
    "len(notnullz)"
   ]
  },
  {
   "cell_type": "markdown",
   "metadata": {},
   "source": [
    "### Lets look at one of those links"
   ]
  },
  {
   "cell_type": "code",
   "execution_count": 7,
   "metadata": {
    "collapsed": false
   },
   "outputs": [
    {
     "data": {
      "text/plain": [
       "u'https://www.infomex.org.mx/gobiernofederal/moduloPublico/MimeGenerator.action?folio=0000400005103'"
      ]
     },
     "execution_count": 7,
     "metadata": {},
     "output_type": "execute_result"
    }
   ],
   "source": [
    "df['ARCHIVOADJUNTOSOLICITUD'][notnullz[2]]"
   ]
  },
  {
   "cell_type": "markdown",
   "metadata": {},
   "source": [
    "### 'PDFOCR' looks like it gives us links if the reponse is a pdf\n",
    "0 for no 1 for yes"
   ]
  },
  {
   "cell_type": "code",
   "execution_count": 8,
   "metadata": {
    "collapsed": false
   },
   "outputs": [
    {
     "name": "stdout",
     "output_type": "stream",
     "text": [
      "Int64Index([  665,  1722,  1875,  2304,  2339,  2392,  2420,  2482,  2483,\n",
      "             2484,  2485,  2486,  2487,  2493,  2517,  2545,  2546,  2642,\n",
      "             2643,  4464,  4466,  4538,  4540,  4544,  4562,  4593,  4645,\n",
      "             5859,  5860,  5861,  6018,  6037,  6158,  6169,  6204,  6764,\n",
      "             7021,  9719, 14485, 14619, 14740, 14749, 14750, 14751, 14752,\n",
      "            14753, 14754, 14755, 14756, 14763, 16111, 20310, 21590, 22508,\n",
      "            22561, 22619, 22620, 22658, 22675, 22709, 22803, 22870, 22904,\n",
      "            22925, 22929, 23090, 23091, 23141, 23285, 23946],\n",
      "           dtype='int64')\n"
     ]
    }
   ],
   "source": [
    "len(df[df['PDFOCR'] == 1])\n",
    "pdfocr_index = df[df['PDFOCR'] == 1].index\n",
    "print pdfocr_index"
   ]
  },
  {
   "cell_type": "code",
   "execution_count": 9,
   "metadata": {
    "collapsed": false
   },
   "outputs": [
    {
     "data": {
      "text/plain": [
       "u'https://www.infomex.org.mx/gobiernofederal/moduloPublico/MimeGenerator.action?folio=0000400066703'"
      ]
     },
     "execution_count": 9,
     "metadata": {},
     "output_type": "execute_result"
    }
   ],
   "source": [
    "df['ARCHIVOADJUNTOSOLICITUD'][pdfocr_index[0]]"
   ]
  },
  {
   "cell_type": "markdown",
   "metadata": {},
   "source": [
    "# Todo: what happens to folio's with no responses in the next years"
   ]
  },
  {
   "cell_type": "code",
   "execution_count": 10,
   "metadata": {
    "collapsed": false
   },
   "outputs": [
    {
     "data": {
      "text/html": [
       "<div>\n",
       "<table border=\"1\" class=\"dataframe\">\n",
       "  <thead>\n",
       "    <tr style=\"text-align: right;\">\n",
       "      <th></th>\n",
       "      <th>FOLIO</th>\n",
       "      <th>FECHASOLICITUD</th>\n",
       "      <th>DEPENDENCIA</th>\n",
       "      <th>ESTATUS</th>\n",
       "      <th>MEDIOENTRADA</th>\n",
       "      <th>TIPOSOLICITUD</th>\n",
       "      <th>DESCRIPCIONSOLICITUD</th>\n",
       "      <th>OTROSDATOS</th>\n",
       "      <th>ARCHIVOADJUNTOSOLICITUD</th>\n",
       "      <th>MEDIOENTREGA</th>\n",
       "      <th>...</th>\n",
       "      <th>CODIGOPOSTAL</th>\n",
       "      <th>SECTOR</th>\n",
       "      <th>X</th>\n",
       "      <th>X.1</th>\n",
       "      <th>X.2</th>\n",
       "      <th>X.3</th>\n",
       "      <th>PDFOCR</th>\n",
       "      <th>attach_full</th>\n",
       "      <th>attach.inc</th>\n",
       "      <th>word.count</th>\n",
       "    </tr>\n",
       "  </thead>\n",
       "  <tbody>\n",
       "    <tr>\n",
       "      <th>0</th>\n",
       "      <td>'1</td>\n",
       "      <td>06/01/2004 12:25</td>\n",
       "      <td>SECRETARÍA DE MEDIO AMBIENTE Y RECURSOS NATURALES</td>\n",
       "      <td>Terminada</td>\n",
       "      <td>Electrónica</td>\n",
       "      <td>Información Pública</td>\n",
       "      <td>Existen rellenos sanitarios para desechos hosp...</td>\n",
       "      <td>NaN</td>\n",
       "      <td>NaN</td>\n",
       "      <td>Entrega por Internet en el INFOMEX</td>\n",
       "      <td>...</td>\n",
       "      <td>6760</td>\n",
       "      <td>Medio Ambiente y Recursos Naturales</td>\n",
       "      <td>NaN</td>\n",
       "      <td>NaN</td>\n",
       "      <td>NaN</td>\n",
       "      <td>NaN</td>\n",
       "      <td>0</td>\n",
       "      <td></td>\n",
       "      <td>0</td>\n",
       "      <td>18</td>\n",
       "    </tr>\n",
       "    <tr>\n",
       "      <th>1</th>\n",
       "      <td>'10</td>\n",
       "      <td>06/01/2004 13:23</td>\n",
       "      <td>SERVICIO DE ADMINISTRACIÓN TRIBUTARIA</td>\n",
       "      <td>Terminada</td>\n",
       "      <td>Electrónica</td>\n",
       "      <td>Información Pública</td>\n",
       "      <td>CONTENIDO O DATOS PRINCIPALES DE ACUERDO 325-S...</td>\n",
       "      <td>ESTOS DATOS SON PUBLICADOS EN LA PAGINA INTERN...</td>\n",
       "      <td>NaN</td>\n",
       "      <td>Entrega por Internet en el INFOMEX</td>\n",
       "      <td>...</td>\n",
       "      <td>55890</td>\n",
       "      <td>Hacienda y Crédito Público</td>\n",
       "      <td>NaN</td>\n",
       "      <td>NaN</td>\n",
       "      <td>NaN</td>\n",
       "      <td>NaN</td>\n",
       "      <td>0</td>\n",
       "      <td></td>\n",
       "      <td>0</td>\n",
       "      <td>38</td>\n",
       "    </tr>\n",
       "    <tr>\n",
       "      <th>2</th>\n",
       "      <td>'100</td>\n",
       "      <td>07/01/2004 15:11</td>\n",
       "      <td>INSTITUTO MEXICANO DE LA PROPIEDAD INDUSTRIAL</td>\n",
       "      <td>Terminada</td>\n",
       "      <td>Electrónica</td>\n",
       "      <td>Información Pública</td>\n",
       "      <td>INSTITUTO MEXICANO DE LA PROPIEDAD INDUSTRIAL ...</td>\n",
       "      <td>NaN</td>\n",
       "      <td>https://www.infomex.org.mx/gobiernofederal/mod...</td>\n",
       "      <td>Entrega por Internet en el INFOMEX</td>\n",
       "      <td>...</td>\n",
       "      <td>1210</td>\n",
       "      <td>Economía</td>\n",
       "      <td>NaN</td>\n",
       "      <td>NaN</td>\n",
       "      <td>NaN</td>\n",
       "      <td>NaN</td>\n",
       "      <td>0</td>\n",
       "      <td>INSTITUTO MEXICANO DE LA PROPIEDAD INDUSTR...</td>\n",
       "      <td>1</td>\n",
       "      <td>115</td>\n",
       "    </tr>\n",
       "    <tr>\n",
       "      <th>3</th>\n",
       "      <td>'1000</td>\n",
       "      <td>21/01/2004 12:48</td>\n",
       "      <td>SECRETARÍA DEL TRABAJO Y PREVISIÓN SOCIAL</td>\n",
       "      <td>Terminada</td>\n",
       "      <td>Electrónica</td>\n",
       "      <td>Información Pública</td>\n",
       "      <td>Número de personas laborando en la subsecretar...</td>\n",
       "      <td>NaN</td>\n",
       "      <td>NaN</td>\n",
       "      <td>Entrega por Internet en el INFOMEX</td>\n",
       "      <td>...</td>\n",
       "      <td>6800</td>\n",
       "      <td>Trabajo y Previsión Social</td>\n",
       "      <td>NaN</td>\n",
       "      <td>NaN</td>\n",
       "      <td>NaN</td>\n",
       "      <td>NaN</td>\n",
       "      <td>0</td>\n",
       "      <td></td>\n",
       "      <td>0</td>\n",
       "      <td>25</td>\n",
       "    </tr>\n",
       "    <tr>\n",
       "      <th>4</th>\n",
       "      <td>'10000</td>\n",
       "      <td>21/04/2004 12:58</td>\n",
       "      <td>INSTITUTO MEXICANO DEL SEGURO SOCIAL</td>\n",
       "      <td>Terminada</td>\n",
       "      <td>Electrónica</td>\n",
       "      <td>Información Pública</td>\n",
       "      <td>SOLICITO LA DOCUMENTACION COMPROBATORIA DE LOS...</td>\n",
       "      <td>EL IMSS DELEGACION COAHUILA A TRAVES DEL ARCHI...</td>\n",
       "      <td>https://www.infomex.org.mx/gobiernofederal/mod...</td>\n",
       "      <td>Entrega por Internet en el INFOMEX</td>\n",
       "      <td>...</td>\n",
       "      <td>0</td>\n",
       "      <td>Aportaciones a Seguridad Social</td>\n",
       "      <td>NaN</td>\n",
       "      <td>NaN</td>\n",
       "      <td>NaN</td>\n",
       "      <td>NaN</td>\n",
       "      <td>0</td>\n",
       "      <td>Descripción clara de la solicitud de inform...</td>\n",
       "      <td>1</td>\n",
       "      <td>1379</td>\n",
       "    </tr>\n",
       "  </tbody>\n",
       "</table>\n",
       "<p>5 rows × 28 columns</p>\n",
       "</div>"
      ],
      "text/plain": [
       "    FOLIO    FECHASOLICITUD  \\\n",
       "0      '1  06/01/2004 12:25   \n",
       "1     '10  06/01/2004 13:23   \n",
       "2    '100  07/01/2004 15:11   \n",
       "3   '1000  21/01/2004 12:48   \n",
       "4  '10000  21/04/2004 12:58   \n",
       "\n",
       "                                         DEPENDENCIA    ESTATUS MEDIOENTRADA  \\\n",
       "0  SECRETARÍA DE MEDIO AMBIENTE Y RECURSOS NATURALES  Terminada  Electrónica   \n",
       "1              SERVICIO DE ADMINISTRACIÓN TRIBUTARIA  Terminada  Electrónica   \n",
       "2      INSTITUTO MEXICANO DE LA PROPIEDAD INDUSTRIAL  Terminada  Electrónica   \n",
       "3          SECRETARÍA DEL TRABAJO Y PREVISIÓN SOCIAL  Terminada  Electrónica   \n",
       "4               INSTITUTO MEXICANO DEL SEGURO SOCIAL  Terminada  Electrónica   \n",
       "\n",
       "         TIPOSOLICITUD                               DESCRIPCIONSOLICITUD  \\\n",
       "0  Información Pública  Existen rellenos sanitarios para desechos hosp...   \n",
       "1  Información Pública  CONTENIDO O DATOS PRINCIPALES DE ACUERDO 325-S...   \n",
       "2  Información Pública  INSTITUTO MEXICANO DE LA PROPIEDAD INDUSTRIAL ...   \n",
       "3  Información Pública  Número de personas laborando en la subsecretar...   \n",
       "4  Información Pública  SOLICITO LA DOCUMENTACION COMPROBATORIA DE LOS...   \n",
       "\n",
       "                                          OTROSDATOS  \\\n",
       "0                                                NaN   \n",
       "1  ESTOS DATOS SON PUBLICADOS EN LA PAGINA INTERN...   \n",
       "2                                                NaN   \n",
       "3                                                NaN   \n",
       "4  EL IMSS DELEGACION COAHUILA A TRAVES DEL ARCHI...   \n",
       "\n",
       "                             ARCHIVOADJUNTOSOLICITUD  \\\n",
       "0                                                NaN   \n",
       "1                                                NaN   \n",
       "2  https://www.infomex.org.mx/gobiernofederal/mod...   \n",
       "3                                                NaN   \n",
       "4  https://www.infomex.org.mx/gobiernofederal/mod...   \n",
       "\n",
       "                         MEDIOENTREGA    ...     CODIGOPOSTAL  \\\n",
       "0  Entrega por Internet en el INFOMEX    ...             6760   \n",
       "1  Entrega por Internet en el INFOMEX    ...            55890   \n",
       "2  Entrega por Internet en el INFOMEX    ...             1210   \n",
       "3  Entrega por Internet en el INFOMEX    ...             6800   \n",
       "4  Entrega por Internet en el INFOMEX    ...                0   \n",
       "\n",
       "                                SECTOR    X  X.1  X.2  X.3 PDFOCR  \\\n",
       "0  Medio Ambiente y Recursos Naturales  NaN  NaN  NaN  NaN      0   \n",
       "1           Hacienda y Crédito Público  NaN  NaN  NaN  NaN      0   \n",
       "2                             Economía  NaN  NaN  NaN  NaN      0   \n",
       "3           Trabajo y Previsión Social  NaN  NaN  NaN  NaN      0   \n",
       "4      Aportaciones a Seguridad Social  NaN  NaN  NaN  NaN      0   \n",
       "\n",
       "                                         attach_full attach.inc word.count  \n",
       "0                                                             0         18  \n",
       "1                                                             0         38  \n",
       "2      INSTITUTO MEXICANO DE LA PROPIEDAD INDUSTR...          1        115  \n",
       "3                                                             0         25  \n",
       "4     Descripción clara de la solicitud de inform...          1       1379  \n",
       "\n",
       "[5 rows x 28 columns]"
      ]
     },
     "execution_count": 10,
     "metadata": {},
     "output_type": "execute_result"
    }
   ],
   "source": [
    "df2 = pd.read_csv('../full_request_data/attachdata2004.csv',encoding='Latin-1')\n",
    "df2.head()"
   ]
  },
  {
   "cell_type": "code",
   "execution_count": 11,
   "metadata": {
    "collapsed": false
   },
   "outputs": [
    {
     "data": {
      "text/html": [
       "<div>\n",
       "<table border=\"1\" class=\"dataframe\">\n",
       "  <thead>\n",
       "    <tr style=\"text-align: right;\">\n",
       "      <th></th>\n",
       "      <th>FOLIO</th>\n",
       "      <th>FECHASOLICITUD</th>\n",
       "      <th>DEPENDENCIA</th>\n",
       "      <th>ESTATUS</th>\n",
       "      <th>MEDIOENTRADA</th>\n",
       "      <th>TIPOSOLICITUD</th>\n",
       "      <th>DESCRIPCIONSOLICITUD</th>\n",
       "      <th>OTROSDATOS</th>\n",
       "      <th>ARCHIVOADJUNTOSOLICITUD</th>\n",
       "      <th>MEDIOENTREGA</th>\n",
       "      <th>...</th>\n",
       "      <th>CODIGOPOSTAL</th>\n",
       "      <th>SECTOR</th>\n",
       "      <th>X</th>\n",
       "      <th>X.1</th>\n",
       "      <th>X.2</th>\n",
       "      <th>X.3</th>\n",
       "      <th>PDFOCR</th>\n",
       "      <th>attach_full</th>\n",
       "      <th>attach.inc</th>\n",
       "      <th>word.count</th>\n",
       "    </tr>\n",
       "  </thead>\n",
       "  <tbody>\n",
       "    <tr>\n",
       "      <th>0</th>\n",
       "      <td>'0000400000105</td>\n",
       "      <td>04/01/2005 17:12</td>\n",
       "      <td>SECRETARÍA DE GOBERNACIÓN</td>\n",
       "      <td>Terminada</td>\n",
       "      <td>Electrónica</td>\n",
       "      <td>Información Pública</td>\n",
       "      <td>solicitud del curp</td>\n",
       "      <td>NaN</td>\n",
       "      <td>NaN</td>\n",
       "      <td>Entrega por Internet en el INFOMEX</td>\n",
       "      <td>...</td>\n",
       "      <td>22204</td>\n",
       "      <td>Gobernación</td>\n",
       "      <td>NaN</td>\n",
       "      <td>NaN</td>\n",
       "      <td>NaN</td>\n",
       "      <td>NaN</td>\n",
       "      <td>0</td>\n",
       "      <td></td>\n",
       "      <td>0</td>\n",
       "      <td>3.0</td>\n",
       "    </tr>\n",
       "    <tr>\n",
       "      <th>1</th>\n",
       "      <td>'0000400000106</td>\n",
       "      <td>16/12/2005 17:45</td>\n",
       "      <td>SECRETARÍA DE GOBERNACIÓN</td>\n",
       "      <td>Terminada</td>\n",
       "      <td>Electrónica</td>\n",
       "      <td>Datos Personales</td>\n",
       "      <td>DESCRIPCIÓN SOLICITUD</td>\n",
       "      <td>OTROS DATOS</td>\n",
       "      <td>ADJUNTO SOLICITUD</td>\n",
       "      <td>Copia Certificada</td>\n",
       "      <td>...</td>\n",
       "      <td>57120</td>\n",
       "      <td>Gobernación</td>\n",
       "      <td>NaN</td>\n",
       "      <td>NaN</td>\n",
       "      <td>NaN</td>\n",
       "      <td>NaN</td>\n",
       "      <td>0</td>\n",
       "      <td></td>\n",
       "      <td>0</td>\n",
       "      <td>4.0</td>\n",
       "    </tr>\n",
       "    <tr>\n",
       "      <th>2</th>\n",
       "      <td>'0000400000205</td>\n",
       "      <td>04/01/2005 17:42</td>\n",
       "      <td>SECRETARÍA DE GOBERNACIÓN</td>\n",
       "      <td>Terminada</td>\n",
       "      <td>Manual</td>\n",
       "      <td>Información Pública</td>\n",
       "      <td>FAVOR DE REVISAR EL ARCHIVO ANEXO</td>\n",
       "      <td>SEGOB</td>\n",
       "      <td>https://www.infomex.org.mx/gobiernofederal/mod...</td>\n",
       "      <td>Archivo electrónico en disco o CD</td>\n",
       "      <td>...</td>\n",
       "      <td>9470</td>\n",
       "      <td>Gobernación</td>\n",
       "      <td>NaN</td>\n",
       "      <td>NaN</td>\n",
       "      <td>NaN</td>\n",
       "      <td>NaN</td>\n",
       "      <td>0</td>\n",
       "      <td>ASUNTO: SOLICITUD DE ACCESO A INFORMACIÓN...</td>\n",
       "      <td>1</td>\n",
       "      <td>290.0</td>\n",
       "    </tr>\n",
       "    <tr>\n",
       "      <th>3</th>\n",
       "      <td>'0000400000206</td>\n",
       "      <td>16/12/2005 22:09</td>\n",
       "      <td>SECRETARÍA DE GOBERNACIÓN</td>\n",
       "      <td>Terminada</td>\n",
       "      <td>Electrónica</td>\n",
       "      <td>Información Pública</td>\n",
       "      <td>SOLICITO COPIA SIMPLE DEL DIARIO OFICIAL DE LA...</td>\n",
       "      <td>DIARIO OFICIAL DE LA FEDERACION DEL DIA 15 DE ...</td>\n",
       "      <td>NaN</td>\n",
       "      <td>Copia Simple</td>\n",
       "      <td>...</td>\n",
       "      <td>9470</td>\n",
       "      <td>Gobernación</td>\n",
       "      <td>NaN</td>\n",
       "      <td>NaN</td>\n",
       "      <td>NaN</td>\n",
       "      <td>NaN</td>\n",
       "      <td>0</td>\n",
       "      <td></td>\n",
       "      <td>0</td>\n",
       "      <td>24.0</td>\n",
       "    </tr>\n",
       "    <tr>\n",
       "      <th>4</th>\n",
       "      <td>'0000400000305</td>\n",
       "      <td>04/01/2005 18:02</td>\n",
       "      <td>SECRETARÍA DE GOBERNACIÓN</td>\n",
       "      <td>Terminada</td>\n",
       "      <td>Electrónica</td>\n",
       "      <td>Información Pública</td>\n",
       "      <td>Nombre del proveedor de la tómbola de aire que...</td>\n",
       "      <td>Nombre de proveedores de tómbolas de aire o de...</td>\n",
       "      <td>NaN</td>\n",
       "      <td>Entrega por Internet en el INFOMEX</td>\n",
       "      <td>...</td>\n",
       "      <td>80085</td>\n",
       "      <td>Gobernación</td>\n",
       "      <td>NaN</td>\n",
       "      <td>NaN</td>\n",
       "      <td>NaN</td>\n",
       "      <td>NaN</td>\n",
       "      <td>0</td>\n",
       "      <td></td>\n",
       "      <td>0</td>\n",
       "      <td>46.0</td>\n",
       "    </tr>\n",
       "  </tbody>\n",
       "</table>\n",
       "<p>5 rows × 28 columns</p>\n",
       "</div>"
      ],
      "text/plain": [
       "            FOLIO    FECHASOLICITUD                DEPENDENCIA    ESTATUS  \\\n",
       "0  '0000400000105  04/01/2005 17:12  SECRETARÍA DE GOBERNACIÓN  Terminada   \n",
       "1  '0000400000106  16/12/2005 17:45  SECRETARÍA DE GOBERNACIÓN  Terminada   \n",
       "2  '0000400000205  04/01/2005 17:42  SECRETARÍA DE GOBERNACIÓN  Terminada   \n",
       "3  '0000400000206  16/12/2005 22:09  SECRETARÍA DE GOBERNACIÓN  Terminada   \n",
       "4  '0000400000305  04/01/2005 18:02  SECRETARÍA DE GOBERNACIÓN  Terminada   \n",
       "\n",
       "  MEDIOENTRADA        TIPOSOLICITUD  \\\n",
       "0  Electrónica  Información Pública   \n",
       "1  Electrónica     Datos Personales   \n",
       "2       Manual  Información Pública   \n",
       "3  Electrónica  Información Pública   \n",
       "4  Electrónica  Información Pública   \n",
       "\n",
       "                                DESCRIPCIONSOLICITUD  \\\n",
       "0                                 solicitud del curp   \n",
       "1                              DESCRIPCIÓN SOLICITUD   \n",
       "2                  FAVOR DE REVISAR EL ARCHIVO ANEXO   \n",
       "3  SOLICITO COPIA SIMPLE DEL DIARIO OFICIAL DE LA...   \n",
       "4  Nombre del proveedor de la tómbola de aire que...   \n",
       "\n",
       "                                          OTROSDATOS  \\\n",
       "0                                                NaN   \n",
       "1                                        OTROS DATOS   \n",
       "2                                              SEGOB   \n",
       "3  DIARIO OFICIAL DE LA FEDERACION DEL DIA 15 DE ...   \n",
       "4  Nombre de proveedores de tómbolas de aire o de...   \n",
       "\n",
       "                             ARCHIVOADJUNTOSOLICITUD  \\\n",
       "0                                                NaN   \n",
       "1                                  ADJUNTO SOLICITUD   \n",
       "2  https://www.infomex.org.mx/gobiernofederal/mod...   \n",
       "3                                                NaN   \n",
       "4                                                NaN   \n",
       "\n",
       "                         MEDIOENTREGA    ...     CODIGOPOSTAL       SECTOR  \\\n",
       "0  Entrega por Internet en el INFOMEX    ...            22204  Gobernación   \n",
       "1                   Copia Certificada    ...            57120  Gobernación   \n",
       "2   Archivo electrónico en disco o CD    ...             9470  Gobernación   \n",
       "3                        Copia Simple    ...             9470  Gobernación   \n",
       "4  Entrega por Internet en el INFOMEX    ...            80085  Gobernación   \n",
       "\n",
       "     X  X.1  X.2  X.3 PDFOCR  \\\n",
       "0  NaN  NaN  NaN  NaN      0   \n",
       "1  NaN  NaN  NaN  NaN      0   \n",
       "2  NaN  NaN  NaN  NaN      0   \n",
       "3  NaN  NaN  NaN  NaN      0   \n",
       "4  NaN  NaN  NaN  NaN      0   \n",
       "\n",
       "                                         attach_full attach.inc word.count  \n",
       "0                                                             0        3.0  \n",
       "1                                                             0        4.0  \n",
       "2       ASUNTO: SOLICITUD DE ACCESO A INFORMACIÓN...          1      290.0  \n",
       "3                                                             0       24.0  \n",
       "4                                                             0       46.0  \n",
       "\n",
       "[5 rows x 28 columns]"
      ]
     },
     "execution_count": 11,
     "metadata": {},
     "output_type": "execute_result"
    }
   ],
   "source": [
    "df3 = pd.read_csv('../full_request_data/attachdata2005.csv',encoding='Latin-1')\n",
    "df3.head()"
   ]
  },
  {
   "cell_type": "markdown",
   "metadata": {},
   "source": [
    "## To make our primary key we are going to use FOLIO number and FECHA SOLICITUD"
   ]
  },
  {
   "cell_type": "markdown",
   "metadata": {},
   "source": [
    "# If we create a list of indicies to check for responses"
   ]
  },
  {
   "cell_type": "code",
   "execution_count": 12,
   "metadata": {
    "collapsed": false
   },
   "outputs": [
    {
     "name": "stdout",
     "output_type": "stream",
     "text": [
      "11673\n"
     ]
    }
   ],
   "source": [
    "pattern = 'respuesta='\n",
    "x = df['ARCHIVORESPUESTA'].str.contains(pattern, na = False)\n",
    "indiciestoCheck = x[x == True].index.tolist()\n",
    "print len(df['ARCHIVORESPUESTA'][indiciestoCheck])\n",
    "aurl = df['ARCHIVORESPUESTA'][indiciestoCheck[5]]"
   ]
  },
  {
   "cell_type": "code",
   "execution_count": 13,
   "metadata": {
    "collapsed": false
   },
   "outputs": [],
   "source": [
    "import urllib\n",
    "import ssl\n",
    "\n",
    "# This restores the same behavior as before.\n",
    "context = ssl._create_unverified_context()\n",
    "response = urllib.urlopen(aurl, context=context)\n",
    "\n",
    "#urllib.urlopen(aurl)\n",
    "html = response.read()"
   ]
  },
  {
   "cell_type": "code",
   "execution_count": 14,
   "metadata": {
    "collapsed": false
   },
   "outputs": [],
   "source": [
    "import requests\n",
    "r = requests.get(aurl,verify = False)\n",
    "#r.status_code"
   ]
  },
  {
   "cell_type": "code",
   "execution_count": 16,
   "metadata": {
    "collapsed": false
   },
   "outputs": [
    {
     "name": "stdout",
     "output_type": "stream",
     "text": [
      "defaultdict(<type 'int'>, {200: 95, 500: 5})\n"
     ]
    }
   ],
   "source": [
    "from collections import defaultdict\n",
    "import time\n",
    "countsofResponses = defaultdict(int)\n",
    "for url in df['ARCHIVORESPUESTA'][indiciestoCheck[0:100]]:\n",
    "    r = requests.get(url,verify = False)\n",
    "    countsofResponses[r.status_code] += 1 \n",
    "    time.sleep(1) # gotta be nce to the server\n",
    "print countsofResponses"
   ]
  },
  {
   "cell_type": "code",
   "execution_count": 17,
   "metadata": {
    "collapsed": false
   },
   "outputs": [
    {
     "name": "stdout",
     "output_type": "stream",
     "text": [
      "200\n"
     ]
    },
    {
     "data": {
      "text/plain": [
       "'.zip'"
      ]
     },
     "execution_count": 17,
     "metadata": {},
     "output_type": "execute_result"
    }
   ],
   "source": [
    "gotten_object = requests.get(aurl, verify = False)\n",
    "print(gotten_object.status_code)\n",
    "re.search('.*(\\.\\w{3}$)', gotten_object.headers['Content-Disposition']).group(1)"
   ]
  }
 ],
 "metadata": {
  "anaconda-cloud": {},
  "kernelspec": {
   "display_name": "Python [Root]",
   "language": "python",
   "name": "Python [Root]"
  },
  "language_info": {
   "codemirror_mode": {
    "name": "ipython",
    "version": 2
   },
   "file_extension": ".py",
   "mimetype": "text/x-python",
   "name": "python",
   "nbconvert_exporter": "python",
   "pygments_lexer": "ipython2",
   "version": "2.7.12"
  }
 },
 "nbformat": 4,
 "nbformat_minor": 0
}
