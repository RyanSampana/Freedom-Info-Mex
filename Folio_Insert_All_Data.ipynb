{
 "cells": [
  {
   "cell_type": "code",
   "execution_count": 1,
   "metadata": {
    "collapsed": true
   },
   "outputs": [],
   "source": [
    "import os\n",
    "import folio_inserts\n",
    "import pymongo\n",
    "import time"
   ]
  },
  {
   "cell_type": "code",
   "execution_count": 2,
   "metadata": {
    "collapsed": false
   },
   "outputs": [
    {
     "name": "stdout",
     "output_type": "stream",
     "text": [
      "Connected successfully!!!\n"
     ]
    }
   ],
   "source": [
    "conn,db,folios,responses = folio_inserts.mongo_database_setup()"
   ]
  },
  {
   "cell_type": "code",
   "execution_count": 3,
   "metadata": {
    "collapsed": false
   },
   "outputs": [
    {
     "name": "stdout",
     "output_type": "stream",
     "text": [
      "Connection Succesfull\n",
      "Converting ../raw_data/attachdata2014.csv to CSV\n",
      "Working on ../raw_data/attachdata2014.csv\n",
      "Connection Succesfull\n",
      "Working on ../raw_data/attachdata2011.csv\n",
      "Converting ../raw_data/attachdata2011.csv to CSV\n",
      "Connection Succesfull\n",
      "Connection Succesfull\n",
      "Working on ../raw_data/attachdata2004.csv\n",
      "Converting ../raw_data/attachdata2004.csv to CSV\n",
      "Working on ../raw_data/attachdata2013.csv\n",
      "Converting ../raw_data/attachdata2013.csv to CSV\n"
     ]
    },
    {
     "name": "stderr",
     "output_type": "stream",
     "text": [
      "/usr/lib/python2.7/multiprocessing/process.py:114: DtypeWarning: Columns (18,20,21,22) have mixed types. Specify dtype option on import or set low_memory=False.\n",
      "  self._target(*self._args, **self._kwargs)\n",
      "/usr/lib/python2.7/multiprocessing/process.py:114: DtypeWarning: Columns (18,20,21) have mixed types. Specify dtype option on import or set low_memory=False.\n",
      "  self._target(*self._args, **self._kwargs)\n",
      "/usr/lib/python2.7/multiprocessing/process.py:114: DtypeWarning: Columns (21,22,23) have mixed types. Specify dtype option on import or set low_memory=False.\n",
      "  self._target(*self._args, **self._kwargs)\n"
     ]
    },
    {
     "name": "stdout",
     "output_type": "stream",
     "text": [
      "Writting ../raw_data/attachdata2013.csv to Attachments\n",
      "Writting ../raw_data/attachdata2004.csv to Attachments\n",
      "Inserting ../raw_data/attachdata2004.csv To DB\n",
      "Writting ../raw_data/attachdata2011.csv to Attachments\n",
      "Inserting ../raw_data/attachdata2013.csv To DB\n",
      "Writting ../raw_data/attachdata2014.csv to Attachments\n",
      "Inserting ../raw_data/attachdata2011.csv To DB\n",
      "Inserting ../raw_data/attachdata2014.csv To DB\n",
      "There was a total of 37732 out of 37732\n",
      "FINISHED WITH ../raw_data/attachdata2004.csv\n",
      "Connection Succesfull\n",
      "Working on ../raw_data/attachdata2010.csv\n",
      "Converting ../raw_data/attachdata2010.csv to CSV\n"
     ]
    },
    {
     "name": "stderr",
     "output_type": "stream",
     "text": [
      "/usr/lib/python2.7/multiprocessing/process.py:114: DtypeWarning: Columns (21,22,23,24,25) have mixed types. Specify dtype option on import or set low_memory=False.\n",
      "  self._target(*self._args, **self._kwargs)\n"
     ]
    },
    {
     "name": "stdout",
     "output_type": "stream",
     "text": [
      "Writting ../raw_data/attachdata2010.csv to Attachments\n",
      "Inserting ../raw_data/attachdata2010.csv To DB\n",
      "There was a total of 123892 out of 123892\n",
      "FINISHED WITH ../raw_data/attachdata2011.csv\n",
      "Connection Succesfull\n",
      "Working on ../raw_data/attachdata2005.csv\n",
      "Converting ../raw_data/attachdata2005.csv to CSV\n",
      "There was a total of 148545 out of 148545\n",
      "FINISHED WITH ../raw_data/attachdata2013.csv\n",
      "Connection Succesfull\n",
      "Working on ../raw_data/attachdata2008.csv\n",
      "Converting ../raw_data/attachdata2008.csv to CSV\n"
     ]
    },
    {
     "name": "stderr",
     "output_type": "stream",
     "text": [
      "/usr/lib/python2.7/multiprocessing/process.py:114: DtypeWarning: Columns (22,23) have mixed types. Specify dtype option on import or set low_memory=False.\n",
      "  self._target(*self._args, **self._kwargs)\n"
     ]
    },
    {
     "name": "stdout",
     "output_type": "stream",
     "text": [
      "Writting ../raw_data/attachdata2008.csv to Attachments\n",
      "Writting ../raw_data/attachdata2005.csv to Attachments\n",
      "Inserting ../raw_data/attachdata2005.csv To DB\n",
      "Inserting ../raw_data/attachdata2008.csv To DB\n",
      "There was a total of 146449 out of 146449\n",
      "FINISHED WITH ../raw_data/attachdata2014.csv\n",
      "Connection Succesfull\n",
      "Working on ../raw_data/attachdata2007.csv\n",
      "Converting ../raw_data/attachdata2007.csv to CSV\n"
     ]
    },
    {
     "name": "stderr",
     "output_type": "stream",
     "text": [
      "/usr/lib/python2.7/multiprocessing/process.py:114: DtypeWarning: Columns (22) have mixed types. Specify dtype option on import or set low_memory=False.\n",
      "  self._target(*self._args, **self._kwargs)\n"
     ]
    },
    {
     "name": "stdout",
     "output_type": "stream",
     "text": [
      "Writting ../raw_data/attachdata2007.csv to Attachments\n",
      "There was a total of 122743 out of 122743\n",
      "FINISHED WITH ../raw_data/attachdata2010.csv\n",
      "Connection Succesfull\n",
      "Working on ../raw_data/attachdata2009.csv\n",
      "Converting ../raw_data/attachdata2009.csv to CSV\n",
      "Inserting ../raw_data/attachdata2007.csv To DB\n",
      "Writting ../raw_data/attachdata2009.csv to Attachments\n",
      "There was a total of 50127 out of 50127\n",
      "FINISHED WITH ../raw_data/attachdata2005.csv\n",
      "Connection Succesfull\n",
      "Working on ../raw_data/attachdata2015.csv\n",
      "Converting ../raw_data/attachdata2015.csv to CSV\n"
     ]
    },
    {
     "name": "stderr",
     "output_type": "stream",
     "text": [
      "/usr/lib/python2.7/multiprocessing/process.py:114: DtypeWarning: Columns (18,21) have mixed types. Specify dtype option on import or set low_memory=False.\n",
      "  self._target(*self._args, **self._kwargs)\n"
     ]
    },
    {
     "name": "stdout",
     "output_type": "stream",
     "text": [
      "Inserting ../raw_data/attachdata2009.csv To DB\n",
      "Writting ../raw_data/attachdata2015.csv to Attachments\n",
      "There was a total of 105968 out of 105968\n",
      "FINISHED WITH ../raw_data/attachdata2008.csv\n",
      "Connection Succesfull\n",
      "Working on ../raw_data/attachdata2006.csv\n",
      "Converting ../raw_data/attachdata2006.csv to CSV\n",
      "Inserting ../raw_data/attachdata2015.csv To DB\n",
      "Writting ../raw_data/attachdata2006.csv to Attachments\n",
      "There was a total of 95538 out of 95538\n",
      "FINISHED WITH ../raw_data/attachdata2007.csv\n",
      "Connection Succesfull\n",
      "Working on ../raw_data/attachdata2003.csv\n",
      "Converting ../raw_data/attachdata2003.csv to CSV\n",
      "Inserting ../raw_data/attachdata2006.csv To DB\n",
      "Writting ../raw_data/attachdata2003.csv to Attachments\n",
      "Inserting ../raw_data/attachdata2003.csv To DB\n",
      "There was a total of 24108 out of 24108\n",
      "FINISHED WITH ../raw_data/attachdata2003.csv\n",
      "Connection Succesfull\n",
      "Working on ../raw_data/attachdata2012.csv\n",
      "Converting ../raw_data/attachdata2012.csv to CSV\n"
     ]
    },
    {
     "name": "stderr",
     "output_type": "stream",
     "text": [
      "/usr/lib/python2.7/multiprocessing/process.py:114: DtypeWarning: Columns (18,20,21,22) have mixed types. Specify dtype option on import or set low_memory=False.\n",
      "  self._target(*self._args, **self._kwargs)\n"
     ]
    },
    {
     "name": "stdout",
     "output_type": "stream",
     "text": [
      "There was a total of 118438 out of 118438\n",
      "FINISHED WITH ../raw_data/attachdata2009.csv\n",
      "There was a total of 60563 out of 60563\n",
      "FINISHED WITH ../raw_data/attachdata2006.csv\n",
      "Writting ../raw_data/attachdata2012.csv to Attachments\n",
      "Inserting ../raw_data/attachdata2012.csv To DB\n",
      "There was a total of 105923 out of 105923\n",
      "FINISHED WITH ../raw_data/attachdata2015.csv\n",
      "There was a total of 132140 out of 132140\n",
      "FINISHED WITH ../raw_data/attachdata2012.csv\n"
     ]
    }
   ],
   "source": [
    "from concurrent.futures import ProcessPoolExecutor\n",
    "\n",
    "# define path variables\n",
    "raw_data_directory = '../raw_data/'\n",
    "path_to_attachments = '../attachments/'\n",
    "\n",
    "e = ProcessPoolExecutor()\n",
    "\n",
    "# generate a list of filenames to process concurrently        \n",
    "filenames = []\n",
    "for filename in os.listdir(raw_data_directory):\n",
    "    filenames.append(os.path.join(raw_data_directory, filename))\n",
    "    \n",
    "def parrallel_insert(filename,raw_data_directory = '../raw_data/',path_to_attachments = '../attachments/'):\n",
    "    import pymongo\n",
    "    try:\n",
    "        # create single mongodb connection\n",
    "        conn = pymongo.MongoClient()\n",
    "        \n",
    "        # connect to the db name\n",
    "        name = 'polisci_test12Nov16'\n",
    "        db = conn[name]\n",
    "        \n",
    "        # connect to folios\n",
    "        folios = db.folios\n",
    "        \n",
    "        print \"Connection Succesfull\"\n",
    "        \n",
    "        print \"Working on {}\".format(filename)\n",
    "        path_to_csv = os.path.join(raw_data_directory, filename)\n",
    "        \n",
    "        print \"Converting {} to CSV\".format(filename)\n",
    "        df = folio_inserts.import_folio_csv(path_to_csv)\n",
    "        \n",
    "        print \"Writting {} to Attachments\".format(filename)\n",
    "        df = folio_inserts.attach_to_text(df,path_to_attachments)\n",
    "        \n",
    "        print \"Inserting {} To DB\".format(filename)\n",
    "        inserts,_ = folio_inserts.mongod_insert_df(df,folios)\n",
    "\n",
    "        print \"FINISHED WITH {}\".format(filename)\n",
    "\n",
    "        return inserts\n",
    "    \n",
    "    except:\n",
    "        print \"Conn Unsuccessful\"    \n",
    "\n",
    "# star the mapping of the jobs to the pool    \n",
    "inserts = list(e.map(parrallel_insert,filenames))"
   ]
  },
  {
   "cell_type": "markdown",
   "metadata": {},
   "source": [
    "# Everything Fixed Now!!!"
   ]
  },
  {
   "cell_type": "code",
   "execution_count": null,
   "metadata": {
    "collapsed": false
   },
   "outputs": [],
   "source": [
    "%%writefile count_total_records_in_directory.py\n",
    "from concurrent.futures import ProcessPoolExecutor\n",
    "\n",
    "e = ProcessPoolExecutor()\n",
    "\n",
    "def p_count(filename,raw_data_directory = '../raw_data/',path_to_attachments = '../attachments/'):\n",
    "    import pandas as pd\n",
    "    path_to_csv = os.path.join(raw_data_directory, filename)\n",
    "    df = pd.read_csv(path_to_csv)\n",
    "    return len(df)\n",
    "\n",
    "lengths = list(e.map(p_count,filenames))\n",
    "\n",
    "print sum(lengths)"
   ]
  },
  {
   "cell_type": "markdown",
   "metadata": {},
   "source": [
    "# Theres a problem: with the script above, we count 1272166 records. Mongodb shows inserts of only 1153732. We are missing 118,434 records"
   ]
  },
  {
   "cell_type": "code",
   "execution_count": null,
   "metadata": {
    "collapsed": false
   },
   "outputs": [],
   "source": [
    "lengths"
   ]
  },
  {
   "cell_type": "markdown",
   "metadata": {},
   "source": [
    "Theres a problem with 2009 csv"
   ]
  },
  {
   "cell_type": "markdown",
   "metadata": {},
   "source": [
    " ## Code below does the inserts one csv at a time. Not as fast as parallel"
   ]
  },
  {
   "cell_type": "code",
   "execution_count": null,
   "metadata": {
    "collapsed": false
   },
   "outputs": [],
   "source": [
    "raw_data_directory = '../raw_data/'\n",
    "path_to_attachments = '../attachments/'\n",
    "\n",
    "for filename in os.listdir(raw_data_directory):\n",
    "    if filename.endswith(\"2009.csv\"): \n",
    "        print(os.path.join(raw_data_directory, filename))\n",
    "        path_to_csv = os.path.join(raw_data_directory, filename)\n",
    "        print \"Converting CSV\"\n",
    "        df = folio_inserts.import_folio_csv(path_to_csv)\n",
    "        print \"Writting Attachments\"\n",
    "        df = folio_inserts.attach_to_text(df,path_to_attachments)\n",
    "        print \"Inserting To DB\"\n",
    "        inserts,_ = folio_inserts.mongod_insert_df(df,folios)\n",
    "        print \"FINISHED WITH {}\".format(filename)"
   ]
  },
  {
   "cell_type": "code",
   "execution_count": null,
   "metadata": {
    "collapsed": false
   },
   "outputs": [],
   "source": [
    "import pandas as pd\n",
    "\n",
    "path_to_file = '../raw_data/attachdata2009.csv'\n",
    "\n",
    "def validate_date(filename):\n",
    "    import pandas as pd\n",
    "    errors = []\n",
    "    print \"Validating {}\".format(filename)\n",
    "    df = pd.read_csv(path_to_file,encoding='latin-1')\n",
    "    for x in range(len(df)):\n",
    "        try:\n",
    "            y = pd.to_datetime(df['FECHASOLICITUD'].iloc[x],infer_datetime_format=True)\n",
    "            y = y.to_datetime().strftime('%Y-%m-%d %H:%M:%S')    \n",
    "            z = y = pd.to_datetime(df['FECHARESPUESTA'].iloc[x],infer_datetime_format=True)\n",
    "            z = z.to_datetime().strftime('%Y-%m-%d')\n",
    "        except:\n",
    "            errors.append((filename,x))\n",
    "            print \"Error with date for file {} at index {}\".format(filename,x)\n",
    "    return errors\n",
    "\n",
    "validate_date(path_to_file)"
   ]
  },
  {
   "cell_type": "code",
   "execution_count": null,
   "metadata": {
    "collapsed": false
   },
   "outputs": [],
   "source": [
    "df = pd.read_csv(path_to_file,encoding='latin-1')\n",
    "df.iloc[41351]"
   ]
  },
  {
   "cell_type": "markdown",
   "metadata": {},
   "source": [
    "# Did some tests ensuring that time is parsed correctly throughout the program"
   ]
  },
  {
   "cell_type": "code",
   "execution_count": null,
   "metadata": {
    "collapsed": true
   },
   "outputs": [],
   "source": [
    "del df"
   ]
  },
  {
   "cell_type": "code",
   "execution_count": null,
   "metadata": {
    "collapsed": true
   },
   "outputs": [],
   "source": [
    "path_to_file = '../raw_data/attachdata2010.csv'"
   ]
  },
  {
   "cell_type": "code",
   "execution_count": null,
   "metadata": {
    "collapsed": false
   },
   "outputs": [],
   "source": [
    "df = folio_inserts.import_folio_csv(path_to_file)"
   ]
  },
  {
   "cell_type": "code",
   "execution_count": null,
   "metadata": {
    "collapsed": false
   },
   "outputs": [],
   "source": [
    "import pandas as pd\n",
    "df = pd.read_csv(path_to_file,encoding='latin-1')"
   ]
  },
  {
   "cell_type": "code",
   "execution_count": null,
   "metadata": {
    "collapsed": false
   },
   "outputs": [],
   "source": [
    "df['FECHASOLICITUD'] = pd.to_datetime(df['FECHASOLICITUD'],infer_datetime_format=True)"
   ]
  },
  {
   "cell_type": "code",
   "execution_count": null,
   "metadata": {
    "collapsed": false
   },
   "outputs": [],
   "source": [
    "pd.to_datetime(df['FECHASOLICITUD'].iloc[1],infer_datetime_format=True).to_datetime()"
   ]
  },
  {
   "cell_type": "code",
   "execution_count": 8,
   "metadata": {
    "collapsed": false
   },
   "outputs": [
    {
     "name": "stdout",
     "output_type": "stream",
     "text": [
      "Validating ../raw_data/attachdata2004.csv\n"
     ]
    },
    {
     "name": "stderr",
     "output_type": "stream",
     "text": [
      "/home/rsampana/mex-project/venv/local/lib/python2.7/site-packages/concurrent/futures/process.py:128: FutureWarning: to_datetime is deprecated. Use self.to_pydatetime()\n",
      "  r = call_item.fn(*call_item.args, **call_item.kwargs)\n",
      "/usr/lib/python2.7/multiprocessing/process.py:258: DtypeWarning: Columns (18,20,21,22) have mixed types. Specify dtype option on import or set low_memory=False.\n",
      "  self.run()\n"
     ]
    },
    {
     "name": "stdout",
     "output_type": "stream",
     "text": [
      "Validating ../raw_data/attachdata2013.csv\n"
     ]
    },
    {
     "name": "stderr",
     "output_type": "stream",
     "text": [
      "/home/rsampana/mex-project/venv/local/lib/python2.7/site-packages/concurrent/futures/process.py:128: FutureWarning: to_datetime is deprecated. Use self.to_pydatetime()\n",
      "  r = call_item.fn(*call_item.args, **call_item.kwargs)\n",
      "/usr/lib/python2.7/multiprocessing/process.py:258: DtypeWarning: Columns (18,20,21) have mixed types. Specify dtype option on import or set low_memory=False.\n",
      "  self.run()\n"
     ]
    },
    {
     "name": "stdout",
     "output_type": "stream",
     "text": [
      "Validating ../raw_data/attachdata2014.csv\n"
     ]
    },
    {
     "name": "stderr",
     "output_type": "stream",
     "text": [
      "/home/rsampana/mex-project/venv/local/lib/python2.7/site-packages/concurrent/futures/process.py:128: FutureWarning: to_datetime is deprecated. Use self.to_pydatetime()\n",
      "  r = call_item.fn(*call_item.args, **call_item.kwargs)\n",
      "/usr/lib/python2.7/multiprocessing/process.py:258: DtypeWarning: Columns (21,22,23) have mixed types. Specify dtype option on import or set low_memory=False.\n",
      "  self.run()\n"
     ]
    },
    {
     "name": "stdout",
     "output_type": "stream",
     "text": [
      "Validating ../raw_data/attachdata2011.csv\n"
     ]
    },
    {
     "name": "stderr",
     "output_type": "stream",
     "text": [
      "/home/rsampana/mex-project/venv/local/lib/python2.7/site-packages/concurrent/futures/process.py:128: FutureWarning: to_datetime is deprecated. Use self.to_pydatetime()\n",
      "  r = call_item.fn(*call_item.args, **call_item.kwargs)\n",
      "/usr/lib/python2.7/multiprocessing/process.py:258: DtypeWarning: Columns (21,22,23,24,25) have mixed types. Specify dtype option on import or set low_memory=False.\n",
      "  self.run()\n"
     ]
    },
    {
     "name": "stdout",
     "output_type": "stream",
     "text": [
      "Validating ../raw_data/attachdata2010.csv\n",
      "Error with date for file ../raw_data/attachdata2011.csv at index 81266\n",
      "Validating ../raw_data/attachdata2005.csv\n"
     ]
    },
    {
     "name": "stderr",
     "output_type": "stream",
     "text": [
      "/usr/lib/python2.7/multiprocessing/process.py:258: DtypeWarning: Columns (22,23) have mixed types. Specify dtype option on import or set low_memory=False.\n",
      "  self.run()\n"
     ]
    },
    {
     "name": "stdout",
     "output_type": "stream",
     "text": [
      "Validating ../raw_data/attachdata2008.csv\n"
     ]
    },
    {
     "name": "stderr",
     "output_type": "stream",
     "text": [
      "/usr/lib/python2.7/multiprocessing/process.py:258: DtypeWarning: Columns (22) have mixed types. Specify dtype option on import or set low_memory=False.\n",
      "  self.run()\n"
     ]
    },
    {
     "name": "stdout",
     "output_type": "stream",
     "text": [
      "Validating ../raw_data/attachdata2007.csv\n",
      "Validating ../raw_data/attachdata2009.csv\n"
     ]
    },
    {
     "name": "stderr",
     "output_type": "stream",
     "text": [
      "/usr/lib/python2.7/multiprocessing/process.py:258: DtypeWarning: Columns (18,21) have mixed types. Specify dtype option on import or set low_memory=False.\n",
      "  self.run()\n"
     ]
    },
    {
     "name": "stdout",
     "output_type": "stream",
     "text": [
      "Validating ../raw_data/attachdata2015.csv\n",
      "Validating ../raw_data/attachdata2006.csv\n",
      "Validating ../raw_data/attachdata2003.csv\n"
     ]
    },
    {
     "name": "stderr",
     "output_type": "stream",
     "text": [
      "/usr/lib/python2.7/multiprocessing/process.py:258: DtypeWarning: Columns (18,20,21,22) have mixed types. Specify dtype option on import or set low_memory=False.\n",
      "  self.run()\n"
     ]
    },
    {
     "name": "stdout",
     "output_type": "stream",
     "text": [
      "Validating ../raw_data/attachdata2012.csv\n",
      "[[], [('../raw_data/attachdata2011.csv', 81266)], [], [], [], [], [], [], [], [], [], [], []]\n"
     ]
    }
   ],
   "source": [
    "#%%writefile validate_dates.py\n",
    "from concurrent.futures import ProcessPoolExecutor\n",
    "import pandas as pd\n",
    "import os\n",
    "\n",
    "e = ProcessPoolExecutor()\n",
    "\n",
    "# define path variables\n",
    "raw_data_directory = '../raw_data/'\n",
    "path_to_attachments = '../attachments/'\n",
    "\n",
    "def validate_date(filename):\n",
    "    errors = []\n",
    "    df = pd.read_csv(filename)\n",
    "    print \"Validating {}\".format(filename)\n",
    "    for x in range(len(df)):\n",
    "        try:\n",
    "            y = pd.to_datetime(df['FECHASOLICITUD'].iloc[x],infer_datetime_format=True)\n",
    "            y = y.to_datetime().strftime('%Y-%m-%d %H:%M:%S')    \n",
    "            z = y = pd.to_datetime(df['FECHARESPUESTA'].iloc[x],infer_datetime_format=True)\n",
    "            z = z.to_datetime().strftime('%Y-%m-%d')\n",
    "        except:\n",
    "            errors.append((filename,x))\n",
    "            print \"Error with date for file {} at index {}\".format(filename,x)\n",
    "    return errors\n",
    "\n",
    "\n",
    "filenames = []\n",
    "\n",
    "for filename in os.listdir(raw_data_directory):\n",
    "    if filename.endswith(\".csv\"):\n",
    "        full_path = os.path.join(raw_data_directory, filename)\n",
    "        filenames.append(full_path)\n",
    "\n",
    "errors = list(e.map(validate_date,filenames))        \n",
    "print errors"
   ]
  },
  {
   "cell_type": "code",
   "execution_count": null,
   "metadata": {
    "collapsed": false
   },
   "outputs": [],
   "source": [
    "df.iloc[122743]"
   ]
  },
  {
   "cell_type": "code",
   "execution_count": null,
   "metadata": {
    "collapsed": false
   },
   "outputs": [],
   "source": [
    "df['FECHASOLICITUD'].iloc[122743]"
   ]
  },
  {
   "cell_type": "code",
   "execution_count": null,
   "metadata": {
    "collapsed": false
   },
   "outputs": [],
   "source": [
    "for x in df['FECHASOLICITUD'].iloc[0:10]:\n",
    "    print x.to_datetime()"
   ]
  },
  {
   "cell_type": "code",
   "execution_count": null,
   "metadata": {
    "collapsed": false
   },
   "outputs": [],
   "source": [
    "df['FECHARESPUESTA'].iloc[81266]"
   ]
  },
  {
   "cell_type": "code",
   "execution_count": null,
   "metadata": {
    "collapsed": false
   },
   "outputs": [],
   "source": [
    "df['FECHARESPUESTA'].iloc[81266] = None"
   ]
  },
  {
   "cell_type": "code",
   "execution_count": null,
   "metadata": {
    "collapsed": false
   },
   "outputs": [],
   "source": [
    "df['FECHARESPUESTA'].iloc[81266]"
   ]
  },
  {
   "cell_type": "code",
   "execution_count": null,
   "metadata": {
    "collapsed": true
   },
   "outputs": [],
   "source": [
    "import folio_inserts"
   ]
  },
  {
   "cell_type": "code",
   "execution_count": null,
   "metadata": {
    "collapsed": true
   },
   "outputs": [],
   "source": [
    "del df"
   ]
  },
  {
   "cell_type": "code",
   "execution_count": null,
   "metadata": {
    "collapsed": false
   },
   "outputs": [],
   "source": [
    "import pandas as pd\n",
    "df = pd.read_csv(path_to_file,encoding='latin-1')"
   ]
  },
  {
   "cell_type": "code",
   "execution_count": null,
   "metadata": {
    "collapsed": true
   },
   "outputs": [],
   "source": [
    "df['FECHASOLICITUD'] = pd.to_datetime(df['FECHASOLICITUD'],infer_datetime_format=True).dt.strftime('%Y/%m/%d %H:%M')\n",
    "df['FECHARESPUESTA'] = pd.to_datetime(df['FECHARESPUESTA'],infer_datetime_format=True).dt.strftime('%Y/%m/%d')"
   ]
  },
  {
   "cell_type": "code",
   "execution_count": null,
   "metadata": {
    "collapsed": false
   },
   "outputs": [],
   "source": [
    "df[['FECHASOLICITUD','FECHARESPUESTA']]"
   ]
  },
  {
   "cell_type": "code",
   "execution_count": null,
   "metadata": {
    "collapsed": false
   },
   "outputs": [],
   "source": [
    "df.dtypes"
   ]
  }
 ],
 "metadata": {
  "kernelspec": {
   "display_name": "Python 2",
   "language": "python",
   "name": "python2"
  },
  "language_info": {
   "codemirror_mode": {
    "name": "ipython",
    "version": 2
   },
   "file_extension": ".py",
   "mimetype": "text/x-python",
   "name": "python",
   "nbconvert_exporter": "python",
   "pygments_lexer": "ipython2",
   "version": "2.7.6"
  }
 },
 "nbformat": 4,
 "nbformat_minor": 1
}
